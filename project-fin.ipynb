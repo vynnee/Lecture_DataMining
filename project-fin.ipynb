{
 "cells": [
  {
   "cell_type": "markdown",
   "metadata": {},
   "source": [
    "# 데이터마이닝 프로젝트"
   ]
  },
  {
   "cell_type": "markdown",
   "metadata": {},
   "source": [
    "### 정보통신공학과 12181785 서혜빈"
   ]
  },
  {
   "cell_type": "markdown",
   "metadata": {},
   "source": [
    "## 01 라이브러리 불러오기"
   ]
  },
  {
   "cell_type": "code",
   "execution_count": 1,
   "metadata": {},
   "outputs": [],
   "source": [
    "import matplotlib.pyplot as plt\n",
    "plt.rcParams['font.family']='Malgun Gothic'\n",
    "plt.rcParams['axes.unicode_minus']=False\n",
    "import pandas as pd\n",
    "import numpy as np\n",
    "import seaborn as sns; sns.set()"
   ]
  },
  {
   "cell_type": "markdown",
   "metadata": {},
   "source": [
    "## 02 Data preparation"
   ]
  },
  {
   "cell_type": "markdown",
   "metadata": {},
   "source": [
    "### (1) 데이터 불러오기"
   ]
  },
  {
   "cell_type": "markdown",
   "metadata": {},
   "source": [
    "#### 1) 날씨 데이터"
   ]
  },
  {
   "cell_type": "code",
   "execution_count": 2,
   "metadata": {},
   "outputs": [],
   "source": [
    "weather_path = 'weather.csv'\n",
    "# read_csv() 함수로 데이터를 데이터 프레임 형태로 불러옵니다.\n",
    "weather = pd.read_csv(weather_path, encoding = 'CP949')"
   ]
  },
  {
   "cell_type": "code",
   "execution_count": 3,
   "metadata": {},
   "outputs": [
    {
     "data": {
      "text/html": [
       "<div>\n",
       "<style scoped>\n",
       "    .dataframe tbody tr th:only-of-type {\n",
       "        vertical-align: middle;\n",
       "    }\n",
       "\n",
       "    .dataframe tbody tr th {\n",
       "        vertical-align: top;\n",
       "    }\n",
       "\n",
       "    .dataframe thead th {\n",
       "        text-align: right;\n",
       "    }\n",
       "</style>\n",
       "<table border=\"1\" class=\"dataframe\">\n",
       "  <thead>\n",
       "    <tr style=\"text-align: right;\">\n",
       "      <th></th>\n",
       "      <th>지점</th>\n",
       "      <th>지점명</th>\n",
       "      <th>일시</th>\n",
       "      <th>평균기온(°C)</th>\n",
       "      <th>일강수량(mm)</th>\n",
       "      <th>평균 풍속(m/s)</th>\n",
       "      <th>일 최심신적설(cm)</th>\n",
       "      <th>일 최심적설(cm)</th>\n",
       "    </tr>\n",
       "  </thead>\n",
       "  <tbody>\n",
       "    <tr>\n",
       "      <th>0</th>\n",
       "      <td>112</td>\n",
       "      <td>인천</td>\n",
       "      <td>2010-10-01</td>\n",
       "      <td>17.2</td>\n",
       "      <td>NaN</td>\n",
       "      <td>1.7</td>\n",
       "      <td>NaN</td>\n",
       "      <td>NaN</td>\n",
       "    </tr>\n",
       "    <tr>\n",
       "      <th>1</th>\n",
       "      <td>112</td>\n",
       "      <td>인천</td>\n",
       "      <td>2010-10-02</td>\n",
       "      <td>16.9</td>\n",
       "      <td>17.5</td>\n",
       "      <td>2.1</td>\n",
       "      <td>NaN</td>\n",
       "      <td>NaN</td>\n",
       "    </tr>\n",
       "    <tr>\n",
       "      <th>2</th>\n",
       "      <td>112</td>\n",
       "      <td>인천</td>\n",
       "      <td>2010-10-03</td>\n",
       "      <td>17.8</td>\n",
       "      <td>7.5</td>\n",
       "      <td>3.4</td>\n",
       "      <td>NaN</td>\n",
       "      <td>NaN</td>\n",
       "    </tr>\n",
       "    <tr>\n",
       "      <th>3</th>\n",
       "      <td>112</td>\n",
       "      <td>인천</td>\n",
       "      <td>2010-10-04</td>\n",
       "      <td>14.9</td>\n",
       "      <td>3.0</td>\n",
       "      <td>3.9</td>\n",
       "      <td>NaN</td>\n",
       "      <td>NaN</td>\n",
       "    </tr>\n",
       "    <tr>\n",
       "      <th>4</th>\n",
       "      <td>112</td>\n",
       "      <td>인천</td>\n",
       "      <td>2010-10-05</td>\n",
       "      <td>15.6</td>\n",
       "      <td>NaN</td>\n",
       "      <td>2.0</td>\n",
       "      <td>NaN</td>\n",
       "      <td>NaN</td>\n",
       "    </tr>\n",
       "  </tbody>\n",
       "</table>\n",
       "</div>"
      ],
      "text/plain": [
       "    지점 지점명          일시  평균기온(°C)  일강수량(mm)  평균 풍속(m/s)  일 최심신적설(cm)  \\\n",
       "0  112  인천  2010-10-01      17.2       NaN         1.7          NaN   \n",
       "1  112  인천  2010-10-02      16.9      17.5         2.1          NaN   \n",
       "2  112  인천  2010-10-03      17.8       7.5         3.4          NaN   \n",
       "3  112  인천  2010-10-04      14.9       3.0         3.9          NaN   \n",
       "4  112  인천  2010-10-05      15.6       NaN         2.0          NaN   \n",
       "\n",
       "   일 최심적설(cm)  \n",
       "0         NaN  \n",
       "1         NaN  \n",
       "2         NaN  \n",
       "3         NaN  \n",
       "4         NaN  "
      ]
     },
     "execution_count": 3,
     "metadata": {},
     "output_type": "execute_result"
    }
   ],
   "source": [
    "# 데이터 확인\n",
    "weather.head()"
   ]
  },
  {
   "cell_type": "code",
   "execution_count": 4,
   "metadata": {},
   "outputs": [],
   "source": [
    "## 불필요한 columns 삭제\n",
    "drop_weather = ['지점', '지점명']\n",
    "weather = weather.drop(drop_weather, axis=1)"
   ]
  },
  {
   "cell_type": "markdown",
   "metadata": {},
   "source": [
    "#### 2) 인천 공공시설물 예약 내역 데이터"
   ]
  },
  {
   "cell_type": "code",
   "execution_count": 5,
   "metadata": {},
   "outputs": [],
   "source": [
    "reservation_path = 'reservation.csv'\n",
    "reservation = pd.read_csv(reservation_path, encoding = 'CP949')"
   ]
  },
  {
   "cell_type": "code",
   "execution_count": 6,
   "metadata": {
    "scrolled": true
   },
   "outputs": [
    {
     "data": {
      "text/html": [
       "<div>\n",
       "<style scoped>\n",
       "    .dataframe tbody tr th:only-of-type {\n",
       "        vertical-align: middle;\n",
       "    }\n",
       "\n",
       "    .dataframe tbody tr th {\n",
       "        vertical-align: top;\n",
       "    }\n",
       "\n",
       "    .dataframe thead th {\n",
       "        text-align: right;\n",
       "    }\n",
       "</style>\n",
       "<table border=\"1\" class=\"dataframe\">\n",
       "  <thead>\n",
       "    <tr style=\"text-align: right;\">\n",
       "      <th></th>\n",
       "      <th>사업부서</th>\n",
       "      <th>대관시설</th>\n",
       "      <th>예약접수일</th>\n",
       "      <th>단체명</th>\n",
       "      <th>단체구분</th>\n",
       "      <th>인원</th>\n",
       "      <th>이용시작일</th>\n",
       "      <th>이용종료일</th>\n",
       "    </tr>\n",
       "  </thead>\n",
       "  <tbody>\n",
       "    <tr>\n",
       "      <th>0</th>\n",
       "      <td>인천대공원</td>\n",
       "      <td>대공원풋살장</td>\n",
       "      <td>2010-10-26</td>\n",
       "      <td>NaN</td>\n",
       "      <td>Y</td>\n",
       "      <td>1.0</td>\n",
       "      <td>2010-10-27</td>\n",
       "      <td>2010-10-27</td>\n",
       "    </tr>\n",
       "    <tr>\n",
       "      <th>1</th>\n",
       "      <td>인천대공원</td>\n",
       "      <td>대공원풋살장</td>\n",
       "      <td>2010-10-26</td>\n",
       "      <td>NaN</td>\n",
       "      <td>Y</td>\n",
       "      <td>1.0</td>\n",
       "      <td>2010-10-27</td>\n",
       "      <td>2010-10-27</td>\n",
       "    </tr>\n",
       "    <tr>\n",
       "      <th>2</th>\n",
       "      <td>인천대공원</td>\n",
       "      <td>대공원축구장</td>\n",
       "      <td>2010-11-01</td>\n",
       "      <td>운봉공고</td>\n",
       "      <td>Y</td>\n",
       "      <td>1.0</td>\n",
       "      <td>2010-11-05</td>\n",
       "      <td>2010-11-05</td>\n",
       "    </tr>\n",
       "    <tr>\n",
       "      <th>3</th>\n",
       "      <td>인천대공원</td>\n",
       "      <td>대공원축구장</td>\n",
       "      <td>2010-11-01</td>\n",
       "      <td>(주)태평양제약</td>\n",
       "      <td>Y</td>\n",
       "      <td>1.0</td>\n",
       "      <td>2010-11-02</td>\n",
       "      <td>2010-11-02</td>\n",
       "    </tr>\n",
       "    <tr>\n",
       "      <th>4</th>\n",
       "      <td>인천대공원</td>\n",
       "      <td>중앙공원축구장</td>\n",
       "      <td>2010-11-01</td>\n",
       "      <td>축구사랑</td>\n",
       "      <td>Y</td>\n",
       "      <td>1.0</td>\n",
       "      <td>2010-11-04</td>\n",
       "      <td>2010-11-04</td>\n",
       "    </tr>\n",
       "  </tbody>\n",
       "</table>\n",
       "</div>"
      ],
      "text/plain": [
       "    사업부서     대관시설       예약접수일       단체명 단체구분   인원       이용시작일       이용종료일\n",
       "0  인천대공원   대공원풋살장  2010-10-26       NaN    Y  1.0  2010-10-27  2010-10-27\n",
       "1  인천대공원   대공원풋살장  2010-10-26       NaN    Y  1.0  2010-10-27  2010-10-27\n",
       "2  인천대공원   대공원축구장  2010-11-01      운봉공고    Y  1.0  2010-11-05  2010-11-05\n",
       "3  인천대공원   대공원축구장  2010-11-01  (주)태평양제약    Y  1.0  2010-11-02  2010-11-02\n",
       "4  인천대공원  중앙공원축구장  2010-11-01      축구사랑    Y  1.0  2010-11-04  2010-11-04"
      ]
     },
     "execution_count": 6,
     "metadata": {},
     "output_type": "execute_result"
    }
   ],
   "source": [
    "reservation.head() # 데이터 확인"
   ]
  },
  {
   "cell_type": "markdown",
   "metadata": {},
   "source": [
    "#### 3) 두 데이터프레임 정보 확인"
   ]
  },
  {
   "cell_type": "code",
   "execution_count": 7,
   "metadata": {},
   "outputs": [
    {
     "name": "stdout",
     "output_type": "stream",
     "text": [
      "<class 'pandas.core.frame.DataFrame'>\n",
      "RangeIndex: 3378 entries, 0 to 3377\n",
      "Data columns (total 6 columns):\n",
      " #   Column       Non-Null Count  Dtype  \n",
      "---  ------       --------------  -----  \n",
      " 0   일시           3378 non-null   object \n",
      " 1   평균기온(°C)     3378 non-null   float64\n",
      " 2   일강수량(mm)     1181 non-null   float64\n",
      " 3   평균 풍속(m/s)   3376 non-null   float64\n",
      " 4   일 최심신적설(cm)  109 non-null    float64\n",
      " 5   일 최심적설(cm)   207 non-null    float64\n",
      "dtypes: float64(5), object(1)\n",
      "memory usage: 158.5+ KB\n",
      "<class 'pandas.core.frame.DataFrame'>\n",
      "RangeIndex: 127252 entries, 0 to 127251\n",
      "Data columns (total 8 columns):\n",
      " #   Column  Non-Null Count   Dtype  \n",
      "---  ------  --------------   -----  \n",
      " 0   사업부서    127252 non-null  object \n",
      " 1   대관시설    127252 non-null  object \n",
      " 2   예약접수일   127252 non-null  object \n",
      " 3   단체명     69689 non-null   object \n",
      " 4   단체구분    127252 non-null  object \n",
      " 5   인원      127251 non-null  float64\n",
      " 6   이용시작일   127252 non-null  object \n",
      " 7   이용종료일   127252 non-null  object \n",
      "dtypes: float64(1), object(7)\n",
      "memory usage: 7.8+ MB\n"
     ]
    }
   ],
   "source": [
    "weather.info()\n",
    "reservation.info()"
   ]
  },
  {
   "cell_type": "markdown",
   "metadata": {},
   "source": [
    "weather는 6개의 행과 3378개의 열로 이루어져 있다. 더불어 몇개의 행에 **결측치가 있다.**\n",
    "\n",
    "reservation은 8개의 행과 127252의 열로 이루어져 있다. 이 데이터도 **결측치가 존재한다.**"
   ]
  },
  {
   "cell_type": "markdown",
   "metadata": {},
   "source": [
    "## 03 EDA"
   ]
  },
  {
   "cell_type": "markdown",
   "metadata": {},
   "source": [
    "### (1) 결측치 확인 및 처리"
   ]
  },
  {
   "cell_type": "code",
   "execution_count": 8,
   "metadata": {},
   "outputs": [
    {
     "name": "stdout",
     "output_type": "stream",
     "text": [
      "weather :  일시                0\n",
      "평균기온(°C)          0\n",
      "일강수량(mm)       2197\n",
      "평균 풍속(m/s)        2\n",
      "일 최심신적설(cm)    3269\n",
      "일 최심적설(cm)     3171\n",
      "dtype: int64\n",
      "----------------------------\n",
      "reservation :  사업부서         0\n",
      "대관시설         0\n",
      "예약접수일        0\n",
      "단체명      57563\n",
      "단체구분         0\n",
      "인원           1\n",
      "이용시작일        0\n",
      "이용종료일        0\n",
      "dtype: int64\n"
     ]
    }
   ],
   "source": [
    "# 결측치 확인\n",
    "print('weather : ', weather.isnull().sum())\n",
    "print('----------------------------')\n",
    "print('reservation : ', reservation.isnull().sum())"
   ]
  },
  {
   "cell_type": "markdown",
   "metadata": {},
   "source": [
    "**weather**\n",
    "\n",
    "weather의 결측치는 비가 내리지 않아서, 눈이 내리지 않아서 등의 이유로 인한 것임.\n",
    "\n",
    "따라서 해당 결측치에는 0을 넣어줌.\n",
    "\n",
    "**reservation**\n",
    "\n",
    "reservation의 결측치인 단체명과 인원은 해당 데이터 분석에서는 중요한 변수가 아니므로 0을 채워줌."
   ]
  },
  {
   "cell_type": "code",
   "execution_count": 9,
   "metadata": {},
   "outputs": [],
   "source": [
    "## weather data 결측치에 0 넣기\n",
    "weather = weather.fillna(0).iloc[0:3378, 0:6]"
   ]
  },
  {
   "cell_type": "code",
   "execution_count": 10,
   "metadata": {},
   "outputs": [],
   "source": [
    "## reservation data 결측치에 0 넣기\n",
    "reservation = reservation.fillna(0).iloc[0:127252, 0:8]"
   ]
  },
  {
   "cell_type": "code",
   "execution_count": 11,
   "metadata": {},
   "outputs": [
    {
     "name": "stdout",
     "output_type": "stream",
     "text": [
      "weather :  일시             0\n",
      "평균기온(°C)       0\n",
      "일강수량(mm)       0\n",
      "평균 풍속(m/s)     0\n",
      "일 최심신적설(cm)    0\n",
      "일 최심적설(cm)     0\n",
      "dtype: int64\n",
      "----------------------------\n",
      "reservation :  사업부서     0\n",
      "대관시설     0\n",
      "예약접수일    0\n",
      "단체명      0\n",
      "단체구분     0\n",
      "인원       0\n",
      "이용시작일    0\n",
      "이용종료일    0\n",
      "dtype: int64\n"
     ]
    }
   ],
   "source": [
    "# 결측치 처리됐는지 확인\n",
    "print('weather : ', weather.isnull().sum())\n",
    "print('----------------------------')\n",
    "print('reservation : ', reservation.isnull().sum())"
   ]
  },
  {
   "cell_type": "markdown",
   "metadata": {},
   "source": [
    "결측치가 사라진 것을 확인할 수 있다."
   ]
  },
  {
   "cell_type": "code",
   "execution_count": 12,
   "metadata": {},
   "outputs": [
    {
     "data": {
      "text/html": [
       "<div>\n",
       "<style scoped>\n",
       "    .dataframe tbody tr th:only-of-type {\n",
       "        vertical-align: middle;\n",
       "    }\n",
       "\n",
       "    .dataframe tbody tr th {\n",
       "        vertical-align: top;\n",
       "    }\n",
       "\n",
       "    .dataframe thead th {\n",
       "        text-align: right;\n",
       "    }\n",
       "</style>\n",
       "<table border=\"1\" class=\"dataframe\">\n",
       "  <thead>\n",
       "    <tr style=\"text-align: right;\">\n",
       "      <th></th>\n",
       "      <th>사업부서</th>\n",
       "      <th>대관시설</th>\n",
       "      <th>예약접수일</th>\n",
       "      <th>단체명</th>\n",
       "      <th>단체구분</th>\n",
       "      <th>인원</th>\n",
       "      <th>이용시작일</th>\n",
       "      <th>이용종료일</th>\n",
       "    </tr>\n",
       "  </thead>\n",
       "  <tbody>\n",
       "    <tr>\n",
       "      <th>91833</th>\n",
       "      <td>인천대공원</td>\n",
       "      <td>대공원축구장</td>\n",
       "      <td>2018-03-26</td>\n",
       "      <td>feclub</td>\n",
       "      <td>Y</td>\n",
       "      <td>22.0</td>\n",
       "      <td>10</td>\n",
       "      <td>10</td>\n",
       "    </tr>\n",
       "    <tr>\n",
       "      <th>0</th>\n",
       "      <td>인천대공원</td>\n",
       "      <td>대공원풋살장</td>\n",
       "      <td>2010-10-26</td>\n",
       "      <td>0</td>\n",
       "      <td>Y</td>\n",
       "      <td>1.0</td>\n",
       "      <td>2010-10-27</td>\n",
       "      <td>2010-10-27</td>\n",
       "    </tr>\n",
       "    <tr>\n",
       "      <th>68</th>\n",
       "      <td>인천대공원</td>\n",
       "      <td>대공원풋살장</td>\n",
       "      <td>2010-10-26</td>\n",
       "      <td>세계일등축구단</td>\n",
       "      <td>Y</td>\n",
       "      <td>123.0</td>\n",
       "      <td>2010-10-27</td>\n",
       "      <td>2010-10-27</td>\n",
       "    </tr>\n",
       "    <tr>\n",
       "      <th>35</th>\n",
       "      <td>인천대공원</td>\n",
       "      <td>대공원풋살장</td>\n",
       "      <td>2010-10-26</td>\n",
       "      <td>0</td>\n",
       "      <td>Y</td>\n",
       "      <td>123.0</td>\n",
       "      <td>2010-10-27</td>\n",
       "      <td>2010-10-27</td>\n",
       "    </tr>\n",
       "    <tr>\n",
       "      <th>1</th>\n",
       "      <td>인천대공원</td>\n",
       "      <td>대공원풋살장</td>\n",
       "      <td>2010-10-26</td>\n",
       "      <td>0</td>\n",
       "      <td>Y</td>\n",
       "      <td>1.0</td>\n",
       "      <td>2010-10-27</td>\n",
       "      <td>2010-10-27</td>\n",
       "    </tr>\n",
       "    <tr>\n",
       "      <th>...</th>\n",
       "      <td>...</td>\n",
       "      <td>...</td>\n",
       "      <td>...</td>\n",
       "      <td>...</td>\n",
       "      <td>...</td>\n",
       "      <td>...</td>\n",
       "      <td>...</td>\n",
       "      <td>...</td>\n",
       "    </tr>\n",
       "    <tr>\n",
       "      <th>126178</th>\n",
       "      <td>인천시설공단(청소년수련관)</td>\n",
       "      <td>공연장</td>\n",
       "      <td>2019-10-30</td>\n",
       "      <td>0</td>\n",
       "      <td>N</td>\n",
       "      <td>1.0</td>\n",
       "      <td>2019-12-31</td>\n",
       "      <td>2019-12-31</td>\n",
       "    </tr>\n",
       "    <tr>\n",
       "      <th>126177</th>\n",
       "      <td>인천시설공단(청소년수련관)</td>\n",
       "      <td>공연장</td>\n",
       "      <td>2019-10-30</td>\n",
       "      <td>0</td>\n",
       "      <td>N</td>\n",
       "      <td>1.0</td>\n",
       "      <td>2019-12-31</td>\n",
       "      <td>2019-12-31</td>\n",
       "    </tr>\n",
       "    <tr>\n",
       "      <th>126506</th>\n",
       "      <td>송도공원사업단</td>\n",
       "      <td>달빛축제공원(배드민턴장)</td>\n",
       "      <td>2019-11-01</td>\n",
       "      <td>0</td>\n",
       "      <td>Y</td>\n",
       "      <td>10.0</td>\n",
       "      <td>2019-12-31</td>\n",
       "      <td>2019-12-31</td>\n",
       "    </tr>\n",
       "    <tr>\n",
       "      <th>111004</th>\n",
       "      <td>인천삼산월드체육관</td>\n",
       "      <td>인조잔디구장</td>\n",
       "      <td>2019-03-01</td>\n",
       "      <td>블루스카이f.c</td>\n",
       "      <td>Y</td>\n",
       "      <td>30.0</td>\n",
       "      <td>2090-05-05</td>\n",
       "      <td>2090-05-05</td>\n",
       "    </tr>\n",
       "    <tr>\n",
       "      <th>91832</th>\n",
       "      <td>인천대공원</td>\n",
       "      <td>대공원축구장</td>\n",
       "      <td>2018-03-26</td>\n",
       "      <td>feclub</td>\n",
       "      <td>Y</td>\n",
       "      <td>22.0</td>\n",
       "      <td>8</td>\n",
       "      <td>8</td>\n",
       "    </tr>\n",
       "  </tbody>\n",
       "</table>\n",
       "<p>127252 rows × 8 columns</p>\n",
       "</div>"
      ],
      "text/plain": [
       "                  사업부서           대관시설       예약접수일       단체명 단체구분     인원  \\\n",
       "91833            인천대공원         대공원축구장  2018-03-26    feclub    Y   22.0   \n",
       "0                인천대공원         대공원풋살장  2010-10-26         0    Y    1.0   \n",
       "68               인천대공원         대공원풋살장  2010-10-26   세계일등축구단    Y  123.0   \n",
       "35               인천대공원         대공원풋살장  2010-10-26         0    Y  123.0   \n",
       "1                인천대공원         대공원풋살장  2010-10-26         0    Y    1.0   \n",
       "...                ...            ...         ...       ...  ...    ...   \n",
       "126178  인천시설공단(청소년수련관)            공연장  2019-10-30         0    N    1.0   \n",
       "126177  인천시설공단(청소년수련관)            공연장  2019-10-30         0    N    1.0   \n",
       "126506         송도공원사업단  달빛축제공원(배드민턴장)  2019-11-01         0    Y   10.0   \n",
       "111004       인천삼산월드체육관         인조잔디구장  2019-03-01  블루스카이f.c    Y   30.0   \n",
       "91832            인천대공원         대공원축구장  2018-03-26    feclub    Y   22.0   \n",
       "\n",
       "             이용시작일       이용종료일  \n",
       "91833           10          10  \n",
       "0       2010-10-27  2010-10-27  \n",
       "68      2010-10-27  2010-10-27  \n",
       "35      2010-10-27  2010-10-27  \n",
       "1       2010-10-27  2010-10-27  \n",
       "...            ...         ...  \n",
       "126178  2019-12-31  2019-12-31  \n",
       "126177  2019-12-31  2019-12-31  \n",
       "126506  2019-12-31  2019-12-31  \n",
       "111004  2090-05-05  2090-05-05  \n",
       "91832            8           8  \n",
       "\n",
       "[127252 rows x 8 columns]"
      ]
     },
     "execution_count": 12,
     "metadata": {},
     "output_type": "execute_result"
    }
   ],
   "source": [
    "## 이용시작일의 날짜를 기준으로 내림차순 정렬\n",
    "reservation = reservation.sort_values(by = ['이용시작일'])\n",
    "reservation"
   ]
  },
  {
   "cell_type": "markdown",
   "metadata": {},
   "source": [
    "### (2) Data merge"
   ]
  },
  {
   "cell_type": "markdown",
   "metadata": {},
   "source": [
    "#### merge"
   ]
  },
  {
   "cell_type": "markdown",
   "metadata": {},
   "source": [
    "weather 데이터의 '일시'과 reservation 데이터의 '이용시작일'를 기준으로 합쳐준다."
   ]
  },
  {
   "cell_type": "code",
   "execution_count": 13,
   "metadata": {},
   "outputs": [
    {
     "data": {
      "text/html": [
       "<div>\n",
       "<style scoped>\n",
       "    .dataframe tbody tr th:only-of-type {\n",
       "        vertical-align: middle;\n",
       "    }\n",
       "\n",
       "    .dataframe tbody tr th {\n",
       "        vertical-align: top;\n",
       "    }\n",
       "\n",
       "    .dataframe thead th {\n",
       "        text-align: right;\n",
       "    }\n",
       "</style>\n",
       "<table border=\"1\" class=\"dataframe\">\n",
       "  <thead>\n",
       "    <tr style=\"text-align: right;\">\n",
       "      <th></th>\n",
       "      <th>사업부서</th>\n",
       "      <th>대관시설</th>\n",
       "      <th>예약접수일</th>\n",
       "      <th>단체명</th>\n",
       "      <th>단체구분</th>\n",
       "      <th>인원</th>\n",
       "      <th>이용시작일</th>\n",
       "      <th>이용종료일</th>\n",
       "      <th>일시</th>\n",
       "      <th>평균기온(°C)</th>\n",
       "      <th>일강수량(mm)</th>\n",
       "      <th>평균 풍속(m/s)</th>\n",
       "      <th>일 최심신적설(cm)</th>\n",
       "      <th>일 최심적설(cm)</th>\n",
       "    </tr>\n",
       "  </thead>\n",
       "  <tbody>\n",
       "    <tr>\n",
       "      <th>0</th>\n",
       "      <td>인천대공원</td>\n",
       "      <td>대공원축구장</td>\n",
       "      <td>2018-03-26</td>\n",
       "      <td>feclub</td>\n",
       "      <td>Y</td>\n",
       "      <td>22.0</td>\n",
       "      <td>10</td>\n",
       "      <td>10</td>\n",
       "      <td>NaN</td>\n",
       "      <td>NaN</td>\n",
       "      <td>NaN</td>\n",
       "      <td>NaN</td>\n",
       "      <td>NaN</td>\n",
       "      <td>NaN</td>\n",
       "    </tr>\n",
       "    <tr>\n",
       "      <th>1</th>\n",
       "      <td>인천대공원</td>\n",
       "      <td>대공원풋살장</td>\n",
       "      <td>2010-10-26</td>\n",
       "      <td>0</td>\n",
       "      <td>Y</td>\n",
       "      <td>1.0</td>\n",
       "      <td>2010-10-27</td>\n",
       "      <td>2010-10-27</td>\n",
       "      <td>2010-10-27</td>\n",
       "      <td>6.2</td>\n",
       "      <td>0.0</td>\n",
       "      <td>2.1</td>\n",
       "      <td>0.0</td>\n",
       "      <td>0.0</td>\n",
       "    </tr>\n",
       "    <tr>\n",
       "      <th>2</th>\n",
       "      <td>인천대공원</td>\n",
       "      <td>대공원풋살장</td>\n",
       "      <td>2010-10-26</td>\n",
       "      <td>세계일등축구단</td>\n",
       "      <td>Y</td>\n",
       "      <td>123.0</td>\n",
       "      <td>2010-10-27</td>\n",
       "      <td>2010-10-27</td>\n",
       "      <td>2010-10-27</td>\n",
       "      <td>6.2</td>\n",
       "      <td>0.0</td>\n",
       "      <td>2.1</td>\n",
       "      <td>0.0</td>\n",
       "      <td>0.0</td>\n",
       "    </tr>\n",
       "    <tr>\n",
       "      <th>3</th>\n",
       "      <td>인천대공원</td>\n",
       "      <td>대공원풋살장</td>\n",
       "      <td>2010-10-26</td>\n",
       "      <td>0</td>\n",
       "      <td>Y</td>\n",
       "      <td>123.0</td>\n",
       "      <td>2010-10-27</td>\n",
       "      <td>2010-10-27</td>\n",
       "      <td>2010-10-27</td>\n",
       "      <td>6.2</td>\n",
       "      <td>0.0</td>\n",
       "      <td>2.1</td>\n",
       "      <td>0.0</td>\n",
       "      <td>0.0</td>\n",
       "    </tr>\n",
       "    <tr>\n",
       "      <th>4</th>\n",
       "      <td>인천대공원</td>\n",
       "      <td>대공원풋살장</td>\n",
       "      <td>2010-10-26</td>\n",
       "      <td>0</td>\n",
       "      <td>Y</td>\n",
       "      <td>1.0</td>\n",
       "      <td>2010-10-27</td>\n",
       "      <td>2010-10-27</td>\n",
       "      <td>2010-10-27</td>\n",
       "      <td>6.2</td>\n",
       "      <td>0.0</td>\n",
       "      <td>2.1</td>\n",
       "      <td>0.0</td>\n",
       "      <td>0.0</td>\n",
       "    </tr>\n",
       "  </tbody>\n",
       "</table>\n",
       "</div>"
      ],
      "text/plain": [
       "    사업부서    대관시설       예약접수일      단체명 단체구분     인원       이용시작일       이용종료일  \\\n",
       "0  인천대공원  대공원축구장  2018-03-26   feclub    Y   22.0          10          10   \n",
       "1  인천대공원  대공원풋살장  2010-10-26        0    Y    1.0  2010-10-27  2010-10-27   \n",
       "2  인천대공원  대공원풋살장  2010-10-26  세계일등축구단    Y  123.0  2010-10-27  2010-10-27   \n",
       "3  인천대공원  대공원풋살장  2010-10-26        0    Y  123.0  2010-10-27  2010-10-27   \n",
       "4  인천대공원  대공원풋살장  2010-10-26        0    Y    1.0  2010-10-27  2010-10-27   \n",
       "\n",
       "           일시  평균기온(°C)  일강수량(mm)  평균 풍속(m/s)  일 최심신적설(cm)  일 최심적설(cm)  \n",
       "0         NaN       NaN       NaN         NaN          NaN         NaN  \n",
       "1  2010-10-27       6.2       0.0         2.1          0.0         0.0  \n",
       "2  2010-10-27       6.2       0.0         2.1          0.0         0.0  \n",
       "3  2010-10-27       6.2       0.0         2.1          0.0         0.0  \n",
       "4  2010-10-27       6.2       0.0         2.1          0.0         0.0  "
      ]
     },
     "execution_count": 13,
     "metadata": {},
     "output_type": "execute_result"
    }
   ],
   "source": [
    "merged = pd.merge(reservation, weather, \n",
    "                  how='left', left_on = '이용시작일', right_on = '일시')\n",
    "merged.head() ## 결측값 발생"
   ]
  },
  {
   "cell_type": "markdown",
   "metadata": {},
   "source": [
    "#### merge 된 데이터를 바탕으로 결측치 재확인"
   ]
  },
  {
   "cell_type": "code",
   "execution_count": 14,
   "metadata": {},
   "outputs": [
    {
     "name": "stdout",
     "output_type": "stream",
     "text": [
      "merged :  사업부서            0\n",
      "대관시설            0\n",
      "예약접수일           0\n",
      "단체명             0\n",
      "단체구분            0\n",
      "인원              0\n",
      "이용시작일           0\n",
      "이용종료일           0\n",
      "일시             32\n",
      "평균기온(°C)       32\n",
      "일강수량(mm)       32\n",
      "평균 풍속(m/s)     32\n",
      "일 최심신적설(cm)    32\n",
      "일 최심적설(cm)     32\n",
      "dtype: int64\n"
     ]
    }
   ],
   "source": [
    "# 결측치 다시 확인\n",
    "print('merged : ', merged.isnull().sum())\n",
    "\n",
    "# 노이즈로 인한 것으로 예상됨 -> 해당 row 삭제"
   ]
  },
  {
   "cell_type": "code",
   "execution_count": 15,
   "metadata": {},
   "outputs": [],
   "source": [
    "## 결측값이 발생한 row 삭제\n",
    "merged.dropna(inplace=True)"
   ]
  },
  {
   "cell_type": "code",
   "execution_count": 16,
   "metadata": {},
   "outputs": [
    {
     "name": "stdout",
     "output_type": "stream",
     "text": [
      "merged :  사업부서           0\n",
      "대관시설           0\n",
      "예약접수일          0\n",
      "단체명            0\n",
      "단체구분           0\n",
      "인원             0\n",
      "이용시작일          0\n",
      "이용종료일          0\n",
      "일시             0\n",
      "평균기온(°C)       0\n",
      "일강수량(mm)       0\n",
      "평균 풍속(m/s)     0\n",
      "일 최심신적설(cm)    0\n",
      "일 최심적설(cm)     0\n",
      "dtype: int64\n"
     ]
    }
   ],
   "source": [
    "# 결측치 다시 확인\n",
    "print('merged : ', merged.isnull().sum())"
   ]
  },
  {
   "cell_type": "markdown",
   "metadata": {},
   "source": [
    "#### merge된 데이터 정보 확인"
   ]
  },
  {
   "cell_type": "code",
   "execution_count": 17,
   "metadata": {},
   "outputs": [
    {
     "name": "stdout",
     "output_type": "stream",
     "text": [
      "<class 'pandas.core.frame.DataFrame'>\n",
      "Int64Index: 127220 entries, 1 to 127249\n",
      "Data columns (total 14 columns):\n",
      " #   Column       Non-Null Count   Dtype  \n",
      "---  ------       --------------   -----  \n",
      " 0   사업부서         127220 non-null  object \n",
      " 1   대관시설         127220 non-null  object \n",
      " 2   예약접수일        127220 non-null  object \n",
      " 3   단체명          127220 non-null  object \n",
      " 4   단체구분         127220 non-null  object \n",
      " 5   인원           127220 non-null  float64\n",
      " 6   이용시작일        127220 non-null  object \n",
      " 7   이용종료일        127220 non-null  object \n",
      " 8   일시           127220 non-null  object \n",
      " 9   평균기온(°C)     127220 non-null  float64\n",
      " 10  일강수량(mm)     127220 non-null  float64\n",
      " 11  평균 풍속(m/s)   127220 non-null  float64\n",
      " 12  일 최심신적설(cm)  127220 non-null  float64\n",
      " 13  일 최심적설(cm)   127220 non-null  float64\n",
      "dtypes: float64(6), object(8)\n",
      "memory usage: 14.6+ MB\n"
     ]
    }
   ],
   "source": [
    "merged.info()"
   ]
  },
  {
   "cell_type": "markdown",
   "metadata": {},
   "source": [
    "### (3) 데이터 정리"
   ]
  },
  {
   "cell_type": "markdown",
   "metadata": {},
   "source": [
    "위에서 merge 한 merged data를 살펴보면, 분석하기에 적합하지 않다.\n",
    "\n",
    "이용시작일과 평균기온의 산점도를 살펴보고자 했지만\n",
    "\n",
    "object type과 float type으로, data type의 차이로 인한 오류가 발생한다.\n",
    "\n",
    "따라서 새로운 데이터프레임을 선언한다.\n",
    "\n",
    "groupby로 해당 날짜에 예약한 단체 수를 count 하여 columns으로 추가한다.\n",
    "\n",
    "즉 새로운 데이터프레임에는 일시, 예약단체수, weather merge 한 columns가 있을 예정이다."
   ]
  },
  {
   "cell_type": "markdown",
   "metadata": {},
   "source": [
    "#### 이용시작일을 기준으로 일별 이용자수 count"
   ]
  },
  {
   "cell_type": "code",
   "execution_count": 18,
   "metadata": {},
   "outputs": [
    {
     "data": {
      "text/html": [
       "<div>\n",
       "<style scoped>\n",
       "    .dataframe tbody tr th:only-of-type {\n",
       "        vertical-align: middle;\n",
       "    }\n",
       "\n",
       "    .dataframe tbody tr th {\n",
       "        vertical-align: top;\n",
       "    }\n",
       "\n",
       "    .dataframe thead th {\n",
       "        text-align: right;\n",
       "    }\n",
       "</style>\n",
       "<table border=\"1\" class=\"dataframe\">\n",
       "  <thead>\n",
       "    <tr style=\"text-align: right;\">\n",
       "      <th></th>\n",
       "      <th>이용시작일</th>\n",
       "      <th>사업부서</th>\n",
       "      <th>대관시설</th>\n",
       "      <th>예약접수일</th>\n",
       "      <th>단체명</th>\n",
       "      <th>단체구분</th>\n",
       "      <th>인원</th>\n",
       "      <th>이용종료일</th>\n",
       "      <th>일시</th>\n",
       "      <th>평균기온(°C)</th>\n",
       "      <th>일강수량(mm)</th>\n",
       "      <th>평균 풍속(m/s)</th>\n",
       "      <th>일 최심신적설(cm)</th>\n",
       "      <th>일 최심적설(cm)</th>\n",
       "    </tr>\n",
       "  </thead>\n",
       "  <tbody>\n",
       "    <tr>\n",
       "      <th>0</th>\n",
       "      <td>2010-10-27</td>\n",
       "      <td>4</td>\n",
       "      <td>4</td>\n",
       "      <td>4</td>\n",
       "      <td>4</td>\n",
       "      <td>4</td>\n",
       "      <td>4</td>\n",
       "      <td>4</td>\n",
       "      <td>4</td>\n",
       "      <td>4</td>\n",
       "      <td>4</td>\n",
       "      <td>4</td>\n",
       "      <td>4</td>\n",
       "      <td>4</td>\n",
       "    </tr>\n",
       "    <tr>\n",
       "      <th>1</th>\n",
       "      <td>2010-10-28</td>\n",
       "      <td>2</td>\n",
       "      <td>2</td>\n",
       "      <td>2</td>\n",
       "      <td>2</td>\n",
       "      <td>2</td>\n",
       "      <td>2</td>\n",
       "      <td>2</td>\n",
       "      <td>2</td>\n",
       "      <td>2</td>\n",
       "      <td>2</td>\n",
       "      <td>2</td>\n",
       "      <td>2</td>\n",
       "      <td>2</td>\n",
       "    </tr>\n",
       "    <tr>\n",
       "      <th>2</th>\n",
       "      <td>2010-10-29</td>\n",
       "      <td>3</td>\n",
       "      <td>3</td>\n",
       "      <td>3</td>\n",
       "      <td>3</td>\n",
       "      <td>3</td>\n",
       "      <td>3</td>\n",
       "      <td>3</td>\n",
       "      <td>3</td>\n",
       "      <td>3</td>\n",
       "      <td>3</td>\n",
       "      <td>3</td>\n",
       "      <td>3</td>\n",
       "      <td>3</td>\n",
       "    </tr>\n",
       "    <tr>\n",
       "      <th>3</th>\n",
       "      <td>2010-10-30</td>\n",
       "      <td>2</td>\n",
       "      <td>2</td>\n",
       "      <td>2</td>\n",
       "      <td>2</td>\n",
       "      <td>2</td>\n",
       "      <td>2</td>\n",
       "      <td>2</td>\n",
       "      <td>2</td>\n",
       "      <td>2</td>\n",
       "      <td>2</td>\n",
       "      <td>2</td>\n",
       "      <td>2</td>\n",
       "      <td>2</td>\n",
       "    </tr>\n",
       "    <tr>\n",
       "      <th>4</th>\n",
       "      <td>2010-11-01</td>\n",
       "      <td>1</td>\n",
       "      <td>1</td>\n",
       "      <td>1</td>\n",
       "      <td>1</td>\n",
       "      <td>1</td>\n",
       "      <td>1</td>\n",
       "      <td>1</td>\n",
       "      <td>1</td>\n",
       "      <td>1</td>\n",
       "      <td>1</td>\n",
       "      <td>1</td>\n",
       "      <td>1</td>\n",
       "      <td>1</td>\n",
       "    </tr>\n",
       "  </tbody>\n",
       "</table>\n",
       "</div>"
      ],
      "text/plain": [
       "        이용시작일  사업부서  대관시설  예약접수일  단체명  단체구분  인원  이용종료일  일시  평균기온(°C)  \\\n",
       "0  2010-10-27     4     4      4    4     4   4      4   4         4   \n",
       "1  2010-10-28     2     2      2    2     2   2      2   2         2   \n",
       "2  2010-10-29     3     3      3    3     3   3      3   3         3   \n",
       "3  2010-10-30     2     2      2    2     2   2      2   2         2   \n",
       "4  2010-11-01     1     1      1    1     1   1      1   1         1   \n",
       "\n",
       "   일강수량(mm)  평균 풍속(m/s)  일 최심신적설(cm)  일 최심적설(cm)  \n",
       "0         4           4            4           4  \n",
       "1         2           2            2           2  \n",
       "2         3           3            3           3  \n",
       "3         2           2            2           2  \n",
       "4         1           1            1           1  "
      ]
     },
     "execution_count": 18,
     "metadata": {},
     "output_type": "execute_result"
    }
   ],
   "source": [
    "new = merged.groupby(\"이용시작일\").count().reset_index()\n",
    "new.head()"
   ]
  },
  {
   "cell_type": "markdown",
   "metadata": {},
   "source": [
    "#### 불필요한 columns 삭제"
   ]
  },
  {
   "cell_type": "code",
   "execution_count": 19,
   "metadata": {},
   "outputs": [],
   "source": [
    "cols = [\"사업부서\", \"대관시설\", \"예약접수일\", \"단체명\", \"이용종료일\", \"일시\", \n",
    "        \"평균기온(°C)\", \"일강수량(mm)\", \"평균 풍속(m/s)\", \"일 최심신적설(cm)\",\n",
    "       \"일 최심적설(cm)\", \"단체구분\"]\n",
    "new.drop(labels = cols, axis = \"columns\", inplace = True)"
   ]
  },
  {
   "cell_type": "code",
   "execution_count": 20,
   "metadata": {},
   "outputs": [
    {
     "data": {
      "text/html": [
       "<div>\n",
       "<style scoped>\n",
       "    .dataframe tbody tr th:only-of-type {\n",
       "        vertical-align: middle;\n",
       "    }\n",
       "\n",
       "    .dataframe tbody tr th {\n",
       "        vertical-align: top;\n",
       "    }\n",
       "\n",
       "    .dataframe thead th {\n",
       "        text-align: right;\n",
       "    }\n",
       "</style>\n",
       "<table border=\"1\" class=\"dataframe\">\n",
       "  <thead>\n",
       "    <tr style=\"text-align: right;\">\n",
       "      <th></th>\n",
       "      <th>이용시작일</th>\n",
       "      <th>인원</th>\n",
       "    </tr>\n",
       "  </thead>\n",
       "  <tbody>\n",
       "    <tr>\n",
       "      <th>0</th>\n",
       "      <td>2010-10-27</td>\n",
       "      <td>4</td>\n",
       "    </tr>\n",
       "    <tr>\n",
       "      <th>1</th>\n",
       "      <td>2010-10-28</td>\n",
       "      <td>2</td>\n",
       "    </tr>\n",
       "    <tr>\n",
       "      <th>2</th>\n",
       "      <td>2010-10-29</td>\n",
       "      <td>3</td>\n",
       "    </tr>\n",
       "    <tr>\n",
       "      <th>3</th>\n",
       "      <td>2010-10-30</td>\n",
       "      <td>2</td>\n",
       "    </tr>\n",
       "    <tr>\n",
       "      <th>4</th>\n",
       "      <td>2010-11-01</td>\n",
       "      <td>1</td>\n",
       "    </tr>\n",
       "  </tbody>\n",
       "</table>\n",
       "</div>"
      ],
      "text/plain": [
       "        이용시작일  인원\n",
       "0  2010-10-27   4\n",
       "1  2010-10-28   2\n",
       "2  2010-10-29   3\n",
       "3  2010-10-30   2\n",
       "4  2010-11-01   1"
      ]
     },
     "execution_count": 20,
     "metadata": {},
     "output_type": "execute_result"
    }
   ],
   "source": [
    "new.head()"
   ]
  },
  {
   "cell_type": "markdown",
   "metadata": {},
   "source": [
    "이용시작일을 기준으로 일별 이용자 수가 count 되었다."
   ]
  },
  {
   "cell_type": "markdown",
   "metadata": {},
   "source": [
    "#### 다시 merge "
   ]
  },
  {
   "cell_type": "code",
   "execution_count": 21,
   "metadata": {},
   "outputs": [],
   "source": [
    "## new와 weather merge\n",
    "new_merged = pd.merge(new, weather, \n",
    "                  how='left', left_on = '이용시작일', right_on = '일시')"
   ]
  },
  {
   "cell_type": "code",
   "execution_count": 22,
   "metadata": {},
   "outputs": [
    {
     "data": {
      "text/html": [
       "<div>\n",
       "<style scoped>\n",
       "    .dataframe tbody tr th:only-of-type {\n",
       "        vertical-align: middle;\n",
       "    }\n",
       "\n",
       "    .dataframe tbody tr th {\n",
       "        vertical-align: top;\n",
       "    }\n",
       "\n",
       "    .dataframe thead th {\n",
       "        text-align: right;\n",
       "    }\n",
       "</style>\n",
       "<table border=\"1\" class=\"dataframe\">\n",
       "  <thead>\n",
       "    <tr style=\"text-align: right;\">\n",
       "      <th></th>\n",
       "      <th>이용시작일</th>\n",
       "      <th>인원</th>\n",
       "      <th>평균기온(°C)</th>\n",
       "      <th>일강수량(mm)</th>\n",
       "      <th>평균 풍속(m/s)</th>\n",
       "      <th>일 최심신적설(cm)</th>\n",
       "      <th>일 최심적설(cm)</th>\n",
       "    </tr>\n",
       "  </thead>\n",
       "  <tbody>\n",
       "    <tr>\n",
       "      <th>0</th>\n",
       "      <td>2010-10-27</td>\n",
       "      <td>4</td>\n",
       "      <td>6.2</td>\n",
       "      <td>0.0</td>\n",
       "      <td>2.1</td>\n",
       "      <td>0.0</td>\n",
       "      <td>0.0</td>\n",
       "    </tr>\n",
       "    <tr>\n",
       "      <th>1</th>\n",
       "      <td>2010-10-28</td>\n",
       "      <td>2</td>\n",
       "      <td>7.9</td>\n",
       "      <td>0.0</td>\n",
       "      <td>2.8</td>\n",
       "      <td>0.0</td>\n",
       "      <td>0.0</td>\n",
       "    </tr>\n",
       "    <tr>\n",
       "      <th>2</th>\n",
       "      <td>2010-10-29</td>\n",
       "      <td>3</td>\n",
       "      <td>10.4</td>\n",
       "      <td>0.0</td>\n",
       "      <td>2.7</td>\n",
       "      <td>0.0</td>\n",
       "      <td>0.0</td>\n",
       "    </tr>\n",
       "    <tr>\n",
       "      <th>3</th>\n",
       "      <td>2010-10-30</td>\n",
       "      <td>2</td>\n",
       "      <td>12.0</td>\n",
       "      <td>0.0</td>\n",
       "      <td>2.2</td>\n",
       "      <td>0.0</td>\n",
       "      <td>0.0</td>\n",
       "    </tr>\n",
       "    <tr>\n",
       "      <th>4</th>\n",
       "      <td>2010-11-01</td>\n",
       "      <td>1</td>\n",
       "      <td>11.9</td>\n",
       "      <td>0.0</td>\n",
       "      <td>4.3</td>\n",
       "      <td>0.0</td>\n",
       "      <td>0.0</td>\n",
       "    </tr>\n",
       "  </tbody>\n",
       "</table>\n",
       "</div>"
      ],
      "text/plain": [
       "        이용시작일  인원  평균기온(°C)  일강수량(mm)  평균 풍속(m/s)  일 최심신적설(cm)  일 최심적설(cm)\n",
       "0  2010-10-27   4       6.2       0.0         2.1          0.0         0.0\n",
       "1  2010-10-28   2       7.9       0.0         2.8          0.0         0.0\n",
       "2  2010-10-29   3      10.4       0.0         2.7          0.0         0.0\n",
       "3  2010-10-30   2      12.0       0.0         2.2          0.0         0.0\n",
       "4  2010-11-01   1      11.9       0.0         4.3          0.0         0.0"
      ]
     },
     "execution_count": 22,
     "metadata": {},
     "output_type": "execute_result"
    }
   ],
   "source": [
    "## 필요없는 columns 삭제\n",
    "new_merged.drop(labels = \"일시\", axis = \"columns\", inplace = True)\n",
    "new_merged.head()"
   ]
  },
  {
   "cell_type": "markdown",
   "metadata": {},
   "source": [
    "#### columns 이름 재선언"
   ]
  },
  {
   "cell_type": "code",
   "execution_count": 23,
   "metadata": {},
   "outputs": [
    {
     "data": {
      "text/html": [
       "<div>\n",
       "<style scoped>\n",
       "    .dataframe tbody tr th:only-of-type {\n",
       "        vertical-align: middle;\n",
       "    }\n",
       "\n",
       "    .dataframe tbody tr th {\n",
       "        vertical-align: top;\n",
       "    }\n",
       "\n",
       "    .dataframe thead th {\n",
       "        text-align: right;\n",
       "    }\n",
       "</style>\n",
       "<table border=\"1\" class=\"dataframe\">\n",
       "  <thead>\n",
       "    <tr style=\"text-align: right;\">\n",
       "      <th></th>\n",
       "      <th>date</th>\n",
       "      <th>reserved_num</th>\n",
       "      <th>avg_temp</th>\n",
       "      <th>daily_prec</th>\n",
       "      <th>avg_wind</th>\n",
       "      <th>latest_snow</th>\n",
       "      <th>most_snow</th>\n",
       "    </tr>\n",
       "  </thead>\n",
       "  <tbody>\n",
       "    <tr>\n",
       "      <th>0</th>\n",
       "      <td>2010-10-27</td>\n",
       "      <td>4</td>\n",
       "      <td>6.2</td>\n",
       "      <td>0.0</td>\n",
       "      <td>2.1</td>\n",
       "      <td>0.0</td>\n",
       "      <td>0.0</td>\n",
       "    </tr>\n",
       "    <tr>\n",
       "      <th>1</th>\n",
       "      <td>2010-10-28</td>\n",
       "      <td>2</td>\n",
       "      <td>7.9</td>\n",
       "      <td>0.0</td>\n",
       "      <td>2.8</td>\n",
       "      <td>0.0</td>\n",
       "      <td>0.0</td>\n",
       "    </tr>\n",
       "    <tr>\n",
       "      <th>2</th>\n",
       "      <td>2010-10-29</td>\n",
       "      <td>3</td>\n",
       "      <td>10.4</td>\n",
       "      <td>0.0</td>\n",
       "      <td>2.7</td>\n",
       "      <td>0.0</td>\n",
       "      <td>0.0</td>\n",
       "    </tr>\n",
       "    <tr>\n",
       "      <th>3</th>\n",
       "      <td>2010-10-30</td>\n",
       "      <td>2</td>\n",
       "      <td>12.0</td>\n",
       "      <td>0.0</td>\n",
       "      <td>2.2</td>\n",
       "      <td>0.0</td>\n",
       "      <td>0.0</td>\n",
       "    </tr>\n",
       "    <tr>\n",
       "      <th>4</th>\n",
       "      <td>2010-11-01</td>\n",
       "      <td>1</td>\n",
       "      <td>11.9</td>\n",
       "      <td>0.0</td>\n",
       "      <td>4.3</td>\n",
       "      <td>0.0</td>\n",
       "      <td>0.0</td>\n",
       "    </tr>\n",
       "  </tbody>\n",
       "</table>\n",
       "</div>"
      ],
      "text/plain": [
       "         date  reserved_num  avg_temp  daily_prec  avg_wind  latest_snow  \\\n",
       "0  2010-10-27             4       6.2         0.0       2.1          0.0   \n",
       "1  2010-10-28             2       7.9         0.0       2.8          0.0   \n",
       "2  2010-10-29             3      10.4         0.0       2.7          0.0   \n",
       "3  2010-10-30             2      12.0         0.0       2.2          0.0   \n",
       "4  2010-11-01             1      11.9         0.0       4.3          0.0   \n",
       "\n",
       "   most_snow  \n",
       "0        0.0  \n",
       "1        0.0  \n",
       "2        0.0  \n",
       "3        0.0  \n",
       "4        0.0  "
      ]
     },
     "execution_count": 23,
     "metadata": {},
     "output_type": "execute_result"
    }
   ],
   "source": [
    "## columns의 이름 재선언\n",
    "new_merged.rename(columns = {new_merged.columns[0]:\"date\",\n",
    "                    new_merged.columns[1]:\"reserved_num\",\n",
    "                    new_merged.columns[2]:\"avg_temp\",\n",
    "                    new_merged.columns[3]:\"daily_prec\",\n",
    "                    new_merged.columns[4]:\"avg_wind\",\n",
    "                    new_merged.columns[5]:\"latest_snow\",\n",
    "                    new_merged.columns[6]:\"most_snow\"}, inplace=True)\n",
    "new_merged.head()"
   ]
  },
  {
   "cell_type": "markdown",
   "metadata": {},
   "source": [
    "* date : 이용일\n",
    "\n",
    "* reserved_num : 예약단체 수 (Number of reserved organization\n",
    "\n",
    "* avg_temp : 평균기온\n",
    " \n",
    "* daily_precipitation : 일강수량\n",
    "\n",
    "* avg_wind : 평균풍속\n",
    "\n",
    "* latest_snow : 최신심적설 (새로 와서 쌓인 눈의 두께)\n",
    "\n",
    "* most_snow : 최심적설 (최대로 깊었던 적설량. 며칠씩 쌓인 최대량)"
   ]
  },
  {
   "cell_type": "markdown",
   "metadata": {},
   "source": [
    "#### 결측치 재확인"
   ]
  },
  {
   "cell_type": "code",
   "execution_count": 25,
   "metadata": {},
   "outputs": [
    {
     "name": "stdout",
     "output_type": "stream",
     "text": [
      "merged :  date            0\n",
      "reserved_num    0\n",
      "avg_temp        0\n",
      "daily_prec      0\n",
      "avg_wind        0\n",
      "latest_snow     0\n",
      "most_snow       0\n",
      "dtype: int64\n"
     ]
    }
   ],
   "source": [
    "## 결측치 확인\n",
    "print('merged : ', new_merged.isnull().sum())"
   ]
  },
  {
   "cell_type": "code",
   "execution_count": 26,
   "metadata": {},
   "outputs": [
    {
     "name": "stdout",
     "output_type": "stream",
     "text": [
      "<class 'pandas.core.frame.DataFrame'>\n",
      "Int64Index: 3345 entries, 0 to 3344\n",
      "Data columns (total 7 columns):\n",
      " #   Column        Non-Null Count  Dtype  \n",
      "---  ------        --------------  -----  \n",
      " 0   date          3345 non-null   object \n",
      " 1   reserved_num  3345 non-null   int64  \n",
      " 2   avg_temp      3345 non-null   float64\n",
      " 3   daily_prec    3345 non-null   float64\n",
      " 4   avg_wind      3345 non-null   float64\n",
      " 5   latest_snow   3345 non-null   float64\n",
      " 6   most_snow     3345 non-null   float64\n",
      "dtypes: float64(5), int64(1), object(1)\n",
      "memory usage: 209.1+ KB\n"
     ]
    }
   ],
   "source": [
    "new_merged.info()"
   ]
  },
  {
   "cell_type": "markdown",
   "metadata": {},
   "source": [
    "#### date를 년, 월, 일로 분리하기"
   ]
  },
  {
   "cell_type": "code",
   "execution_count": 27,
   "metadata": {},
   "outputs": [],
   "source": [
    "new_merged['year'] = new_merged.date.str.split('-').str[0]\n",
    "new_merged['month'] = new_merged.date.str.split('-').str[1]\n",
    "new_merged['day'] = new_merged.date.str.split('-').str[2]"
   ]
  },
  {
   "cell_type": "code",
   "execution_count": 28,
   "metadata": {},
   "outputs": [
    {
     "data": {
      "text/html": [
       "<div>\n",
       "<style scoped>\n",
       "    .dataframe tbody tr th:only-of-type {\n",
       "        vertical-align: middle;\n",
       "    }\n",
       "\n",
       "    .dataframe tbody tr th {\n",
       "        vertical-align: top;\n",
       "    }\n",
       "\n",
       "    .dataframe thead th {\n",
       "        text-align: right;\n",
       "    }\n",
       "</style>\n",
       "<table border=\"1\" class=\"dataframe\">\n",
       "  <thead>\n",
       "    <tr style=\"text-align: right;\">\n",
       "      <th></th>\n",
       "      <th>date</th>\n",
       "      <th>reserved_num</th>\n",
       "      <th>avg_temp</th>\n",
       "      <th>daily_prec</th>\n",
       "      <th>avg_wind</th>\n",
       "      <th>latest_snow</th>\n",
       "      <th>most_snow</th>\n",
       "      <th>year</th>\n",
       "      <th>month</th>\n",
       "      <th>day</th>\n",
       "    </tr>\n",
       "  </thead>\n",
       "  <tbody>\n",
       "    <tr>\n",
       "      <th>0</th>\n",
       "      <td>2010-10-27</td>\n",
       "      <td>4</td>\n",
       "      <td>6.2</td>\n",
       "      <td>0.0</td>\n",
       "      <td>2.1</td>\n",
       "      <td>0.0</td>\n",
       "      <td>0.0</td>\n",
       "      <td>2010</td>\n",
       "      <td>10</td>\n",
       "      <td>27</td>\n",
       "    </tr>\n",
       "    <tr>\n",
       "      <th>1</th>\n",
       "      <td>2010-10-28</td>\n",
       "      <td>2</td>\n",
       "      <td>7.9</td>\n",
       "      <td>0.0</td>\n",
       "      <td>2.8</td>\n",
       "      <td>0.0</td>\n",
       "      <td>0.0</td>\n",
       "      <td>2010</td>\n",
       "      <td>10</td>\n",
       "      <td>28</td>\n",
       "    </tr>\n",
       "    <tr>\n",
       "      <th>2</th>\n",
       "      <td>2010-10-29</td>\n",
       "      <td>3</td>\n",
       "      <td>10.4</td>\n",
       "      <td>0.0</td>\n",
       "      <td>2.7</td>\n",
       "      <td>0.0</td>\n",
       "      <td>0.0</td>\n",
       "      <td>2010</td>\n",
       "      <td>10</td>\n",
       "      <td>29</td>\n",
       "    </tr>\n",
       "    <tr>\n",
       "      <th>3</th>\n",
       "      <td>2010-10-30</td>\n",
       "      <td>2</td>\n",
       "      <td>12.0</td>\n",
       "      <td>0.0</td>\n",
       "      <td>2.2</td>\n",
       "      <td>0.0</td>\n",
       "      <td>0.0</td>\n",
       "      <td>2010</td>\n",
       "      <td>10</td>\n",
       "      <td>30</td>\n",
       "    </tr>\n",
       "    <tr>\n",
       "      <th>4</th>\n",
       "      <td>2010-11-01</td>\n",
       "      <td>1</td>\n",
       "      <td>11.9</td>\n",
       "      <td>0.0</td>\n",
       "      <td>4.3</td>\n",
       "      <td>0.0</td>\n",
       "      <td>0.0</td>\n",
       "      <td>2010</td>\n",
       "      <td>11</td>\n",
       "      <td>01</td>\n",
       "    </tr>\n",
       "  </tbody>\n",
       "</table>\n",
       "</div>"
      ],
      "text/plain": [
       "         date  reserved_num  avg_temp  daily_prec  avg_wind  latest_snow  \\\n",
       "0  2010-10-27             4       6.2         0.0       2.1          0.0   \n",
       "1  2010-10-28             2       7.9         0.0       2.8          0.0   \n",
       "2  2010-10-29             3      10.4         0.0       2.7          0.0   \n",
       "3  2010-10-30             2      12.0         0.0       2.2          0.0   \n",
       "4  2010-11-01             1      11.9         0.0       4.3          0.0   \n",
       "\n",
       "   most_snow  year month day  \n",
       "0        0.0  2010    10  27  \n",
       "1        0.0  2010    10  28  \n",
       "2        0.0  2010    10  29  \n",
       "3        0.0  2010    10  30  \n",
       "4        0.0  2010    11  01  "
      ]
     },
     "execution_count": 28,
     "metadata": {},
     "output_type": "execute_result"
    }
   ],
   "source": [
    "new_merged.head()"
   ]
  },
  {
   "cell_type": "markdown",
   "metadata": {},
   "source": [
    "#### year, month, day의 데이터타입을 int로 바꿔주기"
   ]
  },
  {
   "cell_type": "code",
   "execution_count": 29,
   "metadata": {},
   "outputs": [
    {
     "name": "stdout",
     "output_type": "stream",
     "text": [
      "<class 'pandas.core.frame.DataFrame'>\n",
      "Int64Index: 3345 entries, 0 to 3344\n",
      "Data columns (total 10 columns):\n",
      " #   Column        Non-Null Count  Dtype  \n",
      "---  ------        --------------  -----  \n",
      " 0   date          3345 non-null   object \n",
      " 1   reserved_num  3345 non-null   int64  \n",
      " 2   avg_temp      3345 non-null   float64\n",
      " 3   daily_prec    3345 non-null   float64\n",
      " 4   avg_wind      3345 non-null   float64\n",
      " 5   latest_snow   3345 non-null   float64\n",
      " 6   most_snow     3345 non-null   float64\n",
      " 7   year          3345 non-null   object \n",
      " 8   month         3345 non-null   object \n",
      " 9   day           3345 non-null   object \n",
      "dtypes: float64(5), int64(1), object(4)\n",
      "memory usage: 287.5+ KB\n"
     ]
    }
   ],
   "source": [
    "new_merged.info()"
   ]
  },
  {
   "cell_type": "code",
   "execution_count": 30,
   "metadata": {},
   "outputs": [],
   "source": [
    "new_merged['year'] = pd.to_numeric(new_merged.year)\n",
    "new_merged['month'] = pd.to_numeric(new_merged.month)\n",
    "new_merged['day'] = pd.to_numeric(new_merged.day)"
   ]
  },
  {
   "cell_type": "code",
   "execution_count": 31,
   "metadata": {},
   "outputs": [
    {
     "name": "stdout",
     "output_type": "stream",
     "text": [
      "<class 'pandas.core.frame.DataFrame'>\n",
      "Int64Index: 3345 entries, 0 to 3344\n",
      "Data columns (total 10 columns):\n",
      " #   Column        Non-Null Count  Dtype  \n",
      "---  ------        --------------  -----  \n",
      " 0   date          3345 non-null   object \n",
      " 1   reserved_num  3345 non-null   int64  \n",
      " 2   avg_temp      3345 non-null   float64\n",
      " 3   daily_prec    3345 non-null   float64\n",
      " 4   avg_wind      3345 non-null   float64\n",
      " 5   latest_snow   3345 non-null   float64\n",
      " 6   most_snow     3345 non-null   float64\n",
      " 7   year          3345 non-null   int64  \n",
      " 8   month         3345 non-null   int64  \n",
      " 9   day           3345 non-null   int64  \n",
      "dtypes: float64(5), int64(4), object(1)\n",
      "memory usage: 287.5+ KB\n"
     ]
    }
   ],
   "source": [
    "new_merged.info()"
   ]
  },
  {
   "cell_type": "markdown",
   "metadata": {},
   "source": [
    "#### 계절 범주화"
   ]
  },
  {
   "cell_type": "markdown",
   "metadata": {},
   "source": [
    "봄 : 3월, 4월, 5월 -> 1\n",
    "\n",
    "여름 : 6월, 7월, 8월 -> 2\n",
    "\n",
    "가을 : 9월, 10월, 11월 -> 3\n",
    "\n",
    "겨울 : 12월, 1월, 2월 -> 4"
   ]
  },
  {
   "cell_type": "code",
   "execution_count": 32,
   "metadata": {},
   "outputs": [],
   "source": [
    "def func(x):\n",
    "    if (x == 3) or (x == 4) or (x == 5):\n",
    "        return 1\n",
    "    elif (x == 6) or (x == 7) or (x == 8):\n",
    "        return 2\n",
    "    elif (x == 9) or (x == 10) or (x == 11):\n",
    "        return 3\n",
    "    else:\n",
    "        return 4"
   ]
  },
  {
   "cell_type": "code",
   "execution_count": 33,
   "metadata": {},
   "outputs": [],
   "source": [
    "new_merged['season'] = new_merged['month'].apply(lambda x : func(x))"
   ]
  },
  {
   "cell_type": "markdown",
   "metadata": {},
   "source": [
    "month의 값을 함수 func에 넣어 return 값을 받아온다.\n",
    "\n",
    "그리고 그 값을 season 열을 만들어 넣어준다."
   ]
  },
  {
   "cell_type": "code",
   "execution_count": 34,
   "metadata": {},
   "outputs": [
    {
     "data": {
      "text/html": [
       "<div>\n",
       "<style scoped>\n",
       "    .dataframe tbody tr th:only-of-type {\n",
       "        vertical-align: middle;\n",
       "    }\n",
       "\n",
       "    .dataframe tbody tr th {\n",
       "        vertical-align: top;\n",
       "    }\n",
       "\n",
       "    .dataframe thead th {\n",
       "        text-align: right;\n",
       "    }\n",
       "</style>\n",
       "<table border=\"1\" class=\"dataframe\">\n",
       "  <thead>\n",
       "    <tr style=\"text-align: right;\">\n",
       "      <th></th>\n",
       "      <th>date</th>\n",
       "      <th>reserved_num</th>\n",
       "      <th>avg_temp</th>\n",
       "      <th>daily_prec</th>\n",
       "      <th>avg_wind</th>\n",
       "      <th>latest_snow</th>\n",
       "      <th>most_snow</th>\n",
       "      <th>year</th>\n",
       "      <th>month</th>\n",
       "      <th>day</th>\n",
       "      <th>season</th>\n",
       "    </tr>\n",
       "  </thead>\n",
       "  <tbody>\n",
       "    <tr>\n",
       "      <th>0</th>\n",
       "      <td>2010-10-27</td>\n",
       "      <td>4</td>\n",
       "      <td>6.2</td>\n",
       "      <td>0.0</td>\n",
       "      <td>2.1</td>\n",
       "      <td>0.0</td>\n",
       "      <td>0.0</td>\n",
       "      <td>2010</td>\n",
       "      <td>10</td>\n",
       "      <td>27</td>\n",
       "      <td>3</td>\n",
       "    </tr>\n",
       "    <tr>\n",
       "      <th>1</th>\n",
       "      <td>2010-10-28</td>\n",
       "      <td>2</td>\n",
       "      <td>7.9</td>\n",
       "      <td>0.0</td>\n",
       "      <td>2.8</td>\n",
       "      <td>0.0</td>\n",
       "      <td>0.0</td>\n",
       "      <td>2010</td>\n",
       "      <td>10</td>\n",
       "      <td>28</td>\n",
       "      <td>3</td>\n",
       "    </tr>\n",
       "    <tr>\n",
       "      <th>2</th>\n",
       "      <td>2010-10-29</td>\n",
       "      <td>3</td>\n",
       "      <td>10.4</td>\n",
       "      <td>0.0</td>\n",
       "      <td>2.7</td>\n",
       "      <td>0.0</td>\n",
       "      <td>0.0</td>\n",
       "      <td>2010</td>\n",
       "      <td>10</td>\n",
       "      <td>29</td>\n",
       "      <td>3</td>\n",
       "    </tr>\n",
       "    <tr>\n",
       "      <th>3</th>\n",
       "      <td>2010-10-30</td>\n",
       "      <td>2</td>\n",
       "      <td>12.0</td>\n",
       "      <td>0.0</td>\n",
       "      <td>2.2</td>\n",
       "      <td>0.0</td>\n",
       "      <td>0.0</td>\n",
       "      <td>2010</td>\n",
       "      <td>10</td>\n",
       "      <td>30</td>\n",
       "      <td>3</td>\n",
       "    </tr>\n",
       "    <tr>\n",
       "      <th>4</th>\n",
       "      <td>2010-11-01</td>\n",
       "      <td>1</td>\n",
       "      <td>11.9</td>\n",
       "      <td>0.0</td>\n",
       "      <td>4.3</td>\n",
       "      <td>0.0</td>\n",
       "      <td>0.0</td>\n",
       "      <td>2010</td>\n",
       "      <td>11</td>\n",
       "      <td>1</td>\n",
       "      <td>3</td>\n",
       "    </tr>\n",
       "  </tbody>\n",
       "</table>\n",
       "</div>"
      ],
      "text/plain": [
       "         date  reserved_num  avg_temp  daily_prec  avg_wind  latest_snow  \\\n",
       "0  2010-10-27             4       6.2         0.0       2.1          0.0   \n",
       "1  2010-10-28             2       7.9         0.0       2.8          0.0   \n",
       "2  2010-10-29             3      10.4         0.0       2.7          0.0   \n",
       "3  2010-10-30             2      12.0         0.0       2.2          0.0   \n",
       "4  2010-11-01             1      11.9         0.0       4.3          0.0   \n",
       "\n",
       "   most_snow  year  month  day  season  \n",
       "0        0.0  2010     10   27       3  \n",
       "1        0.0  2010     10   28       3  \n",
       "2        0.0  2010     10   29       3  \n",
       "3        0.0  2010     10   30       3  \n",
       "4        0.0  2010     11    1       3  "
      ]
     },
     "execution_count": 34,
     "metadata": {},
     "output_type": "execute_result"
    }
   ],
   "source": [
    "new_merged.head()"
   ]
  },
  {
   "cell_type": "markdown",
   "metadata": {},
   "source": [
    "### (4) 독립성 검정; 상관관계 분석"
   ]
  },
  {
   "cell_type": "code",
   "execution_count": 35,
   "metadata": {},
   "outputs": [
    {
     "name": "stdout",
     "output_type": "stream",
     "text": [
      "              reserved_num  avg_temp  daily_prec  avg_wind  latest_snow  \\\n",
      "reserved_num      1.000000  0.185654    0.007434 -0.073847    -0.046900   \n",
      "avg_temp          0.185654  1.000000    0.158875 -0.334738    -0.167776   \n",
      "daily_prec        0.007434  0.158875    1.000000  0.088568     0.009530   \n",
      "avg_wind         -0.073847 -0.334738    0.088568  1.000000     0.060172   \n",
      "latest_snow      -0.046900 -0.167776    0.009530  0.060172     1.000000   \n",
      "most_snow        -0.083731 -0.278631   -0.017277  0.078622     0.563114   \n",
      "year              0.395023  0.061140   -0.034918 -0.039928    -0.044823   \n",
      "month             0.072958  0.252346    0.039677 -0.069460    -0.005208   \n",
      "day               0.029486  0.001003    0.005131 -0.031007     0.005596   \n",
      "season           -0.152564 -0.498993   -0.077234  0.061534     0.148794   \n",
      "\n",
      "              most_snow      year     month       day    season  \n",
      "reserved_num  -0.083731  0.395023  0.072958  0.029486 -0.152564  \n",
      "avg_temp      -0.278631  0.061140  0.252346  0.001003 -0.498993  \n",
      "daily_prec    -0.017277 -0.034918  0.039677  0.005131 -0.077234  \n",
      "avg_wind       0.078622 -0.039928 -0.069460 -0.031007  0.061534  \n",
      "latest_snow    0.563114 -0.044823 -0.005208  0.005596  0.148794  \n",
      "most_snow      1.000000 -0.120703 -0.049715 -0.042451  0.222098  \n",
      "year          -0.120703  1.000000 -0.047553 -0.005454 -0.030548  \n",
      "month         -0.049715 -0.047553  1.000000  0.011992  0.225656  \n",
      "day           -0.042451 -0.005454  0.011992  1.000000 -0.010601  \n",
      "season         0.222098 -0.030548  0.225656 -0.010601  1.000000  \n"
     ]
    }
   ],
   "source": [
    "cols = [\"reserved_num\", \"avg_temp\", \"daily_prec\", \n",
    "        \"avg_wind\", \"latest_snow\", \"most_snow\", \n",
    "        \"year\", \"month\", \"day\", \"season\"]\n",
    "corr = new_merged[cols].corr(method = 'pearson')\n",
    "print(corr)"
   ]
  },
  {
   "cell_type": "code",
   "execution_count": 36,
   "metadata": {},
   "outputs": [
    {
     "data": {
      "image/png": "[encoded data removed]",
      "text/plain": [
       "<Figure size 432x288 with 2 Axes>"
      ]
     },
     "metadata": {},
     "output_type": "display_data"
    }
   ],
   "source": [
    "cols_view = ['num', 'temp', 'rain', 'wind', 'latest snow', \n",
    "             'most snow', 'year', 'month', 'day']\n",
    "sns.set(font_scale = 1.0)\n",
    "hm = sns.heatmap(corr.values,\n",
    "                cbar = True,\n",
    "                annot = True,\n",
    "                square = True,\n",
    "                fmt = '.2f',\n",
    "                annot_kws = {'size' : 15},\n",
    "                yticklabels = cols_view,\n",
    "                xticklabels = cols_view,\n",
    "                cmap='Blues')\n",
    "plt.tight_layout()\n",
    "plt.show()"
   ]
  },
  {
   "cell_type": "markdown",
   "metadata": {},
   "source": [
    "상관계수, 히트맵의 결과를 통해 독립변수 X들간의 상관관계가 없는 것으로 확인된다.\n",
    "\n",
    "따라서 독립성의 가정을 만족한다."
   ]
  },
  {
   "cell_type": "markdown",
   "metadata": {},
   "source": [
    "### (5) 정규성 검정"
   ]
  },
  {
   "cell_type": "code",
   "execution_count": 38,
   "metadata": {},
   "outputs": [
    {
     "data": {
      "image/png": "[encoded data removed]",
      "text/plain": [
       "<Figure size 1152x648 with 9 Axes>"
      ]
     },
     "metadata": {},
     "output_type": "display_data"
    }
   ],
   "source": [
    "f, a = plt.subplots(3, 3, figsize=(16, 9))\n",
    "\n",
    "plt.subplot(3, 3, 1)\n",
    "plt.hist(new_merged['reserved_num'], color='blue', bins=100)\n",
    "plt.subplot(3, 3, 2)\n",
    "plt.hist(new_merged['avg_temp'], color='red', bins=100)\n",
    "plt.subplot(3, 3, 3)\n",
    "plt.hist(new_merged['daily_prec'], color='green', bins=100)\n",
    "plt.subplot(3, 3, 4)\n",
    "plt.hist(new_merged['avg_wind'], color='yellow', bins=100)\n",
    "plt.subplot(3, 3, 5)\n",
    "plt.hist(new_merged['latest_snow'], color='orange', bins=100)\n",
    "plt.subplot(3, 3, 6)\n",
    "plt.hist(new_merged['most_snow'], color='black', bins=100)\n",
    "plt.subplot(3, 3, 7)\n",
    "plt.hist(new_merged['year'], color='white', bins=100)\n",
    "plt.subplot(3, 3, 8)\n",
    "plt.hist(new_merged['month'], color='blue', bins=100)\n",
    "plt.subplot(3, 3, 9)\n",
    "plt.hist(new_merged['day'], color='red', bins=100)\n",
    "\n",
    "plt.show()"
   ]
  },
  {
   "cell_type": "markdown",
   "metadata": {},
   "source": [
    "독립변수들의 히스토그램을 확인해보면, **정규성을 만족하지 못한다**는 것을 알 수 있다."
   ]
  },
  {
   "cell_type": "markdown",
   "metadata": {},
   "source": [
    "### (6) 이상치"
   ]
  },
  {
   "cell_type": "code",
   "execution_count": 39,
   "metadata": {},
   "outputs": [
    {
     "data": {
      "text/plain": [
       "<matplotlib.axes._subplots.AxesSubplot at 0x21f62c14dc8>"
      ]
     },
     "execution_count": 39,
     "metadata": {},
     "output_type": "execute_result"
    },
    {
     "data": {
      "image/png": "[encoded data removed]",
      "text/plain": [
       "<Figure size 432x288 with 1 Axes>"
      ]
     },
     "metadata": {},
     "output_type": "display_data"
    },
    {
     "data": {
      "image/png": "[encoded data removed]",
      "text/plain": [
       "<Figure size 432x288 with 1 Axes>"
      ]
     },
     "metadata": {},
     "output_type": "display_data"
    },
    {
     "data": {
      "image/png": "[encoded data removed]",
      "text/plain": [
       "<Figure size 432x288 with 1 Axes>"
      ]
     },
     "metadata": {},
     "output_type": "display_data"
    },
    {
     "data": {
      "image/png": "[encoded data removed]",
      "text/plain": [
       "<Figure size 432x288 with 1 Axes>"
      ]
     },
     "metadata": {},
     "output_type": "display_data"
    },
    {
     "data": {
      "image/png": "[encoded data removed]",
      "text/plain": [
       "<Figure size 432x288 with 1 Axes>"
      ]
     },
     "metadata": {},
     "output_type": "display_data"
    },
    {
     "data": {
      "image/png": "[encoded data removed]",
      "text/plain": [
       "<Figure size 432x288 with 1 Axes>"
      ]
     },
     "metadata": {},
     "output_type": "display_data"
    },
    {
     "data": {
      "image/png": "[encoded data removed]",
      "text/plain": [
       "<Figure size 432x288 with 1 Axes>"
      ]
     },
     "metadata": {},
     "output_type": "display_data"
    },
    {
     "data": {
      "image/png": "[encoded data removed]",
      "text/plain": [
       "<Figure size 432x288 with 1 Axes>"
      ]
     },
     "metadata": {},
     "output_type": "display_data"
    },
    {
     "data": {
      "image/png": "[encoded data removed]",
      "text/plain": [
       "<Figure size 432x288 with 1 Axes>"
      ]
     },
     "metadata": {},
     "output_type": "display_data"
    }
   ],
   "source": [
    "new_merged.plot(kind = 'box', y = 'reserved_num')\n",
    "new_merged.plot(kind = 'box', y = 'avg_temp')\n",
    "new_merged.plot(kind = 'box', y = 'daily_prec')\n",
    "new_merged.plot(kind = 'box', y = 'avg_wind')\n",
    "new_merged.plot(kind = 'box', y = 'latest_snow')\n",
    "new_merged.plot(kind = 'box', y = 'most_snow')\n",
    "new_merged.plot(kind = 'box', y = 'year')\n",
    "new_merged.plot(kind = 'box', y = 'month')\n",
    "new_merged.plot(kind = 'box', y = 'day')"
   ]
  },
  {
   "cell_type": "markdown",
   "metadata": {},
   "source": [
    "변수들의 박스플롯을 그려 이상치를 확인해보았다.\n",
    "\n",
    "reserved_num, daily_prec, avg_wind, latest_snow, most_snow 변수들이 이상치가 존재한다."
   ]
  },
  {
   "cell_type": "markdown",
   "metadata": {},
   "source": [
    "#### reserved_num의 이상치 확인"
   ]
  },
  {
   "cell_type": "code",
   "execution_count": 40,
   "metadata": {},
   "outputs": [
    {
     "data": {
      "text/html": [
       "<div>\n",
       "<style scoped>\n",
       "    .dataframe tbody tr th:only-of-type {\n",
       "        vertical-align: middle;\n",
       "    }\n",
       "\n",
       "    .dataframe tbody tr th {\n",
       "        vertical-align: top;\n",
       "    }\n",
       "\n",
       "    .dataframe thead th {\n",
       "        text-align: right;\n",
       "    }\n",
       "</style>\n",
       "<table border=\"1\" class=\"dataframe\">\n",
       "  <thead>\n",
       "    <tr style=\"text-align: right;\">\n",
       "      <th></th>\n",
       "      <th>date</th>\n",
       "      <th>reserved_num</th>\n",
       "      <th>avg_temp</th>\n",
       "      <th>daily_prec</th>\n",
       "      <th>avg_wind</th>\n",
       "      <th>latest_snow</th>\n",
       "      <th>most_snow</th>\n",
       "      <th>year</th>\n",
       "      <th>month</th>\n",
       "      <th>day</th>\n",
       "      <th>season</th>\n",
       "    </tr>\n",
       "  </thead>\n",
       "  <tbody>\n",
       "    <tr>\n",
       "      <th>576</th>\n",
       "      <td>2012-06-02</td>\n",
       "      <td>105</td>\n",
       "      <td>21.0</td>\n",
       "      <td>0.0</td>\n",
       "      <td>2.0</td>\n",
       "      <td>0.0</td>\n",
       "      <td>0.0</td>\n",
       "      <td>2012</td>\n",
       "      <td>6</td>\n",
       "      <td>2</td>\n",
       "      <td>2</td>\n",
       "    </tr>\n",
       "    <tr>\n",
       "      <th>598</th>\n",
       "      <td>2012-06-24</td>\n",
       "      <td>115</td>\n",
       "      <td>27.0</td>\n",
       "      <td>0.0</td>\n",
       "      <td>2.2</td>\n",
       "      <td>0.0</td>\n",
       "      <td>0.0</td>\n",
       "      <td>2012</td>\n",
       "      <td>6</td>\n",
       "      <td>24</td>\n",
       "      <td>2</td>\n",
       "    </tr>\n",
       "    <tr>\n",
       "      <th>605</th>\n",
       "      <td>2012-07-01</td>\n",
       "      <td>105</td>\n",
       "      <td>20.9</td>\n",
       "      <td>0.1</td>\n",
       "      <td>2.1</td>\n",
       "      <td>0.0</td>\n",
       "      <td>0.0</td>\n",
       "      <td>2012</td>\n",
       "      <td>7</td>\n",
       "      <td>1</td>\n",
       "      <td>2</td>\n",
       "    </tr>\n",
       "    <tr>\n",
       "      <th>618</th>\n",
       "      <td>2012-07-14</td>\n",
       "      <td>112</td>\n",
       "      <td>23.4</td>\n",
       "      <td>5.6</td>\n",
       "      <td>2.1</td>\n",
       "      <td>0.0</td>\n",
       "      <td>0.0</td>\n",
       "      <td>2012</td>\n",
       "      <td>7</td>\n",
       "      <td>14</td>\n",
       "      <td>2</td>\n",
       "    </tr>\n",
       "    <tr>\n",
       "      <th>660</th>\n",
       "      <td>2012-08-25</td>\n",
       "      <td>105</td>\n",
       "      <td>25.3</td>\n",
       "      <td>10.4</td>\n",
       "      <td>2.9</td>\n",
       "      <td>0.0</td>\n",
       "      <td>0.0</td>\n",
       "      <td>2012</td>\n",
       "      <td>8</td>\n",
       "      <td>25</td>\n",
       "      <td>2</td>\n",
       "    </tr>\n",
       "    <tr>\n",
       "      <th>...</th>\n",
       "      <td>...</td>\n",
       "      <td>...</td>\n",
       "      <td>...</td>\n",
       "      <td>...</td>\n",
       "      <td>...</td>\n",
       "      <td>...</td>\n",
       "      <td>...</td>\n",
       "      <td>...</td>\n",
       "      <td>...</td>\n",
       "      <td>...</td>\n",
       "      <td>...</td>\n",
       "    </tr>\n",
       "    <tr>\n",
       "      <th>3293</th>\n",
       "      <td>2019-11-10</td>\n",
       "      <td>148</td>\n",
       "      <td>10.8</td>\n",
       "      <td>21.4</td>\n",
       "      <td>3.2</td>\n",
       "      <td>0.0</td>\n",
       "      <td>0.0</td>\n",
       "      <td>2019</td>\n",
       "      <td>11</td>\n",
       "      <td>10</td>\n",
       "      <td>3</td>\n",
       "    </tr>\n",
       "    <tr>\n",
       "      <th>3299</th>\n",
       "      <td>2019-11-16</td>\n",
       "      <td>113</td>\n",
       "      <td>7.3</td>\n",
       "      <td>0.0</td>\n",
       "      <td>1.8</td>\n",
       "      <td>0.0</td>\n",
       "      <td>0.0</td>\n",
       "      <td>2019</td>\n",
       "      <td>11</td>\n",
       "      <td>16</td>\n",
       "      <td>3</td>\n",
       "    </tr>\n",
       "    <tr>\n",
       "      <th>3300</th>\n",
       "      <td>2019-11-17</td>\n",
       "      <td>107</td>\n",
       "      <td>9.7</td>\n",
       "      <td>23.7</td>\n",
       "      <td>3.8</td>\n",
       "      <td>0.0</td>\n",
       "      <td>0.0</td>\n",
       "      <td>2019</td>\n",
       "      <td>11</td>\n",
       "      <td>17</td>\n",
       "      <td>3</td>\n",
       "    </tr>\n",
       "    <tr>\n",
       "      <th>3306</th>\n",
       "      <td>2019-11-23</td>\n",
       "      <td>117</td>\n",
       "      <td>12.7</td>\n",
       "      <td>0.0</td>\n",
       "      <td>1.8</td>\n",
       "      <td>0.0</td>\n",
       "      <td>0.0</td>\n",
       "      <td>2019</td>\n",
       "      <td>11</td>\n",
       "      <td>23</td>\n",
       "      <td>3</td>\n",
       "    </tr>\n",
       "    <tr>\n",
       "      <th>3307</th>\n",
       "      <td>2019-11-24</td>\n",
       "      <td>111</td>\n",
       "      <td>10.5</td>\n",
       "      <td>3.8</td>\n",
       "      <td>3.4</td>\n",
       "      <td>0.0</td>\n",
       "      <td>0.0</td>\n",
       "      <td>2019</td>\n",
       "      <td>11</td>\n",
       "      <td>24</td>\n",
       "      <td>3</td>\n",
       "    </tr>\n",
       "  </tbody>\n",
       "</table>\n",
       "<p>189 rows × 11 columns</p>\n",
       "</div>"
      ],
      "text/plain": [
       "            date  reserved_num  avg_temp  daily_prec  avg_wind  latest_snow  \\\n",
       "576   2012-06-02           105      21.0         0.0       2.0          0.0   \n",
       "598   2012-06-24           115      27.0         0.0       2.2          0.0   \n",
       "605   2012-07-01           105      20.9         0.1       2.1          0.0   \n",
       "618   2012-07-14           112      23.4         5.6       2.1          0.0   \n",
       "660   2012-08-25           105      25.3        10.4       2.9          0.0   \n",
       "...          ...           ...       ...         ...       ...          ...   \n",
       "3293  2019-11-10           148      10.8        21.4       3.2          0.0   \n",
       "3299  2019-11-16           113       7.3         0.0       1.8          0.0   \n",
       "3300  2019-11-17           107       9.7        23.7       3.8          0.0   \n",
       "3306  2019-11-23           117      12.7         0.0       1.8          0.0   \n",
       "3307  2019-11-24           111      10.5         3.8       3.4          0.0   \n",
       "\n",
       "      most_snow  year  month  day  season  \n",
       "576         0.0  2012      6    2       2  \n",
       "598         0.0  2012      6   24       2  \n",
       "605         0.0  2012      7    1       2  \n",
       "618         0.0  2012      7   14       2  \n",
       "660         0.0  2012      8   25       2  \n",
       "...         ...   ...    ...  ...     ...  \n",
       "3293        0.0  2019     11   10       3  \n",
       "3299        0.0  2019     11   16       3  \n",
       "3300        0.0  2019     11   17       3  \n",
       "3306        0.0  2019     11   23       3  \n",
       "3307        0.0  2019     11   24       3  \n",
       "\n",
       "[189 rows x 11 columns]"
      ]
     },
     "execution_count": 40,
     "metadata": {},
     "output_type": "execute_result"
    }
   ],
   "source": [
    "q1 = new_merged['reserved_num'].quantile(0.25)\n",
    "q3 = new_merged['reserved_num'].quantile(0.75)\n",
    "\n",
    "iqr = q3 - q1\n",
    "\n",
    "re=(new_merged['reserved_num']<q1-iqr*1.5) | (new_merged['reserved_num']>q3+iqr*1.5)\n",
    "new_merged[re]"
   ]
  },
  {
   "cell_type": "markdown",
   "metadata": {},
   "source": [
    "#### 표준화(standardization)"
   ]
  },
  {
   "cell_type": "code",
   "execution_count": 41,
   "metadata": {},
   "outputs": [],
   "source": [
    "from scipy import stats\n",
    "new_merged['reserved_num'] = stats.zscore(new_merged['reserved_num'])"
   ]
  },
  {
   "cell_type": "code",
   "execution_count": 42,
   "metadata": {},
   "outputs": [],
   "source": [
    "new_merged = new_merged[new_merged['reserved_num'].between(-1.95, 1.95)]"
   ]
  },
  {
   "cell_type": "code",
   "execution_count": 44,
   "metadata": {},
   "outputs": [
    {
     "data": {
      "text/html": [
       "<div>\n",
       "<style scoped>\n",
       "    .dataframe tbody tr th:only-of-type {\n",
       "        vertical-align: middle;\n",
       "    }\n",
       "\n",
       "    .dataframe tbody tr th {\n",
       "        vertical-align: top;\n",
       "    }\n",
       "\n",
       "    .dataframe thead th {\n",
       "        text-align: right;\n",
       "    }\n",
       "</style>\n",
       "<table border=\"1\" class=\"dataframe\">\n",
       "  <thead>\n",
       "    <tr style=\"text-align: right;\">\n",
       "      <th></th>\n",
       "      <th>date</th>\n",
       "      <th>reserved_num</th>\n",
       "      <th>avg_temp</th>\n",
       "      <th>daily_prec</th>\n",
       "      <th>avg_wind</th>\n",
       "      <th>latest_snow</th>\n",
       "      <th>most_snow</th>\n",
       "      <th>year</th>\n",
       "      <th>month</th>\n",
       "      <th>day</th>\n",
       "      <th>season</th>\n",
       "    </tr>\n",
       "  </thead>\n",
       "  <tbody>\n",
       "  </tbody>\n",
       "</table>\n",
       "</div>"
      ],
      "text/plain": [
       "Empty DataFrame\n",
       "Columns: [date, reserved_num, avg_temp, daily_prec, avg_wind, latest_snow, most_snow, year, month, day, season]\n",
       "Index: []"
      ]
     },
     "execution_count": 44,
     "metadata": {},
     "output_type": "execute_result"
    }
   ],
   "source": [
    "q1 = new_merged['reserved_num'].quantile(0.25)\n",
    "q3 = new_merged['reserved_num'].quantile(0.75)\n",
    "\n",
    "iqr = q3 - q1\n",
    "\n",
    "re=(new_merged['reserved_num']<q1-iqr*1.95) | (new_merged['reserved_num']>q3+iqr*1.95)\n",
    "new_merged[re]"
   ]
  },
  {
   "cell_type": "markdown",
   "metadata": {},
   "source": [
    "이상치가 사라진 것을 확인할 수 있다."
   ]
  },
  {
   "cell_type": "markdown",
   "metadata": {},
   "source": [
    "#### 정규화"
   ]
  },
  {
   "cell_type": "code",
   "execution_count": 46,
   "metadata": {},
   "outputs": [
    {
     "name": "stderr",
     "output_type": "stream",
     "text": [
      "C:\\Users\\adore\\anaconda3\\lib\\site-packages\\pandas\\core\\indexing.py:965: SettingWithCopyWarning: \n",
      "A value is trying to be set on a copy of a slice from a DataFrame.\n",
      "Try using .loc[row_indexer,col_indexer] = value instead\n",
      "\n",
      "See the caveats in the documentation: https://pandas.pydata.org/pandas-docs/stable/user_guide/indexing.html#returning-a-view-versus-a-copy\n",
      "  self.obj[item] = s\n"
     ]
    }
   ],
   "source": [
    "from sklearn.preprocessing import MinMaxScaler\n",
    "scaler = MinMaxScaler()\n",
    "new_merged.iloc[:, 1:] = scaler.fit_transform(new_merged.iloc[:, 1:])"
   ]
  },
  {
   "cell_type": "code",
   "execution_count": 47,
   "metadata": {},
   "outputs": [
    {
     "data": {
      "image/png": "[encoded data removed]",
      "text/plain": [
       "<Figure size 1152x648 with 9 Axes>"
      ]
     },
     "metadata": {},
     "output_type": "display_data"
    }
   ],
   "source": [
    "f, a = plt.subplots(3, 3, figsize=(16, 9))\n",
    "\n",
    "plt.subplot(3, 3, 1)\n",
    "plt.hist(new_merged['reserved_num'], color='blue', bins=100)\n",
    "plt.subplot(3, 3, 2)\n",
    "plt.hist(new_merged['avg_temp'], color='red', bins=100)\n",
    "plt.subplot(3, 3, 3)\n",
    "plt.hist(new_merged['daily_prec'], color='green', bins=100)\n",
    "plt.subplot(3, 3, 4)\n",
    "plt.hist(new_merged['avg_wind'], color='yellow', bins=100)\n",
    "plt.subplot(3, 3, 5)\n",
    "plt.hist(new_merged['latest_snow'], color='orange', bins=100)\n",
    "plt.subplot(3, 3, 6)\n",
    "plt.hist(new_merged['most_snow'], color='black', bins=100)\n",
    "plt.subplot(3, 3, 7)\n",
    "plt.hist(new_merged['year'], color='white', bins=100)\n",
    "plt.subplot(3, 3, 8)\n",
    "plt.hist(new_merged['month'], color='blue', bins=100)\n",
    "plt.subplot(3, 3, 9)\n",
    "plt.hist(new_merged['day'], color='red', bins=100)\n",
    "\n",
    "plt.show()"
   ]
  },
  {
   "cell_type": "markdown",
   "metadata": {},
   "source": [
    "정규화 하기 전 히스토그램보다 정규성 만족에 가까워졌다는 것을 확인 할 수 있다."
   ]
  },
  {
   "cell_type": "markdown",
   "metadata": {},
   "source": [
    "## 04 모델링"
   ]
  },
  {
   "cell_type": "markdown",
   "metadata": {},
   "source": [
    "### (1) 데이터셋 분리"
   ]
  },
  {
   "cell_type": "code",
   "execution_count": 48,
   "metadata": {},
   "outputs": [],
   "source": [
    "x = new_merged.drop(['reserved_num', 'date'], axis=1) # input\n",
    "y = new_merged['reserved_num'] # target"
   ]
  },
  {
   "cell_type": "code",
   "execution_count": 49,
   "metadata": {},
   "outputs": [],
   "source": [
    "from sklearn.model_selection import train_test_split\n",
    "\n",
    "x_train, x_test, y_train, y_test = train_test_split(\n",
    "    x, y, random_state = 35, test_size = 0.25)"
   ]
  },
  {
   "cell_type": "markdown",
   "metadata": {},
   "source": [
    "### (2) 선형 회귀"
   ]
  },
  {
   "cell_type": "code",
   "execution_count": 50,
   "metadata": {},
   "outputs": [
    {
     "name": "stdout",
     "output_type": "stream",
     "text": [
      "0.126603422448332\n",
      "0.13294315618199515\n"
     ]
    }
   ],
   "source": [
    "from sklearn.linear_model import LinearRegression\n",
    "\n",
    "lr = LinearRegression()\n",
    "lr.fit(x_train, y_train)\n",
    "print(lr.score(x_train, y_train))\n",
    "print(lr.score(x_test, y_test))"
   ]
  },
  {
   "cell_type": "code",
   "execution_count": 51,
   "metadata": {},
   "outputs": [],
   "source": [
    "y_predict = lr.predict(x_test)"
   ]
  },
  {
   "cell_type": "code",
   "execution_count": 52,
   "metadata": {},
   "outputs": [
    {
     "data": {
      "image/png": "[encoded data removed]",
      "text/plain": [
       "<Figure size 432x288 with 1 Axes>"
      ]
     },
     "metadata": {},
     "output_type": "display_data"
    }
   ],
   "source": [
    "plt.scatter(y_test, y_predict, alpha = 0.4)\n",
    "plt.title(\"Linear regression\")\n",
    "plt.show()"
   ]
  },
  {
   "cell_type": "code",
   "execution_count": 53,
   "metadata": {},
   "outputs": [
    {
     "name": "stdout",
     "output_type": "stream",
     "text": [
      "[ 0.06812803 -0.02486701 -0.05601181 -0.00799689  0.04926489  0.24223641\n",
      "  0.05400537 -0.01110828 -0.09108544]\n"
     ]
    }
   ],
   "source": [
    "print(lr.coef_)"
   ]
  },
  {
   "cell_type": "code",
   "execution_count": 54,
   "metadata": {},
   "outputs": [
    {
     "name": "stdout",
     "output_type": "stream",
     "text": [
      "0.126603422448332\n"
     ]
    }
   ],
   "source": [
    "print(lr.score(x_train, y_train))"
   ]
  },
  {
   "cell_type": "markdown",
   "metadata": {},
   "source": [
    "### (3) 다중 회귀"
   ]
  },
  {
   "cell_type": "code",
   "execution_count": 55,
   "metadata": {},
   "outputs": [
    {
     "name": "stdout",
     "output_type": "stream",
     "text": [
      "(2355, 9)\n"
     ]
    }
   ],
   "source": [
    "from sklearn.preprocessing import PolynomialFeatures\n",
    "poly = PolynomialFeatures()\n",
    "poly.fit(x_train)\n",
    "train_poly = poly.transform(x_train)\n",
    "print(x_train.shape)"
   ]
  },
  {
   "cell_type": "code",
   "execution_count": 57,
   "metadata": {},
   "outputs": [
    {
     "data": {
      "text/plain": [
       "['1',\n",
       " 'x0',\n",
       " 'x1',\n",
       " 'x2',\n",
       " 'x3',\n",
       " 'x4',\n",
       " 'x5',\n",
       " 'x6',\n",
       " 'x7',\n",
       " 'x8',\n",
       " 'x0^2',\n",
       " 'x0 x1',\n",
       " 'x0 x2',\n",
       " 'x0 x3',\n",
       " 'x0 x4',\n",
       " 'x0 x5',\n",
       " 'x0 x6',\n",
       " 'x0 x7',\n",
       " 'x0 x8',\n",
       " 'x1^2',\n",
       " 'x1 x2',\n",
       " 'x1 x3',\n",
       " 'x1 x4',\n",
       " 'x1 x5',\n",
       " 'x1 x6',\n",
       " 'x1 x7',\n",
       " 'x1 x8',\n",
       " 'x2^2',\n",
       " 'x2 x3',\n",
       " 'x2 x4',\n",
       " 'x2 x5',\n",
       " 'x2 x6',\n",
       " 'x2 x7',\n",
       " 'x2 x8',\n",
       " 'x3^2',\n",
       " 'x3 x4',\n",
       " 'x3 x5',\n",
       " 'x3 x6',\n",
       " 'x3 x7',\n",
       " 'x3 x8',\n",
       " 'x4^2',\n",
       " 'x4 x5',\n",
       " 'x4 x6',\n",
       " 'x4 x7',\n",
       " 'x4 x8',\n",
       " 'x5^2',\n",
       " 'x5 x6',\n",
       " 'x5 x7',\n",
       " 'x5 x8',\n",
       " 'x6^2',\n",
       " 'x6 x7',\n",
       " 'x6 x8',\n",
       " 'x7^2',\n",
       " 'x7 x8',\n",
       " 'x8^2']"
      ]
     },
     "execution_count": 57,
     "metadata": {},
     "output_type": "execute_result"
    }
   ],
   "source": [
    "poly.get_feature_names()"
   ]
  },
  {
   "cell_type": "code",
   "execution_count": 58,
   "metadata": {},
   "outputs": [],
   "source": [
    "test_poly = poly.transform(x_test)"
   ]
  },
  {
   "cell_type": "code",
   "execution_count": 59,
   "metadata": {},
   "outputs": [
    {
     "name": "stdout",
     "output_type": "stream",
     "text": [
      "0.16007032234880225\n"
     ]
    }
   ],
   "source": [
    "from sklearn.linear_model import LinearRegression\n",
    "lr = LinearRegression()\n",
    "lr.fit(train_poly, y_train)\n",
    "print(lr.score(train_poly, y_train))"
   ]
  },
  {
   "cell_type": "code",
   "execution_count": 60,
   "metadata": {},
   "outputs": [
    {
     "name": "stdout",
     "output_type": "stream",
     "text": [
      "0.07723713099097274\n"
     ]
    }
   ],
   "source": [
    "print(lr.score(test_poly, y_test))"
   ]
  },
  {
   "cell_type": "markdown",
   "metadata": {},
   "source": [
    "### (4) 릿지 회귀"
   ]
  },
  {
   "cell_type": "code",
   "execution_count": 61,
   "metadata": {},
   "outputs": [],
   "source": [
    "from sklearn.preprocessing import StandardScaler\n",
    "ss = StandardScaler()\n",
    "ss.fit(train_poly)\n",
    "train_scaled = ss.transform(train_poly)\n",
    "test_scaled = ss.transform(test_poly)"
   ]
  },
  {
   "cell_type": "code",
   "execution_count": 62,
   "metadata": {},
   "outputs": [
    {
     "name": "stdout",
     "output_type": "stream",
     "text": [
      "0.15977178219760002\n",
      "0.08376345111160222\n"
     ]
    }
   ],
   "source": [
    "from sklearn.linear_model import Ridge # 릿지 회귀\n",
    "ridge = Ridge()\n",
    "ridge.fit(train_scaled, y_train)\n",
    "print(ridge.score(train_scaled, y_train))\n",
    "print(ridge.score(test_scaled, y_test))"
   ]
  },
  {
   "cell_type": "markdown",
   "metadata": {},
   "source": [
    "### (5) 라쏘 회귀"
   ]
  },
  {
   "cell_type": "code",
   "execution_count": 63,
   "metadata": {},
   "outputs": [
    {
     "name": "stdout",
     "output_type": "stream",
     "text": [
      "0.0\n",
      "-0.0004097482704334965\n"
     ]
    }
   ],
   "source": [
    "from sklearn.linear_model import Lasso # 랏소 회귀\n",
    "lasso = Lasso()\n",
    "lasso.fit(train_scaled, y_train)\n",
    "print(lasso.score(train_scaled, y_train))\n",
    "print(lasso.score(test_scaled, y_test))"
   ]
  },
  {
   "cell_type": "markdown",
   "metadata": {},
   "source": [
    "### (6) 로그 변환"
   ]
  },
  {
   "cell_type": "code",
   "execution_count": 79,
   "metadata": {},
   "outputs": [],
   "source": [
    "new_merged['reserved_num_log' ] = np.log1p(new_merged['reserved_num'])"
   ]
  },
  {
   "cell_type": "code",
   "execution_count": 80,
   "metadata": {},
   "outputs": [],
   "source": [
    "new_merged['daily_prec_log' ] = np.log1p(new_merged['daily_prec'])\n",
    "new_merged['avg_wind_log' ] = np.log1p(new_merged['avg_wind'])\n",
    "new_merged['latest_snow_log' ] = np.log1p(new_merged['latest_snow'])\n",
    "new_merged['most_snow_log' ] = np.log1p(new_merged['most_snow'])\n",
    "# boxplot을 보고 이상치가 있는 열을 log 변환"
   ]
  },
  {
   "cell_type": "code",
   "execution_count": 89,
   "metadata": {},
   "outputs": [],
   "source": [
    "from sklearn.model_selection import train_test_split\n",
    "\n",
    "x_log = new_merged.drop(['reserved_num', 'date', 'daily_prec', \n",
    "                         'avg_wind', 'latest_snow', 'most_snow', 'reserved_num_log'], axis=1)\n",
    "y_log = new_merged['reserved_num_log']\n",
    "\n",
    "x_train_log, x_test_log, y_train_log, y_test_log = train_test_split(\n",
    "    x_log, y_log, random_state = 35, test_size = 0.25)"
   ]
  },
  {
   "cell_type": "markdown",
   "metadata": {},
   "source": [
    "#### 선형 회귀"
   ]
  },
  {
   "cell_type": "code",
   "execution_count": 90,
   "metadata": {},
   "outputs": [
    {
     "name": "stdout",
     "output_type": "stream",
     "text": [
      "0.17368836878797977\n",
      "0.18412624363986793\n"
     ]
    }
   ],
   "source": [
    "from sklearn.linear_model import LinearRegression\n",
    "\n",
    "lr = LinearRegression()\n",
    "lr.fit(x_train_log, y_train_log)\n",
    "print(lr.score(x_train_log, y_train_log))\n",
    "print(lr.score(x_test_log, y_test_log))"
   ]
  },
  {
   "cell_type": "code",
   "execution_count": 91,
   "metadata": {},
   "outputs": [
    {
     "name": "stdout",
     "output_type": "stream",
     "text": [
      "0.17368836878797977\n"
     ]
    }
   ],
   "source": [
    "lr.fit(x_train_log, y_train_log)\n",
    "print(lr.score(x_train_log, y_train_log))"
   ]
  },
  {
   "cell_type": "markdown",
   "metadata": {},
   "source": [
    "#### 다중 회귀"
   ]
  },
  {
   "cell_type": "code",
   "execution_count": 92,
   "metadata": {},
   "outputs": [
    {
     "name": "stdout",
     "output_type": "stream",
     "text": [
      "(2355, 9)\n"
     ]
    }
   ],
   "source": [
    "from sklearn.preprocessing import PolynomialFeatures\n",
    "poly = PolynomialFeatures()\n",
    "poly.fit(x_train_log)\n",
    "train_poly_log = poly.transform(x_train_log)\n",
    "print(x_train_log.shape)"
   ]
  },
  {
   "cell_type": "code",
   "execution_count": 93,
   "metadata": {},
   "outputs": [],
   "source": [
    "test_poly_log = poly.transform(x_test_log)"
   ]
  },
  {
   "cell_type": "code",
   "execution_count": 94,
   "metadata": {},
   "outputs": [
    {
     "name": "stdout",
     "output_type": "stream",
     "text": [
      "0.21503496618056447\n"
     ]
    }
   ],
   "source": [
    "from sklearn.linear_model import LinearRegression\n",
    "lr = LinearRegression()\n",
    "lr.fit(train_poly_log, y_train_log)\n",
    "print(lr.score(train_poly_log, y_train_log))"
   ]
  },
  {
   "cell_type": "code",
   "execution_count": 95,
   "metadata": {},
   "outputs": [
    {
     "name": "stdout",
     "output_type": "stream",
     "text": [
      "0.1372384689113172\n"
     ]
    }
   ],
   "source": [
    "print(lr.score(test_poly_log, y_test_log))"
   ]
  },
  {
   "cell_type": "markdown",
   "metadata": {},
   "source": [
    "#### 라쏘 회귀"
   ]
  },
  {
   "cell_type": "code",
   "execution_count": 96,
   "metadata": {},
   "outputs": [],
   "source": [
    "from sklearn.preprocessing import StandardScaler\n",
    "ss = StandardScaler()\n",
    "ss.fit(train_poly_log)\n",
    "train_scaled_log = ss.transform(train_poly_log)\n",
    "test_scaled_log = ss.transform(test_poly_log)"
   ]
  },
  {
   "cell_type": "code",
   "execution_count": 97,
   "metadata": {},
   "outputs": [
    {
     "name": "stdout",
     "output_type": "stream",
     "text": [
      "0.0\n",
      "-8.260307194407623e-05\n"
     ]
    }
   ],
   "source": [
    "from sklearn.linear_model import Lasso # 라쏘 회귀\n",
    "lasso = Lasso()\n",
    "lasso.fit(train_scaled_log, y_train_log)\n",
    "print(lasso.score(train_scaled_log, y_train_log))\n",
    "print(lasso.score(test_scaled_log, y_test_log))"
   ]
  },
  {
   "cell_type": "markdown",
   "metadata": {},
   "source": [
    "#### 릿지 회귀"
   ]
  },
  {
   "cell_type": "code",
   "execution_count": 98,
   "metadata": {},
   "outputs": [
    {
     "name": "stdout",
     "output_type": "stream",
     "text": [
      "0.21476337817101965\n",
      "0.14259950730473492\n"
     ]
    }
   ],
   "source": [
    "from sklearn.linear_model import Ridge # 릿지 회귀\n",
    "ridge = Ridge()\n",
    "ridge.fit(train_scaled_log, y_train_log)\n",
    "print(ridge.score(train_scaled_log, y_train_log))\n",
    "print(ridge.score(test_scaled_log, y_test_log))"
   ]
  },
  {
   "cell_type": "markdown",
   "metadata": {},
   "source": [
    "전체적으로 예측률이 많이 떨어진다.\n",
    "\n",
    "날씨와 같이 시계열적인 요소가 들어가서 그런 것으로 예상된다."
   ]
  },
  {
   "cell_type": "markdown",
   "metadata": {},
   "source": [
    "### (7) 랜덤포레스트"
   ]
  },
  {
   "cell_type": "code",
   "execution_count": null,
   "metadata": {},
   "outputs": [],
   "source": []
  },
  {
   "cell_type": "code",
   "execution_count": null,
   "metadata": {},
   "outputs": [],
   "source": []
  },
  {
   "cell_type": "code",
   "execution_count": 103,
   "metadata": {},
   "outputs": [
    {
     "ename": "ModuleNotFoundError",
     "evalue": "No module named 'pmdarima'",
     "output_type": "error",
     "traceback": [
      "\u001b[1;31m---------------------------------------------------------------------------\u001b[0m",
      "\u001b[1;31mModuleNotFoundError\u001b[0m                       Traceback (most recent call last)",
      "\u001b[1;32m<ipython-input-103-5d0024c383a1>\u001b[0m in \u001b[0;36m<module>\u001b[1;34m\u001b[0m\n\u001b[1;32m----> 1\u001b[1;33m \u001b[1;32mfrom\u001b[0m \u001b[0mpmdarima\u001b[0m \u001b[1;32mimport\u001b[0m \u001b[0mauto_arima\u001b[0m\u001b[1;33m\u001b[0m\u001b[1;33m\u001b[0m\u001b[0m\n\u001b[0m\u001b[0;32m      2\u001b[0m stepwise_fit = auto_arima(new_merged['reseved_num'], trace=True,\n\u001b[0;32m      3\u001b[0m                          suppress_warnings=True)\n",
      "\u001b[1;31mModuleNotFoundError\u001b[0m: No module named 'pmdarima'"
     ]
    }
   ],
   "source": [
    "from pmdarima import auto_arima\n",
    "stepwise_fit = auto_arima(new_merged['reseved_num'], trace=True,\n",
    "                         suppress_warnings=True)"
   ]
  },
  {
   "cell_type": "code",
   "execution_count": 101,
   "metadata": {},
   "outputs": [
    {
     "name": "stderr",
     "output_type": "stream",
     "text": [
      "C:\\Users\\adore\\anaconda3\\lib\\site-packages\\statsmodels\\tsa\\base\\tsa_model.py:214: ValueWarning: An unsupported index was provided and will be ignored when e.g. forecasting.\n",
      "  ' ignored when e.g. forecasting.', ValueWarning)\n"
     ]
    },
    {
     "data": {
      "text/html": [
       "<table class=\"simpletable\">\n",
       "<caption>ARMA Model Results</caption>\n",
       "<tr>\n",
       "  <th>Dep. Variable:</th>   <td>reserved_num</td>   <th>  No. Observations:  </th>   <td>2355</td>  \n",
       "</tr>\n",
       "<tr>\n",
       "  <th>Model:</th>            <td>ARMA(1, 5)</td>    <th>  Log Likelihood     </th>  <td>68.327</td> \n",
       "</tr>\n",
       "<tr>\n",
       "  <th>Method:</th>             <td>css-mle</td>     <th>  S.D. of innovations</th>   <td>0.235</td> \n",
       "</tr>\n",
       "<tr>\n",
       "  <th>Date:</th>          <td>Fri, 28 May 2021</td> <th>  AIC                </th> <td>-120.653</td>\n",
       "</tr>\n",
       "<tr>\n",
       "  <th>Time:</th>              <td>17:34:26</td>     <th>  BIC                </th>  <td>-74.539</td>\n",
       "</tr>\n",
       "<tr>\n",
       "  <th>Sample:</th>                <td>0</td>        <th>  HQIC               </th> <td>-103.861</td>\n",
       "</tr>\n",
       "<tr>\n",
       "  <th></th>                       <td> </td>        <th>                     </th>     <td> </td>   \n",
       "</tr>\n",
       "</table>\n",
       "<table class=\"simpletable\">\n",
       "<tr>\n",
       "           <td></td>             <th>coef</th>     <th>std err</th>      <th>z</th>      <th>P>|z|</th>  <th>[0.025</th>    <th>0.975]</th>  \n",
       "</tr>\n",
       "<tr>\n",
       "  <th>const</th>              <td>    0.3178</td> <td>    0.005</td> <td>   66.083</td> <td> 0.000</td> <td>    0.308</td> <td>    0.327</td>\n",
       "</tr>\n",
       "<tr>\n",
       "  <th>ar.L1.reserved_num</th> <td>   -0.0464</td> <td>    0.792</td> <td>   -0.059</td> <td> 0.953</td> <td>   -1.599</td> <td>    1.506</td>\n",
       "</tr>\n",
       "<tr>\n",
       "  <th>ma.L1.reserved_num</th> <td>    0.0559</td> <td>    0.792</td> <td>    0.071</td> <td> 0.944</td> <td>   -1.496</td> <td>    1.608</td>\n",
       "</tr>\n",
       "<tr>\n",
       "  <th>ma.L2.reserved_num</th> <td>   -0.0108</td> <td>    0.022</td> <td>   -0.497</td> <td> 0.619</td> <td>   -0.053</td> <td>    0.032</td>\n",
       "</tr>\n",
       "<tr>\n",
       "  <th>ma.L3.reserved_num</th> <td>    0.0066</td> <td>    0.023</td> <td>    0.285</td> <td> 0.776</td> <td>   -0.039</td> <td>    0.052</td>\n",
       "</tr>\n",
       "<tr>\n",
       "  <th>ma.L4.reserved_num</th> <td>    0.0199</td> <td>    0.021</td> <td>    0.965</td> <td> 0.335</td> <td>   -0.021</td> <td>    0.060</td>\n",
       "</tr>\n",
       "<tr>\n",
       "  <th>ma.L5.reserved_num</th> <td>   -0.0327</td> <td>    0.027</td> <td>   -1.217</td> <td> 0.224</td> <td>   -0.085</td> <td>    0.020</td>\n",
       "</tr>\n",
       "</table>\n",
       "<table class=\"simpletable\">\n",
       "<caption>Roots</caption>\n",
       "<tr>\n",
       "    <td></td>   <th>            Real</th>  <th>         Imaginary</th> <th>         Modulus</th>  <th>        Frequency</th>\n",
       "</tr>\n",
       "<tr>\n",
       "  <th>AR.1</th> <td>         -21.5681</td> <td>          +0.0000j</td> <td>          21.5681</td> <td>           0.5000</td>\n",
       "</tr>\n",
       "<tr>\n",
       "  <th>MA.1</th> <td>          -1.5028</td> <td>          -1.0933j</td> <td>           1.8584</td> <td>          -0.3999</td>\n",
       "</tr>\n",
       "<tr>\n",
       "  <th>MA.2</th> <td>          -1.5028</td> <td>          +1.0933j</td> <td>           1.8584</td> <td>           0.3999</td>\n",
       "</tr>\n",
       "<tr>\n",
       "  <th>MA.3</th> <td>           0.7214</td> <td>          -1.8856j</td> <td>           2.0189</td> <td>          -0.1918</td>\n",
       "</tr>\n",
       "<tr>\n",
       "  <th>MA.4</th> <td>           0.7214</td> <td>          +1.8856j</td> <td>           2.0189</td> <td>           0.1918</td>\n",
       "</tr>\n",
       "<tr>\n",
       "  <th>MA.5</th> <td>           2.1724</td> <td>          -0.0000j</td> <td>           2.1724</td> <td>          -0.0000</td>\n",
       "</tr>\n",
       "</table>"
      ],
      "text/plain": [
       "<class 'statsmodels.iolib.summary.Summary'>\n",
       "\"\"\"\n",
       "                              ARMA Model Results                              \n",
       "==============================================================================\n",
       "Dep. Variable:           reserved_num   No. Observations:                 2355\n",
       "Model:                     ARMA(1, 5)   Log Likelihood                  68.327\n",
       "Method:                       css-mle   S.D. of innovations              0.235\n",
       "Date:                Fri, 28 May 2021   AIC                           -120.653\n",
       "Time:                        17:34:26   BIC                            -74.539\n",
       "Sample:                             0   HQIC                          -103.861\n",
       "                                                                              \n",
       "======================================================================================\n",
       "                         coef    std err          z      P>|z|      [0.025      0.975]\n",
       "--------------------------------------------------------------------------------------\n",
       "const                  0.3178      0.005     66.083      0.000       0.308       0.327\n",
       "ar.L1.reserved_num    -0.0464      0.792     -0.059      0.953      -1.599       1.506\n",
       "ma.L1.reserved_num     0.0559      0.792      0.071      0.944      -1.496       1.608\n",
       "ma.L2.reserved_num    -0.0108      0.022     -0.497      0.619      -0.053       0.032\n",
       "ma.L3.reserved_num     0.0066      0.023      0.285      0.776      -0.039       0.052\n",
       "ma.L4.reserved_num     0.0199      0.021      0.965      0.335      -0.021       0.060\n",
       "ma.L5.reserved_num    -0.0327      0.027     -1.217      0.224      -0.085       0.020\n",
       "                                    Roots                                    \n",
       "=============================================================================\n",
       "                  Real          Imaginary           Modulus         Frequency\n",
       "-----------------------------------------------------------------------------\n",
       "AR.1          -21.5681           +0.0000j           21.5681            0.5000\n",
       "MA.1           -1.5028           -1.0933j            1.8584           -0.3999\n",
       "MA.2           -1.5028           +1.0933j            1.8584            0.3999\n",
       "MA.3            0.7214           -1.8856j            2.0189           -0.1918\n",
       "MA.4            0.7214           +1.8856j            2.0189            0.1918\n",
       "MA.5            2.1724           -0.0000j            2.1724           -0.0000\n",
       "-----------------------------------------------------------------------------\n",
       "\"\"\""
      ]
     },
     "execution_count": 101,
     "metadata": {},
     "output_type": "execute_result"
    }
   ],
   "source": [
    "from statsmodels.tsa.arima_model import ARIMA\n",
    "model = ARIMA(y_train, order = (1, 0, 5))\n",
    "model = model.fit()\n",
    "model.summary()"
   ]
  },
  {
   "cell_type": "code",
   "execution_count": null,
   "metadata": {},
   "outputs": [],
   "source": []
  },
  {
   "cell_type": "code",
   "execution_count": null,
   "metadata": {},
   "outputs": [],
   "source": []
  },
  {
   "cell_type": "code",
   "execution_count": null,
   "metadata": {},
   "outputs": [],
   "source": []
  }
 ],
 "metadata": {
  "kernelspec": {
   "display_name": "Python 3",
   "language": "python",
   "name": "python3"
  },
  "language_info": {
   "codemirror_mode": {
    "name": "ipython",
    "version": 3
   },
   "file_extension": ".py",
   "mimetype": "text/x-python",
   "name": "python",
   "nbconvert_exporter": "python",
   "pygments_lexer": "ipython3",
   "version": "3.7.6"
  }
 },
 "nbformat": 4,
 "nbformat_minor": 4
}
