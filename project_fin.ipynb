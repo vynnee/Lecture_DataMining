{
 "cells": [
  {
   "cell_type": "markdown",
   "metadata": {},
   "source": [
    "# 데이터마이닝 프로젝트"
   ]
  },
  {
   "cell_type": "markdown",
   "metadata": {},
   "source": [
    "### 인천 공공시설 예약자 수 예측"
   ]
  },
  {
   "cell_type": "markdown",
   "metadata": {},
   "source": [
    "### 정보통신공학과 12181785 서혜빈"
   ]
  },
  {
   "cell_type": "markdown",
   "metadata": {},
   "source": [
    "## 01 About 라이브러리 불러오기"
   ]
  },
  {
   "cell_type": "code",
   "execution_count": 1,
   "metadata": {},
   "outputs": [],
   "source": [
    "import matplotlib.pyplot as plt\n",
    "plt.rcParams['font.family']='Malgun Gothic'\n",
    "plt.rcParams['axes.unicode_minus']=False\n",
    "import pandas as pd\n",
    "import numpy as np\n",
    "import seaborn as sns; sns.set()"
   ]
  },
  {
   "cell_type": "markdown",
   "metadata": {},
   "source": [
    "## 02 Data preparation"
   ]
  },
  {
   "cell_type": "markdown",
   "metadata": {},
   "source": [
    "### (1) 데이터 불러오기"
   ]
  },
  {
   "cell_type": "markdown",
   "metadata": {},
   "source": [
    "#### 1) 날씨 데이터"
   ]
  },
  {
   "cell_type": "code",
   "execution_count": 2,
   "metadata": {},
   "outputs": [],
   "source": [
    "weather_path = 'weather.csv'\n",
    "# read_csv() 함수로 데이터를 데이터 프레임 형태로 불러옵니다.\n",
    "weather = pd.read_csv(weather_path, encoding = 'CP949')"
   ]
  },
  {
   "cell_type": "code",
   "execution_count": 3,
   "metadata": {},
   "outputs": [
    {
     "data": {
      "text/html": [
       "<div>\n",
       "<style scoped>\n",
       "    .dataframe tbody tr th:only-of-type {\n",
       "        vertical-align: middle;\n",
       "    }\n",
       "\n",
       "    .dataframe tbody tr th {\n",
       "        vertical-align: top;\n",
       "    }\n",
       "\n",
       "    .dataframe thead th {\n",
       "        text-align: right;\n",
       "    }\n",
       "</style>\n",
       "<table border=\"1\" class=\"dataframe\">\n",
       "  <thead>\n",
       "    <tr style=\"text-align: right;\">\n",
       "      <th></th>\n",
       "      <th>지점</th>\n",
       "      <th>지점명</th>\n",
       "      <th>일시</th>\n",
       "      <th>평균기온(°C)</th>\n",
       "      <th>일강수량(mm)</th>\n",
       "      <th>평균 풍속(m/s)</th>\n",
       "      <th>일 최심신적설(cm)</th>\n",
       "      <th>일 최심적설(cm)</th>\n",
       "    </tr>\n",
       "  </thead>\n",
       "  <tbody>\n",
       "    <tr>\n",
       "      <th>0</th>\n",
       "      <td>112</td>\n",
       "      <td>인천</td>\n",
       "      <td>2010-10-01</td>\n",
       "      <td>17.2</td>\n",
       "      <td>NaN</td>\n",
       "      <td>1.7</td>\n",
       "      <td>NaN</td>\n",
       "      <td>NaN</td>\n",
       "    </tr>\n",
       "    <tr>\n",
       "      <th>1</th>\n",
       "      <td>112</td>\n",
       "      <td>인천</td>\n",
       "      <td>2010-10-02</td>\n",
       "      <td>16.9</td>\n",
       "      <td>17.5</td>\n",
       "      <td>2.1</td>\n",
       "      <td>NaN</td>\n",
       "      <td>NaN</td>\n",
       "    </tr>\n",
       "    <tr>\n",
       "      <th>2</th>\n",
       "      <td>112</td>\n",
       "      <td>인천</td>\n",
       "      <td>2010-10-03</td>\n",
       "      <td>17.8</td>\n",
       "      <td>7.5</td>\n",
       "      <td>3.4</td>\n",
       "      <td>NaN</td>\n",
       "      <td>NaN</td>\n",
       "    </tr>\n",
       "    <tr>\n",
       "      <th>3</th>\n",
       "      <td>112</td>\n",
       "      <td>인천</td>\n",
       "      <td>2010-10-04</td>\n",
       "      <td>14.9</td>\n",
       "      <td>3.0</td>\n",
       "      <td>3.9</td>\n",
       "      <td>NaN</td>\n",
       "      <td>NaN</td>\n",
       "    </tr>\n",
       "    <tr>\n",
       "      <th>4</th>\n",
       "      <td>112</td>\n",
       "      <td>인천</td>\n",
       "      <td>2010-10-05</td>\n",
       "      <td>15.6</td>\n",
       "      <td>NaN</td>\n",
       "      <td>2.0</td>\n",
       "      <td>NaN</td>\n",
       "      <td>NaN</td>\n",
       "    </tr>\n",
       "  </tbody>\n",
       "</table>\n",
       "</div>"
      ],
      "text/plain": [
       "    지점 지점명          일시  평균기온(°C)  일강수량(mm)  평균 풍속(m/s)  일 최심신적설(cm)  \\\n",
       "0  112  인천  2010-10-01      17.2       NaN         1.7          NaN   \n",
       "1  112  인천  2010-10-02      16.9      17.5         2.1          NaN   \n",
       "2  112  인천  2010-10-03      17.8       7.5         3.4          NaN   \n",
       "3  112  인천  2010-10-04      14.9       3.0         3.9          NaN   \n",
       "4  112  인천  2010-10-05      15.6       NaN         2.0          NaN   \n",
       "\n",
       "   일 최심적설(cm)  \n",
       "0         NaN  \n",
       "1         NaN  \n",
       "2         NaN  \n",
       "3         NaN  \n",
       "4         NaN  "
      ]
     },
     "execution_count": 3,
     "metadata": {},
     "output_type": "execute_result"
    }
   ],
   "source": [
    "# 데이터 확인\n",
    "weather.head()"
   ]
  },
  {
   "cell_type": "code",
   "execution_count": 4,
   "metadata": {},
   "outputs": [],
   "source": [
    "## 불필요한 columns 삭제\n",
    "drop_weather = ['지점', '지점명']\n",
    "weather = weather.drop(drop_weather, axis=1)"
   ]
  },
  {
   "cell_type": "markdown",
   "metadata": {},
   "source": [
    "#### 2) 인천 공공시설물 예약 내역 데이터"
   ]
  },
  {
   "cell_type": "code",
   "execution_count": 5,
   "metadata": {},
   "outputs": [],
   "source": [
    "reservation_path = 'reservation.csv'\n",
    "reservation = pd.read_csv(reservation_path, encoding = 'CP949')"
   ]
  },
  {
   "cell_type": "code",
   "execution_count": 6,
   "metadata": {},
   "outputs": [
    {
     "data": {
      "text/html": [
       "<div>\n",
       "<style scoped>\n",
       "    .dataframe tbody tr th:only-of-type {\n",
       "        vertical-align: middle;\n",
       "    }\n",
       "\n",
       "    .dataframe tbody tr th {\n",
       "        vertical-align: top;\n",
       "    }\n",
       "\n",
       "    .dataframe thead th {\n",
       "        text-align: right;\n",
       "    }\n",
       "</style>\n",
       "<table border=\"1\" class=\"dataframe\">\n",
       "  <thead>\n",
       "    <tr style=\"text-align: right;\">\n",
       "      <th></th>\n",
       "      <th>사업부서</th>\n",
       "      <th>대관시설</th>\n",
       "      <th>예약접수일</th>\n",
       "      <th>단체명</th>\n",
       "      <th>단체구분</th>\n",
       "      <th>인원</th>\n",
       "      <th>이용시작일</th>\n",
       "      <th>이용종료일</th>\n",
       "    </tr>\n",
       "  </thead>\n",
       "  <tbody>\n",
       "    <tr>\n",
       "      <th>0</th>\n",
       "      <td>인천대공원</td>\n",
       "      <td>대공원풋살장</td>\n",
       "      <td>2010-10-26</td>\n",
       "      <td>NaN</td>\n",
       "      <td>Y</td>\n",
       "      <td>1.0</td>\n",
       "      <td>2010-10-27</td>\n",
       "      <td>2010-10-27</td>\n",
       "    </tr>\n",
       "    <tr>\n",
       "      <th>1</th>\n",
       "      <td>인천대공원</td>\n",
       "      <td>대공원풋살장</td>\n",
       "      <td>2010-10-26</td>\n",
       "      <td>NaN</td>\n",
       "      <td>Y</td>\n",
       "      <td>1.0</td>\n",
       "      <td>2010-10-27</td>\n",
       "      <td>2010-10-27</td>\n",
       "    </tr>\n",
       "    <tr>\n",
       "      <th>2</th>\n",
       "      <td>인천대공원</td>\n",
       "      <td>대공원축구장</td>\n",
       "      <td>2010-11-01</td>\n",
       "      <td>운봉공고</td>\n",
       "      <td>Y</td>\n",
       "      <td>1.0</td>\n",
       "      <td>2010-11-05</td>\n",
       "      <td>2010-11-05</td>\n",
       "    </tr>\n",
       "    <tr>\n",
       "      <th>3</th>\n",
       "      <td>인천대공원</td>\n",
       "      <td>대공원축구장</td>\n",
       "      <td>2010-11-01</td>\n",
       "      <td>(주)태평양제약</td>\n",
       "      <td>Y</td>\n",
       "      <td>1.0</td>\n",
       "      <td>2010-11-02</td>\n",
       "      <td>2010-11-02</td>\n",
       "    </tr>\n",
       "    <tr>\n",
       "      <th>4</th>\n",
       "      <td>인천대공원</td>\n",
       "      <td>중앙공원축구장</td>\n",
       "      <td>2010-11-01</td>\n",
       "      <td>축구사랑</td>\n",
       "      <td>Y</td>\n",
       "      <td>1.0</td>\n",
       "      <td>2010-11-04</td>\n",
       "      <td>2010-11-04</td>\n",
       "    </tr>\n",
       "  </tbody>\n",
       "</table>\n",
       "</div>"
      ],
      "text/plain": [
       "    사업부서     대관시설       예약접수일       단체명 단체구분   인원       이용시작일       이용종료일\n",
       "0  인천대공원   대공원풋살장  2010-10-26       NaN    Y  1.0  2010-10-27  2010-10-27\n",
       "1  인천대공원   대공원풋살장  2010-10-26       NaN    Y  1.0  2010-10-27  2010-10-27\n",
       "2  인천대공원   대공원축구장  2010-11-01      운봉공고    Y  1.0  2010-11-05  2010-11-05\n",
       "3  인천대공원   대공원축구장  2010-11-01  (주)태평양제약    Y  1.0  2010-11-02  2010-11-02\n",
       "4  인천대공원  중앙공원축구장  2010-11-01      축구사랑    Y  1.0  2010-11-04  2010-11-04"
      ]
     },
     "execution_count": 6,
     "metadata": {},
     "output_type": "execute_result"
    }
   ],
   "source": [
    "reservation.head() # 데이터 확인"
   ]
  },
  {
   "cell_type": "markdown",
   "metadata": {},
   "source": [
    "#### 3) 두 데이터프레임 정보 확인"
   ]
  },
  {
   "cell_type": "code",
   "execution_count": 7,
   "metadata": {},
   "outputs": [
    {
     "name": "stdout",
     "output_type": "stream",
     "text": [
      "<class 'pandas.core.frame.DataFrame'>\n",
      "RangeIndex: 3378 entries, 0 to 3377\n",
      "Data columns (total 6 columns):\n",
      " #   Column       Non-Null Count  Dtype  \n",
      "---  ------       --------------  -----  \n",
      " 0   일시           3378 non-null   object \n",
      " 1   평균기온(°C)     3378 non-null   float64\n",
      " 2   일강수량(mm)     1181 non-null   float64\n",
      " 3   평균 풍속(m/s)   3376 non-null   float64\n",
      " 4   일 최심신적설(cm)  109 non-null    float64\n",
      " 5   일 최심적설(cm)   207 non-null    float64\n",
      "dtypes: float64(5), object(1)\n",
      "memory usage: 158.5+ KB\n",
      "<class 'pandas.core.frame.DataFrame'>\n",
      "RangeIndex: 127252 entries, 0 to 127251\n",
      "Data columns (total 8 columns):\n",
      " #   Column  Non-Null Count   Dtype  \n",
      "---  ------  --------------   -----  \n",
      " 0   사업부서    127252 non-null  object \n",
      " 1   대관시설    127252 non-null  object \n",
      " 2   예약접수일   127252 non-null  object \n",
      " 3   단체명     69689 non-null   object \n",
      " 4   단체구분    127252 non-null  object \n",
      " 5   인원      127251 non-null  float64\n",
      " 6   이용시작일   127252 non-null  object \n",
      " 7   이용종료일   127252 non-null  object \n",
      "dtypes: float64(1), object(7)\n",
      "memory usage: 7.8+ MB\n"
     ]
    }
   ],
   "source": [
    "weather.info()\n",
    "reservation.info()"
   ]
  },
  {
   "cell_type": "markdown",
   "metadata": {},
   "source": [
    "weather는 6개의 행과 3378개의 열로 이루어져 있다. 더불어 몇개의 행에 **결측치가 있다.**\n",
    "\n",
    "reservation은 8개의 행과 127252의 열로 이루어져 있다. 이 데이터도 **결측치가 존재한다.**"
   ]
  },
  {
   "cell_type": "markdown",
   "metadata": {},
   "source": [
    "## 03 Data mining"
   ]
  },
  {
   "cell_type": "markdown",
   "metadata": {},
   "source": [
    "### (1) Sampling"
   ]
  },
  {
   "cell_type": "markdown",
   "metadata": {},
   "source": [
    "해당없음."
   ]
  },
  {
   "cell_type": "markdown",
   "metadata": {},
   "source": [
    "### (2) Exploration"
   ]
  },
  {
   "cell_type": "markdown",
   "metadata": {},
   "source": [
    "### - 결측치 확인 및 처리"
   ]
  },
  {
   "cell_type": "code",
   "execution_count": 8,
   "metadata": {},
   "outputs": [
    {
     "name": "stdout",
     "output_type": "stream",
     "text": [
      "weather :  일시                0\n",
      "평균기온(°C)          0\n",
      "일강수량(mm)       2197\n",
      "평균 풍속(m/s)        2\n",
      "일 최심신적설(cm)    3269\n",
      "일 최심적설(cm)     3171\n",
      "dtype: int64\n",
      "----------------------------\n",
      "reservation :  사업부서         0\n",
      "대관시설         0\n",
      "예약접수일        0\n",
      "단체명      57563\n",
      "단체구분         0\n",
      "인원           1\n",
      "이용시작일        0\n",
      "이용종료일        0\n",
      "dtype: int64\n"
     ]
    }
   ],
   "source": [
    "# 결측치 확인\n",
    "print('weather : ', weather.isnull().sum())\n",
    "print('----------------------------')\n",
    "print('reservation : ', reservation.isnull().sum())"
   ]
  },
  {
   "cell_type": "markdown",
   "metadata": {},
   "source": [
    "**weather**\n",
    "\n",
    "weather의 결측치는 비가 내리지 않아서, 눈이 내리지 않아서 등의 이유로 인한 것임.\n",
    "\n",
    "따라서 해당 결측치에는 0을 넣어줌.\n",
    "\n",
    "**reservation**\n",
    "\n",
    "reservation의 결측치인 단체명은 해당 데이터 분석에서는 중요한 변수가 아니므로 0을 채워줌. 인원의 경우, 대체할 수 없기 때문에 삭제해줌."
   ]
  },
  {
   "cell_type": "code",
   "execution_count": 9,
   "metadata": {},
   "outputs": [],
   "source": [
    "## weather data 결측치에 0 넣기\n",
    "weather = weather.fillna(0)"
   ]
  },
  {
   "cell_type": "code",
   "execution_count": 10,
   "metadata": {},
   "outputs": [],
   "source": [
    "## reservation data 단체명 결측치에 0 넣기\n",
    "reservation[\"단체명\"] = reservation[\"단체명\"].fillna(0)"
   ]
  },
  {
   "cell_type": "code",
   "execution_count": 11,
   "metadata": {},
   "outputs": [
    {
     "data": {
      "text/html": [
       "<div>\n",
       "<style scoped>\n",
       "    .dataframe tbody tr th:only-of-type {\n",
       "        vertical-align: middle;\n",
       "    }\n",
       "\n",
       "    .dataframe tbody tr th {\n",
       "        vertical-align: top;\n",
       "    }\n",
       "\n",
       "    .dataframe thead th {\n",
       "        text-align: right;\n",
       "    }\n",
       "</style>\n",
       "<table border=\"1\" class=\"dataframe\">\n",
       "  <thead>\n",
       "    <tr style=\"text-align: right;\">\n",
       "      <th></th>\n",
       "      <th>인원</th>\n",
       "      <th>이용시작일</th>\n",
       "    </tr>\n",
       "  </thead>\n",
       "  <tbody>\n",
       "    <tr>\n",
       "      <th>34</th>\n",
       "      <td>NaN</td>\n",
       "      <td>2010-12-11</td>\n",
       "    </tr>\n",
       "  </tbody>\n",
       "</table>\n",
       "</div>"
      ],
      "text/plain": [
       "    인원       이용시작일\n",
       "34 NaN  2010-12-11"
      ]
     },
     "execution_count": 11,
     "metadata": {},
     "output_type": "execute_result"
    }
   ],
   "source": [
    "# reservation 인원 row 확인 및 삭제\n",
    "reservation.loc[reservation['인원'].isnull(), '인원':'이용시작일']"
   ]
  },
  {
   "cell_type": "code",
   "execution_count": 12,
   "metadata": {},
   "outputs": [],
   "source": [
    "reservation = reservation.dropna(how='any')"
   ]
  },
  {
   "cell_type": "code",
   "execution_count": 13,
   "metadata": {},
   "outputs": [
    {
     "name": "stdout",
     "output_type": "stream",
     "text": [
      "weather :  일시             0\n",
      "평균기온(°C)       0\n",
      "일강수량(mm)       0\n",
      "평균 풍속(m/s)     0\n",
      "일 최심신적설(cm)    0\n",
      "일 최심적설(cm)     0\n",
      "dtype: int64\n",
      "----------------------------\n",
      "reservation :  사업부서     0\n",
      "대관시설     0\n",
      "예약접수일    0\n",
      "단체명      0\n",
      "단체구분     0\n",
      "인원       0\n",
      "이용시작일    0\n",
      "이용종료일    0\n",
      "dtype: int64\n"
     ]
    }
   ],
   "source": [
    "# 결측치 처리됐는지 확인\n",
    "print('weather : ', weather.isnull().sum())\n",
    "print('----------------------------')\n",
    "print('reservation : ', reservation.isnull().sum())"
   ]
  },
  {
   "cell_type": "markdown",
   "metadata": {},
   "source": [
    "결측치가 사라진 것을 확인할 수 있다."
   ]
  },
  {
   "cell_type": "code",
   "execution_count": 14,
   "metadata": {},
   "outputs": [
    {
     "name": "stdout",
     "output_type": "stream",
     "text": [
      "<class 'pandas.core.frame.DataFrame'>\n",
      "RangeIndex: 3378 entries, 0 to 3377\n",
      "Data columns (total 6 columns):\n",
      " #   Column       Non-Null Count  Dtype  \n",
      "---  ------       --------------  -----  \n",
      " 0   일시           3378 non-null   object \n",
      " 1   평균기온(°C)     3378 non-null   float64\n",
      " 2   일강수량(mm)     3378 non-null   float64\n",
      " 3   평균 풍속(m/s)   3378 non-null   float64\n",
      " 4   일 최심신적설(cm)  3378 non-null   float64\n",
      " 5   일 최심적설(cm)   3378 non-null   float64\n",
      "dtypes: float64(5), object(1)\n",
      "memory usage: 158.5+ KB\n",
      "<class 'pandas.core.frame.DataFrame'>\n",
      "Int64Index: 127251 entries, 0 to 127251\n",
      "Data columns (total 8 columns):\n",
      " #   Column  Non-Null Count   Dtype  \n",
      "---  ------  --------------   -----  \n",
      " 0   사업부서    127251 non-null  object \n",
      " 1   대관시설    127251 non-null  object \n",
      " 2   예약접수일   127251 non-null  object \n",
      " 3   단체명     127251 non-null  object \n",
      " 4   단체구분    127251 non-null  object \n",
      " 5   인원      127251 non-null  float64\n",
      " 6   이용시작일   127251 non-null  object \n",
      " 7   이용종료일   127251 non-null  object \n",
      "dtypes: float64(1), object(7)\n",
      "memory usage: 8.7+ MB\n"
     ]
    }
   ],
   "source": [
    "weather.info()\n",
    "reservation.info()"
   ]
  },
  {
   "cell_type": "code",
   "execution_count": 15,
   "metadata": {},
   "outputs": [
    {
     "data": {
      "text/html": [
       "<div>\n",
       "<style scoped>\n",
       "    .dataframe tbody tr th:only-of-type {\n",
       "        vertical-align: middle;\n",
       "    }\n",
       "\n",
       "    .dataframe tbody tr th {\n",
       "        vertical-align: top;\n",
       "    }\n",
       "\n",
       "    .dataframe thead th {\n",
       "        text-align: right;\n",
       "    }\n",
       "</style>\n",
       "<table border=\"1\" class=\"dataframe\">\n",
       "  <thead>\n",
       "    <tr style=\"text-align: right;\">\n",
       "      <th></th>\n",
       "      <th>사업부서</th>\n",
       "      <th>대관시설</th>\n",
       "      <th>예약접수일</th>\n",
       "      <th>단체명</th>\n",
       "      <th>단체구분</th>\n",
       "      <th>인원</th>\n",
       "      <th>이용시작일</th>\n",
       "      <th>이용종료일</th>\n",
       "    </tr>\n",
       "  </thead>\n",
       "  <tbody>\n",
       "    <tr>\n",
       "      <th>91833</th>\n",
       "      <td>인천대공원</td>\n",
       "      <td>대공원축구장</td>\n",
       "      <td>2018-03-26</td>\n",
       "      <td>feclub</td>\n",
       "      <td>Y</td>\n",
       "      <td>22.0</td>\n",
       "      <td>10</td>\n",
       "      <td>10</td>\n",
       "    </tr>\n",
       "    <tr>\n",
       "      <th>0</th>\n",
       "      <td>인천대공원</td>\n",
       "      <td>대공원풋살장</td>\n",
       "      <td>2010-10-26</td>\n",
       "      <td>0</td>\n",
       "      <td>Y</td>\n",
       "      <td>1.0</td>\n",
       "      <td>2010-10-27</td>\n",
       "      <td>2010-10-27</td>\n",
       "    </tr>\n",
       "    <tr>\n",
       "      <th>68</th>\n",
       "      <td>인천대공원</td>\n",
       "      <td>대공원풋살장</td>\n",
       "      <td>2010-10-26</td>\n",
       "      <td>세계일등축구단</td>\n",
       "      <td>Y</td>\n",
       "      <td>123.0</td>\n",
       "      <td>2010-10-27</td>\n",
       "      <td>2010-10-27</td>\n",
       "    </tr>\n",
       "    <tr>\n",
       "      <th>35</th>\n",
       "      <td>인천대공원</td>\n",
       "      <td>대공원풋살장</td>\n",
       "      <td>2010-10-26</td>\n",
       "      <td>0</td>\n",
       "      <td>Y</td>\n",
       "      <td>123.0</td>\n",
       "      <td>2010-10-27</td>\n",
       "      <td>2010-10-27</td>\n",
       "    </tr>\n",
       "    <tr>\n",
       "      <th>1</th>\n",
       "      <td>인천대공원</td>\n",
       "      <td>대공원풋살장</td>\n",
       "      <td>2010-10-26</td>\n",
       "      <td>0</td>\n",
       "      <td>Y</td>\n",
       "      <td>1.0</td>\n",
       "      <td>2010-10-27</td>\n",
       "      <td>2010-10-27</td>\n",
       "    </tr>\n",
       "    <tr>\n",
       "      <th>...</th>\n",
       "      <td>...</td>\n",
       "      <td>...</td>\n",
       "      <td>...</td>\n",
       "      <td>...</td>\n",
       "      <td>...</td>\n",
       "      <td>...</td>\n",
       "      <td>...</td>\n",
       "      <td>...</td>\n",
       "    </tr>\n",
       "    <tr>\n",
       "      <th>126178</th>\n",
       "      <td>인천시설공단(청소년수련관)</td>\n",
       "      <td>공연장</td>\n",
       "      <td>2019-10-30</td>\n",
       "      <td>0</td>\n",
       "      <td>N</td>\n",
       "      <td>1.0</td>\n",
       "      <td>2019-12-31</td>\n",
       "      <td>2019-12-31</td>\n",
       "    </tr>\n",
       "    <tr>\n",
       "      <th>126177</th>\n",
       "      <td>인천시설공단(청소년수련관)</td>\n",
       "      <td>공연장</td>\n",
       "      <td>2019-10-30</td>\n",
       "      <td>0</td>\n",
       "      <td>N</td>\n",
       "      <td>1.0</td>\n",
       "      <td>2019-12-31</td>\n",
       "      <td>2019-12-31</td>\n",
       "    </tr>\n",
       "    <tr>\n",
       "      <th>126506</th>\n",
       "      <td>송도공원사업단</td>\n",
       "      <td>달빛축제공원(배드민턴장)</td>\n",
       "      <td>2019-11-01</td>\n",
       "      <td>0</td>\n",
       "      <td>Y</td>\n",
       "      <td>10.0</td>\n",
       "      <td>2019-12-31</td>\n",
       "      <td>2019-12-31</td>\n",
       "    </tr>\n",
       "    <tr>\n",
       "      <th>111004</th>\n",
       "      <td>인천삼산월드체육관</td>\n",
       "      <td>인조잔디구장</td>\n",
       "      <td>2019-03-01</td>\n",
       "      <td>블루스카이f.c</td>\n",
       "      <td>Y</td>\n",
       "      <td>30.0</td>\n",
       "      <td>2090-05-05</td>\n",
       "      <td>2090-05-05</td>\n",
       "    </tr>\n",
       "    <tr>\n",
       "      <th>91832</th>\n",
       "      <td>인천대공원</td>\n",
       "      <td>대공원축구장</td>\n",
       "      <td>2018-03-26</td>\n",
       "      <td>feclub</td>\n",
       "      <td>Y</td>\n",
       "      <td>22.0</td>\n",
       "      <td>8</td>\n",
       "      <td>8</td>\n",
       "    </tr>\n",
       "  </tbody>\n",
       "</table>\n",
       "<p>127251 rows × 8 columns</p>\n",
       "</div>"
      ],
      "text/plain": [
       "                  사업부서           대관시설       예약접수일       단체명 단체구분     인원  \\\n",
       "91833            인천대공원         대공원축구장  2018-03-26    feclub    Y   22.0   \n",
       "0                인천대공원         대공원풋살장  2010-10-26         0    Y    1.0   \n",
       "68               인천대공원         대공원풋살장  2010-10-26   세계일등축구단    Y  123.0   \n",
       "35               인천대공원         대공원풋살장  2010-10-26         0    Y  123.0   \n",
       "1                인천대공원         대공원풋살장  2010-10-26         0    Y    1.0   \n",
       "...                ...            ...         ...       ...  ...    ...   \n",
       "126178  인천시설공단(청소년수련관)            공연장  2019-10-30         0    N    1.0   \n",
       "126177  인천시설공단(청소년수련관)            공연장  2019-10-30         0    N    1.0   \n",
       "126506         송도공원사업단  달빛축제공원(배드민턴장)  2019-11-01         0    Y   10.0   \n",
       "111004       인천삼산월드체육관         인조잔디구장  2019-03-01  블루스카이f.c    Y   30.0   \n",
       "91832            인천대공원         대공원축구장  2018-03-26    feclub    Y   22.0   \n",
       "\n",
       "             이용시작일       이용종료일  \n",
       "91833           10          10  \n",
       "0       2010-10-27  2010-10-27  \n",
       "68      2010-10-27  2010-10-27  \n",
       "35      2010-10-27  2010-10-27  \n",
       "1       2010-10-27  2010-10-27  \n",
       "...            ...         ...  \n",
       "126178  2019-12-31  2019-12-31  \n",
       "126177  2019-12-31  2019-12-31  \n",
       "126506  2019-12-31  2019-12-31  \n",
       "111004  2090-05-05  2090-05-05  \n",
       "91832            8           8  \n",
       "\n",
       "[127251 rows x 8 columns]"
      ]
     },
     "execution_count": 15,
     "metadata": {},
     "output_type": "execute_result"
    }
   ],
   "source": [
    "## 이용시작일의 날짜를 기준으로 내림차순 정렬\n",
    "reservation = reservation.sort_values(by = ['이용시작일'])\n",
    "reservation"
   ]
  },
  {
   "cell_type": "markdown",
   "metadata": {},
   "source": [
    "### - Data merge"
   ]
  },
  {
   "cell_type": "markdown",
   "metadata": {},
   "source": [
    "weather 데이터의 '일시'과 reservation 데이터의 '이용시작일'를 기준으로 합쳐준다."
   ]
  },
  {
   "cell_type": "code",
   "execution_count": 16,
   "metadata": {},
   "outputs": [
    {
     "data": {
      "text/html": [
       "<div>\n",
       "<style scoped>\n",
       "    .dataframe tbody tr th:only-of-type {\n",
       "        vertical-align: middle;\n",
       "    }\n",
       "\n",
       "    .dataframe tbody tr th {\n",
       "        vertical-align: top;\n",
       "    }\n",
       "\n",
       "    .dataframe thead th {\n",
       "        text-align: right;\n",
       "    }\n",
       "</style>\n",
       "<table border=\"1\" class=\"dataframe\">\n",
       "  <thead>\n",
       "    <tr style=\"text-align: right;\">\n",
       "      <th></th>\n",
       "      <th>사업부서</th>\n",
       "      <th>대관시설</th>\n",
       "      <th>예약접수일</th>\n",
       "      <th>단체명</th>\n",
       "      <th>단체구분</th>\n",
       "      <th>인원</th>\n",
       "      <th>이용시작일</th>\n",
       "      <th>이용종료일</th>\n",
       "      <th>일시</th>\n",
       "      <th>평균기온(°C)</th>\n",
       "      <th>일강수량(mm)</th>\n",
       "      <th>평균 풍속(m/s)</th>\n",
       "      <th>일 최심신적설(cm)</th>\n",
       "      <th>일 최심적설(cm)</th>\n",
       "    </tr>\n",
       "  </thead>\n",
       "  <tbody>\n",
       "    <tr>\n",
       "      <th>0</th>\n",
       "      <td>인천대공원</td>\n",
       "      <td>대공원축구장</td>\n",
       "      <td>2018-03-26</td>\n",
       "      <td>feclub</td>\n",
       "      <td>Y</td>\n",
       "      <td>22.0</td>\n",
       "      <td>10</td>\n",
       "      <td>10</td>\n",
       "      <td>NaN</td>\n",
       "      <td>NaN</td>\n",
       "      <td>NaN</td>\n",
       "      <td>NaN</td>\n",
       "      <td>NaN</td>\n",
       "      <td>NaN</td>\n",
       "    </tr>\n",
       "    <tr>\n",
       "      <th>1</th>\n",
       "      <td>인천대공원</td>\n",
       "      <td>대공원풋살장</td>\n",
       "      <td>2010-10-26</td>\n",
       "      <td>0</td>\n",
       "      <td>Y</td>\n",
       "      <td>1.0</td>\n",
       "      <td>2010-10-27</td>\n",
       "      <td>2010-10-27</td>\n",
       "      <td>2010-10-27</td>\n",
       "      <td>6.2</td>\n",
       "      <td>0.0</td>\n",
       "      <td>2.1</td>\n",
       "      <td>0.0</td>\n",
       "      <td>0.0</td>\n",
       "    </tr>\n",
       "    <tr>\n",
       "      <th>2</th>\n",
       "      <td>인천대공원</td>\n",
       "      <td>대공원풋살장</td>\n",
       "      <td>2010-10-26</td>\n",
       "      <td>세계일등축구단</td>\n",
       "      <td>Y</td>\n",
       "      <td>123.0</td>\n",
       "      <td>2010-10-27</td>\n",
       "      <td>2010-10-27</td>\n",
       "      <td>2010-10-27</td>\n",
       "      <td>6.2</td>\n",
       "      <td>0.0</td>\n",
       "      <td>2.1</td>\n",
       "      <td>0.0</td>\n",
       "      <td>0.0</td>\n",
       "    </tr>\n",
       "    <tr>\n",
       "      <th>3</th>\n",
       "      <td>인천대공원</td>\n",
       "      <td>대공원풋살장</td>\n",
       "      <td>2010-10-26</td>\n",
       "      <td>0</td>\n",
       "      <td>Y</td>\n",
       "      <td>123.0</td>\n",
       "      <td>2010-10-27</td>\n",
       "      <td>2010-10-27</td>\n",
       "      <td>2010-10-27</td>\n",
       "      <td>6.2</td>\n",
       "      <td>0.0</td>\n",
       "      <td>2.1</td>\n",
       "      <td>0.0</td>\n",
       "      <td>0.0</td>\n",
       "    </tr>\n",
       "    <tr>\n",
       "      <th>4</th>\n",
       "      <td>인천대공원</td>\n",
       "      <td>대공원풋살장</td>\n",
       "      <td>2010-10-26</td>\n",
       "      <td>0</td>\n",
       "      <td>Y</td>\n",
       "      <td>1.0</td>\n",
       "      <td>2010-10-27</td>\n",
       "      <td>2010-10-27</td>\n",
       "      <td>2010-10-27</td>\n",
       "      <td>6.2</td>\n",
       "      <td>0.0</td>\n",
       "      <td>2.1</td>\n",
       "      <td>0.0</td>\n",
       "      <td>0.0</td>\n",
       "    </tr>\n",
       "  </tbody>\n",
       "</table>\n",
       "</div>"
      ],
      "text/plain": [
       "    사업부서    대관시설       예약접수일      단체명 단체구분     인원       이용시작일       이용종료일  \\\n",
       "0  인천대공원  대공원축구장  2018-03-26   feclub    Y   22.0          10          10   \n",
       "1  인천대공원  대공원풋살장  2010-10-26        0    Y    1.0  2010-10-27  2010-10-27   \n",
       "2  인천대공원  대공원풋살장  2010-10-26  세계일등축구단    Y  123.0  2010-10-27  2010-10-27   \n",
       "3  인천대공원  대공원풋살장  2010-10-26        0    Y  123.0  2010-10-27  2010-10-27   \n",
       "4  인천대공원  대공원풋살장  2010-10-26        0    Y    1.0  2010-10-27  2010-10-27   \n",
       "\n",
       "           일시  평균기온(°C)  일강수량(mm)  평균 풍속(m/s)  일 최심신적설(cm)  일 최심적설(cm)  \n",
       "0         NaN       NaN       NaN         NaN          NaN         NaN  \n",
       "1  2010-10-27       6.2       0.0         2.1          0.0         0.0  \n",
       "2  2010-10-27       6.2       0.0         2.1          0.0         0.0  \n",
       "3  2010-10-27       6.2       0.0         2.1          0.0         0.0  \n",
       "4  2010-10-27       6.2       0.0         2.1          0.0         0.0  "
      ]
     },
     "execution_count": 16,
     "metadata": {},
     "output_type": "execute_result"
    }
   ],
   "source": [
    "merged = pd.merge(reservation, weather, \n",
    "                  how='left', left_on = '이용시작일', right_on = '일시')\n",
    "merged.head() ## 결측값 발생"
   ]
  },
  {
   "cell_type": "markdown",
   "metadata": {},
   "source": [
    "#### merge 된 데이터를 바탕으로 결측치 재확인"
   ]
  },
  {
   "cell_type": "code",
   "execution_count": 17,
   "metadata": {},
   "outputs": [
    {
     "name": "stdout",
     "output_type": "stream",
     "text": [
      "merged :  사업부서            0\n",
      "대관시설            0\n",
      "예약접수일           0\n",
      "단체명             0\n",
      "단체구분            0\n",
      "인원              0\n",
      "이용시작일           0\n",
      "이용종료일           0\n",
      "일시             32\n",
      "평균기온(°C)       32\n",
      "일강수량(mm)       32\n",
      "평균 풍속(m/s)     32\n",
      "일 최심신적설(cm)    32\n",
      "일 최심적설(cm)     32\n",
      "dtype: int64\n"
     ]
    }
   ],
   "source": [
    "# 결측치 다시 확인\n",
    "print('merged : ', merged.isnull().sum())\n",
    "\n",
    "# 노이즈로 인한 것으로 예상됨 -> 해당 row 삭제"
   ]
  },
  {
   "cell_type": "code",
   "execution_count": 18,
   "metadata": {},
   "outputs": [
    {
     "data": {
      "text/html": [
       "<div>\n",
       "<style scoped>\n",
       "    .dataframe tbody tr th:only-of-type {\n",
       "        vertical-align: middle;\n",
       "    }\n",
       "\n",
       "    .dataframe tbody tr th {\n",
       "        vertical-align: top;\n",
       "    }\n",
       "\n",
       "    .dataframe thead th {\n",
       "        text-align: right;\n",
       "    }\n",
       "</style>\n",
       "<table border=\"1\" class=\"dataframe\">\n",
       "  <thead>\n",
       "    <tr style=\"text-align: right;\">\n",
       "      <th></th>\n",
       "      <th>이용종료일</th>\n",
       "      <th>일시</th>\n",
       "      <th>평균기온(°C)</th>\n",
       "    </tr>\n",
       "  </thead>\n",
       "  <tbody>\n",
       "    <tr>\n",
       "      <th>0</th>\n",
       "      <td>10</td>\n",
       "      <td>NaN</td>\n",
       "      <td>NaN</td>\n",
       "    </tr>\n",
       "    <tr>\n",
       "      <th>4299</th>\n",
       "      <td>2011-10-16</td>\n",
       "      <td>NaN</td>\n",
       "      <td>NaN</td>\n",
       "    </tr>\n",
       "    <tr>\n",
       "      <th>4300</th>\n",
       "      <td>2011-10-16</td>\n",
       "      <td>NaN</td>\n",
       "      <td>NaN</td>\n",
       "    </tr>\n",
       "    <tr>\n",
       "      <th>4301</th>\n",
       "      <td>2011-10-16</td>\n",
       "      <td>NaN</td>\n",
       "      <td>NaN</td>\n",
       "    </tr>\n",
       "    <tr>\n",
       "      <th>4302</th>\n",
       "      <td>2011-10-16</td>\n",
       "      <td>NaN</td>\n",
       "      <td>NaN</td>\n",
       "    </tr>\n",
       "    <tr>\n",
       "      <th>4303</th>\n",
       "      <td>2011-10-16</td>\n",
       "      <td>NaN</td>\n",
       "      <td>NaN</td>\n",
       "    </tr>\n",
       "    <tr>\n",
       "      <th>4304</th>\n",
       "      <td>2011-10-16</td>\n",
       "      <td>NaN</td>\n",
       "      <td>NaN</td>\n",
       "    </tr>\n",
       "    <tr>\n",
       "      <th>4305</th>\n",
       "      <td>2011-10-16</td>\n",
       "      <td>NaN</td>\n",
       "      <td>NaN</td>\n",
       "    </tr>\n",
       "    <tr>\n",
       "      <th>4306</th>\n",
       "      <td>2011-10-16</td>\n",
       "      <td>NaN</td>\n",
       "      <td>NaN</td>\n",
       "    </tr>\n",
       "    <tr>\n",
       "      <th>4307</th>\n",
       "      <td>2011-10-16</td>\n",
       "      <td>NaN</td>\n",
       "      <td>NaN</td>\n",
       "    </tr>\n",
       "    <tr>\n",
       "      <th>4308</th>\n",
       "      <td>2011-10-16</td>\n",
       "      <td>NaN</td>\n",
       "      <td>NaN</td>\n",
       "    </tr>\n",
       "    <tr>\n",
       "      <th>4309</th>\n",
       "      <td>2011-10-16</td>\n",
       "      <td>NaN</td>\n",
       "      <td>NaN</td>\n",
       "    </tr>\n",
       "    <tr>\n",
       "      <th>4310</th>\n",
       "      <td>2011-10-16</td>\n",
       "      <td>NaN</td>\n",
       "      <td>NaN</td>\n",
       "    </tr>\n",
       "    <tr>\n",
       "      <th>4311</th>\n",
       "      <td>2011-10-16</td>\n",
       "      <td>NaN</td>\n",
       "      <td>NaN</td>\n",
       "    </tr>\n",
       "    <tr>\n",
       "      <th>4312</th>\n",
       "      <td>2011-10-16</td>\n",
       "      <td>NaN</td>\n",
       "      <td>NaN</td>\n",
       "    </tr>\n",
       "    <tr>\n",
       "      <th>4313</th>\n",
       "      <td>2011-10-16</td>\n",
       "      <td>NaN</td>\n",
       "      <td>NaN</td>\n",
       "    </tr>\n",
       "    <tr>\n",
       "      <th>4314</th>\n",
       "      <td>2011-10-16</td>\n",
       "      <td>NaN</td>\n",
       "      <td>NaN</td>\n",
       "    </tr>\n",
       "    <tr>\n",
       "      <th>4315</th>\n",
       "      <td>2011-10-16</td>\n",
       "      <td>NaN</td>\n",
       "      <td>NaN</td>\n",
       "    </tr>\n",
       "    <tr>\n",
       "      <th>4316</th>\n",
       "      <td>2011-10-16</td>\n",
       "      <td>NaN</td>\n",
       "      <td>NaN</td>\n",
       "    </tr>\n",
       "    <tr>\n",
       "      <th>4317</th>\n",
       "      <td>2011-10-16</td>\n",
       "      <td>NaN</td>\n",
       "      <td>NaN</td>\n",
       "    </tr>\n",
       "    <tr>\n",
       "      <th>4318</th>\n",
       "      <td>2011-10-16</td>\n",
       "      <td>NaN</td>\n",
       "      <td>NaN</td>\n",
       "    </tr>\n",
       "    <tr>\n",
       "      <th>4319</th>\n",
       "      <td>2011-10-16</td>\n",
       "      <td>NaN</td>\n",
       "      <td>NaN</td>\n",
       "    </tr>\n",
       "    <tr>\n",
       "      <th>4320</th>\n",
       "      <td>2011-10-16</td>\n",
       "      <td>NaN</td>\n",
       "      <td>NaN</td>\n",
       "    </tr>\n",
       "    <tr>\n",
       "      <th>4321</th>\n",
       "      <td>2011-10-16</td>\n",
       "      <td>NaN</td>\n",
       "      <td>NaN</td>\n",
       "    </tr>\n",
       "    <tr>\n",
       "      <th>4322</th>\n",
       "      <td>2011-10-16</td>\n",
       "      <td>NaN</td>\n",
       "      <td>NaN</td>\n",
       "    </tr>\n",
       "    <tr>\n",
       "      <th>4323</th>\n",
       "      <td>2011-10-16</td>\n",
       "      <td>NaN</td>\n",
       "      <td>NaN</td>\n",
       "    </tr>\n",
       "    <tr>\n",
       "      <th>4324</th>\n",
       "      <td>2011-10-16</td>\n",
       "      <td>NaN</td>\n",
       "      <td>NaN</td>\n",
       "    </tr>\n",
       "    <tr>\n",
       "      <th>4325</th>\n",
       "      <td>2011-10-16</td>\n",
       "      <td>NaN</td>\n",
       "      <td>NaN</td>\n",
       "    </tr>\n",
       "    <tr>\n",
       "      <th>4326</th>\n",
       "      <td>2011-10-16</td>\n",
       "      <td>NaN</td>\n",
       "      <td>NaN</td>\n",
       "    </tr>\n",
       "    <tr>\n",
       "      <th>4327</th>\n",
       "      <td>2011-10-16</td>\n",
       "      <td>NaN</td>\n",
       "      <td>NaN</td>\n",
       "    </tr>\n",
       "    <tr>\n",
       "      <th>127249</th>\n",
       "      <td>2090-05-05</td>\n",
       "      <td>NaN</td>\n",
       "      <td>NaN</td>\n",
       "    </tr>\n",
       "    <tr>\n",
       "      <th>127250</th>\n",
       "      <td>8</td>\n",
       "      <td>NaN</td>\n",
       "      <td>NaN</td>\n",
       "    </tr>\n",
       "  </tbody>\n",
       "</table>\n",
       "</div>"
      ],
      "text/plain": [
       "             이용종료일   일시  평균기온(°C)\n",
       "0               10  NaN       NaN\n",
       "4299    2011-10-16  NaN       NaN\n",
       "4300    2011-10-16  NaN       NaN\n",
       "4301    2011-10-16  NaN       NaN\n",
       "4302    2011-10-16  NaN       NaN\n",
       "4303    2011-10-16  NaN       NaN\n",
       "4304    2011-10-16  NaN       NaN\n",
       "4305    2011-10-16  NaN       NaN\n",
       "4306    2011-10-16  NaN       NaN\n",
       "4307    2011-10-16  NaN       NaN\n",
       "4308    2011-10-16  NaN       NaN\n",
       "4309    2011-10-16  NaN       NaN\n",
       "4310    2011-10-16  NaN       NaN\n",
       "4311    2011-10-16  NaN       NaN\n",
       "4312    2011-10-16  NaN       NaN\n",
       "4313    2011-10-16  NaN       NaN\n",
       "4314    2011-10-16  NaN       NaN\n",
       "4315    2011-10-16  NaN       NaN\n",
       "4316    2011-10-16  NaN       NaN\n",
       "4317    2011-10-16  NaN       NaN\n",
       "4318    2011-10-16  NaN       NaN\n",
       "4319    2011-10-16  NaN       NaN\n",
       "4320    2011-10-16  NaN       NaN\n",
       "4321    2011-10-16  NaN       NaN\n",
       "4322    2011-10-16  NaN       NaN\n",
       "4323    2011-10-16  NaN       NaN\n",
       "4324    2011-10-16  NaN       NaN\n",
       "4325    2011-10-16  NaN       NaN\n",
       "4326    2011-10-16  NaN       NaN\n",
       "4327    2011-10-16  NaN       NaN\n",
       "127249  2090-05-05  NaN       NaN\n",
       "127250           8  NaN       NaN"
      ]
     },
     "execution_count": 18,
     "metadata": {},
     "output_type": "execute_result"
    }
   ],
   "source": [
    "merged.loc[merged['평균기온(°C)'].isnull(), '이용종료일':'평균기온(°C)']"
   ]
  },
  {
   "cell_type": "code",
   "execution_count": 19,
   "metadata": {},
   "outputs": [],
   "source": [
    "## 결측값이 발생한 row 삭제\n",
    "merged.dropna(inplace=True)"
   ]
  },
  {
   "cell_type": "code",
   "execution_count": 20,
   "metadata": {},
   "outputs": [
    {
     "name": "stdout",
     "output_type": "stream",
     "text": [
      "merged :  사업부서           0\n",
      "대관시설           0\n",
      "예약접수일          0\n",
      "단체명            0\n",
      "단체구분           0\n",
      "인원             0\n",
      "이용시작일          0\n",
      "이용종료일          0\n",
      "일시             0\n",
      "평균기온(°C)       0\n",
      "일강수량(mm)       0\n",
      "평균 풍속(m/s)     0\n",
      "일 최심신적설(cm)    0\n",
      "일 최심적설(cm)     0\n",
      "dtype: int64\n"
     ]
    }
   ],
   "source": [
    "# 결측치 다시 확인\n",
    "print('merged : ', merged.isnull().sum())"
   ]
  },
  {
   "cell_type": "markdown",
   "metadata": {},
   "source": [
    "#### merge된 데이터 정보 확인"
   ]
  },
  {
   "cell_type": "code",
   "execution_count": 21,
   "metadata": {},
   "outputs": [
    {
     "name": "stdout",
     "output_type": "stream",
     "text": [
      "<class 'pandas.core.frame.DataFrame'>\n",
      "Int64Index: 127219 entries, 1 to 127248\n",
      "Data columns (total 14 columns):\n",
      " #   Column       Non-Null Count   Dtype  \n",
      "---  ------       --------------   -----  \n",
      " 0   사업부서         127219 non-null  object \n",
      " 1   대관시설         127219 non-null  object \n",
      " 2   예약접수일        127219 non-null  object \n",
      " 3   단체명          127219 non-null  object \n",
      " 4   단체구분         127219 non-null  object \n",
      " 5   인원           127219 non-null  float64\n",
      " 6   이용시작일        127219 non-null  object \n",
      " 7   이용종료일        127219 non-null  object \n",
      " 8   일시           127219 non-null  object \n",
      " 9   평균기온(°C)     127219 non-null  float64\n",
      " 10  일강수량(mm)     127219 non-null  float64\n",
      " 11  평균 풍속(m/s)   127219 non-null  float64\n",
      " 12  일 최심신적설(cm)  127219 non-null  float64\n",
      " 13  일 최심적설(cm)   127219 non-null  float64\n",
      "dtypes: float64(6), object(8)\n",
      "memory usage: 14.6+ MB\n"
     ]
    }
   ],
   "source": [
    "merged.info()"
   ]
  },
  {
   "cell_type": "markdown",
   "metadata": {},
   "source": [
    "### - Data 정리"
   ]
  },
  {
   "cell_type": "markdown",
   "metadata": {},
   "source": [
    "위에서 merge 한 merged data를 살펴보면, 분석하기에 적합하지 않다.\n",
    "\n",
    "이용시작일과 평균기온의 산점도를 살펴보고자 했지만\n",
    "\n",
    "object type과 float type으로, data type의 차이로 인한 오류가 발생한다.\n",
    "\n",
    "따라서 새로운 데이터프레임을 선언한다.\n",
    "\n",
    "groupby로 해당 날짜에 예약한 단체 수를 count 하여 columns으로 추가한다.\n",
    "\n",
    "즉 새로운 데이터프레임에는 일시, 예약단체수, weather merge 한 columns가 있을 예정이다."
   ]
  },
  {
   "cell_type": "markdown",
   "metadata": {},
   "source": [
    "#### 이용시작일을 기준으로 일별 이용자수 count"
   ]
  },
  {
   "cell_type": "code",
   "execution_count": 22,
   "metadata": {},
   "outputs": [
    {
     "data": {
      "text/html": [
       "<div>\n",
       "<style scoped>\n",
       "    .dataframe tbody tr th:only-of-type {\n",
       "        vertical-align: middle;\n",
       "    }\n",
       "\n",
       "    .dataframe tbody tr th {\n",
       "        vertical-align: top;\n",
       "    }\n",
       "\n",
       "    .dataframe thead th {\n",
       "        text-align: right;\n",
       "    }\n",
       "</style>\n",
       "<table border=\"1\" class=\"dataframe\">\n",
       "  <thead>\n",
       "    <tr style=\"text-align: right;\">\n",
       "      <th></th>\n",
       "      <th>이용시작일</th>\n",
       "      <th>사업부서</th>\n",
       "      <th>대관시설</th>\n",
       "      <th>예약접수일</th>\n",
       "      <th>단체명</th>\n",
       "      <th>단체구분</th>\n",
       "      <th>인원</th>\n",
       "      <th>이용종료일</th>\n",
       "      <th>일시</th>\n",
       "      <th>평균기온(°C)</th>\n",
       "      <th>일강수량(mm)</th>\n",
       "      <th>평균 풍속(m/s)</th>\n",
       "      <th>일 최심신적설(cm)</th>\n",
       "      <th>일 최심적설(cm)</th>\n",
       "    </tr>\n",
       "  </thead>\n",
       "  <tbody>\n",
       "    <tr>\n",
       "      <th>0</th>\n",
       "      <td>2010-10-27</td>\n",
       "      <td>4</td>\n",
       "      <td>4</td>\n",
       "      <td>4</td>\n",
       "      <td>4</td>\n",
       "      <td>4</td>\n",
       "      <td>4</td>\n",
       "      <td>4</td>\n",
       "      <td>4</td>\n",
       "      <td>4</td>\n",
       "      <td>4</td>\n",
       "      <td>4</td>\n",
       "      <td>4</td>\n",
       "      <td>4</td>\n",
       "    </tr>\n",
       "    <tr>\n",
       "      <th>1</th>\n",
       "      <td>2010-10-28</td>\n",
       "      <td>2</td>\n",
       "      <td>2</td>\n",
       "      <td>2</td>\n",
       "      <td>2</td>\n",
       "      <td>2</td>\n",
       "      <td>2</td>\n",
       "      <td>2</td>\n",
       "      <td>2</td>\n",
       "      <td>2</td>\n",
       "      <td>2</td>\n",
       "      <td>2</td>\n",
       "      <td>2</td>\n",
       "      <td>2</td>\n",
       "    </tr>\n",
       "    <tr>\n",
       "      <th>2</th>\n",
       "      <td>2010-10-29</td>\n",
       "      <td>3</td>\n",
       "      <td>3</td>\n",
       "      <td>3</td>\n",
       "      <td>3</td>\n",
       "      <td>3</td>\n",
       "      <td>3</td>\n",
       "      <td>3</td>\n",
       "      <td>3</td>\n",
       "      <td>3</td>\n",
       "      <td>3</td>\n",
       "      <td>3</td>\n",
       "      <td>3</td>\n",
       "      <td>3</td>\n",
       "    </tr>\n",
       "    <tr>\n",
       "      <th>3</th>\n",
       "      <td>2010-10-30</td>\n",
       "      <td>2</td>\n",
       "      <td>2</td>\n",
       "      <td>2</td>\n",
       "      <td>2</td>\n",
       "      <td>2</td>\n",
       "      <td>2</td>\n",
       "      <td>2</td>\n",
       "      <td>2</td>\n",
       "      <td>2</td>\n",
       "      <td>2</td>\n",
       "      <td>2</td>\n",
       "      <td>2</td>\n",
       "      <td>2</td>\n",
       "    </tr>\n",
       "    <tr>\n",
       "      <th>4</th>\n",
       "      <td>2010-11-01</td>\n",
       "      <td>1</td>\n",
       "      <td>1</td>\n",
       "      <td>1</td>\n",
       "      <td>1</td>\n",
       "      <td>1</td>\n",
       "      <td>1</td>\n",
       "      <td>1</td>\n",
       "      <td>1</td>\n",
       "      <td>1</td>\n",
       "      <td>1</td>\n",
       "      <td>1</td>\n",
       "      <td>1</td>\n",
       "      <td>1</td>\n",
       "    </tr>\n",
       "    <tr>\n",
       "      <th>5</th>\n",
       "      <td>2010-11-02</td>\n",
       "      <td>1</td>\n",
       "      <td>1</td>\n",
       "      <td>1</td>\n",
       "      <td>1</td>\n",
       "      <td>1</td>\n",
       "      <td>1</td>\n",
       "      <td>1</td>\n",
       "      <td>1</td>\n",
       "      <td>1</td>\n",
       "      <td>1</td>\n",
       "      <td>1</td>\n",
       "      <td>1</td>\n",
       "      <td>1</td>\n",
       "    </tr>\n",
       "    <tr>\n",
       "      <th>6</th>\n",
       "      <td>2010-11-03</td>\n",
       "      <td>4</td>\n",
       "      <td>4</td>\n",
       "      <td>4</td>\n",
       "      <td>4</td>\n",
       "      <td>4</td>\n",
       "      <td>4</td>\n",
       "      <td>4</td>\n",
       "      <td>4</td>\n",
       "      <td>4</td>\n",
       "      <td>4</td>\n",
       "      <td>4</td>\n",
       "      <td>4</td>\n",
       "      <td>4</td>\n",
       "    </tr>\n",
       "    <tr>\n",
       "      <th>7</th>\n",
       "      <td>2010-11-04</td>\n",
       "      <td>6</td>\n",
       "      <td>6</td>\n",
       "      <td>6</td>\n",
       "      <td>6</td>\n",
       "      <td>6</td>\n",
       "      <td>6</td>\n",
       "      <td>6</td>\n",
       "      <td>6</td>\n",
       "      <td>6</td>\n",
       "      <td>6</td>\n",
       "      <td>6</td>\n",
       "      <td>6</td>\n",
       "      <td>6</td>\n",
       "    </tr>\n",
       "    <tr>\n",
       "      <th>8</th>\n",
       "      <td>2010-11-05</td>\n",
       "      <td>1</td>\n",
       "      <td>1</td>\n",
       "      <td>1</td>\n",
       "      <td>1</td>\n",
       "      <td>1</td>\n",
       "      <td>1</td>\n",
       "      <td>1</td>\n",
       "      <td>1</td>\n",
       "      <td>1</td>\n",
       "      <td>1</td>\n",
       "      <td>1</td>\n",
       "      <td>1</td>\n",
       "      <td>1</td>\n",
       "    </tr>\n",
       "    <tr>\n",
       "      <th>9</th>\n",
       "      <td>2010-11-06</td>\n",
       "      <td>2</td>\n",
       "      <td>2</td>\n",
       "      <td>2</td>\n",
       "      <td>2</td>\n",
       "      <td>2</td>\n",
       "      <td>2</td>\n",
       "      <td>2</td>\n",
       "      <td>2</td>\n",
       "      <td>2</td>\n",
       "      <td>2</td>\n",
       "      <td>2</td>\n",
       "      <td>2</td>\n",
       "      <td>2</td>\n",
       "    </tr>\n",
       "    <tr>\n",
       "      <th>10</th>\n",
       "      <td>2010-11-09</td>\n",
       "      <td>1</td>\n",
       "      <td>1</td>\n",
       "      <td>1</td>\n",
       "      <td>1</td>\n",
       "      <td>1</td>\n",
       "      <td>1</td>\n",
       "      <td>1</td>\n",
       "      <td>1</td>\n",
       "      <td>1</td>\n",
       "      <td>1</td>\n",
       "      <td>1</td>\n",
       "      <td>1</td>\n",
       "      <td>1</td>\n",
       "    </tr>\n",
       "    <tr>\n",
       "      <th>11</th>\n",
       "      <td>2010-11-10</td>\n",
       "      <td>1</td>\n",
       "      <td>1</td>\n",
       "      <td>1</td>\n",
       "      <td>1</td>\n",
       "      <td>1</td>\n",
       "      <td>1</td>\n",
       "      <td>1</td>\n",
       "      <td>1</td>\n",
       "      <td>1</td>\n",
       "      <td>1</td>\n",
       "      <td>1</td>\n",
       "      <td>1</td>\n",
       "      <td>1</td>\n",
       "    </tr>\n",
       "    <tr>\n",
       "      <th>12</th>\n",
       "      <td>2010-11-11</td>\n",
       "      <td>4</td>\n",
       "      <td>4</td>\n",
       "      <td>4</td>\n",
       "      <td>4</td>\n",
       "      <td>4</td>\n",
       "      <td>4</td>\n",
       "      <td>4</td>\n",
       "      <td>4</td>\n",
       "      <td>4</td>\n",
       "      <td>4</td>\n",
       "      <td>4</td>\n",
       "      <td>4</td>\n",
       "      <td>4</td>\n",
       "    </tr>\n",
       "    <tr>\n",
       "      <th>13</th>\n",
       "      <td>2010-11-12</td>\n",
       "      <td>1</td>\n",
       "      <td>1</td>\n",
       "      <td>1</td>\n",
       "      <td>1</td>\n",
       "      <td>1</td>\n",
       "      <td>1</td>\n",
       "      <td>1</td>\n",
       "      <td>1</td>\n",
       "      <td>1</td>\n",
       "      <td>1</td>\n",
       "      <td>1</td>\n",
       "      <td>1</td>\n",
       "      <td>1</td>\n",
       "    </tr>\n",
       "    <tr>\n",
       "      <th>14</th>\n",
       "      <td>2010-11-13</td>\n",
       "      <td>2</td>\n",
       "      <td>2</td>\n",
       "      <td>2</td>\n",
       "      <td>2</td>\n",
       "      <td>2</td>\n",
       "      <td>2</td>\n",
       "      <td>2</td>\n",
       "      <td>2</td>\n",
       "      <td>2</td>\n",
       "      <td>2</td>\n",
       "      <td>2</td>\n",
       "      <td>2</td>\n",
       "      <td>2</td>\n",
       "    </tr>\n",
       "    <tr>\n",
       "      <th>15</th>\n",
       "      <td>2010-11-15</td>\n",
       "      <td>3</td>\n",
       "      <td>3</td>\n",
       "      <td>3</td>\n",
       "      <td>3</td>\n",
       "      <td>3</td>\n",
       "      <td>3</td>\n",
       "      <td>3</td>\n",
       "      <td>3</td>\n",
       "      <td>3</td>\n",
       "      <td>3</td>\n",
       "      <td>3</td>\n",
       "      <td>3</td>\n",
       "      <td>3</td>\n",
       "    </tr>\n",
       "    <tr>\n",
       "      <th>16</th>\n",
       "      <td>2010-11-16</td>\n",
       "      <td>5</td>\n",
       "      <td>5</td>\n",
       "      <td>5</td>\n",
       "      <td>5</td>\n",
       "      <td>5</td>\n",
       "      <td>5</td>\n",
       "      <td>5</td>\n",
       "      <td>5</td>\n",
       "      <td>5</td>\n",
       "      <td>5</td>\n",
       "      <td>5</td>\n",
       "      <td>5</td>\n",
       "      <td>5</td>\n",
       "    </tr>\n",
       "    <tr>\n",
       "      <th>17</th>\n",
       "      <td>2010-11-17</td>\n",
       "      <td>1</td>\n",
       "      <td>1</td>\n",
       "      <td>1</td>\n",
       "      <td>1</td>\n",
       "      <td>1</td>\n",
       "      <td>1</td>\n",
       "      <td>1</td>\n",
       "      <td>1</td>\n",
       "      <td>1</td>\n",
       "      <td>1</td>\n",
       "      <td>1</td>\n",
       "      <td>1</td>\n",
       "      <td>1</td>\n",
       "    </tr>\n",
       "    <tr>\n",
       "      <th>18</th>\n",
       "      <td>2010-11-18</td>\n",
       "      <td>4</td>\n",
       "      <td>4</td>\n",
       "      <td>4</td>\n",
       "      <td>4</td>\n",
       "      <td>4</td>\n",
       "      <td>4</td>\n",
       "      <td>4</td>\n",
       "      <td>4</td>\n",
       "      <td>4</td>\n",
       "      <td>4</td>\n",
       "      <td>4</td>\n",
       "      <td>4</td>\n",
       "      <td>4</td>\n",
       "    </tr>\n",
       "    <tr>\n",
       "      <th>19</th>\n",
       "      <td>2010-11-19</td>\n",
       "      <td>2</td>\n",
       "      <td>2</td>\n",
       "      <td>2</td>\n",
       "      <td>2</td>\n",
       "      <td>2</td>\n",
       "      <td>2</td>\n",
       "      <td>2</td>\n",
       "      <td>2</td>\n",
       "      <td>2</td>\n",
       "      <td>2</td>\n",
       "      <td>2</td>\n",
       "      <td>2</td>\n",
       "      <td>2</td>\n",
       "    </tr>\n",
       "  </tbody>\n",
       "</table>\n",
       "</div>"
      ],
      "text/plain": [
       "         이용시작일  사업부서  대관시설  예약접수일  단체명  단체구분  인원  이용종료일  일시  평균기온(°C)  \\\n",
       "0   2010-10-27     4     4      4    4     4   4      4   4         4   \n",
       "1   2010-10-28     2     2      2    2     2   2      2   2         2   \n",
       "2   2010-10-29     3     3      3    3     3   3      3   3         3   \n",
       "3   2010-10-30     2     2      2    2     2   2      2   2         2   \n",
       "4   2010-11-01     1     1      1    1     1   1      1   1         1   \n",
       "5   2010-11-02     1     1      1    1     1   1      1   1         1   \n",
       "6   2010-11-03     4     4      4    4     4   4      4   4         4   \n",
       "7   2010-11-04     6     6      6    6     6   6      6   6         6   \n",
       "8   2010-11-05     1     1      1    1     1   1      1   1         1   \n",
       "9   2010-11-06     2     2      2    2     2   2      2   2         2   \n",
       "10  2010-11-09     1     1      1    1     1   1      1   1         1   \n",
       "11  2010-11-10     1     1      1    1     1   1      1   1         1   \n",
       "12  2010-11-11     4     4      4    4     4   4      4   4         4   \n",
       "13  2010-11-12     1     1      1    1     1   1      1   1         1   \n",
       "14  2010-11-13     2     2      2    2     2   2      2   2         2   \n",
       "15  2010-11-15     3     3      3    3     3   3      3   3         3   \n",
       "16  2010-11-16     5     5      5    5     5   5      5   5         5   \n",
       "17  2010-11-17     1     1      1    1     1   1      1   1         1   \n",
       "18  2010-11-18     4     4      4    4     4   4      4   4         4   \n",
       "19  2010-11-19     2     2      2    2     2   2      2   2         2   \n",
       "\n",
       "    일강수량(mm)  평균 풍속(m/s)  일 최심신적설(cm)  일 최심적설(cm)  \n",
       "0          4           4            4           4  \n",
       "1          2           2            2           2  \n",
       "2          3           3            3           3  \n",
       "3          2           2            2           2  \n",
       "4          1           1            1           1  \n",
       "5          1           1            1           1  \n",
       "6          4           4            4           4  \n",
       "7          6           6            6           6  \n",
       "8          1           1            1           1  \n",
       "9          2           2            2           2  \n",
       "10         1           1            1           1  \n",
       "11         1           1            1           1  \n",
       "12         4           4            4           4  \n",
       "13         1           1            1           1  \n",
       "14         2           2            2           2  \n",
       "15         3           3            3           3  \n",
       "16         5           5            5           5  \n",
       "17         1           1            1           1  \n",
       "18         4           4            4           4  \n",
       "19         2           2            2           2  "
      ]
     },
     "execution_count": 22,
     "metadata": {},
     "output_type": "execute_result"
    }
   ],
   "source": [
    "new = merged.groupby(\"이용시작일\").count().reset_index()\n",
    "new.head(20)"
   ]
  },
  {
   "cell_type": "markdown",
   "metadata": {},
   "source": [
    "#### 불필요한 columns 삭제"
   ]
  },
  {
   "cell_type": "code",
   "execution_count": 23,
   "metadata": {},
   "outputs": [],
   "source": [
    "cols = [\"사업부서\", \"대관시설\", \"예약접수일\", \"단체명\", \"이용종료일\", \"일시\", \n",
    "        \"평균기온(°C)\", \"일강수량(mm)\", \"평균 풍속(m/s)\", \"일 최심신적설(cm)\",\n",
    "       \"일 최심적설(cm)\", \"단체구분\"]\n",
    "new.drop(labels = cols, axis = \"columns\", inplace = True)"
   ]
  },
  {
   "cell_type": "code",
   "execution_count": 24,
   "metadata": {},
   "outputs": [
    {
     "data": {
      "text/html": [
       "<div>\n",
       "<style scoped>\n",
       "    .dataframe tbody tr th:only-of-type {\n",
       "        vertical-align: middle;\n",
       "    }\n",
       "\n",
       "    .dataframe tbody tr th {\n",
       "        vertical-align: top;\n",
       "    }\n",
       "\n",
       "    .dataframe thead th {\n",
       "        text-align: right;\n",
       "    }\n",
       "</style>\n",
       "<table border=\"1\" class=\"dataframe\">\n",
       "  <thead>\n",
       "    <tr style=\"text-align: right;\">\n",
       "      <th></th>\n",
       "      <th>이용시작일</th>\n",
       "      <th>인원</th>\n",
       "    </tr>\n",
       "  </thead>\n",
       "  <tbody>\n",
       "    <tr>\n",
       "      <th>0</th>\n",
       "      <td>2010-10-27</td>\n",
       "      <td>4</td>\n",
       "    </tr>\n",
       "    <tr>\n",
       "      <th>1</th>\n",
       "      <td>2010-10-28</td>\n",
       "      <td>2</td>\n",
       "    </tr>\n",
       "    <tr>\n",
       "      <th>2</th>\n",
       "      <td>2010-10-29</td>\n",
       "      <td>3</td>\n",
       "    </tr>\n",
       "    <tr>\n",
       "      <th>3</th>\n",
       "      <td>2010-10-30</td>\n",
       "      <td>2</td>\n",
       "    </tr>\n",
       "    <tr>\n",
       "      <th>4</th>\n",
       "      <td>2010-11-01</td>\n",
       "      <td>1</td>\n",
       "    </tr>\n",
       "  </tbody>\n",
       "</table>\n",
       "</div>"
      ],
      "text/plain": [
       "        이용시작일  인원\n",
       "0  2010-10-27   4\n",
       "1  2010-10-28   2\n",
       "2  2010-10-29   3\n",
       "3  2010-10-30   2\n",
       "4  2010-11-01   1"
      ]
     },
     "execution_count": 24,
     "metadata": {},
     "output_type": "execute_result"
    }
   ],
   "source": [
    "new.head()"
   ]
  },
  {
   "cell_type": "markdown",
   "metadata": {},
   "source": [
    "이용시작일을 기준으로 일별 이용자 수가 count 되었다."
   ]
  },
  {
   "cell_type": "markdown",
   "metadata": {},
   "source": [
    "#### 다시 merge "
   ]
  },
  {
   "cell_type": "code",
   "execution_count": 25,
   "metadata": {},
   "outputs": [],
   "source": [
    "## new와 weather merge\n",
    "new_merged = pd.merge(new, weather, \n",
    "                  how='left', left_on = '이용시작일', right_on = '일시')"
   ]
  },
  {
   "cell_type": "code",
   "execution_count": 26,
   "metadata": {},
   "outputs": [
    {
     "data": {
      "text/html": [
       "<div>\n",
       "<style scoped>\n",
       "    .dataframe tbody tr th:only-of-type {\n",
       "        vertical-align: middle;\n",
       "    }\n",
       "\n",
       "    .dataframe tbody tr th {\n",
       "        vertical-align: top;\n",
       "    }\n",
       "\n",
       "    .dataframe thead th {\n",
       "        text-align: right;\n",
       "    }\n",
       "</style>\n",
       "<table border=\"1\" class=\"dataframe\">\n",
       "  <thead>\n",
       "    <tr style=\"text-align: right;\">\n",
       "      <th></th>\n",
       "      <th>이용시작일</th>\n",
       "      <th>인원</th>\n",
       "      <th>평균기온(°C)</th>\n",
       "      <th>일강수량(mm)</th>\n",
       "      <th>평균 풍속(m/s)</th>\n",
       "      <th>일 최심신적설(cm)</th>\n",
       "      <th>일 최심적설(cm)</th>\n",
       "    </tr>\n",
       "  </thead>\n",
       "  <tbody>\n",
       "    <tr>\n",
       "      <th>0</th>\n",
       "      <td>2010-10-27</td>\n",
       "      <td>4</td>\n",
       "      <td>6.2</td>\n",
       "      <td>0.0</td>\n",
       "      <td>2.1</td>\n",
       "      <td>0.0</td>\n",
       "      <td>0.0</td>\n",
       "    </tr>\n",
       "    <tr>\n",
       "      <th>1</th>\n",
       "      <td>2010-10-28</td>\n",
       "      <td>2</td>\n",
       "      <td>7.9</td>\n",
       "      <td>0.0</td>\n",
       "      <td>2.8</td>\n",
       "      <td>0.0</td>\n",
       "      <td>0.0</td>\n",
       "    </tr>\n",
       "    <tr>\n",
       "      <th>2</th>\n",
       "      <td>2010-10-29</td>\n",
       "      <td>3</td>\n",
       "      <td>10.4</td>\n",
       "      <td>0.0</td>\n",
       "      <td>2.7</td>\n",
       "      <td>0.0</td>\n",
       "      <td>0.0</td>\n",
       "    </tr>\n",
       "    <tr>\n",
       "      <th>3</th>\n",
       "      <td>2010-10-30</td>\n",
       "      <td>2</td>\n",
       "      <td>12.0</td>\n",
       "      <td>0.0</td>\n",
       "      <td>2.2</td>\n",
       "      <td>0.0</td>\n",
       "      <td>0.0</td>\n",
       "    </tr>\n",
       "    <tr>\n",
       "      <th>4</th>\n",
       "      <td>2010-11-01</td>\n",
       "      <td>1</td>\n",
       "      <td>11.9</td>\n",
       "      <td>0.0</td>\n",
       "      <td>4.3</td>\n",
       "      <td>0.0</td>\n",
       "      <td>0.0</td>\n",
       "    </tr>\n",
       "  </tbody>\n",
       "</table>\n",
       "</div>"
      ],
      "text/plain": [
       "        이용시작일  인원  평균기온(°C)  일강수량(mm)  평균 풍속(m/s)  일 최심신적설(cm)  일 최심적설(cm)\n",
       "0  2010-10-27   4       6.2       0.0         2.1          0.0         0.0\n",
       "1  2010-10-28   2       7.9       0.0         2.8          0.0         0.0\n",
       "2  2010-10-29   3      10.4       0.0         2.7          0.0         0.0\n",
       "3  2010-10-30   2      12.0       0.0         2.2          0.0         0.0\n",
       "4  2010-11-01   1      11.9       0.0         4.3          0.0         0.0"
      ]
     },
     "execution_count": 26,
     "metadata": {},
     "output_type": "execute_result"
    }
   ],
   "source": [
    "## 필요없는 columns 삭제\n",
    "new_merged.drop(labels = \"일시\", axis = \"columns\", inplace = True)\n",
    "new_merged.head()"
   ]
  },
  {
   "cell_type": "markdown",
   "metadata": {},
   "source": [
    "#### columns 이름 재선언"
   ]
  },
  {
   "cell_type": "code",
   "execution_count": 27,
   "metadata": {},
   "outputs": [
    {
     "data": {
      "text/html": [
       "<div>\n",
       "<style scoped>\n",
       "    .dataframe tbody tr th:only-of-type {\n",
       "        vertical-align: middle;\n",
       "    }\n",
       "\n",
       "    .dataframe tbody tr th {\n",
       "        vertical-align: top;\n",
       "    }\n",
       "\n",
       "    .dataframe thead th {\n",
       "        text-align: right;\n",
       "    }\n",
       "</style>\n",
       "<table border=\"1\" class=\"dataframe\">\n",
       "  <thead>\n",
       "    <tr style=\"text-align: right;\">\n",
       "      <th></th>\n",
       "      <th>date</th>\n",
       "      <th>reserved_num</th>\n",
       "      <th>avg_temp</th>\n",
       "      <th>daily_prec</th>\n",
       "      <th>avg_wind</th>\n",
       "      <th>latest_snow</th>\n",
       "      <th>most_snow</th>\n",
       "    </tr>\n",
       "  </thead>\n",
       "  <tbody>\n",
       "    <tr>\n",
       "      <th>0</th>\n",
       "      <td>2010-10-27</td>\n",
       "      <td>4</td>\n",
       "      <td>6.2</td>\n",
       "      <td>0.0</td>\n",
       "      <td>2.1</td>\n",
       "      <td>0.0</td>\n",
       "      <td>0.0</td>\n",
       "    </tr>\n",
       "    <tr>\n",
       "      <th>1</th>\n",
       "      <td>2010-10-28</td>\n",
       "      <td>2</td>\n",
       "      <td>7.9</td>\n",
       "      <td>0.0</td>\n",
       "      <td>2.8</td>\n",
       "      <td>0.0</td>\n",
       "      <td>0.0</td>\n",
       "    </tr>\n",
       "    <tr>\n",
       "      <th>2</th>\n",
       "      <td>2010-10-29</td>\n",
       "      <td>3</td>\n",
       "      <td>10.4</td>\n",
       "      <td>0.0</td>\n",
       "      <td>2.7</td>\n",
       "      <td>0.0</td>\n",
       "      <td>0.0</td>\n",
       "    </tr>\n",
       "    <tr>\n",
       "      <th>3</th>\n",
       "      <td>2010-10-30</td>\n",
       "      <td>2</td>\n",
       "      <td>12.0</td>\n",
       "      <td>0.0</td>\n",
       "      <td>2.2</td>\n",
       "      <td>0.0</td>\n",
       "      <td>0.0</td>\n",
       "    </tr>\n",
       "    <tr>\n",
       "      <th>4</th>\n",
       "      <td>2010-11-01</td>\n",
       "      <td>1</td>\n",
       "      <td>11.9</td>\n",
       "      <td>0.0</td>\n",
       "      <td>4.3</td>\n",
       "      <td>0.0</td>\n",
       "      <td>0.0</td>\n",
       "    </tr>\n",
       "  </tbody>\n",
       "</table>\n",
       "</div>"
      ],
      "text/plain": [
       "         date  reserved_num  avg_temp  daily_prec  avg_wind  latest_snow  \\\n",
       "0  2010-10-27             4       6.2         0.0       2.1          0.0   \n",
       "1  2010-10-28             2       7.9         0.0       2.8          0.0   \n",
       "2  2010-10-29             3      10.4         0.0       2.7          0.0   \n",
       "3  2010-10-30             2      12.0         0.0       2.2          0.0   \n",
       "4  2010-11-01             1      11.9         0.0       4.3          0.0   \n",
       "\n",
       "   most_snow  \n",
       "0        0.0  \n",
       "1        0.0  \n",
       "2        0.0  \n",
       "3        0.0  \n",
       "4        0.0  "
      ]
     },
     "execution_count": 27,
     "metadata": {},
     "output_type": "execute_result"
    }
   ],
   "source": [
    "## columns의 이름 재선언\n",
    "new_merged.rename(columns = {new_merged.columns[0]:\"date\",\n",
    "                    new_merged.columns[1]:\"reserved_num\",\n",
    "                    new_merged.columns[2]:\"avg_temp\",\n",
    "                    new_merged.columns[3]:\"daily_prec\",\n",
    "                    new_merged.columns[4]:\"avg_wind\",\n",
    "                    new_merged.columns[5]:\"latest_snow\",\n",
    "                    new_merged.columns[6]:\"most_snow\"}, inplace=True)\n",
    "new_merged.head()"
   ]
  },
  {
   "cell_type": "markdown",
   "metadata": {},
   "source": [
    "* date : 이용일\n",
    "\n",
    "* reserved_num : 예약단체 수 (Number of reserved organization\n",
    "\n",
    "* avg_temp : 평균기온\n",
    " \n",
    "* daily_precipitation : 일강수량\n",
    "\n",
    "* avg_wind : 평균풍속\n",
    "\n",
    "* latest_snow : 최신심적설 (새로 와서 쌓인 눈의 두께)\n",
    "\n",
    "* most_snow : 최심적설 (최대로 깊었던 적설량. 며칠씩 쌓인 최대량)"
   ]
  },
  {
   "cell_type": "markdown",
   "metadata": {},
   "source": [
    "#### 결측치 재확인"
   ]
  },
  {
   "cell_type": "code",
   "execution_count": 28,
   "metadata": {},
   "outputs": [
    {
     "name": "stdout",
     "output_type": "stream",
     "text": [
      "merged :  date            0\n",
      "reserved_num    0\n",
      "avg_temp        0\n",
      "daily_prec      0\n",
      "avg_wind        0\n",
      "latest_snow     0\n",
      "most_snow       0\n",
      "dtype: int64\n"
     ]
    }
   ],
   "source": [
    "## 결측치 확인\n",
    "print('merged : ', new_merged.isnull().sum())"
   ]
  },
  {
   "cell_type": "code",
   "execution_count": 29,
   "metadata": {},
   "outputs": [
    {
     "name": "stdout",
     "output_type": "stream",
     "text": [
      "<class 'pandas.core.frame.DataFrame'>\n",
      "Int64Index: 3345 entries, 0 to 3344\n",
      "Data columns (total 7 columns):\n",
      " #   Column        Non-Null Count  Dtype  \n",
      "---  ------        --------------  -----  \n",
      " 0   date          3345 non-null   object \n",
      " 1   reserved_num  3345 non-null   int64  \n",
      " 2   avg_temp      3345 non-null   float64\n",
      " 3   daily_prec    3345 non-null   float64\n",
      " 4   avg_wind      3345 non-null   float64\n",
      " 5   latest_snow   3345 non-null   float64\n",
      " 6   most_snow     3345 non-null   float64\n",
      "dtypes: float64(5), int64(1), object(1)\n",
      "memory usage: 209.1+ KB\n"
     ]
    }
   ],
   "source": [
    "new_merged.info()"
   ]
  },
  {
   "cell_type": "markdown",
   "metadata": {},
   "source": [
    "#### date를 년, 월, 일로 분리하기"
   ]
  },
  {
   "cell_type": "code",
   "execution_count": 30,
   "metadata": {},
   "outputs": [],
   "source": [
    "new_merged['year'] = new_merged.date.str.split('-').str[0]\n",
    "new_merged['month'] = new_merged.date.str.split('-').str[1]\n",
    "new_merged['day'] = new_merged.date.str.split('-').str[2]"
   ]
  },
  {
   "cell_type": "code",
   "execution_count": 31,
   "metadata": {},
   "outputs": [
    {
     "data": {
      "text/html": [
       "<div>\n",
       "<style scoped>\n",
       "    .dataframe tbody tr th:only-of-type {\n",
       "        vertical-align: middle;\n",
       "    }\n",
       "\n",
       "    .dataframe tbody tr th {\n",
       "        vertical-align: top;\n",
       "    }\n",
       "\n",
       "    .dataframe thead th {\n",
       "        text-align: right;\n",
       "    }\n",
       "</style>\n",
       "<table border=\"1\" class=\"dataframe\">\n",
       "  <thead>\n",
       "    <tr style=\"text-align: right;\">\n",
       "      <th></th>\n",
       "      <th>date</th>\n",
       "      <th>reserved_num</th>\n",
       "      <th>avg_temp</th>\n",
       "      <th>daily_prec</th>\n",
       "      <th>avg_wind</th>\n",
       "      <th>latest_snow</th>\n",
       "      <th>most_snow</th>\n",
       "      <th>year</th>\n",
       "      <th>month</th>\n",
       "      <th>day</th>\n",
       "    </tr>\n",
       "  </thead>\n",
       "  <tbody>\n",
       "    <tr>\n",
       "      <th>0</th>\n",
       "      <td>2010-10-27</td>\n",
       "      <td>4</td>\n",
       "      <td>6.2</td>\n",
       "      <td>0.0</td>\n",
       "      <td>2.1</td>\n",
       "      <td>0.0</td>\n",
       "      <td>0.0</td>\n",
       "      <td>2010</td>\n",
       "      <td>10</td>\n",
       "      <td>27</td>\n",
       "    </tr>\n",
       "    <tr>\n",
       "      <th>1</th>\n",
       "      <td>2010-10-28</td>\n",
       "      <td>2</td>\n",
       "      <td>7.9</td>\n",
       "      <td>0.0</td>\n",
       "      <td>2.8</td>\n",
       "      <td>0.0</td>\n",
       "      <td>0.0</td>\n",
       "      <td>2010</td>\n",
       "      <td>10</td>\n",
       "      <td>28</td>\n",
       "    </tr>\n",
       "    <tr>\n",
       "      <th>2</th>\n",
       "      <td>2010-10-29</td>\n",
       "      <td>3</td>\n",
       "      <td>10.4</td>\n",
       "      <td>0.0</td>\n",
       "      <td>2.7</td>\n",
       "      <td>0.0</td>\n",
       "      <td>0.0</td>\n",
       "      <td>2010</td>\n",
       "      <td>10</td>\n",
       "      <td>29</td>\n",
       "    </tr>\n",
       "    <tr>\n",
       "      <th>3</th>\n",
       "      <td>2010-10-30</td>\n",
       "      <td>2</td>\n",
       "      <td>12.0</td>\n",
       "      <td>0.0</td>\n",
       "      <td>2.2</td>\n",
       "      <td>0.0</td>\n",
       "      <td>0.0</td>\n",
       "      <td>2010</td>\n",
       "      <td>10</td>\n",
       "      <td>30</td>\n",
       "    </tr>\n",
       "    <tr>\n",
       "      <th>4</th>\n",
       "      <td>2010-11-01</td>\n",
       "      <td>1</td>\n",
       "      <td>11.9</td>\n",
       "      <td>0.0</td>\n",
       "      <td>4.3</td>\n",
       "      <td>0.0</td>\n",
       "      <td>0.0</td>\n",
       "      <td>2010</td>\n",
       "      <td>11</td>\n",
       "      <td>01</td>\n",
       "    </tr>\n",
       "  </tbody>\n",
       "</table>\n",
       "</div>"
      ],
      "text/plain": [
       "         date  reserved_num  avg_temp  daily_prec  avg_wind  latest_snow  \\\n",
       "0  2010-10-27             4       6.2         0.0       2.1          0.0   \n",
       "1  2010-10-28             2       7.9         0.0       2.8          0.0   \n",
       "2  2010-10-29             3      10.4         0.0       2.7          0.0   \n",
       "3  2010-10-30             2      12.0         0.0       2.2          0.0   \n",
       "4  2010-11-01             1      11.9         0.0       4.3          0.0   \n",
       "\n",
       "   most_snow  year month day  \n",
       "0        0.0  2010    10  27  \n",
       "1        0.0  2010    10  28  \n",
       "2        0.0  2010    10  29  \n",
       "3        0.0  2010    10  30  \n",
       "4        0.0  2010    11  01  "
      ]
     },
     "execution_count": 31,
     "metadata": {},
     "output_type": "execute_result"
    }
   ],
   "source": [
    "new_merged.head()"
   ]
  },
  {
   "cell_type": "markdown",
   "metadata": {},
   "source": [
    "#### year, month, day의 데이터타입을 int로 바꿔주기"
   ]
  },
  {
   "cell_type": "code",
   "execution_count": 32,
   "metadata": {},
   "outputs": [
    {
     "name": "stdout",
     "output_type": "stream",
     "text": [
      "<class 'pandas.core.frame.DataFrame'>\n",
      "Int64Index: 3345 entries, 0 to 3344\n",
      "Data columns (total 10 columns):\n",
      " #   Column        Non-Null Count  Dtype  \n",
      "---  ------        --------------  -----  \n",
      " 0   date          3345 non-null   object \n",
      " 1   reserved_num  3345 non-null   int64  \n",
      " 2   avg_temp      3345 non-null   float64\n",
      " 3   daily_prec    3345 non-null   float64\n",
      " 4   avg_wind      3345 non-null   float64\n",
      " 5   latest_snow   3345 non-null   float64\n",
      " 6   most_snow     3345 non-null   float64\n",
      " 7   year          3345 non-null   object \n",
      " 8   month         3345 non-null   object \n",
      " 9   day           3345 non-null   object \n",
      "dtypes: float64(5), int64(1), object(4)\n",
      "memory usage: 287.5+ KB\n"
     ]
    }
   ],
   "source": [
    "new_merged.info()"
   ]
  },
  {
   "cell_type": "code",
   "execution_count": 33,
   "metadata": {},
   "outputs": [],
   "source": [
    "new_merged['year'] = pd.to_numeric(new_merged.year)\n",
    "new_merged['month'] = pd.to_numeric(new_merged.month)\n",
    "new_merged['day'] = pd.to_numeric(new_merged.day)"
   ]
  },
  {
   "cell_type": "code",
   "execution_count": 34,
   "metadata": {},
   "outputs": [
    {
     "name": "stdout",
     "output_type": "stream",
     "text": [
      "<class 'pandas.core.frame.DataFrame'>\n",
      "Int64Index: 3345 entries, 0 to 3344\n",
      "Data columns (total 10 columns):\n",
      " #   Column        Non-Null Count  Dtype  \n",
      "---  ------        --------------  -----  \n",
      " 0   date          3345 non-null   object \n",
      " 1   reserved_num  3345 non-null   int64  \n",
      " 2   avg_temp      3345 non-null   float64\n",
      " 3   daily_prec    3345 non-null   float64\n",
      " 4   avg_wind      3345 non-null   float64\n",
      " 5   latest_snow   3345 non-null   float64\n",
      " 6   most_snow     3345 non-null   float64\n",
      " 7   year          3345 non-null   int64  \n",
      " 8   month         3345 non-null   int64  \n",
      " 9   day           3345 non-null   int64  \n",
      "dtypes: float64(5), int64(4), object(1)\n",
      "memory usage: 287.5+ KB\n"
     ]
    }
   ],
   "source": [
    "new_merged.info()"
   ]
  },
  {
   "cell_type": "markdown",
   "metadata": {},
   "source": [
    "#### 계절 범주화"
   ]
  },
  {
   "cell_type": "markdown",
   "metadata": {},
   "source": [
    "봄 : 3월, 4월, 5월 -> 1\n",
    "\n",
    "여름 : 6월, 7월, 8월 -> 2\n",
    "\n",
    "가을 : 9월, 10월, 11월 -> 3\n",
    "\n",
    "겨울 : 12월, 1월, 2월 -> 4"
   ]
  },
  {
   "cell_type": "code",
   "execution_count": 35,
   "metadata": {},
   "outputs": [],
   "source": [
    "def func(x):\n",
    "    if (x == 3) or (x == 4) or (x == 5):\n",
    "        return 1\n",
    "    elif (x == 6) or (x == 7) or (x == 8):\n",
    "        return 2\n",
    "    elif (x == 9) or (x == 10) or (x == 11):\n",
    "        return 3\n",
    "    else:\n",
    "        return 4"
   ]
  },
  {
   "cell_type": "code",
   "execution_count": 36,
   "metadata": {},
   "outputs": [],
   "source": [
    "new_merged['season'] = new_merged['month'].apply(lambda x : func(x))"
   ]
  },
  {
   "cell_type": "markdown",
   "metadata": {},
   "source": [
    "month의 값을 함수 func에 넣어 return 값을 받아온다.\n",
    "\n",
    "그리고 그 값을 season 열을 만들어 넣어준다."
   ]
  },
  {
   "cell_type": "code",
   "execution_count": 37,
   "metadata": {},
   "outputs": [
    {
     "data": {
      "text/html": [
       "<div>\n",
       "<style scoped>\n",
       "    .dataframe tbody tr th:only-of-type {\n",
       "        vertical-align: middle;\n",
       "    }\n",
       "\n",
       "    .dataframe tbody tr th {\n",
       "        vertical-align: top;\n",
       "    }\n",
       "\n",
       "    .dataframe thead th {\n",
       "        text-align: right;\n",
       "    }\n",
       "</style>\n",
       "<table border=\"1\" class=\"dataframe\">\n",
       "  <thead>\n",
       "    <tr style=\"text-align: right;\">\n",
       "      <th></th>\n",
       "      <th>date</th>\n",
       "      <th>reserved_num</th>\n",
       "      <th>avg_temp</th>\n",
       "      <th>daily_prec</th>\n",
       "      <th>avg_wind</th>\n",
       "      <th>latest_snow</th>\n",
       "      <th>most_snow</th>\n",
       "      <th>year</th>\n",
       "      <th>month</th>\n",
       "      <th>day</th>\n",
       "      <th>season</th>\n",
       "    </tr>\n",
       "  </thead>\n",
       "  <tbody>\n",
       "    <tr>\n",
       "      <th>0</th>\n",
       "      <td>2010-10-27</td>\n",
       "      <td>4</td>\n",
       "      <td>6.2</td>\n",
       "      <td>0.0</td>\n",
       "      <td>2.1</td>\n",
       "      <td>0.0</td>\n",
       "      <td>0.0</td>\n",
       "      <td>2010</td>\n",
       "      <td>10</td>\n",
       "      <td>27</td>\n",
       "      <td>3</td>\n",
       "    </tr>\n",
       "    <tr>\n",
       "      <th>1</th>\n",
       "      <td>2010-10-28</td>\n",
       "      <td>2</td>\n",
       "      <td>7.9</td>\n",
       "      <td>0.0</td>\n",
       "      <td>2.8</td>\n",
       "      <td>0.0</td>\n",
       "      <td>0.0</td>\n",
       "      <td>2010</td>\n",
       "      <td>10</td>\n",
       "      <td>28</td>\n",
       "      <td>3</td>\n",
       "    </tr>\n",
       "    <tr>\n",
       "      <th>2</th>\n",
       "      <td>2010-10-29</td>\n",
       "      <td>3</td>\n",
       "      <td>10.4</td>\n",
       "      <td>0.0</td>\n",
       "      <td>2.7</td>\n",
       "      <td>0.0</td>\n",
       "      <td>0.0</td>\n",
       "      <td>2010</td>\n",
       "      <td>10</td>\n",
       "      <td>29</td>\n",
       "      <td>3</td>\n",
       "    </tr>\n",
       "    <tr>\n",
       "      <th>3</th>\n",
       "      <td>2010-10-30</td>\n",
       "      <td>2</td>\n",
       "      <td>12.0</td>\n",
       "      <td>0.0</td>\n",
       "      <td>2.2</td>\n",
       "      <td>0.0</td>\n",
       "      <td>0.0</td>\n",
       "      <td>2010</td>\n",
       "      <td>10</td>\n",
       "      <td>30</td>\n",
       "      <td>3</td>\n",
       "    </tr>\n",
       "    <tr>\n",
       "      <th>4</th>\n",
       "      <td>2010-11-01</td>\n",
       "      <td>1</td>\n",
       "      <td>11.9</td>\n",
       "      <td>0.0</td>\n",
       "      <td>4.3</td>\n",
       "      <td>0.0</td>\n",
       "      <td>0.0</td>\n",
       "      <td>2010</td>\n",
       "      <td>11</td>\n",
       "      <td>1</td>\n",
       "      <td>3</td>\n",
       "    </tr>\n",
       "  </tbody>\n",
       "</table>\n",
       "</div>"
      ],
      "text/plain": [
       "         date  reserved_num  avg_temp  daily_prec  avg_wind  latest_snow  \\\n",
       "0  2010-10-27             4       6.2         0.0       2.1          0.0   \n",
       "1  2010-10-28             2       7.9         0.0       2.8          0.0   \n",
       "2  2010-10-29             3      10.4         0.0       2.7          0.0   \n",
       "3  2010-10-30             2      12.0         0.0       2.2          0.0   \n",
       "4  2010-11-01             1      11.9         0.0       4.3          0.0   \n",
       "\n",
       "   most_snow  year  month  day  season  \n",
       "0        0.0  2010     10   27       3  \n",
       "1        0.0  2010     10   28       3  \n",
       "2        0.0  2010     10   29       3  \n",
       "3        0.0  2010     10   30       3  \n",
       "4        0.0  2010     11    1       3  "
      ]
     },
     "execution_count": 37,
     "metadata": {},
     "output_type": "execute_result"
    }
   ],
   "source": [
    "new_merged.head()"
   ]
  },
  {
   "cell_type": "markdown",
   "metadata": {},
   "source": [
    "#### 계절별 예약자수 시각화"
   ]
  },
  {
   "cell_type": "code",
   "execution_count": 38,
   "metadata": {},
   "outputs": [
    {
     "data": {
      "image/png": "[encoded data removed]",
      "text/plain": [
       "<Figure size 432x288 with 1 Axes>"
      ]
     },
     "metadata": {},
     "output_type": "display_data"
    }
   ],
   "source": [
    "group_season = new_merged.groupby(['season'])['reserved_num'].sum().reset_index()\n",
    "ax = sns.barplot(x = group_season['season'], y = group_season['reserved_num'])\n",
    "ax.set(xlabel='season', ylabel='reserved_num')\n",
    "plt.show()"
   ]
  },
  {
   "cell_type": "markdown",
   "metadata": {},
   "source": [
    "계절간 예약자 수가 큰 차이 없는 것으로 보인다. 다만 겨울인 4 범위에서 예약자 수가 가장 없다는 것을 알 수 있다."
   ]
  },
  {
   "cell_type": "markdown",
   "metadata": {},
   "source": [
    "#### avg_temp 범주화"
   ]
  },
  {
   "cell_type": "code",
   "execution_count": 39,
   "metadata": {},
   "outputs": [
    {
     "data": {
      "image/png": "[encoded data removed]",
      "text/plain": [
       "<Figure size 2088x1080 with 1 Axes>"
      ]
     },
     "metadata": {},
     "output_type": "display_data"
    }
   ],
   "source": [
    "plt.figure(figsize=(29,15))\n",
    "group_season = new_merged.groupby(['avg_temp'])['reserved_num'].sum().reset_index()\n",
    "ax = sns.barplot(x = group_season['avg_temp'], y = group_season['reserved_num'])\n",
    "ax.set(xlabel='avg_temp', ylabel='reserved_num')\n",
    "plt.show()"
   ]
  },
  {
   "cell_type": "code",
   "execution_count": 40,
   "metadata": {},
   "outputs": [
    {
     "data": {
      "text/plain": [
       "31.8"
      ]
     },
     "execution_count": 40,
     "metadata": {},
     "output_type": "execute_result"
    }
   ],
   "source": [
    "new_merged[\"avg_temp\"].max()"
   ]
  },
  {
   "cell_type": "code",
   "execution_count": 41,
   "metadata": {},
   "outputs": [
    {
     "data": {
      "text/plain": [
       "-14.6"
      ]
     },
     "execution_count": 41,
     "metadata": {},
     "output_type": "execute_result"
    }
   ],
   "source": [
    "new_merged[\"avg_temp\"].min()"
   ]
  },
  {
   "cell_type": "code",
   "execution_count": 42,
   "metadata": {},
   "outputs": [],
   "source": [
    "def func(x):\n",
    "    if (x <= -5):\n",
    "        return 0\n",
    "    elif (x > -5) and (x <= 0):\n",
    "        return 1\n",
    "    elif (x > 0) and (x <= 5):\n",
    "        return 2\n",
    "    elif (x > 5) and (x <= 10):\n",
    "        return 3\n",
    "    elif (x > 10) and (x <= 15):\n",
    "        return 4\n",
    "    elif (x > 15) and (x <= 20):\n",
    "        return 5\n",
    "    elif (x > 20) and (x <= 25):\n",
    "        return 6\n",
    "    elif (x > 25) and (x <= 30):\n",
    "        return 7\n",
    "    else:\n",
    "        return 8 "
   ]
  },
  {
   "cell_type": "code",
   "execution_count": 43,
   "metadata": {},
   "outputs": [],
   "source": [
    "new_merged['temp'] = new_merged['avg_temp'].apply(lambda x : func(x))"
   ]
  },
  {
   "cell_type": "code",
   "execution_count": 44,
   "metadata": {},
   "outputs": [
    {
     "data": {
      "text/html": [
       "<div>\n",
       "<style scoped>\n",
       "    .dataframe tbody tr th:only-of-type {\n",
       "        vertical-align: middle;\n",
       "    }\n",
       "\n",
       "    .dataframe tbody tr th {\n",
       "        vertical-align: top;\n",
       "    }\n",
       "\n",
       "    .dataframe thead th {\n",
       "        text-align: right;\n",
       "    }\n",
       "</style>\n",
       "<table border=\"1\" class=\"dataframe\">\n",
       "  <thead>\n",
       "    <tr style=\"text-align: right;\">\n",
       "      <th></th>\n",
       "      <th>date</th>\n",
       "      <th>reserved_num</th>\n",
       "      <th>avg_temp</th>\n",
       "      <th>daily_prec</th>\n",
       "      <th>avg_wind</th>\n",
       "      <th>latest_snow</th>\n",
       "      <th>most_snow</th>\n",
       "      <th>year</th>\n",
       "      <th>month</th>\n",
       "      <th>day</th>\n",
       "      <th>season</th>\n",
       "      <th>temp</th>\n",
       "    </tr>\n",
       "  </thead>\n",
       "  <tbody>\n",
       "    <tr>\n",
       "      <th>0</th>\n",
       "      <td>2010-10-27</td>\n",
       "      <td>4</td>\n",
       "      <td>6.2</td>\n",
       "      <td>0.0</td>\n",
       "      <td>2.1</td>\n",
       "      <td>0.0</td>\n",
       "      <td>0.0</td>\n",
       "      <td>2010</td>\n",
       "      <td>10</td>\n",
       "      <td>27</td>\n",
       "      <td>3</td>\n",
       "      <td>3</td>\n",
       "    </tr>\n",
       "    <tr>\n",
       "      <th>1</th>\n",
       "      <td>2010-10-28</td>\n",
       "      <td>2</td>\n",
       "      <td>7.9</td>\n",
       "      <td>0.0</td>\n",
       "      <td>2.8</td>\n",
       "      <td>0.0</td>\n",
       "      <td>0.0</td>\n",
       "      <td>2010</td>\n",
       "      <td>10</td>\n",
       "      <td>28</td>\n",
       "      <td>3</td>\n",
       "      <td>3</td>\n",
       "    </tr>\n",
       "    <tr>\n",
       "      <th>2</th>\n",
       "      <td>2010-10-29</td>\n",
       "      <td>3</td>\n",
       "      <td>10.4</td>\n",
       "      <td>0.0</td>\n",
       "      <td>2.7</td>\n",
       "      <td>0.0</td>\n",
       "      <td>0.0</td>\n",
       "      <td>2010</td>\n",
       "      <td>10</td>\n",
       "      <td>29</td>\n",
       "      <td>3</td>\n",
       "      <td>4</td>\n",
       "    </tr>\n",
       "    <tr>\n",
       "      <th>3</th>\n",
       "      <td>2010-10-30</td>\n",
       "      <td>2</td>\n",
       "      <td>12.0</td>\n",
       "      <td>0.0</td>\n",
       "      <td>2.2</td>\n",
       "      <td>0.0</td>\n",
       "      <td>0.0</td>\n",
       "      <td>2010</td>\n",
       "      <td>10</td>\n",
       "      <td>30</td>\n",
       "      <td>3</td>\n",
       "      <td>4</td>\n",
       "    </tr>\n",
       "    <tr>\n",
       "      <th>4</th>\n",
       "      <td>2010-11-01</td>\n",
       "      <td>1</td>\n",
       "      <td>11.9</td>\n",
       "      <td>0.0</td>\n",
       "      <td>4.3</td>\n",
       "      <td>0.0</td>\n",
       "      <td>0.0</td>\n",
       "      <td>2010</td>\n",
       "      <td>11</td>\n",
       "      <td>1</td>\n",
       "      <td>3</td>\n",
       "      <td>4</td>\n",
       "    </tr>\n",
       "  </tbody>\n",
       "</table>\n",
       "</div>"
      ],
      "text/plain": [
       "         date  reserved_num  avg_temp  daily_prec  avg_wind  latest_snow  \\\n",
       "0  2010-10-27             4       6.2         0.0       2.1          0.0   \n",
       "1  2010-10-28             2       7.9         0.0       2.8          0.0   \n",
       "2  2010-10-29             3      10.4         0.0       2.7          0.0   \n",
       "3  2010-10-30             2      12.0         0.0       2.2          0.0   \n",
       "4  2010-11-01             1      11.9         0.0       4.3          0.0   \n",
       "\n",
       "   most_snow  year  month  day  season  temp  \n",
       "0        0.0  2010     10   27       3     3  \n",
       "1        0.0  2010     10   28       3     3  \n",
       "2        0.0  2010     10   29       3     4  \n",
       "3        0.0  2010     10   30       3     4  \n",
       "4        0.0  2010     11    1       3     4  "
      ]
     },
     "execution_count": 44,
     "metadata": {},
     "output_type": "execute_result"
    }
   ],
   "source": [
    "new_merged.head()"
   ]
  },
  {
   "cell_type": "markdown",
   "metadata": {},
   "source": [
    "#### 범주화된 temp 별 예약자수 시각화"
   ]
  },
  {
   "cell_type": "code",
   "execution_count": 45,
   "metadata": {},
   "outputs": [
    {
     "data": {
      "image/png": "[encoded data removed]",
      "text/plain": [
       "<Figure size 864x504 with 1 Axes>"
      ]
     },
     "metadata": {},
     "output_type": "display_data"
    }
   ],
   "source": [
    "plt.figure(figsize=(12,7))\n",
    "group_season = new_merged.groupby(['temp'])['reserved_num'].sum().reset_index()\n",
    "ax = sns.barplot(x = group_season['temp'], y = group_season['reserved_num'])\n",
    "ax.set(xlabel='temp', ylabel='reserved_num')\n",
    "plt.show()"
   ]
  },
  {
   "cell_type": "markdown",
   "metadata": {},
   "source": [
    "온도별 예약자 수는 큰 차이를 보인다. 온도가 30도 초과일 때에는 예약자 수가 가장 적었다는 것을 알 수 있다. 그리고 온도가 -5도 이하일 때에도 예약자 수가 적었다. 이는 기온이 예약자 수에 영향을 줌을 의미한다고 생각한다."
   ]
  },
  {
   "cell_type": "markdown",
   "metadata": {},
   "source": [
    "#### avg_wind 범주화"
   ]
  },
  {
   "cell_type": "code",
   "execution_count": 46,
   "metadata": {},
   "outputs": [
    {
     "data": {
      "image/png": "[encoded data removed]",
      "text/plain": [
       "<Figure size 2088x1080 with 1 Axes>"
      ]
     },
     "metadata": {},
     "output_type": "display_data"
    }
   ],
   "source": [
    "plt.figure(figsize=(29,15))\n",
    "group_season = new_merged.groupby(['avg_wind'])['reserved_num'].sum().reset_index()\n",
    "ax = sns.barplot(x = group_season['avg_wind'], y = group_season['reserved_num'])\n",
    "ax.set(xlabel='avg_wind', ylabel='reserved_num')\n",
    "plt.show()"
   ]
  },
  {
   "cell_type": "code",
   "execution_count": 47,
   "metadata": {},
   "outputs": [
    {
     "data": {
      "text/plain": [
       "9.3"
      ]
     },
     "execution_count": 47,
     "metadata": {},
     "output_type": "execute_result"
    }
   ],
   "source": [
    "new_merged[\"avg_wind\"].max()"
   ]
  },
  {
   "cell_type": "code",
   "execution_count": 48,
   "metadata": {},
   "outputs": [
    {
     "data": {
      "text/plain": [
       "0.0"
      ]
     },
     "execution_count": 48,
     "metadata": {},
     "output_type": "execute_result"
    }
   ],
   "source": [
    "new_merged[\"avg_wind\"].min()"
   ]
  },
  {
   "cell_type": "code",
   "execution_count": 49,
   "metadata": {},
   "outputs": [],
   "source": [
    "def func(x):\n",
    "    if (x <= 0.0):\n",
    "        return 0\n",
    "    elif (x > 0.0) and (x <= 2):\n",
    "        return 1\n",
    "    elif (x > 2) and (x <= 4):\n",
    "        return 2\n",
    "    elif (x > 4) and (x <= 6):\n",
    "        return 3\n",
    "    elif (x > 6) and (x <= 8):\n",
    "        return 4\n",
    "    else:\n",
    "        return 5"
   ]
  },
  {
   "cell_type": "code",
   "execution_count": 50,
   "metadata": {},
   "outputs": [],
   "source": [
    "new_merged['wind'] = new_merged['avg_wind'].apply(lambda x : func(x))"
   ]
  },
  {
   "cell_type": "markdown",
   "metadata": {},
   "source": [
    "#### 범주화된 wind 별 예약자수 시각화"
   ]
  },
  {
   "cell_type": "code",
   "execution_count": 51,
   "metadata": {},
   "outputs": [
    {
     "data": {
      "image/png": "[encoded data removed]",
      "text/plain": [
       "<Figure size 864x504 with 1 Axes>"
      ]
     },
     "metadata": {},
     "output_type": "display_data"
    }
   ],
   "source": [
    "plt.figure(figsize=(12,7))\n",
    "group_season = new_merged.groupby(['wind'])['reserved_num'].sum().reset_index()\n",
    "ax = sns.barplot(x = group_season['wind'], y = group_season['reserved_num'])\n",
    "ax.set(xlabel='wind', ylabel='reserved_num')\n",
    "plt.show()"
   ]
  },
  {
   "cell_type": "markdown",
   "metadata": {},
   "source": [
    "풍속에 따라서도 예약자 수가 큰 차이를 보였다. 바람이 가장 많이 부는 범위에서 예약자 수가 급격히 감소하였다. 이를 통해 풍속도 예약에 영향을 준다고 생각된다."
   ]
  },
  {
   "cell_type": "markdown",
   "metadata": {},
   "source": [
    "#### 이상치"
   ]
  },
  {
   "cell_type": "code",
   "execution_count": 52,
   "metadata": {},
   "outputs": [
    {
     "data": {
      "text/plain": [
       "<matplotlib.axes._subplots.AxesSubplot at 0x241707b5248>"
      ]
     },
     "execution_count": 52,
     "metadata": {},
     "output_type": "execute_result"
    },
    {
     "data": {
      "image/png": "[encoded data removed]",
      "text/plain": [
       "<Figure size 432x288 with 1 Axes>"
      ]
     },
     "metadata": {},
     "output_type": "display_data"
    },
    {
     "data": {
      "image/png": "[encoded data removed]",
      "text/plain": [
       "<Figure size 432x288 with 1 Axes>"
      ]
     },
     "metadata": {},
     "output_type": "display_data"
    },
    {
     "data": {
      "image/png": "[encoded data removed]",
      "text/plain": [
       "<Figure size 432x288 with 1 Axes>"
      ]
     },
     "metadata": {},
     "output_type": "display_data"
    },
    {
     "data": {
      "image/png": "[encoded data removed]",
      "text/plain": [
       "<Figure size 432x288 with 1 Axes>"
      ]
     },
     "metadata": {},
     "output_type": "display_data"
    },
    {
     "data": {
      "image/png": "[encoded data removed]",
      "text/plain": [
       "<Figure size 432x288 with 1 Axes>"
      ]
     },
     "metadata": {},
     "output_type": "display_data"
    },
    {
     "data": {
      "image/png": "[encoded data removed]",
      "text/plain": [
       "<Figure size 432x288 with 1 Axes>"
      ]
     },
     "metadata": {},
     "output_type": "display_data"
    },
    {
     "data": {
      "image/png": "[encoded data removed]",
      "text/plain": [
       "<Figure size 432x288 with 1 Axes>"
      ]
     },
     "metadata": {},
     "output_type": "display_data"
    },
    {
     "data": {
      "image/png": "[encoded data removed]",
      "text/plain": [
       "<Figure size 432x288 with 1 Axes>"
      ]
     },
     "metadata": {},
     "output_type": "display_data"
    },
    {
     "data": {
      "image/png": "[encoded data removed]",
      "text/plain": [
       "<Figure size 432x288 with 1 Axes>"
      ]
     },
     "metadata": {},
     "output_type": "display_data"
    },
    {
     "data": {
      "image/png": "[encoded data removed]",
      "text/plain": [
       "<Figure size 432x288 with 1 Axes>"
      ]
     },
     "metadata": {},
     "output_type": "display_data"
    }
   ],
   "source": [
    "new_merged.plot(kind = 'box', y = 'reserved_num')\n",
    "new_merged.plot(kind = 'box', y = 'avg_temp')\n",
    "new_merged.plot(kind = 'box', y = 'daily_prec')\n",
    "new_merged.plot(kind = 'box', y = 'avg_wind')\n",
    "new_merged.plot(kind = 'box', y = 'most_snow')\n",
    "new_merged.plot(kind = 'box', y = 'year')\n",
    "new_merged.plot(kind = 'box', y = 'month')\n",
    "new_merged.plot(kind = 'box', y = 'day')\n",
    "new_merged.plot(kind = 'box', y = 'temp')\n",
    "new_merged.plot(kind = 'box', y = 'wind')"
   ]
  },
  {
   "cell_type": "markdown",
   "metadata": {},
   "source": [
    "### (3) Modification"
   ]
  },
  {
   "cell_type": "markdown",
   "metadata": {},
   "source": [
    "### - 정규성"
   ]
  },
  {
   "cell_type": "markdown",
   "metadata": {},
   "source": [
    "#### 히스토그램"
   ]
  },
  {
   "cell_type": "code",
   "execution_count": 53,
   "metadata": {
    "scrolled": false
   },
   "outputs": [
    {
     "data": {
      "image/png": "[encoded data removed]",
      "text/plain": [
       "<Figure size 1152x648 with 8 Axes>"
      ]
     },
     "metadata": {},
     "output_type": "display_data"
    }
   ],
   "source": [
    "f, a = plt.subplots(3, 4, figsize=(16, 9))\n",
    "\n",
    "plt.subplot(3, 3, 1)\n",
    "plt.hist(new_merged['reserved_num'], color='blue', bins=100)\n",
    "plt.subplot(3, 3, 2)\n",
    "plt.hist(new_merged['avg_temp'], color='red', bins=100)\n",
    "plt.subplot(3, 3, 3)\n",
    "plt.hist(new_merged['daily_prec'], color='green', bins=100)\n",
    "plt.subplot(3, 3, 4)\n",
    "plt.hist(new_merged['avg_wind'], color='yellow', bins=100)\n",
    "plt.subplot(3, 3, 5)\n",
    "plt.hist(new_merged['latest_snow'], color='orange', bins=100)\n",
    "plt.subplot(3, 3, 6)\n",
    "plt.hist(new_merged['most_snow'], color='black', bins=100)\n",
    "plt.subplot(3, 3, 7)\n",
    "plt.hist(new_merged['year'], color='white', bins=100)\n",
    "plt.subplot(3, 3, 8)\n",
    "plt.hist(new_merged['month'], color='blue', bins=100)\n",
    "plt.subplot(3, 3, 9)\n",
    "plt.hist(new_merged['day'], color='red', bins=100)\n",
    "plt.subplot(3, 4, 10)\n",
    "plt.hist(new_merged['wind'], color='red', bins=100)\n",
    "plt.subplot(3, 4, 11)\n",
    "plt.hist(new_merged['temp'], color='red', bins=100)\n",
    "\n",
    "plt.show()"
   ]
  },
  {
   "cell_type": "markdown",
   "metadata": {},
   "source": [
    "#### Skewness"
   ]
  },
  {
   "cell_type": "code",
   "execution_count": 54,
   "metadata": {},
   "outputs": [
    {
     "data": {
      "text/plain": [
       "<matplotlib.axes._subplots.AxesSubplot at 0x241726d7188>"
      ]
     },
     "execution_count": 54,
     "metadata": {},
     "output_type": "execute_result"
    },
    {
     "data": {
      "image/png": "[encoded data removed]",
      "text/plain": [
       "<Figure size 432x288 with 1 Axes>"
      ]
     },
     "metadata": {},
     "output_type": "display_data"
    }
   ],
   "source": [
    "sns.distplot(new_merged['reserved_num'])"
   ]
  },
  {
   "cell_type": "code",
   "execution_count": 55,
   "metadata": {},
   "outputs": [
    {
     "data": {
      "text/plain": [
       "<matplotlib.axes._subplots.AxesSubplot at 0x2416f504a48>"
      ]
     },
     "execution_count": 55,
     "metadata": {},
     "output_type": "execute_result"
    },
    {
     "data": {
      "image/png": "[encoded data removed]",
      "text/plain": [
       "<Figure size 432x288 with 1 Axes>"
      ]
     },
     "metadata": {},
     "output_type": "display_data"
    }
   ],
   "source": [
    "sns.distplot(new_merged['avg_temp'])"
   ]
  },
  {
   "cell_type": "code",
   "execution_count": 56,
   "metadata": {},
   "outputs": [
    {
     "data": {
      "text/plain": [
       "<matplotlib.axes._subplots.AxesSubplot at 0x2416fd900c8>"
      ]
     },
     "execution_count": 56,
     "metadata": {},
     "output_type": "execute_result"
    },
    {
     "data": {
      "image/png": "[encoded data removed]",
      "text/plain": [
       "<Figure size 432x288 with 1 Axes>"
      ]
     },
     "metadata": {},
     "output_type": "display_data"
    }
   ],
   "source": [
    "sns.distplot(new_merged['daily_prec'])"
   ]
  },
  {
   "cell_type": "code",
   "execution_count": 57,
   "metadata": {},
   "outputs": [
    {
     "data": {
      "text/plain": [
       "<matplotlib.axes._subplots.AxesSubplot at 0x241726bb708>"
      ]
     },
     "execution_count": 57,
     "metadata": {},
     "output_type": "execute_result"
    },
    {
     "data": {
      "image/png": "[encoded data removed]",
      "text/plain": [
       "<Figure size 432x288 with 1 Axes>"
      ]
     },
     "metadata": {},
     "output_type": "display_data"
    }
   ],
   "source": [
    "sns.distplot(new_merged['avg_wind'])"
   ]
  },
  {
   "cell_type": "code",
   "execution_count": 58,
   "metadata": {},
   "outputs": [],
   "source": [
    "from sklearn.preprocessing import LabelEncoder\n",
    "from scipy import stats\n",
    "from scipy.stats import norm, skew"
   ]
  },
  {
   "cell_type": "code",
   "execution_count": 59,
   "metadata": {},
   "outputs": [
    {
     "data": {
      "text/plain": [
       "Index(['reserved_num', 'avg_temp', 'daily_prec', 'avg_wind', 'latest_snow',\n",
       "       'most_snow', 'year', 'month', 'day', 'season', 'temp', 'wind'],\n",
       "      dtype='object')"
      ]
     },
     "execution_count": 59,
     "metadata": {},
     "output_type": "execute_result"
    }
   ],
   "source": [
    "# get the numeric values\n",
    "numeric_features = new_merged.dtypes[new_merged.dtypes != \"object\"].index\n",
    "numeric_features"
   ]
  },
  {
   "cell_type": "code",
   "execution_count": 60,
   "metadata": {},
   "outputs": [
    {
     "name": "stdout",
     "output_type": "stream",
     "text": [
      "\n",
      "Sekw in numerical features: \n",
      "\n"
     ]
    },
    {
     "data": {
      "text/html": [
       "<div>\n",
       "<style scoped>\n",
       "    .dataframe tbody tr th:only-of-type {\n",
       "        vertical-align: middle;\n",
       "    }\n",
       "\n",
       "    .dataframe tbody tr th {\n",
       "        vertical-align: top;\n",
       "    }\n",
       "\n",
       "    .dataframe thead th {\n",
       "        text-align: right;\n",
       "    }\n",
       "</style>\n",
       "<table border=\"1\" class=\"dataframe\">\n",
       "  <thead>\n",
       "    <tr style=\"text-align: right;\">\n",
       "      <th></th>\n",
       "      <th>Skew</th>\n",
       "    </tr>\n",
       "  </thead>\n",
       "  <tbody>\n",
       "    <tr>\n",
       "      <th>latest_snow</th>\n",
       "      <td>11.865511</td>\n",
       "    </tr>\n",
       "    <tr>\n",
       "      <th>most_snow</th>\n",
       "      <td>7.901223</td>\n",
       "    </tr>\n",
       "    <tr>\n",
       "      <th>daily_prec</th>\n",
       "      <td>7.473625</td>\n",
       "    </tr>\n",
       "    <tr>\n",
       "      <th>reserved_num</th>\n",
       "      <td>1.569700</td>\n",
       "    </tr>\n",
       "    <tr>\n",
       "      <th>avg_wind</th>\n",
       "      <td>1.360955</td>\n",
       "    </tr>\n",
       "    <tr>\n",
       "      <th>wind</th>\n",
       "      <td>0.750264</td>\n",
       "    </tr>\n",
       "    <tr>\n",
       "      <th>day</th>\n",
       "      <td>0.004046</td>\n",
       "    </tr>\n",
       "    <tr>\n",
       "      <th>season</th>\n",
       "      <td>-0.014596</td>\n",
       "    </tr>\n",
       "    <tr>\n",
       "      <th>year</th>\n",
       "      <td>-0.020669</td>\n",
       "    </tr>\n",
       "    <tr>\n",
       "      <th>month</th>\n",
       "      <td>-0.032070</td>\n",
       "    </tr>\n",
       "    <tr>\n",
       "      <th>temp</th>\n",
       "      <td>-0.201253</td>\n",
       "    </tr>\n",
       "    <tr>\n",
       "      <th>avg_temp</th>\n",
       "      <td>-0.234188</td>\n",
       "    </tr>\n",
       "  </tbody>\n",
       "</table>\n",
       "</div>"
      ],
      "text/plain": [
       "                   Skew\n",
       "latest_snow   11.865511\n",
       "most_snow      7.901223\n",
       "daily_prec     7.473625\n",
       "reserved_num   1.569700\n",
       "avg_wind       1.360955\n",
       "wind           0.750264\n",
       "day            0.004046\n",
       "season        -0.014596\n",
       "year          -0.020669\n",
       "month         -0.032070\n",
       "temp          -0.201253\n",
       "avg_temp      -0.234188"
      ]
     },
     "execution_count": 60,
     "metadata": {},
     "output_type": "execute_result"
    }
   ],
   "source": [
    "# check the skew of all numerical features\n",
    "skewed_feats = new_merged[numeric_features].apply(lambda x: skew(x.dropna())).sort_values(ascending=False)\n",
    "print(\"\\nSekw in numerical features: \\n\")\n",
    "skewness = pd.DataFrame({'Skew' :skewed_feats})\n",
    "skewness"
   ]
  },
  {
   "cell_type": "code",
   "execution_count": 61,
   "metadata": {},
   "outputs": [
    {
     "data": {
      "text/html": [
       "<div>\n",
       "<style scoped>\n",
       "    .dataframe tbody tr th:only-of-type {\n",
       "        vertical-align: middle;\n",
       "    }\n",
       "\n",
       "    .dataframe tbody tr th {\n",
       "        vertical-align: top;\n",
       "    }\n",
       "\n",
       "    .dataframe thead th {\n",
       "        text-align: right;\n",
       "    }\n",
       "</style>\n",
       "<table border=\"1\" class=\"dataframe\">\n",
       "  <thead>\n",
       "    <tr style=\"text-align: right;\">\n",
       "      <th></th>\n",
       "      <th>Skew</th>\n",
       "    </tr>\n",
       "  </thead>\n",
       "  <tbody>\n",
       "    <tr>\n",
       "      <th>latest_snow</th>\n",
       "      <td>11.865511</td>\n",
       "    </tr>\n",
       "    <tr>\n",
       "      <th>most_snow</th>\n",
       "      <td>7.901223</td>\n",
       "    </tr>\n",
       "    <tr>\n",
       "      <th>daily_prec</th>\n",
       "      <td>7.473625</td>\n",
       "    </tr>\n",
       "    <tr>\n",
       "      <th>reserved_num</th>\n",
       "      <td>1.569700</td>\n",
       "    </tr>\n",
       "    <tr>\n",
       "      <th>avg_wind</th>\n",
       "      <td>1.360955</td>\n",
       "    </tr>\n",
       "    <tr>\n",
       "      <th>wind</th>\n",
       "      <td>0.750264</td>\n",
       "    </tr>\n",
       "    <tr>\n",
       "      <th>day</th>\n",
       "      <td>NaN</td>\n",
       "    </tr>\n",
       "    <tr>\n",
       "      <th>season</th>\n",
       "      <td>NaN</td>\n",
       "    </tr>\n",
       "    <tr>\n",
       "      <th>year</th>\n",
       "      <td>NaN</td>\n",
       "    </tr>\n",
       "    <tr>\n",
       "      <th>month</th>\n",
       "      <td>NaN</td>\n",
       "    </tr>\n",
       "    <tr>\n",
       "      <th>temp</th>\n",
       "      <td>NaN</td>\n",
       "    </tr>\n",
       "    <tr>\n",
       "      <th>avg_temp</th>\n",
       "      <td>NaN</td>\n",
       "    </tr>\n",
       "  </tbody>\n",
       "</table>\n",
       "</div>"
      ],
      "text/plain": [
       "                   Skew\n",
       "latest_snow   11.865511\n",
       "most_snow      7.901223\n",
       "daily_prec     7.473625\n",
       "reserved_num   1.569700\n",
       "avg_wind       1.360955\n",
       "wind           0.750264\n",
       "day                 NaN\n",
       "season              NaN\n",
       "year                NaN\n",
       "month               NaN\n",
       "temp                NaN\n",
       "avg_temp            NaN"
      ]
     },
     "execution_count": 61,
     "metadata": {},
     "output_type": "execute_result"
    }
   ],
   "source": [
    "skewness = skewness[abs(skewness)>0.7]\n",
    "skewness"
   ]
  },
  {
   "cell_type": "code",
   "execution_count": 62,
   "metadata": {},
   "outputs": [],
   "source": [
    "new_merged['reserved_num' ] = np.log1p(new_merged['reserved_num'])\n",
    "new_merged['latest_snow' ] = np.log1p(new_merged['latest_snow'])\n",
    "new_merged['daily_prec' ] = np.log1p(new_merged['daily_prec'])\n",
    "new_merged['most_snow' ] = np.log1p(new_merged['most_snow'])\n",
    "new_merged['avg_wind' ] = np.log1p(new_merged['avg_wind'])\n",
    "new_merged['wind' ] = np.log1p(new_merged['wind'])"
   ]
  },
  {
   "cell_type": "code",
   "execution_count": 63,
   "metadata": {},
   "outputs": [
    {
     "data": {
      "text/plain": [
       "Index(['reserved_num', 'avg_temp', 'daily_prec', 'avg_wind', 'latest_snow',\n",
       "       'most_snow', 'year', 'month', 'day', 'season', 'temp', 'wind'],\n",
       "      dtype='object')"
      ]
     },
     "execution_count": 63,
     "metadata": {},
     "output_type": "execute_result"
    }
   ],
   "source": [
    "# get the numeric values\n",
    "numeric_features = new_merged.dtypes[new_merged.dtypes != \"object\"].index\n",
    "numeric_features"
   ]
  },
  {
   "cell_type": "code",
   "execution_count": 64,
   "metadata": {},
   "outputs": [
    {
     "name": "stdout",
     "output_type": "stream",
     "text": [
      "\n",
      "Sekw in numerical features: \n",
      "\n"
     ]
    },
    {
     "data": {
      "text/html": [
       "<div>\n",
       "<style scoped>\n",
       "    .dataframe tbody tr th:only-of-type {\n",
       "        vertical-align: middle;\n",
       "    }\n",
       "\n",
       "    .dataframe tbody tr th {\n",
       "        vertical-align: top;\n",
       "    }\n",
       "\n",
       "    .dataframe thead th {\n",
       "        text-align: right;\n",
       "    }\n",
       "</style>\n",
       "<table border=\"1\" class=\"dataframe\">\n",
       "  <thead>\n",
       "    <tr style=\"text-align: right;\">\n",
       "      <th></th>\n",
       "      <th>Skew</th>\n",
       "    </tr>\n",
       "  </thead>\n",
       "  <tbody>\n",
       "    <tr>\n",
       "      <th>latest_snow</th>\n",
       "      <td>8.119152</td>\n",
       "    </tr>\n",
       "    <tr>\n",
       "      <th>most_snow</th>\n",
       "      <td>5.340061</td>\n",
       "    </tr>\n",
       "    <tr>\n",
       "      <th>daily_prec</th>\n",
       "      <td>2.400788</td>\n",
       "    </tr>\n",
       "    <tr>\n",
       "      <th>avg_wind</th>\n",
       "      <td>0.470868</td>\n",
       "    </tr>\n",
       "    <tr>\n",
       "      <th>day</th>\n",
       "      <td>0.004046</td>\n",
       "    </tr>\n",
       "    <tr>\n",
       "      <th>season</th>\n",
       "      <td>-0.014596</td>\n",
       "    </tr>\n",
       "    <tr>\n",
       "      <th>year</th>\n",
       "      <td>-0.020669</td>\n",
       "    </tr>\n",
       "    <tr>\n",
       "      <th>month</th>\n",
       "      <td>-0.032070</td>\n",
       "    </tr>\n",
       "    <tr>\n",
       "      <th>wind</th>\n",
       "      <td>-0.189724</td>\n",
       "    </tr>\n",
       "    <tr>\n",
       "      <th>reserved_num</th>\n",
       "      <td>-0.198790</td>\n",
       "    </tr>\n",
       "    <tr>\n",
       "      <th>temp</th>\n",
       "      <td>-0.201253</td>\n",
       "    </tr>\n",
       "    <tr>\n",
       "      <th>avg_temp</th>\n",
       "      <td>-0.234188</td>\n",
       "    </tr>\n",
       "  </tbody>\n",
       "</table>\n",
       "</div>"
      ],
      "text/plain": [
       "                  Skew\n",
       "latest_snow   8.119152\n",
       "most_snow     5.340061\n",
       "daily_prec    2.400788\n",
       "avg_wind      0.470868\n",
       "day           0.004046\n",
       "season       -0.014596\n",
       "year         -0.020669\n",
       "month        -0.032070\n",
       "wind         -0.189724\n",
       "reserved_num -0.198790\n",
       "temp         -0.201253\n",
       "avg_temp     -0.234188"
      ]
     },
     "execution_count": 64,
     "metadata": {},
     "output_type": "execute_result"
    }
   ],
   "source": [
    "# check the skew of all numerical features\n",
    "skewed_feats = new_merged[numeric_features].apply(lambda x: skew(x.dropna())).sort_values(ascending=False)\n",
    "print(\"\\nSekw in numerical features: \\n\")\n",
    "skewness = pd.DataFrame({'Skew' :skewed_feats})\n",
    "skewness"
   ]
  },
  {
   "cell_type": "markdown",
   "metadata": {},
   "source": [
    "### - 상관계수"
   ]
  },
  {
   "cell_type": "code",
   "execution_count": 65,
   "metadata": {},
   "outputs": [
    {
     "name": "stdout",
     "output_type": "stream",
     "text": [
      "              reserved_num  avg_temp  daily_prec  avg_wind  latest_snow  \\\n",
      "reserved_num      1.000000  0.238420    0.026958 -0.073405    -0.071061   \n",
      "avg_temp          0.238420  1.000000    0.173616 -0.321317    -0.202079   \n",
      "daily_prec        0.026958  0.173616    1.000000  0.169222     0.123442   \n",
      "avg_wind         -0.073405 -0.321317    0.169222  1.000000     0.079069   \n",
      "latest_snow      -0.071061 -0.202079    0.123442  0.079069     1.000000   \n",
      "most_snow        -0.136071 -0.335625    0.032198  0.095726     0.629670   \n",
      "year              0.458341  0.061140   -0.023131 -0.018999    -0.046602   \n",
      "month             0.055717  0.252346    0.071312 -0.079783    -0.003483   \n",
      "day               0.016015  0.001003    0.001891 -0.026297     0.010128   \n",
      "season           -0.215469 -0.498993   -0.094094  0.046526     0.176247   \n",
      "temp              0.233957  0.990160    0.168452 -0.315616    -0.198411   \n",
      "wind             -0.051188 -0.249043    0.131902  0.864018     0.055752   \n",
      "\n",
      "              most_snow      year     month       day    season      temp  \\\n",
      "reserved_num  -0.136071  0.458341  0.055717  0.016015 -0.215469  0.233957   \n",
      "avg_temp      -0.335625  0.061140  0.252346  0.001003 -0.498993  0.990160   \n",
      "daily_prec     0.032198 -0.023131  0.071312  0.001891 -0.094094  0.168452   \n",
      "avg_wind       0.095726 -0.018999 -0.079783 -0.026297  0.046526 -0.315616   \n",
      "latest_snow    0.629670 -0.046602 -0.003483  0.010128  0.176247 -0.198411   \n",
      "most_snow      1.000000 -0.126875 -0.057855 -0.026156  0.270182 -0.328397   \n",
      "year          -0.126875  1.000000 -0.047553 -0.005454 -0.030548  0.062072   \n",
      "month         -0.057855 -0.047553  1.000000  0.011992  0.225656  0.248997   \n",
      "day           -0.026156 -0.005454  0.011992  1.000000 -0.010601 -0.002141   \n",
      "season         0.270182 -0.030548  0.225656 -0.010601  1.000000 -0.491588   \n",
      "temp          -0.328397  0.062072  0.248997 -0.002141 -0.491588  1.000000   \n",
      "wind           0.076174 -0.002141 -0.084128 -0.016268 -0.000228 -0.246209   \n",
      "\n",
      "                  wind  \n",
      "reserved_num -0.051188  \n",
      "avg_temp     -0.249043  \n",
      "daily_prec    0.131902  \n",
      "avg_wind      0.864018  \n",
      "latest_snow   0.055752  \n",
      "most_snow     0.076174  \n",
      "year         -0.002141  \n",
      "month        -0.084128  \n",
      "day          -0.016268  \n",
      "season       -0.000228  \n",
      "temp         -0.246209  \n",
      "wind          1.000000  \n"
     ]
    }
   ],
   "source": [
    "cols = [\"reserved_num\", \"avg_temp\", \"daily_prec\", \n",
    "        \"avg_wind\", \"latest_snow\", \"most_snow\", \n",
    "        \"year\", \"month\", \"day\", \"season\", \"temp\", \"wind\"]\n",
    "corr = new_merged[cols].corr(method = 'pearson')\n",
    "print(corr)"
   ]
  },
  {
   "cell_type": "code",
   "execution_count": 66,
   "metadata": {},
   "outputs": [
    {
     "data": {
      "image/png": "[encoded data removed]",
      "text/plain": [
       "<Figure size 432x288 with 2 Axes>"
      ]
     },
     "metadata": {},
     "output_type": "display_data"
    }
   ],
   "source": [
    "sns.set(font_scale = 1.0)\n",
    "hm = sns.heatmap(corr.values,\n",
    "                cbar = True,\n",
    "                annot = True,\n",
    "                square = True,\n",
    "                fmt = '.2f',\n",
    "                annot_kws = {'size' : 10},\n",
    "                yticklabels = cols,\n",
    "                xticklabels = cols,\n",
    "                cmap='Blues')\n",
    "plt.tight_layout()\n",
    "plt.show()"
   ]
  },
  {
   "cell_type": "markdown",
   "metadata": {},
   "source": [
    "latest_snow와 most_snow 간의 상관관계가 약간 있다고 보여진다."
   ]
  },
  {
   "cell_type": "markdown",
   "metadata": {},
   "source": [
    "### - P-value & VIF"
   ]
  },
  {
   "cell_type": "code",
   "execution_count": 67,
   "metadata": {},
   "outputs": [],
   "source": [
    "from patsy import dmatrices\n",
    "import statsmodels.api as sm\n",
    "from statsmodels.stats.outliers_influence import variance_inflation_factor"
   ]
  },
  {
   "cell_type": "code",
   "execution_count": 68,
   "metadata": {},
   "outputs": [
    {
     "data": {
      "text/plain": [
       "Index(['date', 'reserved_num', 'avg_temp', 'daily_prec', 'avg_wind',\n",
       "       'latest_snow', 'most_snow', 'year', 'month', 'day', 'season', 'temp',\n",
       "       'wind'],\n",
       "      dtype='object')"
      ]
     },
     "execution_count": 68,
     "metadata": {},
     "output_type": "execute_result"
    }
   ],
   "source": [
    "new_merged.columns"
   ]
  },
  {
   "cell_type": "code",
   "execution_count": 69,
   "metadata": {},
   "outputs": [],
   "source": [
    "features = \"avg_temp+daily_prec+avg_wind+latest_snow+most_snow+year+month+day+season+temp+wind\""
   ]
  },
  {
   "cell_type": "code",
   "execution_count": 70,
   "metadata": {},
   "outputs": [],
   "source": [
    "# Break into left and right hand side; y and X\n",
    "y, X = dmatrices(\"reserved_num ~\" + features, data=new_merged, return_type=\"dataframe\")\n",
    "\n",
    "# For each Xi, calculate VIF\n",
    "vif = [variance_inflation_factor(X.values, i) for i in range(X.shape[1])]\n",
    "\n",
    "# Fit X to y\n",
    "result = sm.OLS(y, X).fit()"
   ]
  },
  {
   "cell_type": "code",
   "execution_count": 71,
   "metadata": {},
   "outputs": [
    {
     "name": "stdout",
     "output_type": "stream",
     "text": [
      "                            OLS Regression Results                            \n",
      "==============================================================================\n",
      "Dep. Variable:           reserved_num   R-squared:                       0.274\n",
      "Model:                            OLS   Adj. R-squared:                  0.272\n",
      "Method:                 Least Squares   F-statistic:                     114.3\n",
      "Date:                Mon, 14 Jun 2021   Prob (F-statistic):          3.36e-222\n",
      "Time:                        19:54:58   Log-Likelihood:                -3515.1\n",
      "No. Observations:                3345   AIC:                             7054.\n",
      "Df Residuals:                    3333   BIC:                             7128.\n",
      "Df Model:                          11                                         \n",
      "Covariance Type:            nonrobust                                         \n",
      "===============================================================================\n",
      "                  coef    std err          t      P>|t|      [0.025      0.975]\n",
      "-------------------------------------------------------------------------------\n",
      "Intercept    -276.8245      9.259    -29.897      0.000    -294.979    -258.670\n",
      "avg_temp        0.0168      0.008      1.982      0.048       0.000       0.033\n",
      "daily_prec      0.0002      0.013      0.012      0.990      -0.026       0.026\n",
      "avg_wind       -0.0223      0.089     -0.251      0.802      -0.197       0.152\n",
      "latest_snow    -0.0258      0.084     -0.307      0.759      -0.190       0.139\n",
      "most_snow       0.0322      0.050      0.651      0.515      -0.065       0.129\n",
      "year            0.1392      0.005     30.277      0.000       0.130       0.148\n",
      "month           0.0212      0.004      5.359      0.000       0.013       0.029\n",
      "day             0.0014      0.001      1.020      0.308      -0.001       0.004\n",
      "season         -0.1269      0.014     -9.105      0.000      -0.154      -0.100\n",
      "temp           -0.0455      0.042     -1.095      0.274      -0.127       0.036\n",
      "wind           -0.0435      0.108     -0.404      0.686      -0.255       0.168\n",
      "==============================================================================\n",
      "Omnibus:                       47.511   Durbin-Watson:                   1.176\n",
      "Prob(Omnibus):                  0.000   Jarque-Bera (JB):               32.916\n",
      "Skew:                           0.125   Prob(JB):                     7.12e-08\n",
      "Kurtosis:                       2.583   Cond. No.                     1.56e+06\n",
      "==============================================================================\n",
      "\n",
      "Warnings:\n",
      "[1] Standard Errors assume that the covariance matrix of the errors is correctly specified.\n",
      "[2] The condition number is large, 1.56e+06. This might indicate that there are\n",
      "strong multicollinearity or other numerical problems.\n"
     ]
    }
   ],
   "source": [
    "print(result.summary())"
   ]
  },
  {
   "cell_type": "markdown",
   "metadata": {},
   "source": [
    "p-value가 most_snow보다 latest_snow가 더 높으므로, latest_snow 변수를 삭제해준다."
   ]
  },
  {
   "cell_type": "code",
   "execution_count": 72,
   "metadata": {},
   "outputs": [],
   "source": [
    "features = \"avg_temp+daily_prec+avg_wind+most_snow+year+month+day+season+temp+wind\""
   ]
  },
  {
   "cell_type": "code",
   "execution_count": 73,
   "metadata": {},
   "outputs": [],
   "source": [
    "# Break into left and right hand side; y and X\n",
    "y, X = dmatrices(\"reserved_num ~\" + features, data=new_merged, return_type=\"dataframe\")\n",
    "\n",
    "# For each Xi, calculate VIF\n",
    "vif = [variance_inflation_factor(X.values, i) for i in range(X.shape[1])]\n",
    "\n",
    "# Fit X to y\n",
    "result = sm.OLS(y, X).fit()"
   ]
  },
  {
   "cell_type": "code",
   "execution_count": 74,
   "metadata": {},
   "outputs": [],
   "source": [
    "# For each X, calculate VIF and save in dataframe\n",
    "vif = pd.DataFrame()\n",
    "vif[\"VIF Factor\"] = [variance_inflation_factor(X.values, i) for i in range(X.shape[1])]\n",
    "vif[\"features\"] = X.columns"
   ]
  },
  {
   "cell_type": "code",
   "execution_count": 75,
   "metadata": {},
   "outputs": [
    {
     "name": "stdout",
     "output_type": "stream",
     "text": [
      "                            OLS Regression Results                            \n",
      "==============================================================================\n",
      "Dep. Variable:           reserved_num   R-squared:                       0.274\n",
      "Model:                            OLS   Adj. R-squared:                  0.272\n",
      "Method:                 Least Squares   F-statistic:                     125.8\n",
      "Date:                Mon, 14 Jun 2021   Prob (F-statistic):          3.06e-223\n",
      "Time:                        19:55:11   Log-Likelihood:                -3515.1\n",
      "No. Observations:                3345   AIC:                             7052.\n",
      "Df Residuals:                    3334   BIC:                             7120.\n",
      "Df Model:                          10                                         \n",
      "Covariance Type:            nonrobust                                         \n",
      "==============================================================================\n",
      "                 coef    std err          t      P>|t|      [0.025      0.975]\n",
      "------------------------------------------------------------------------------\n",
      "Intercept   -276.6832      9.247    -29.922      0.000    -294.813    -258.553\n",
      "avg_temp       0.0168      0.008      1.983      0.047       0.000       0.033\n",
      "daily_prec    -0.0004      0.013     -0.028      0.978      -0.026       0.025\n",
      "avg_wind      -0.0227      0.089     -0.255      0.799      -0.197       0.152\n",
      "most_snow      0.0231      0.040      0.584      0.560      -0.054       0.101\n",
      "year           0.1391      0.005     30.303      0.000       0.130       0.148\n",
      "month          0.0211      0.004      5.352      0.000       0.013       0.029\n",
      "day            0.0014      0.001      1.011      0.312      -0.001       0.004\n",
      "season        -0.1269      0.014     -9.107      0.000      -0.154      -0.100\n",
      "temp          -0.0455      0.042     -1.094      0.274      -0.127       0.036\n",
      "wind          -0.0429      0.108     -0.399      0.690      -0.254       0.168\n",
      "==============================================================================\n",
      "Omnibus:                       47.556   Durbin-Watson:                   1.175\n",
      "Prob(Omnibus):                  0.000   Jarque-Bera (JB):               32.924\n",
      "Skew:                           0.124   Prob(JB):                     7.09e-08\n",
      "Kurtosis:                       2.583   Cond. No.                     1.55e+06\n",
      "==============================================================================\n",
      "\n",
      "Warnings:\n",
      "[1] Standard Errors assume that the covariance matrix of the errors is correctly specified.\n",
      "[2] The condition number is large, 1.55e+06. This might indicate that there are\n",
      "strong multicollinearity or other numerical problems.\n"
     ]
    }
   ],
   "source": [
    "print(result.summary())"
   ]
  },
  {
   "cell_type": "code",
   "execution_count": 76,
   "metadata": {},
   "outputs": [],
   "source": [
    "vif = pd.DataFrame()\n",
    "vif[\"VIF Factor\"] = [variance_inflation_factor(X.values, i) for i in range(X.shape[1])]\n",
    "vif[\"features\"] = X.columns"
   ]
  },
  {
   "cell_type": "code",
   "execution_count": 77,
   "metadata": {},
   "outputs": [
    {
     "data": {
      "text/html": [
       "<div>\n",
       "<style scoped>\n",
       "    .dataframe tbody tr th:only-of-type {\n",
       "        vertical-align: middle;\n",
       "    }\n",
       "\n",
       "    .dataframe tbody tr th {\n",
       "        vertical-align: top;\n",
       "    }\n",
       "\n",
       "    .dataframe thead th {\n",
       "        text-align: right;\n",
       "    }\n",
       "</style>\n",
       "<table border=\"1\" class=\"dataframe\">\n",
       "  <thead>\n",
       "    <tr style=\"text-align: right;\">\n",
       "      <th></th>\n",
       "      <th>VIF Factor</th>\n",
       "      <th>features</th>\n",
       "    </tr>\n",
       "  </thead>\n",
       "  <tbody>\n",
       "    <tr>\n",
       "      <th>0</th>\n",
       "      <td>595172.8</td>\n",
       "      <td>Intercept</td>\n",
       "    </tr>\n",
       "    <tr>\n",
       "      <th>1</th>\n",
       "      <td>53.0</td>\n",
       "      <td>avg_temp</td>\n",
       "    </tr>\n",
       "    <tr>\n",
       "      <th>2</th>\n",
       "      <td>1.1</td>\n",
       "      <td>daily_prec</td>\n",
       "    </tr>\n",
       "    <tr>\n",
       "      <th>3</th>\n",
       "      <td>4.3</td>\n",
       "      <td>avg_wind</td>\n",
       "    </tr>\n",
       "    <tr>\n",
       "      <th>4</th>\n",
       "      <td>1.2</td>\n",
       "      <td>most_snow</td>\n",
       "    </tr>\n",
       "    <tr>\n",
       "      <th>5</th>\n",
       "      <td>1.0</td>\n",
       "      <td>year</td>\n",
       "    </tr>\n",
       "    <tr>\n",
       "      <th>6</th>\n",
       "      <td>1.3</td>\n",
       "      <td>month</td>\n",
       "    </tr>\n",
       "    <tr>\n",
       "      <th>7</th>\n",
       "      <td>1.0</td>\n",
       "      <td>day</td>\n",
       "    </tr>\n",
       "    <tr>\n",
       "      <th>8</th>\n",
       "      <td>1.7</td>\n",
       "      <td>season</td>\n",
       "    </tr>\n",
       "    <tr>\n",
       "      <th>9</th>\n",
       "      <td>51.3</td>\n",
       "      <td>temp</td>\n",
       "    </tr>\n",
       "    <tr>\n",
       "      <th>10</th>\n",
       "      <td>4.0</td>\n",
       "      <td>wind</td>\n",
       "    </tr>\n",
       "  </tbody>\n",
       "</table>\n",
       "</div>"
      ],
      "text/plain": [
       "    VIF Factor    features\n",
       "0     595172.8   Intercept\n",
       "1         53.0    avg_temp\n",
       "2          1.1  daily_prec\n",
       "3          4.3    avg_wind\n",
       "4          1.2   most_snow\n",
       "5          1.0        year\n",
       "6          1.3       month\n",
       "7          1.0         day\n",
       "8          1.7      season\n",
       "9         51.3        temp\n",
       "10         4.0        wind"
      ]
     },
     "execution_count": 77,
     "metadata": {},
     "output_type": "execute_result"
    }
   ],
   "source": [
    "vif.round(1)"
   ]
  },
  {
   "cell_type": "code",
   "execution_count": 78,
   "metadata": {},
   "outputs": [],
   "source": [
    "features = \"daily_prec+avg_wind+avg_temp+most_snow+year+month+day+season+wind\""
   ]
  },
  {
   "cell_type": "code",
   "execution_count": 79,
   "metadata": {},
   "outputs": [],
   "source": [
    "# Break into left and right hand side; y and X\n",
    "y, X = dmatrices(\"reserved_num ~\" + features, data=new_merged, return_type=\"dataframe\")\n",
    "\n",
    "# For each Xi, calculate VIF\n",
    "vif = [variance_inflation_factor(X.values, i) for i in range(X.shape[1])]\n",
    "\n",
    "# Fit X to y\n",
    "result = sm.OLS(y, X).fit()"
   ]
  },
  {
   "cell_type": "code",
   "execution_count": 80,
   "metadata": {},
   "outputs": [],
   "source": [
    "# For each X, calculate VIF and save in dataframe\n",
    "vif = pd.DataFrame()\n",
    "vif[\"VIF Factor\"] = [variance_inflation_factor(X.values, i) for i in range(X.shape[1])]\n",
    "vif[\"features\"] = X.columns"
   ]
  },
  {
   "cell_type": "code",
   "execution_count": 81,
   "metadata": {},
   "outputs": [],
   "source": [
    "vif = pd.DataFrame()\n",
    "vif[\"VIF Factor\"] = [variance_inflation_factor(X.values, i) for i in range(X.shape[1])]\n",
    "vif[\"features\"] = X.columns"
   ]
  },
  {
   "cell_type": "code",
   "execution_count": 82,
   "metadata": {},
   "outputs": [
    {
     "data": {
      "text/html": [
       "<div>\n",
       "<style scoped>\n",
       "    .dataframe tbody tr th:only-of-type {\n",
       "        vertical-align: middle;\n",
       "    }\n",
       "\n",
       "    .dataframe tbody tr th {\n",
       "        vertical-align: top;\n",
       "    }\n",
       "\n",
       "    .dataframe thead th {\n",
       "        text-align: right;\n",
       "    }\n",
       "</style>\n",
       "<table border=\"1\" class=\"dataframe\">\n",
       "  <thead>\n",
       "    <tr style=\"text-align: right;\">\n",
       "      <th></th>\n",
       "      <th>VIF Factor</th>\n",
       "      <th>features</th>\n",
       "    </tr>\n",
       "  </thead>\n",
       "  <tbody>\n",
       "    <tr>\n",
       "      <th>0</th>\n",
       "      <td>595150.6</td>\n",
       "      <td>Intercept</td>\n",
       "    </tr>\n",
       "    <tr>\n",
       "      <th>1</th>\n",
       "      <td>1.1</td>\n",
       "      <td>daily_prec</td>\n",
       "    </tr>\n",
       "    <tr>\n",
       "      <th>2</th>\n",
       "      <td>4.3</td>\n",
       "      <td>avg_wind</td>\n",
       "    </tr>\n",
       "    <tr>\n",
       "      <th>3</th>\n",
       "      <td>2.0</td>\n",
       "      <td>avg_temp</td>\n",
       "    </tr>\n",
       "    <tr>\n",
       "      <th>4</th>\n",
       "      <td>1.2</td>\n",
       "      <td>most_snow</td>\n",
       "    </tr>\n",
       "    <tr>\n",
       "      <th>5</th>\n",
       "      <td>1.0</td>\n",
       "      <td>year</td>\n",
       "    </tr>\n",
       "    <tr>\n",
       "      <th>6</th>\n",
       "      <td>1.3</td>\n",
       "      <td>month</td>\n",
       "    </tr>\n",
       "    <tr>\n",
       "      <th>7</th>\n",
       "      <td>1.0</td>\n",
       "      <td>day</td>\n",
       "    </tr>\n",
       "    <tr>\n",
       "      <th>8</th>\n",
       "      <td>1.7</td>\n",
       "      <td>season</td>\n",
       "    </tr>\n",
       "    <tr>\n",
       "      <th>9</th>\n",
       "      <td>4.0</td>\n",
       "      <td>wind</td>\n",
       "    </tr>\n",
       "  </tbody>\n",
       "</table>\n",
       "</div>"
      ],
      "text/plain": [
       "   VIF Factor    features\n",
       "0    595150.6   Intercept\n",
       "1         1.1  daily_prec\n",
       "2         4.3    avg_wind\n",
       "3         2.0    avg_temp\n",
       "4         1.2   most_snow\n",
       "5         1.0        year\n",
       "6         1.3       month\n",
       "7         1.0         day\n",
       "8         1.7      season\n",
       "9         4.0        wind"
      ]
     },
     "execution_count": 82,
     "metadata": {},
     "output_type": "execute_result"
    }
   ],
   "source": [
    "vif.round(1)"
   ]
  },
  {
   "cell_type": "markdown",
   "metadata": {},
   "source": [
    "### (4) Modeling"
   ]
  },
  {
   "cell_type": "code",
   "execution_count": 83,
   "metadata": {},
   "outputs": [],
   "source": [
    "from sklearn.linear_model import ElasticNet, Lasso,  BayesianRidge, LassoLarsIC, LinearRegression\n",
    "from sklearn.ensemble import RandomForestRegressor,  GradientBoostingRegressor\n",
    "from sklearn.kernel_ridge import KernelRidge\n",
    "from sklearn.pipeline import make_pipeline\n",
    "from sklearn.preprocessing import RobustScaler\n",
    "from sklearn.base import BaseEstimator, TransformerMixin, RegressorMixin, clone\n",
    "import xgboost as xgb\n",
    "import lightgbm as lgb\n",
    "from sklearn.ensemble import RandomForestRegressor\n",
    "from sklearn.datasets import make_regression\n",
    "from sklearn.model_selection import GridSearchCV\n",
    "from sklearn.metrics import fbeta_score, make_scorer"
   ]
  },
  {
   "cell_type": "code",
   "execution_count": 84,
   "metadata": {},
   "outputs": [],
   "source": [
    "x = new_merged.drop(['reserved_num', 'date', 'latest_snow', 'temp'], axis=1) # input\n",
    "y = new_merged['reserved_num'] # target"
   ]
  },
  {
   "cell_type": "code",
   "execution_count": 85,
   "metadata": {},
   "outputs": [],
   "source": [
    "from sklearn.model_selection import train_test_split\n",
    "\n",
    "x_train, x_test, y_train, y_test = train_test_split(\n",
    "    x, y, random_state = 35, test_size = 0.25)"
   ]
  },
  {
   "cell_type": "markdown",
   "metadata": {},
   "source": [
    "#### RMSLE"
   ]
  },
  {
   "cell_type": "code",
   "execution_count": 86,
   "metadata": {},
   "outputs": [],
   "source": [
    "from sklearn import metrics\n",
    "import warnings\n",
    "pd.options.mode.chained_assignment = None\n",
    "warnings.filterwarnings(\"ignore\", category=DeprecationWarning)"
   ]
  },
  {
   "cell_type": "code",
   "execution_count": 87,
   "metadata": {},
   "outputs": [],
   "source": [
    "def rmsle(y, y_,convertExp=True):\n",
    "    if convertExp:\n",
    "        y = np.exp(y),\n",
    "        y_ = np.exp(y_)\n",
    "    log1 = np.nan_to_num(np.array([np.log(v + 1) for v in y]))\n",
    "    log2 = np.nan_to_num(np.array([np.log(v + 1) for v in y_]))\n",
    "    calc = (log1 - log2) ** 2\n",
    "    return np.sqrt(np.mean(calc))"
   ]
  },
  {
   "cell_type": "markdown",
   "metadata": {},
   "source": [
    "##### - Linear Regression"
   ]
  },
  {
   "cell_type": "code",
   "execution_count": 88,
   "metadata": {},
   "outputs": [
    {
     "data": {
      "text/plain": [
       "LinearRegression(copy_X=True, fit_intercept=True, n_jobs=None, normalize=False)"
      ]
     },
     "execution_count": 88,
     "metadata": {},
     "output_type": "execute_result"
    }
   ],
   "source": [
    "lModel = LinearRegression()\n",
    "\n",
    "# Train the model\n",
    "lModel.fit(X = x_train,y = y_train)"
   ]
  },
  {
   "cell_type": "code",
   "execution_count": 89,
   "metadata": {},
   "outputs": [
    {
     "name": "stdout",
     "output_type": "stream",
     "text": [
      "RMSLE Value For Linear Regression: \n",
      "0.6605722196821997\n"
     ]
    }
   ],
   "source": [
    "lModel.fit(x_train,y_train)\n",
    "lModel_train_pred = lModel.predict(x_train)\n",
    "lModel_pred = np.expm1(lModel.predict(x_test.values))\n",
    "print (\"RMSLE Value For Linear Regression: \")\n",
    "print(rmsle(y_train, lModel_train_pred))"
   ]
  },
  {
   "cell_type": "markdown",
   "metadata": {},
   "source": [
    "##### - Lasso Regression"
   ]
  },
  {
   "cell_type": "code",
   "execution_count": 90,
   "metadata": {},
   "outputs": [],
   "source": [
    "lasso = make_pipeline(RobustScaler(), Lasso(alpha =0.0005, random_state=3))"
   ]
  },
  {
   "cell_type": "code",
   "execution_count": 92,
   "metadata": {},
   "outputs": [
    {
     "name": "stdout",
     "output_type": "stream",
     "text": [
      "RMSLE Value For Lasso Regression: \n",
      "0.6605718903377591\n"
     ]
    }
   ],
   "source": [
    "lasso.fit(x_train,y_train)\n",
    "lasso_train_pred = lasso.predict(x_train)\n",
    "lasso_pred = np.expm1(lasso.predict(x_test.values))\n",
    "print (\"RMSLE Value For Lasso Regression: \")\n",
    "print(rmsle(y_train, lasso_train_pred))"
   ]
  },
  {
   "cell_type": "markdown",
   "metadata": {},
   "source": [
    "##### - Elastic Net Regression"
   ]
  },
  {
   "cell_type": "code",
   "execution_count": 93,
   "metadata": {},
   "outputs": [],
   "source": [
    "ENet = make_pipeline(RobustScaler(), ElasticNet(alpha=0.0005, l1_ratio=.9, random_state=3))"
   ]
  },
  {
   "cell_type": "code",
   "execution_count": 94,
   "metadata": {},
   "outputs": [
    {
     "name": "stdout",
     "output_type": "stream",
     "text": [
      "RMSLE Value For ENet Regression: \n",
      "0.6605711372606896\n"
     ]
    }
   ],
   "source": [
    "ENet.fit(x_train,y_train)\n",
    "ENet_train_pred = ENet.predict(x_train)\n",
    "ENet_pred = np.expm1(ENet.predict(x_test.values))\n",
    "print (\"RMSLE Value For ENet Regression: \")\n",
    "print(rmsle(y_train, ENet_train_pred))"
   ]
  },
  {
   "cell_type": "markdown",
   "metadata": {},
   "source": [
    "##### - Kernel Ridge Regression"
   ]
  },
  {
   "cell_type": "code",
   "execution_count": 95,
   "metadata": {},
   "outputs": [],
   "source": [
    "KRR = KernelRidge(alpha=0.6, kernel='polynomial', degree=2, coef0=2.5) #kernel = 'rbf' , 'sigmoid' "
   ]
  },
  {
   "cell_type": "code",
   "execution_count": 96,
   "metadata": {},
   "outputs": [
    {
     "name": "stdout",
     "output_type": "stream",
     "text": [
      "RMSLE Value For KRR Regression: \n",
      "0.6530547949619899\n"
     ]
    }
   ],
   "source": [
    "KRR.fit(x_train,y_train)\n",
    "KRR_train_pred = KRR.predict(x_train)\n",
    "KRR_pred = np.expm1(KRR.predict(x_test.values))\n",
    "print (\"RMSLE Value For KRR Regression: \")\n",
    "print(rmsle(y_train, KRR_train_pred))"
   ]
  },
  {
   "cell_type": "markdown",
   "metadata": {},
   "source": [
    "##### - Gradient Boosting Regression"
   ]
  },
  {
   "cell_type": "code",
   "execution_count": 97,
   "metadata": {},
   "outputs": [],
   "source": [
    "GBoost = GradientBoostingRegressor(alpha=0.9, criterion='friedman_mse', init=None,\n",
    "             learning_rate=0.05, loss='huber', max_depth=4,\n",
    "             max_features='sqrt', max_leaf_nodes=None,\n",
    "             min_impurity_decrease=0.0, min_impurity_split=None,\n",
    "             min_samples_leaf=15, min_samples_split=10,\n",
    "             min_weight_fraction_leaf=0.0, n_estimators=3000,\n",
    "             presort='auto', random_state=5, subsample=1.0, verbose=0,\n",
    "             warm_start=False)"
   ]
  },
  {
   "cell_type": "code",
   "execution_count": 98,
   "metadata": {},
   "outputs": [
    {
     "name": "stderr",
     "output_type": "stream",
     "text": [
      "C:\\Users\\adore\\anaconda3\\lib\\site-packages\\sklearn\\ensemble\\_gb.py:1342: FutureWarning: The parameter 'presort' is deprecated and has no effect. It will be removed in v0.24. You can suppress this warning by not passing any value to the 'presort' parameter. We also recommend using HistGradientBoosting models instead.\n",
      "  FutureWarning)\n"
     ]
    },
    {
     "name": "stdout",
     "output_type": "stream",
     "text": [
      "RMSLE Value For GBoost Regression: \n",
      "0.3803124264352948\n"
     ]
    }
   ],
   "source": [
    "GBoost.fit(x_train,y_train)\n",
    "GBoost_train_pred = GBoost.predict(x_train)\n",
    "GBoost_pred = np.expm1(GBoost.predict(x_test.values))\n",
    "print (\"RMSLE Value For GBoost Regression: \")\n",
    "print(rmsle(y_train, GBoost_train_pred))"
   ]
  },
  {
   "cell_type": "markdown",
   "metadata": {},
   "source": [
    "##### - XGBoost"
   ]
  },
  {
   "cell_type": "code",
   "execution_count": 99,
   "metadata": {},
   "outputs": [],
   "source": [
    "model_xgb = xgb.XGBRegressor(colsample_bytree=0.4603, gamma=0.0468, \n",
    "                             learning_rate=0.05, max_depth=3, \n",
    "                             min_child_weight=1.7817, n_estimators=2200,\n",
    "                             reg_alpha=0.4640, reg_lambda=0.8571,\n",
    "                             subsample=0.5213, silent=1,\n",
    "                             random_state =7, nthread = -1)"
   ]
  },
  {
   "cell_type": "code",
   "execution_count": 100,
   "metadata": {},
   "outputs": [
    {
     "name": "stdout",
     "output_type": "stream",
     "text": [
      "[19:56:35] WARNING: C:/Users/Administrator/workspace/xgboost-win64_release_1.4.0/src/learner.cc:573: \n",
      "Parameters: { \"silent\" } might not be used.\n",
      "\n",
      "  This may not be accurate due to some parameters are only used in language bindings but\n",
      "  passed down to XGBoost core.  Or some parameters are not used but slip through this\n",
      "  verification. Please open an issue if you find above cases.\n",
      "\n",
      "\n",
      "0.4465600158143453\n"
     ]
    }
   ],
   "source": [
    "model_xgb.fit(x_train, y_train)\n",
    "xgb_train_pred = model_xgb.predict(x_train)\n",
    "xgb_pred = np.expm1(model_xgb.predict(x_test))\n",
    "print(rmsle(y_train, xgb_train_pred))"
   ]
  },
  {
   "cell_type": "markdown",
   "metadata": {},
   "source": [
    "##### - LightGBM"
   ]
  },
  {
   "cell_type": "code",
   "execution_count": 101,
   "metadata": {},
   "outputs": [],
   "source": [
    "model_lgb = lgb.LGBMRegressor(objective='regression',num_leaves=5,\n",
    "                              learning_rate=0.05, n_estimators=720,\n",
    "                              max_bin = 55, bagging_fraction = 0.8,\n",
    "                              bagging_freq = 5, feature_fraction = 0.2319,\n",
    "                              feature_fraction_seed=9, bagging_seed=9,\n",
    "                              min_data_in_leaf =6, min_sum_hessian_in_leaf = 11)"
   ]
  },
  {
   "cell_type": "code",
   "execution_count": 102,
   "metadata": {},
   "outputs": [
    {
     "name": "stdout",
     "output_type": "stream",
     "text": [
      "[LightGBM] [Warning] feature_fraction is set=0.2319, colsample_bytree=1.0 will be ignored. Current value: feature_fraction=0.2319\n",
      "[LightGBM] [Warning] min_data_in_leaf is set=6, min_child_samples=20 will be ignored. Current value: min_data_in_leaf=6\n",
      "[LightGBM] [Warning] min_sum_hessian_in_leaf is set=11, min_child_weight=0.001 will be ignored. Current value: min_sum_hessian_in_leaf=11\n",
      "[LightGBM] [Warning] bagging_fraction is set=0.8, subsample=1.0 will be ignored. Current value: bagging_fraction=0.8\n",
      "[LightGBM] [Warning] bagging_freq is set=5, subsample_freq=0 will be ignored. Current value: bagging_freq=5\n",
      "0.5566957570005849\n"
     ]
    }
   ],
   "source": [
    "model_lgb.fit(x_train, y_train)\n",
    "lgb_train_pred = model_lgb.predict(x_train)\n",
    "lgb_pred = np.expm1(model_lgb.predict(x_test.values))\n",
    "print(rmsle(y_train, lgb_train_pred))"
   ]
  },
  {
   "cell_type": "markdown",
   "metadata": {},
   "source": [
    "##### - Random Forest Regressor"
   ]
  },
  {
   "cell_type": "code",
   "execution_count": 103,
   "metadata": {},
   "outputs": [],
   "source": [
    "regr = RandomForestRegressor(bootstrap=True, criterion='mse', max_depth=None,\n",
    "           max_leaf_nodes=None, min_impurity_decrease=0.0,\n",
    "           min_impurity_split=None, min_samples_leaf=1,\n",
    "           min_samples_split=2, min_weight_fraction_leaf=0.0,\n",
    "           n_estimators=60, n_jobs=1, oob_score=False, random_state=None,\n",
    "           verbose=0, warm_start=False)"
   ]
  },
  {
   "cell_type": "code",
   "execution_count": 104,
   "metadata": {},
   "outputs": [
    {
     "name": "stdout",
     "output_type": "stream",
     "text": [
      "0.2406247347827159\n"
     ]
    }
   ],
   "source": [
    "regr.fit(x_train, y_train)\n",
    "regr_train_pred = regr.predict(x_train)\n",
    "regr_pred = np.expm1(regr.predict(x_test.values))\n",
    "print(rmsle(y_train, regr_train_pred))"
   ]
  },
  {
   "cell_type": "markdown",
   "metadata": {},
   "source": [
    "#### 앙상블"
   ]
  },
  {
   "cell_type": "code",
   "execution_count": 105,
   "metadata": {},
   "outputs": [
    {
     "data": {
      "text/plain": [
       "array([43.29383011, 39.50821266, 36.26701996, 28.06455729, 21.30113846,\n",
       "       41.96704143, 24.06288774, 23.77498958, 39.42446434, 27.4396198 ,\n",
       "       24.9726503 , 27.23353031, 16.69925458, 26.26384865, 30.81044865,\n",
       "       50.89356676, 22.21621062, 34.21953755, 46.81579639, 44.25362737,\n",
       "       24.08685962, 27.38775015, 19.3937789 , 26.60424464, 26.80798609,\n",
       "       34.96321054, 24.40551534, 41.95669019, 47.46103758, 11.6755954 ,\n",
       "       19.67337576, 28.78728921, 26.57533776, 32.04893897, 37.42117874,\n",
       "       29.19191656, 40.42322032, 33.31512956, 18.07238428, 50.48749496,\n",
       "       36.4486815 , 23.73949365, 22.71307715, 13.78195338, 18.34293125,\n",
       "       64.42202727, 22.39052823, 39.50591465,  9.55668044,  7.32407102,\n",
       "       12.62348655,  3.28147313, 18.604906  , 12.81833157, 26.9501148 ,\n",
       "       27.48259684, 24.18521143, 49.08909088, 26.65782838,  3.68645445,\n",
       "       15.59448679, 60.59584659, 24.43764678, 86.06294324, 43.86067584,\n",
       "       19.18963616, 60.26613527, 43.02820713, 24.08318503, 31.8920413 ,\n",
       "       54.78560645, 33.6136118 , 24.23500231, 23.50191919, 13.59567053,\n",
       "       22.763939  , 23.45418357,  9.71589937, 32.334036  , 39.1546724 ,\n",
       "       54.05688427, 27.07570404, 19.58625987, 39.00719803, 11.4800374 ,\n",
       "        7.14297797, 19.11918807, 28.69122069, 43.74665731, 17.68732629,\n",
       "       29.30459771, 22.38904023, 67.86676989, 22.7367326 , 52.48466137,\n",
       "       36.12523194, 24.72900582, 24.98884134, 53.32678264, 18.48905366,\n",
       "       59.66707311, 15.05758999, 44.27379299, 16.71545015, 26.66609455,\n",
       "       26.367963  ,  6.81898169, 56.43191329, 62.38745186, 69.98291169,\n",
       "       34.58188373, 18.15569526, 24.00881731, 37.01730769, 36.00107043,\n",
       "       23.01729193, 30.32926992, 32.10615536, 37.12821082, 18.55293947,\n",
       "       44.31288649, 42.39132759, 24.28569835, 51.57470697, 75.75043692,\n",
       "       32.82773548, 42.86424731, 59.83236917, 21.25908991, 42.0395409 ,\n",
       "       58.2658559 , 89.46535295, 48.34862492, 51.97888526, 58.29620895,\n",
       "       11.10550992, 67.76982278, 20.73164265, 24.81110373, 51.82302688,\n",
       "       20.37399095, 28.58667169, 27.19575136, 22.30637931, 17.56728496,\n",
       "       28.61584177, 31.09988587, 16.38800736, 71.59188721, 47.37002116,\n",
       "       42.40142172, 56.30956918, 62.99525758, 28.44790785, 21.22587987,\n",
       "       25.98340589, 24.90778917, 47.09101537, 25.21835842, 47.8259395 ,\n",
       "       14.47125153, 25.98149807, 28.16917155, 17.85210683, 12.32992859,\n",
       "       50.32694591, 32.48723607, 29.98858342, 23.60468483, 26.92850708,\n",
       "        6.3553807 , 58.91866071, 23.59839213,  8.61156309, 67.38804389,\n",
       "       67.33460989, 46.19194457, 15.44321414, 57.1332964 , 87.16272323,\n",
       "       24.05600816, 90.2407381 , 14.76001704, 13.40015753, 53.95596765,\n",
       "       48.99169482, 16.19310297, 24.32003293, 34.8921005 , 45.17407819,\n",
       "       26.6375754 , 52.2771994 , 41.83778755, 42.15454146, 28.51650118,\n",
       "       44.43700887, 28.95004042, 21.2513196 , 12.68297026, 49.45134516,\n",
       "       29.71651283, 81.9759565 , 30.48701568, 62.50176746, 14.73325341,\n",
       "       41.63293098, 33.77712494, 65.47462067, 28.63119347, 37.47891598,\n",
       "        3.63539127,  8.8288342 , 22.82309047, 22.89806986, 19.73316119,\n",
       "       47.78940979, 72.9413692 , 82.72427643, 36.84867003, 75.48988626,\n",
       "       52.48185646, 38.38215662, 28.41121721, 13.24564091, 23.7522402 ,\n",
       "       21.05824597, 57.47260822, 47.97996109, 15.83142468, 14.09470742,\n",
       "       41.41193512, 11.4112854 , 25.63742936, 44.91079529, 54.60842499,\n",
       "       24.0418487 , 23.51630134, 29.5515492 , 28.26325916, 24.83799367,\n",
       "       33.2084461 , 33.1348457 , 29.02072308, 26.57096975, 39.16065634,\n",
       "       12.97779101, 23.638895  , 22.99963165, 75.70688893, 32.82796716,\n",
       "       61.56379816, 34.30790468, 26.75962158, 12.09902216, 89.17023839,\n",
       "       37.23290285, 26.89938775, 19.43432143, 13.22303179,  4.44804093,\n",
       "       58.87766802, 53.5186096 , 19.12040351,  2.6693162 , 41.57253089,\n",
       "       17.41304516, 26.78279109, 35.64959298, 29.56817079, 48.70768957,\n",
       "       17.48581447,  6.50583135, 21.0477512 , 37.94578332, 29.61290061,\n",
       "       34.98258268,  5.5704174 , 19.55860219, 33.16124134, 29.77258674,\n",
       "       24.68345399, 17.83271037,  3.37714145, 16.12984834,  6.16351053,\n",
       "       26.80010081, 20.10631495, 26.60214212, 61.98683493, 15.92914719,\n",
       "       58.13448953, 42.29159235, 49.83456498, 35.24557586, 33.40975242,\n",
       "       21.21978024, 17.07137735, 36.09947423, 24.70517692, 46.92462634,\n",
       "       27.40685267, 32.67537904, 13.31949371, 44.84666194, 35.70219611,\n",
       "       47.74242531, 31.30383485, 31.0269177 , 55.17780461, 27.62513947,\n",
       "       62.66016426, 42.99690266, 46.59075894, 21.35457445, 35.56457964,\n",
       "       30.55474226, 58.81984652, 63.32081237, 63.06815831, 23.26243318,\n",
       "       73.88029395, 37.08337227, 32.21917605, 35.79732016, 35.05179647,\n",
       "       25.28453502, 66.29826575, 35.38717976, 13.79882194, 16.41991897,\n",
       "       50.37447323, 37.18059793, 25.38421807, 47.08652902, 13.36755791,\n",
       "       12.65278972, 57.36280476, 18.08770791, 74.93799501, 40.08156841,\n",
       "       10.91715712, 32.99340371, 19.13330263, 22.10623123, 23.61213191,\n",
       "       25.7438439 , 41.0192384 , 38.05567553, 34.29807643, 54.66945111,\n",
       "       23.26014107, 24.13465634, 54.9611514 , 37.21697682, 41.5295294 ,\n",
       "       31.7622226 , 27.44302804, 27.90218778, 40.22479202, 15.26206768,\n",
       "       25.07194825, 15.40191262, 28.37106458, 77.78066735, 24.96496313,\n",
       "       20.05310984, 30.00095442, 19.52953328, 14.62810725, 21.04130701,\n",
       "       24.21797014, 36.28362375, 20.22227834, 24.6146968 , 37.09915456,\n",
       "       40.12076353, 31.53410152, 41.86932765,  1.23008476, 20.10984473,\n",
       "       30.23427859, 39.45385078, 49.6911132 , 13.8503913 , 28.11507949,\n",
       "       69.27812915, 25.69514237, 53.17294473, 28.91580418, 19.45540019,\n",
       "       28.57400246,  8.64545316, 57.02457933, 29.83122213, 28.73188   ,\n",
       "       37.77826377, 32.73527725, 29.16684453, 41.88268933, 25.96122164,\n",
       "       44.13509039, 13.44848762, 53.34048094, 43.65411044, 47.42794469,\n",
       "       45.59556648, 45.60047127, 55.04752555, 16.21849836, 67.40999702,\n",
       "       53.54566834, 13.88486478, 13.78955579, 15.92477957, 20.43068398,\n",
       "       41.21686476, 31.68378334, 36.78582904, 12.00015217, 22.59334007,\n",
       "       37.08116483, 76.10778547, 11.86118703, 39.72157834, 24.2933513 ,\n",
       "       29.22715404, 13.3761489 , 15.52935665, 54.62204148, 20.10781116,\n",
       "       29.05650847, 53.69382916, 15.14942113, 58.53022691, 16.23975099,\n",
       "       42.59546972, 10.22462213, 55.19403069, 34.06500669, 35.07848915,\n",
       "       30.76938003, 21.14235036, 31.43379246, 48.50344349, 20.50995054,\n",
       "       23.56248628, 59.22484256, 49.59788169, 20.99037235, 42.5564849 ,\n",
       "       27.58737517, 45.91968818,  2.31065854, 18.11315801, 10.63932938,\n",
       "       48.56319049, 30.75284367, 27.18259504, 77.72899092, 38.29110087,\n",
       "       63.89601524, 27.96764625, 28.6897937 , 18.37332037, 31.068967  ,\n",
       "       48.59755681, 33.04309887, 43.15905604,  5.62288535, 15.7187564 ,\n",
       "       33.19239102,  6.49077775, 24.73506675, 19.60577765, 74.91251574,\n",
       "       74.93287444, 51.10968784,  4.21151635, 10.65145022, 22.50227834,\n",
       "        7.80894452, 15.28816876, 26.99994215,  2.24176389, 33.5449342 ,\n",
       "       17.25953579, 31.79908975, 27.82627584, 16.0221716 , 26.75947418,\n",
       "       20.35639657, 26.64166489, 73.79466738, 51.25419803, 19.92379754,\n",
       "       34.72215449, 27.20584776, 50.26361429, 38.39889581,  4.93802135,\n",
       "       18.19981733, 46.1065836 , 37.30153369, 25.46510632, 22.99304336,\n",
       "       28.49515999, 35.02291531, 17.99543733, 64.3858268 , 12.451275  ,\n",
       "       25.03536791, 48.50574896, 28.15187113, 42.50342916, 16.85921538,\n",
       "       25.96238563, 15.92231277, 25.83242267, 27.88484932, 37.43355238,\n",
       "       20.1463274 , 28.78230952, 47.36073642, 50.44198348, 27.04905661,\n",
       "       14.63278718, 13.32873456, 17.63445806, 26.79462177, 24.12492594,\n",
       "       23.28758843, 12.3173236 ,  5.7258933 , 74.71154612, 60.38700315,\n",
       "       16.32010112, 34.59019691, 45.05763527, 34.90421288, 58.96184671,\n",
       "       48.50084724, 25.73900854, 25.74906151, 67.62895685, 15.71134042,\n",
       "       36.88418678, 24.96221144, 18.72627787, 11.69599188, 37.38222038,\n",
       "       34.5509432 , 22.49694135, 66.83347457, 35.49562156, 17.8036503 ,\n",
       "       45.49507924, 32.16929365,  3.44241653, 74.93628494, 16.24361025,\n",
       "       58.51940422, 14.20928979, 67.01970863, 23.84199161, 45.83250226,\n",
       "       43.39298459, 15.70330724, 14.34505183, 20.16491303, 52.87157997,\n",
       "       35.42261584, 30.13250882, 59.90735661, 28.65156722, 50.62046521,\n",
       "       62.81069376, 42.40326547, 15.49315268, 20.44048515, 62.96228503,\n",
       "       29.61478215, 44.7731585 , 25.70894163, 44.18043186, 40.45056329,\n",
       "       28.49883278, 32.05548753, 16.27549649, 20.03643815, 57.99806659,\n",
       "        9.44387781,  5.70999276, 69.01130019, 46.21296298, 33.63829121,\n",
       "       25.0045861 ,  9.89157224, 19.78725554, 49.92309203, 50.7098854 ,\n",
       "       21.58579855, 45.85628539, 54.69584843, 19.78060286, 21.02663355,\n",
       "       46.35914303, 10.40675653, 31.60330993, 21.43762106, 65.07926478,\n",
       "       61.58584668, 12.36561988, 50.46846796, 14.25343457, 24.36590385,\n",
       "       37.65425086, 46.47494924, 33.36593754,  4.63421753, 19.56082602,\n",
       "       23.53914245, 26.91767825, 31.94790405, 29.63735888, 23.26398331,\n",
       "       27.92369492, 28.69493279, 23.50165432, 40.02160596, 43.09033728,\n",
       "       30.63617504,  9.12740192, 16.1304252 , 50.64058099, 21.10547489,\n",
       "       29.11449314, 14.82618751, 25.8455743 , 11.15124413, 18.55829563,\n",
       "       98.22445048, 43.16409398, 38.03167259, 18.12395046,  1.62703628,\n",
       "       46.88732432, 27.20203427, 10.51176322, 58.40633735, 14.33236437,\n",
       "       36.70731964, 18.36226032,  3.96943376,  6.44207172, 27.57554763,\n",
       "       11.44623392, 20.43369566, 43.76817969, 59.30952481, 38.4090064 ,\n",
       "        3.205768  , 77.12976679, 57.83563913, 43.25014798, 61.41669825,\n",
       "       22.86405962, 22.71458232, 36.60396773, 26.60994155, 55.36725634,\n",
       "       35.61277267, 26.29098357, 30.06403357, 11.25227493, 40.19911623,\n",
       "       20.97012021, 32.9464821 , 26.84646921, 31.62496212, 12.87958768,\n",
       "       43.37849594,  9.91001128, 43.92707117, 33.8223355 , 16.30712184,\n",
       "       34.69360296, 15.18780801, 28.69055466, 18.32277348, 23.05856231,\n",
       "       34.17782629, 28.00085654, 15.33558132, 24.74226527, 15.06523476,\n",
       "       15.95096556, 20.06229218, 23.67330636, 29.50525459, 27.98072542,\n",
       "       40.84594371, 55.42396977, 30.85076924, 30.13614554, 26.89556463,\n",
       "       23.98655097, 31.39485778, 29.38623762, 26.17349752, 35.08637777,\n",
       "       45.59726101, 23.11785063, 27.74055884, 43.37006511, 23.69391529,\n",
       "       15.91256944, 25.09607012, 48.14598375, 24.48836303, 22.73384893,\n",
       "       73.94688357, 27.44945181, 61.5851488 , 45.42096428, 49.09199664,\n",
       "       23.37599635, 50.28217705, 53.92612884, 42.29503336, 26.88125807,\n",
       "        5.27273161, 19.90927625, 41.06380938, 27.78494873, 24.16011261,\n",
       "        2.03969421, 56.36166451, 33.54645491, 51.87690652, 48.62951476,\n",
       "       18.49344799, 30.99817617, 43.66566196, 49.71088871, 22.78308631,\n",
       "       31.28841927, 32.03983363, 49.34739367, 18.88746214, 19.15233848,\n",
       "       38.35975678, 44.55201924, 88.55760936, 17.7250683 , 44.40184413,\n",
       "       64.01729814, 46.76798744, 30.95518141, 40.8639497 , 31.22742282,\n",
       "       53.52169678, 21.77424235, 21.04876905, 17.63529885, 29.43248225,\n",
       "       50.78578217, 18.84690527, 10.13841321, 35.40528184, 34.73689721,\n",
       "       17.29607306, 31.02123789, 16.83771623, 36.87085025, 30.13676691,\n",
       "       44.52076258, 76.32183379, 49.94134814, 16.18659195, 35.72365269,\n",
       "       35.45077242, 46.47135557, 67.70312875, 44.99374471, 58.83516297,\n",
       "       30.82588599, 35.51315816, 37.0717141 , 27.74118767, 23.61371351,\n",
       "       26.72100522, 28.8387334 , 15.74063988, 45.56416726, 32.4060446 ,\n",
       "       26.29061716, 34.45714828, 18.12829985, 15.55258304, 31.8541249 ,\n",
       "       32.24885874, 43.57533047, 19.71478576, 23.39005163, 21.35961132,\n",
       "       35.43800703, 29.30396332, 18.23472603, 67.04946647, 24.91156121,\n",
       "       27.66952176, 26.13027193, 27.80589033, 30.1423141 , 30.66832567,\n",
       "       24.77750979, 29.63049281, 18.98124694, 20.2691543 , 18.53736633,\n",
       "       36.55896427, 25.69485724, 35.79386656, 15.60910344, 36.34186577,\n",
       "       37.14639036, 40.74122695, 19.54663712, 41.04356624, 53.06389397,\n",
       "       29.99162327, 21.47389811, 13.07231928, 20.73684155, 23.27549475,\n",
       "       15.1160741 ,  8.31440049])"
      ]
     },
     "execution_count": 105,
     "metadata": {},
     "output_type": "execute_result"
    }
   ],
   "source": [
    "ensemble = xgb_pred*0.45 + GBoost_pred*0.35 + regr_pred*0.2\n",
    "ensemble"
   ]
  }
 ],
 "metadata": {
  "kernelspec": {
   "display_name": "Python 3",
   "language": "python",
   "name": "python3"
  },
  "language_info": {
   "codemirror_mode": {
    "name": "ipython",
    "version": 3
   },
   "file_extension": ".py",
   "mimetype": "text/x-python",
   "name": "python",
   "nbconvert_exporter": "python",
   "pygments_lexer": "ipython3",
   "version": "3.7.6"
  }
 },
 "nbformat": 4,
 "nbformat_minor": 4
}
