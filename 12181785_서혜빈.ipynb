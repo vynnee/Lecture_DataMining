{
 "cells": [
  {
   "cell_type": "markdown",
   "metadata": {},
   "source": [
    "# 데이터마이닝 프로젝트"
   ]
  },
  {
   "cell_type": "markdown",
   "metadata": {},
   "source": [
    "## 과제 2 :  Data preparation & EDA"
   ]
  },
  {
   "cell_type": "markdown",
   "metadata": {},
   "source": [
    "### (1) 라이브러리 불러오기"
   ]
  },
  {
   "cell_type": "code",
   "execution_count": 2,
   "metadata": {},
   "outputs": [],
   "source": [
    "import matplotlib.pyplot as plt\n",
    "plt.rcParams['font.family']='Malgun Gothic'\n",
    "plt.rcParams['axes.unicode_minus']=False\n",
    "import pandas as pd\n",
    "import numpy as np\n",
    "import seaborn as sns; sns.set()"
   ]
  },
  {
   "cell_type": "markdown",
   "metadata": {},
   "source": [
    "### (2) 데이터 불러오기"
   ]
  },
  {
   "cell_type": "markdown",
   "metadata": {},
   "source": [
    "#### 날씨 데이터"
   ]
  },
  {
   "cell_type": "code",
   "execution_count": 3,
   "metadata": {},
   "outputs": [],
   "source": [
    "weather_path = 'weather.csv'\n",
    "# read_csv() 함수로 데이터를 데이터 프레임 형태로 불러옵니다.\n",
    "weather = pd.read_csv(weather_path, encoding = 'CP949')"
   ]
  },
  {
   "cell_type": "code",
   "execution_count": 4,
   "metadata": {
    "scrolled": true
   },
   "outputs": [
    {
     "data": {
      "text/html": [
       "<div>\n",
       "<style scoped>\n",
       "    .dataframe tbody tr th:only-of-type {\n",
       "        vertical-align: middle;\n",
       "    }\n",
       "\n",
       "    .dataframe tbody tr th {\n",
       "        vertical-align: top;\n",
       "    }\n",
       "\n",
       "    .dataframe thead th {\n",
       "        text-align: right;\n",
       "    }\n",
       "</style>\n",
       "<table border=\"1\" class=\"dataframe\">\n",
       "  <thead>\n",
       "    <tr style=\"text-align: right;\">\n",
       "      <th></th>\n",
       "      <th>지점</th>\n",
       "      <th>지점명</th>\n",
       "      <th>일시</th>\n",
       "      <th>평균기온(°C)</th>\n",
       "      <th>일강수량(mm)</th>\n",
       "      <th>평균 풍속(m/s)</th>\n",
       "      <th>일 최심신적설(cm)</th>\n",
       "      <th>일 최심적설(cm)</th>\n",
       "    </tr>\n",
       "  </thead>\n",
       "  <tbody>\n",
       "    <tr>\n",
       "      <th>0</th>\n",
       "      <td>112</td>\n",
       "      <td>인천</td>\n",
       "      <td>2010-10-01</td>\n",
       "      <td>17.2</td>\n",
       "      <td>NaN</td>\n",
       "      <td>1.7</td>\n",
       "      <td>NaN</td>\n",
       "      <td>NaN</td>\n",
       "    </tr>\n",
       "    <tr>\n",
       "      <th>1</th>\n",
       "      <td>112</td>\n",
       "      <td>인천</td>\n",
       "      <td>2010-10-02</td>\n",
       "      <td>16.9</td>\n",
       "      <td>17.5</td>\n",
       "      <td>2.1</td>\n",
       "      <td>NaN</td>\n",
       "      <td>NaN</td>\n",
       "    </tr>\n",
       "    <tr>\n",
       "      <th>2</th>\n",
       "      <td>112</td>\n",
       "      <td>인천</td>\n",
       "      <td>2010-10-03</td>\n",
       "      <td>17.8</td>\n",
       "      <td>7.5</td>\n",
       "      <td>3.4</td>\n",
       "      <td>NaN</td>\n",
       "      <td>NaN</td>\n",
       "    </tr>\n",
       "    <tr>\n",
       "      <th>3</th>\n",
       "      <td>112</td>\n",
       "      <td>인천</td>\n",
       "      <td>2010-10-04</td>\n",
       "      <td>14.9</td>\n",
       "      <td>3.0</td>\n",
       "      <td>3.9</td>\n",
       "      <td>NaN</td>\n",
       "      <td>NaN</td>\n",
       "    </tr>\n",
       "    <tr>\n",
       "      <th>4</th>\n",
       "      <td>112</td>\n",
       "      <td>인천</td>\n",
       "      <td>2010-10-05</td>\n",
       "      <td>15.6</td>\n",
       "      <td>NaN</td>\n",
       "      <td>2.0</td>\n",
       "      <td>NaN</td>\n",
       "      <td>NaN</td>\n",
       "    </tr>\n",
       "  </tbody>\n",
       "</table>\n",
       "</div>"
      ],
      "text/plain": [
       "    지점 지점명          일시  평균기온(°C)  일강수량(mm)  평균 풍속(m/s)  일 최심신적설(cm)  \\\n",
       "0  112  인천  2010-10-01      17.2       NaN         1.7          NaN   \n",
       "1  112  인천  2010-10-02      16.9      17.5         2.1          NaN   \n",
       "2  112  인천  2010-10-03      17.8       7.5         3.4          NaN   \n",
       "3  112  인천  2010-10-04      14.9       3.0         3.9          NaN   \n",
       "4  112  인천  2010-10-05      15.6       NaN         2.0          NaN   \n",
       "\n",
       "   일 최심적설(cm)  \n",
       "0         NaN  \n",
       "1         NaN  \n",
       "2         NaN  \n",
       "3         NaN  \n",
       "4         NaN  "
      ]
     },
     "execution_count": 4,
     "metadata": {},
     "output_type": "execute_result"
    }
   ],
   "source": [
    "weather.head()"
   ]
  },
  {
   "cell_type": "code",
   "execution_count": 5,
   "metadata": {},
   "outputs": [],
   "source": [
    "## 불필요한 columns 삭제\n",
    "drop_weather = ['지점', '지점명']\n",
    "weather = weather.drop(drop_weather, axis=1)"
   ]
  },
  {
   "cell_type": "code",
   "execution_count": 6,
   "metadata": {},
   "outputs": [
    {
     "data": {
      "text/html": [
       "<div>\n",
       "<style scoped>\n",
       "    .dataframe tbody tr th:only-of-type {\n",
       "        vertical-align: middle;\n",
       "    }\n",
       "\n",
       "    .dataframe tbody tr th {\n",
       "        vertical-align: top;\n",
       "    }\n",
       "\n",
       "    .dataframe thead th {\n",
       "        text-align: right;\n",
       "    }\n",
       "</style>\n",
       "<table border=\"1\" class=\"dataframe\">\n",
       "  <thead>\n",
       "    <tr style=\"text-align: right;\">\n",
       "      <th></th>\n",
       "      <th>일시</th>\n",
       "      <th>평균기온(°C)</th>\n",
       "      <th>일강수량(mm)</th>\n",
       "      <th>평균 풍속(m/s)</th>\n",
       "      <th>일 최심신적설(cm)</th>\n",
       "      <th>일 최심적설(cm)</th>\n",
       "    </tr>\n",
       "  </thead>\n",
       "  <tbody>\n",
       "    <tr>\n",
       "      <th>0</th>\n",
       "      <td>2010-10-01</td>\n",
       "      <td>17.2</td>\n",
       "      <td>NaN</td>\n",
       "      <td>1.7</td>\n",
       "      <td>NaN</td>\n",
       "      <td>NaN</td>\n",
       "    </tr>\n",
       "    <tr>\n",
       "      <th>1</th>\n",
       "      <td>2010-10-02</td>\n",
       "      <td>16.9</td>\n",
       "      <td>17.5</td>\n",
       "      <td>2.1</td>\n",
       "      <td>NaN</td>\n",
       "      <td>NaN</td>\n",
       "    </tr>\n",
       "    <tr>\n",
       "      <th>2</th>\n",
       "      <td>2010-10-03</td>\n",
       "      <td>17.8</td>\n",
       "      <td>7.5</td>\n",
       "      <td>3.4</td>\n",
       "      <td>NaN</td>\n",
       "      <td>NaN</td>\n",
       "    </tr>\n",
       "    <tr>\n",
       "      <th>3</th>\n",
       "      <td>2010-10-04</td>\n",
       "      <td>14.9</td>\n",
       "      <td>3.0</td>\n",
       "      <td>3.9</td>\n",
       "      <td>NaN</td>\n",
       "      <td>NaN</td>\n",
       "    </tr>\n",
       "    <tr>\n",
       "      <th>4</th>\n",
       "      <td>2010-10-05</td>\n",
       "      <td>15.6</td>\n",
       "      <td>NaN</td>\n",
       "      <td>2.0</td>\n",
       "      <td>NaN</td>\n",
       "      <td>NaN</td>\n",
       "    </tr>\n",
       "  </tbody>\n",
       "</table>\n",
       "</div>"
      ],
      "text/plain": [
       "           일시  평균기온(°C)  일강수량(mm)  평균 풍속(m/s)  일 최심신적설(cm)  일 최심적설(cm)\n",
       "0  2010-10-01      17.2       NaN         1.7          NaN         NaN\n",
       "1  2010-10-02      16.9      17.5         2.1          NaN         NaN\n",
       "2  2010-10-03      17.8       7.5         3.4          NaN         NaN\n",
       "3  2010-10-04      14.9       3.0         3.9          NaN         NaN\n",
       "4  2010-10-05      15.6       NaN         2.0          NaN         NaN"
      ]
     },
     "execution_count": 6,
     "metadata": {},
     "output_type": "execute_result"
    }
   ],
   "source": [
    "weather.head()"
   ]
  },
  {
   "cell_type": "markdown",
   "metadata": {},
   "source": [
    "#### 인천 예약 내역 데이터"
   ]
  },
  {
   "cell_type": "code",
   "execution_count": 7,
   "metadata": {},
   "outputs": [],
   "source": [
    "reservation_path = 'reservation.csv'\n",
    "reservation = pd.read_csv(reservation_path, encoding = 'CP949')"
   ]
  },
  {
   "cell_type": "code",
   "execution_count": 8,
   "metadata": {},
   "outputs": [
    {
     "data": {
      "text/html": [
       "<div>\n",
       "<style scoped>\n",
       "    .dataframe tbody tr th:only-of-type {\n",
       "        vertical-align: middle;\n",
       "    }\n",
       "\n",
       "    .dataframe tbody tr th {\n",
       "        vertical-align: top;\n",
       "    }\n",
       "\n",
       "    .dataframe thead th {\n",
       "        text-align: right;\n",
       "    }\n",
       "</style>\n",
       "<table border=\"1\" class=\"dataframe\">\n",
       "  <thead>\n",
       "    <tr style=\"text-align: right;\">\n",
       "      <th></th>\n",
       "      <th>사업부서</th>\n",
       "      <th>대관시설</th>\n",
       "      <th>예약접수일</th>\n",
       "      <th>단체명</th>\n",
       "      <th>단체구분</th>\n",
       "      <th>인원</th>\n",
       "      <th>이용시작일</th>\n",
       "      <th>이용종료일</th>\n",
       "    </tr>\n",
       "  </thead>\n",
       "  <tbody>\n",
       "    <tr>\n",
       "      <th>0</th>\n",
       "      <td>인천대공원</td>\n",
       "      <td>대공원풋살장</td>\n",
       "      <td>2010-10-26</td>\n",
       "      <td>NaN</td>\n",
       "      <td>Y</td>\n",
       "      <td>1.0</td>\n",
       "      <td>2010-10-27</td>\n",
       "      <td>2010-10-27</td>\n",
       "    </tr>\n",
       "    <tr>\n",
       "      <th>1</th>\n",
       "      <td>인천대공원</td>\n",
       "      <td>대공원풋살장</td>\n",
       "      <td>2010-10-26</td>\n",
       "      <td>NaN</td>\n",
       "      <td>Y</td>\n",
       "      <td>1.0</td>\n",
       "      <td>2010-10-27</td>\n",
       "      <td>2010-10-27</td>\n",
       "    </tr>\n",
       "    <tr>\n",
       "      <th>2</th>\n",
       "      <td>인천대공원</td>\n",
       "      <td>대공원축구장</td>\n",
       "      <td>2010-11-01</td>\n",
       "      <td>운봉공고</td>\n",
       "      <td>Y</td>\n",
       "      <td>1.0</td>\n",
       "      <td>2010-11-05</td>\n",
       "      <td>2010-11-05</td>\n",
       "    </tr>\n",
       "    <tr>\n",
       "      <th>3</th>\n",
       "      <td>인천대공원</td>\n",
       "      <td>대공원축구장</td>\n",
       "      <td>2010-11-01</td>\n",
       "      <td>(주)태평양제약</td>\n",
       "      <td>Y</td>\n",
       "      <td>1.0</td>\n",
       "      <td>2010-11-02</td>\n",
       "      <td>2010-11-02</td>\n",
       "    </tr>\n",
       "    <tr>\n",
       "      <th>4</th>\n",
       "      <td>인천대공원</td>\n",
       "      <td>중앙공원축구장</td>\n",
       "      <td>2010-11-01</td>\n",
       "      <td>축구사랑</td>\n",
       "      <td>Y</td>\n",
       "      <td>1.0</td>\n",
       "      <td>2010-11-04</td>\n",
       "      <td>2010-11-04</td>\n",
       "    </tr>\n",
       "  </tbody>\n",
       "</table>\n",
       "</div>"
      ],
      "text/plain": [
       "    사업부서     대관시설       예약접수일       단체명 단체구분   인원       이용시작일       이용종료일\n",
       "0  인천대공원   대공원풋살장  2010-10-26       NaN    Y  1.0  2010-10-27  2010-10-27\n",
       "1  인천대공원   대공원풋살장  2010-10-26       NaN    Y  1.0  2010-10-27  2010-10-27\n",
       "2  인천대공원   대공원축구장  2010-11-01      운봉공고    Y  1.0  2010-11-05  2010-11-05\n",
       "3  인천대공원   대공원축구장  2010-11-01  (주)태평양제약    Y  1.0  2010-11-02  2010-11-02\n",
       "4  인천대공원  중앙공원축구장  2010-11-01      축구사랑    Y  1.0  2010-11-04  2010-11-04"
      ]
     },
     "execution_count": 8,
     "metadata": {},
     "output_type": "execute_result"
    }
   ],
   "source": [
    "reservation.head()"
   ]
  },
  {
   "cell_type": "code",
   "execution_count": 9,
   "metadata": {},
   "outputs": [
    {
     "name": "stdout",
     "output_type": "stream",
     "text": [
      "<class 'pandas.core.frame.DataFrame'>\n",
      "RangeIndex: 3378 entries, 0 to 3377\n",
      "Data columns (total 6 columns):\n",
      " #   Column       Non-Null Count  Dtype  \n",
      "---  ------       --------------  -----  \n",
      " 0   일시           3378 non-null   object \n",
      " 1   평균기온(°C)     3378 non-null   float64\n",
      " 2   일강수량(mm)     1181 non-null   float64\n",
      " 3   평균 풍속(m/s)   3376 non-null   float64\n",
      " 4   일 최심신적설(cm)  109 non-null    float64\n",
      " 5   일 최심적설(cm)   207 non-null    float64\n",
      "dtypes: float64(5), object(1)\n",
      "memory usage: 158.5+ KB\n",
      "<class 'pandas.core.frame.DataFrame'>\n",
      "RangeIndex: 127252 entries, 0 to 127251\n",
      "Data columns (total 8 columns):\n",
      " #   Column  Non-Null Count   Dtype  \n",
      "---  ------  --------------   -----  \n",
      " 0   사업부서    127252 non-null  object \n",
      " 1   대관시설    127252 non-null  object \n",
      " 2   예약접수일   127252 non-null  object \n",
      " 3   단체명     69689 non-null   object \n",
      " 4   단체구분    127252 non-null  object \n",
      " 5   인원      127251 non-null  float64\n",
      " 6   이용시작일   127252 non-null  object \n",
      " 7   이용종료일   127252 non-null  object \n",
      "dtypes: float64(1), object(7)\n",
      "memory usage: 7.8+ MB\n"
     ]
    }
   ],
   "source": [
    "weather.info()\n",
    "reservation.info()"
   ]
  },
  {
   "cell_type": "code",
   "execution_count": 10,
   "metadata": {},
   "outputs": [
    {
     "name": "stdout",
     "output_type": "stream",
     "text": [
      "(3378, 6)\n",
      "일시             3378\n",
      "평균기온(°C)       3378\n",
      "일강수량(mm)       1181\n",
      "평균 풍속(m/s)     3376\n",
      "일 최심신적설(cm)     109\n",
      "일 최심적설(cm)      207\n",
      "dtype: int64\n"
     ]
    }
   ],
   "source": [
    "print(weather.shape)\n",
    "print(weather.count())\n",
    "\n",
    "# weather의 총 관측수는 3378개, 열(변수)의 수는 6개"
   ]
  },
  {
   "cell_type": "code",
   "execution_count": 11,
   "metadata": {},
   "outputs": [
    {
     "name": "stdout",
     "output_type": "stream",
     "text": [
      "(127252, 8)\n",
      "사업부서     127252\n",
      "대관시설     127252\n",
      "예약접수일    127252\n",
      "단체명       69689\n",
      "단체구분     127252\n",
      "인원       127251\n",
      "이용시작일    127252\n",
      "이용종료일    127252\n",
      "dtype: int64\n"
     ]
    }
   ],
   "source": [
    "print(reservation.shape)\n",
    "print(reservation.count())\n",
    "\n",
    "# reservation의 총 관측수는 127252개, 열(변수)의 수는 8개"
   ]
  },
  {
   "cell_type": "markdown",
   "metadata": {},
   "source": [
    "### (3) 결측치 확인 및 처리"
   ]
  },
  {
   "cell_type": "code",
   "execution_count": 12,
   "metadata": {},
   "outputs": [
    {
     "name": "stdout",
     "output_type": "stream",
     "text": [
      "weather :  일시                0\n",
      "평균기온(°C)          0\n",
      "일강수량(mm)       2197\n",
      "평균 풍속(m/s)        2\n",
      "일 최심신적설(cm)    3269\n",
      "일 최심적설(cm)     3171\n",
      "dtype: int64\n",
      "----------------------------\n",
      "reservation :  사업부서         0\n",
      "대관시설         0\n",
      "예약접수일        0\n",
      "단체명      57563\n",
      "단체구분         0\n",
      "인원           1\n",
      "이용시작일        0\n",
      "이용종료일        0\n",
      "dtype: int64\n"
     ]
    }
   ],
   "source": [
    "# 결측치 확인\n",
    "print('weather : ', weather.isnull().sum())\n",
    "print('----------------------------')\n",
    "print('reservation : ', reservation.isnull().sum())"
   ]
  },
  {
   "cell_type": "markdown",
   "metadata": {},
   "source": [
    "**weather**\n",
    "\n",
    "weather의 결측치는 비가 내리지 않아서, 눈이 내리지 않아서 등의 이유로 인한 것임.\n",
    "\n",
    "따라서 해당 결측치에는 0을 넣어줌.\n",
    "\n",
    "**reservation**\n",
    "\n",
    "reservation의 결측치인 단체명과 인원은 해당 데이터 분석에서는 중요한 변수가 아니므로 0을 채워줌."
   ]
  },
  {
   "cell_type": "code",
   "execution_count": 13,
   "metadata": {},
   "outputs": [],
   "source": [
    "## weather data 결측치에 0 넣기\n",
    "weather = weather.fillna(0).iloc[0:3378, 0:6]"
   ]
  },
  {
   "cell_type": "code",
   "execution_count": 14,
   "metadata": {},
   "outputs": [
    {
     "data": {
      "text/html": [
       "<div>\n",
       "<style scoped>\n",
       "    .dataframe tbody tr th:only-of-type {\n",
       "        vertical-align: middle;\n",
       "    }\n",
       "\n",
       "    .dataframe tbody tr th {\n",
       "        vertical-align: top;\n",
       "    }\n",
       "\n",
       "    .dataframe thead th {\n",
       "        text-align: right;\n",
       "    }\n",
       "</style>\n",
       "<table border=\"1\" class=\"dataframe\">\n",
       "  <thead>\n",
       "    <tr style=\"text-align: right;\">\n",
       "      <th></th>\n",
       "      <th>일시</th>\n",
       "      <th>평균기온(°C)</th>\n",
       "      <th>일강수량(mm)</th>\n",
       "      <th>평균 풍속(m/s)</th>\n",
       "      <th>일 최심신적설(cm)</th>\n",
       "      <th>일 최심적설(cm)</th>\n",
       "    </tr>\n",
       "  </thead>\n",
       "  <tbody>\n",
       "    <tr>\n",
       "      <th>0</th>\n",
       "      <td>2010-10-01</td>\n",
       "      <td>17.2</td>\n",
       "      <td>0.0</td>\n",
       "      <td>1.7</td>\n",
       "      <td>0.0</td>\n",
       "      <td>0.0</td>\n",
       "    </tr>\n",
       "    <tr>\n",
       "      <th>1</th>\n",
       "      <td>2010-10-02</td>\n",
       "      <td>16.9</td>\n",
       "      <td>17.5</td>\n",
       "      <td>2.1</td>\n",
       "      <td>0.0</td>\n",
       "      <td>0.0</td>\n",
       "    </tr>\n",
       "    <tr>\n",
       "      <th>2</th>\n",
       "      <td>2010-10-03</td>\n",
       "      <td>17.8</td>\n",
       "      <td>7.5</td>\n",
       "      <td>3.4</td>\n",
       "      <td>0.0</td>\n",
       "      <td>0.0</td>\n",
       "    </tr>\n",
       "    <tr>\n",
       "      <th>3</th>\n",
       "      <td>2010-10-04</td>\n",
       "      <td>14.9</td>\n",
       "      <td>3.0</td>\n",
       "      <td>3.9</td>\n",
       "      <td>0.0</td>\n",
       "      <td>0.0</td>\n",
       "    </tr>\n",
       "    <tr>\n",
       "      <th>4</th>\n",
       "      <td>2010-10-05</td>\n",
       "      <td>15.6</td>\n",
       "      <td>0.0</td>\n",
       "      <td>2.0</td>\n",
       "      <td>0.0</td>\n",
       "      <td>0.0</td>\n",
       "    </tr>\n",
       "  </tbody>\n",
       "</table>\n",
       "</div>"
      ],
      "text/plain": [
       "           일시  평균기온(°C)  일강수량(mm)  평균 풍속(m/s)  일 최심신적설(cm)  일 최심적설(cm)\n",
       "0  2010-10-01      17.2       0.0         1.7          0.0         0.0\n",
       "1  2010-10-02      16.9      17.5         2.1          0.0         0.0\n",
       "2  2010-10-03      17.8       7.5         3.4          0.0         0.0\n",
       "3  2010-10-04      14.9       3.0         3.9          0.0         0.0\n",
       "4  2010-10-05      15.6       0.0         2.0          0.0         0.0"
      ]
     },
     "execution_count": 14,
     "metadata": {},
     "output_type": "execute_result"
    }
   ],
   "source": [
    "weather.head()"
   ]
  },
  {
   "cell_type": "code",
   "execution_count": 15,
   "metadata": {},
   "outputs": [],
   "source": [
    "## reservation data 결측치에 0 넣기\n",
    "reservation = reservation.fillna(0).iloc[0:127252, 0:8]"
   ]
  },
  {
   "cell_type": "code",
   "execution_count": 16,
   "metadata": {},
   "outputs": [
    {
     "data": {
      "text/html": [
       "<div>\n",
       "<style scoped>\n",
       "    .dataframe tbody tr th:only-of-type {\n",
       "        vertical-align: middle;\n",
       "    }\n",
       "\n",
       "    .dataframe tbody tr th {\n",
       "        vertical-align: top;\n",
       "    }\n",
       "\n",
       "    .dataframe thead th {\n",
       "        text-align: right;\n",
       "    }\n",
       "</style>\n",
       "<table border=\"1\" class=\"dataframe\">\n",
       "  <thead>\n",
       "    <tr style=\"text-align: right;\">\n",
       "      <th></th>\n",
       "      <th>사업부서</th>\n",
       "      <th>대관시설</th>\n",
       "      <th>예약접수일</th>\n",
       "      <th>단체명</th>\n",
       "      <th>단체구분</th>\n",
       "      <th>인원</th>\n",
       "      <th>이용시작일</th>\n",
       "      <th>이용종료일</th>\n",
       "    </tr>\n",
       "  </thead>\n",
       "  <tbody>\n",
       "    <tr>\n",
       "      <th>0</th>\n",
       "      <td>인천대공원</td>\n",
       "      <td>대공원풋살장</td>\n",
       "      <td>2010-10-26</td>\n",
       "      <td>0</td>\n",
       "      <td>Y</td>\n",
       "      <td>1.0</td>\n",
       "      <td>2010-10-27</td>\n",
       "      <td>2010-10-27</td>\n",
       "    </tr>\n",
       "    <tr>\n",
       "      <th>1</th>\n",
       "      <td>인천대공원</td>\n",
       "      <td>대공원풋살장</td>\n",
       "      <td>2010-10-26</td>\n",
       "      <td>0</td>\n",
       "      <td>Y</td>\n",
       "      <td>1.0</td>\n",
       "      <td>2010-10-27</td>\n",
       "      <td>2010-10-27</td>\n",
       "    </tr>\n",
       "    <tr>\n",
       "      <th>2</th>\n",
       "      <td>인천대공원</td>\n",
       "      <td>대공원축구장</td>\n",
       "      <td>2010-11-01</td>\n",
       "      <td>운봉공고</td>\n",
       "      <td>Y</td>\n",
       "      <td>1.0</td>\n",
       "      <td>2010-11-05</td>\n",
       "      <td>2010-11-05</td>\n",
       "    </tr>\n",
       "    <tr>\n",
       "      <th>3</th>\n",
       "      <td>인천대공원</td>\n",
       "      <td>대공원축구장</td>\n",
       "      <td>2010-11-01</td>\n",
       "      <td>(주)태평양제약</td>\n",
       "      <td>Y</td>\n",
       "      <td>1.0</td>\n",
       "      <td>2010-11-02</td>\n",
       "      <td>2010-11-02</td>\n",
       "    </tr>\n",
       "    <tr>\n",
       "      <th>4</th>\n",
       "      <td>인천대공원</td>\n",
       "      <td>중앙공원축구장</td>\n",
       "      <td>2010-11-01</td>\n",
       "      <td>축구사랑</td>\n",
       "      <td>Y</td>\n",
       "      <td>1.0</td>\n",
       "      <td>2010-11-04</td>\n",
       "      <td>2010-11-04</td>\n",
       "    </tr>\n",
       "  </tbody>\n",
       "</table>\n",
       "</div>"
      ],
      "text/plain": [
       "    사업부서     대관시설       예약접수일       단체명 단체구분   인원       이용시작일       이용종료일\n",
       "0  인천대공원   대공원풋살장  2010-10-26         0    Y  1.0  2010-10-27  2010-10-27\n",
       "1  인천대공원   대공원풋살장  2010-10-26         0    Y  1.0  2010-10-27  2010-10-27\n",
       "2  인천대공원   대공원축구장  2010-11-01      운봉공고    Y  1.0  2010-11-05  2010-11-05\n",
       "3  인천대공원   대공원축구장  2010-11-01  (주)태평양제약    Y  1.0  2010-11-02  2010-11-02\n",
       "4  인천대공원  중앙공원축구장  2010-11-01      축구사랑    Y  1.0  2010-11-04  2010-11-04"
      ]
     },
     "execution_count": 16,
     "metadata": {},
     "output_type": "execute_result"
    }
   ],
   "source": [
    "reservation.head()"
   ]
  },
  {
   "cell_type": "code",
   "execution_count": 17,
   "metadata": {},
   "outputs": [
    {
     "name": "stdout",
     "output_type": "stream",
     "text": [
      "weather :  일시             0\n",
      "평균기온(°C)       0\n",
      "일강수량(mm)       0\n",
      "평균 풍속(m/s)     0\n",
      "일 최심신적설(cm)    0\n",
      "일 최심적설(cm)     0\n",
      "dtype: int64\n",
      "----------------------------\n",
      "reservation :  사업부서     0\n",
      "대관시설     0\n",
      "예약접수일    0\n",
      "단체명      0\n",
      "단체구분     0\n",
      "인원       0\n",
      "이용시작일    0\n",
      "이용종료일    0\n",
      "dtype: int64\n"
     ]
    }
   ],
   "source": [
    "# 결측치 처리됐는지 확인\n",
    "print('weather : ', weather.isnull().sum())\n",
    "print('----------------------------')\n",
    "print('reservation : ', reservation.isnull().sum())"
   ]
  },
  {
   "cell_type": "markdown",
   "metadata": {},
   "source": [
    "결측치가 사라진 것을 확인할 수 있음."
   ]
  },
  {
   "cell_type": "code",
   "execution_count": 18,
   "metadata": {},
   "outputs": [
    {
     "data": {
      "text/html": [
       "<div>\n",
       "<style scoped>\n",
       "    .dataframe tbody tr th:only-of-type {\n",
       "        vertical-align: middle;\n",
       "    }\n",
       "\n",
       "    .dataframe tbody tr th {\n",
       "        vertical-align: top;\n",
       "    }\n",
       "\n",
       "    .dataframe thead th {\n",
       "        text-align: right;\n",
       "    }\n",
       "</style>\n",
       "<table border=\"1\" class=\"dataframe\">\n",
       "  <thead>\n",
       "    <tr style=\"text-align: right;\">\n",
       "      <th></th>\n",
       "      <th>사업부서</th>\n",
       "      <th>대관시설</th>\n",
       "      <th>예약접수일</th>\n",
       "      <th>단체명</th>\n",
       "      <th>단체구분</th>\n",
       "      <th>인원</th>\n",
       "      <th>이용시작일</th>\n",
       "      <th>이용종료일</th>\n",
       "    </tr>\n",
       "  </thead>\n",
       "  <tbody>\n",
       "    <tr>\n",
       "      <th>91833</th>\n",
       "      <td>인천대공원</td>\n",
       "      <td>대공원축구장</td>\n",
       "      <td>2018-03-26</td>\n",
       "      <td>feclub</td>\n",
       "      <td>Y</td>\n",
       "      <td>22.0</td>\n",
       "      <td>10</td>\n",
       "      <td>10</td>\n",
       "    </tr>\n",
       "    <tr>\n",
       "      <th>0</th>\n",
       "      <td>인천대공원</td>\n",
       "      <td>대공원풋살장</td>\n",
       "      <td>2010-10-26</td>\n",
       "      <td>0</td>\n",
       "      <td>Y</td>\n",
       "      <td>1.0</td>\n",
       "      <td>2010-10-27</td>\n",
       "      <td>2010-10-27</td>\n",
       "    </tr>\n",
       "    <tr>\n",
       "      <th>68</th>\n",
       "      <td>인천대공원</td>\n",
       "      <td>대공원풋살장</td>\n",
       "      <td>2010-10-26</td>\n",
       "      <td>세계일등축구단</td>\n",
       "      <td>Y</td>\n",
       "      <td>123.0</td>\n",
       "      <td>2010-10-27</td>\n",
       "      <td>2010-10-27</td>\n",
       "    </tr>\n",
       "    <tr>\n",
       "      <th>35</th>\n",
       "      <td>인천대공원</td>\n",
       "      <td>대공원풋살장</td>\n",
       "      <td>2010-10-26</td>\n",
       "      <td>0</td>\n",
       "      <td>Y</td>\n",
       "      <td>123.0</td>\n",
       "      <td>2010-10-27</td>\n",
       "      <td>2010-10-27</td>\n",
       "    </tr>\n",
       "    <tr>\n",
       "      <th>1</th>\n",
       "      <td>인천대공원</td>\n",
       "      <td>대공원풋살장</td>\n",
       "      <td>2010-10-26</td>\n",
       "      <td>0</td>\n",
       "      <td>Y</td>\n",
       "      <td>1.0</td>\n",
       "      <td>2010-10-27</td>\n",
       "      <td>2010-10-27</td>\n",
       "    </tr>\n",
       "    <tr>\n",
       "      <th>...</th>\n",
       "      <td>...</td>\n",
       "      <td>...</td>\n",
       "      <td>...</td>\n",
       "      <td>...</td>\n",
       "      <td>...</td>\n",
       "      <td>...</td>\n",
       "      <td>...</td>\n",
       "      <td>...</td>\n",
       "    </tr>\n",
       "    <tr>\n",
       "      <th>126178</th>\n",
       "      <td>인천시설공단(청소년수련관)</td>\n",
       "      <td>공연장</td>\n",
       "      <td>2019-10-30</td>\n",
       "      <td>0</td>\n",
       "      <td>N</td>\n",
       "      <td>1.0</td>\n",
       "      <td>2019-12-31</td>\n",
       "      <td>2019-12-31</td>\n",
       "    </tr>\n",
       "    <tr>\n",
       "      <th>126177</th>\n",
       "      <td>인천시설공단(청소년수련관)</td>\n",
       "      <td>공연장</td>\n",
       "      <td>2019-10-30</td>\n",
       "      <td>0</td>\n",
       "      <td>N</td>\n",
       "      <td>1.0</td>\n",
       "      <td>2019-12-31</td>\n",
       "      <td>2019-12-31</td>\n",
       "    </tr>\n",
       "    <tr>\n",
       "      <th>126506</th>\n",
       "      <td>송도공원사업단</td>\n",
       "      <td>달빛축제공원(배드민턴장)</td>\n",
       "      <td>2019-11-01</td>\n",
       "      <td>0</td>\n",
       "      <td>Y</td>\n",
       "      <td>10.0</td>\n",
       "      <td>2019-12-31</td>\n",
       "      <td>2019-12-31</td>\n",
       "    </tr>\n",
       "    <tr>\n",
       "      <th>111004</th>\n",
       "      <td>인천삼산월드체육관</td>\n",
       "      <td>인조잔디구장</td>\n",
       "      <td>2019-03-01</td>\n",
       "      <td>블루스카이f.c</td>\n",
       "      <td>Y</td>\n",
       "      <td>30.0</td>\n",
       "      <td>2090-05-05</td>\n",
       "      <td>2090-05-05</td>\n",
       "    </tr>\n",
       "    <tr>\n",
       "      <th>91832</th>\n",
       "      <td>인천대공원</td>\n",
       "      <td>대공원축구장</td>\n",
       "      <td>2018-03-26</td>\n",
       "      <td>feclub</td>\n",
       "      <td>Y</td>\n",
       "      <td>22.0</td>\n",
       "      <td>8</td>\n",
       "      <td>8</td>\n",
       "    </tr>\n",
       "  </tbody>\n",
       "</table>\n",
       "<p>127252 rows × 8 columns</p>\n",
       "</div>"
      ],
      "text/plain": [
       "                  사업부서           대관시설       예약접수일       단체명 단체구분     인원  \\\n",
       "91833            인천대공원         대공원축구장  2018-03-26    feclub    Y   22.0   \n",
       "0                인천대공원         대공원풋살장  2010-10-26         0    Y    1.0   \n",
       "68               인천대공원         대공원풋살장  2010-10-26   세계일등축구단    Y  123.0   \n",
       "35               인천대공원         대공원풋살장  2010-10-26         0    Y  123.0   \n",
       "1                인천대공원         대공원풋살장  2010-10-26         0    Y    1.0   \n",
       "...                ...            ...         ...       ...  ...    ...   \n",
       "126178  인천시설공단(청소년수련관)            공연장  2019-10-30         0    N    1.0   \n",
       "126177  인천시설공단(청소년수련관)            공연장  2019-10-30         0    N    1.0   \n",
       "126506         송도공원사업단  달빛축제공원(배드민턴장)  2019-11-01         0    Y   10.0   \n",
       "111004       인천삼산월드체육관         인조잔디구장  2019-03-01  블루스카이f.c    Y   30.0   \n",
       "91832            인천대공원         대공원축구장  2018-03-26    feclub    Y   22.0   \n",
       "\n",
       "             이용시작일       이용종료일  \n",
       "91833           10          10  \n",
       "0       2010-10-27  2010-10-27  \n",
       "68      2010-10-27  2010-10-27  \n",
       "35      2010-10-27  2010-10-27  \n",
       "1       2010-10-27  2010-10-27  \n",
       "...            ...         ...  \n",
       "126178  2019-12-31  2019-12-31  \n",
       "126177  2019-12-31  2019-12-31  \n",
       "126506  2019-12-31  2019-12-31  \n",
       "111004  2090-05-05  2090-05-05  \n",
       "91832            8           8  \n",
       "\n",
       "[127252 rows x 8 columns]"
      ]
     },
     "execution_count": 18,
     "metadata": {},
     "output_type": "execute_result"
    }
   ],
   "source": [
    "## 이용시작일의 날짜를 기준으로 내림차순 정렬\n",
    "reservation = reservation.sort_values(by = ['이용시작일'])\n",
    "reservation"
   ]
  },
  {
   "cell_type": "code",
   "execution_count": 19,
   "metadata": {},
   "outputs": [
    {
     "data": {
      "text/html": [
       "<div>\n",
       "<style scoped>\n",
       "    .dataframe tbody tr th:only-of-type {\n",
       "        vertical-align: middle;\n",
       "    }\n",
       "\n",
       "    .dataframe tbody tr th {\n",
       "        vertical-align: top;\n",
       "    }\n",
       "\n",
       "    .dataframe thead th {\n",
       "        text-align: right;\n",
       "    }\n",
       "</style>\n",
       "<table border=\"1\" class=\"dataframe\">\n",
       "  <thead>\n",
       "    <tr style=\"text-align: right;\">\n",
       "      <th></th>\n",
       "      <th>평균기온(°C)</th>\n",
       "      <th>일강수량(mm)</th>\n",
       "      <th>평균 풍속(m/s)</th>\n",
       "      <th>일 최심신적설(cm)</th>\n",
       "      <th>일 최심적설(cm)</th>\n",
       "    </tr>\n",
       "  </thead>\n",
       "  <tbody>\n",
       "    <tr>\n",
       "      <th>평균기온(°C)</th>\n",
       "      <td>1.000000</td>\n",
       "      <td>0.158253</td>\n",
       "      <td>-0.335107</td>\n",
       "      <td>-0.168492</td>\n",
       "      <td>-0.278881</td>\n",
       "    </tr>\n",
       "    <tr>\n",
       "      <th>일강수량(mm)</th>\n",
       "      <td>0.158253</td>\n",
       "      <td>1.000000</td>\n",
       "      <td>0.087856</td>\n",
       "      <td>0.009718</td>\n",
       "      <td>-0.016982</td>\n",
       "    </tr>\n",
       "    <tr>\n",
       "      <th>평균 풍속(m/s)</th>\n",
       "      <td>-0.335107</td>\n",
       "      <td>0.087856</td>\n",
       "      <td>1.000000</td>\n",
       "      <td>0.060116</td>\n",
       "      <td>0.078315</td>\n",
       "    </tr>\n",
       "    <tr>\n",
       "      <th>일 최심신적설(cm)</th>\n",
       "      <td>-0.168492</td>\n",
       "      <td>0.009718</td>\n",
       "      <td>0.060116</td>\n",
       "      <td>1.000000</td>\n",
       "      <td>0.563301</td>\n",
       "    </tr>\n",
       "    <tr>\n",
       "      <th>일 최심적설(cm)</th>\n",
       "      <td>-0.278881</td>\n",
       "      <td>-0.016982</td>\n",
       "      <td>0.078315</td>\n",
       "      <td>0.563301</td>\n",
       "      <td>1.000000</td>\n",
       "    </tr>\n",
       "  </tbody>\n",
       "</table>\n",
       "</div>"
      ],
      "text/plain": [
       "             평균기온(°C)  일강수량(mm)  평균 풍속(m/s)  일 최심신적설(cm)  일 최심적설(cm)\n",
       "평균기온(°C)     1.000000  0.158253   -0.335107    -0.168492   -0.278881\n",
       "일강수량(mm)     0.158253  1.000000    0.087856     0.009718   -0.016982\n",
       "평균 풍속(m/s)  -0.335107  0.087856    1.000000     0.060116    0.078315\n",
       "일 최심신적설(cm) -0.168492  0.009718    0.060116     1.000000    0.563301\n",
       "일 최심적설(cm)  -0.278881 -0.016982    0.078315     0.563301    1.000000"
      ]
     },
     "execution_count": 19,
     "metadata": {},
     "output_type": "execute_result"
    }
   ],
   "source": [
    "weather.corr()"
   ]
  },
  {
   "cell_type": "markdown",
   "metadata": {},
   "source": [
    "### (4) Data merge"
   ]
  },
  {
   "cell_type": "code",
   "execution_count": 20,
   "metadata": {
    "scrolled": true
   },
   "outputs": [
    {
     "data": {
      "text/html": [
       "<div>\n",
       "<style scoped>\n",
       "    .dataframe tbody tr th:only-of-type {\n",
       "        vertical-align: middle;\n",
       "    }\n",
       "\n",
       "    .dataframe tbody tr th {\n",
       "        vertical-align: top;\n",
       "    }\n",
       "\n",
       "    .dataframe thead th {\n",
       "        text-align: right;\n",
       "    }\n",
       "</style>\n",
       "<table border=\"1\" class=\"dataframe\">\n",
       "  <thead>\n",
       "    <tr style=\"text-align: right;\">\n",
       "      <th></th>\n",
       "      <th>사업부서</th>\n",
       "      <th>대관시설</th>\n",
       "      <th>예약접수일</th>\n",
       "      <th>단체명</th>\n",
       "      <th>단체구분</th>\n",
       "      <th>인원</th>\n",
       "      <th>이용시작일</th>\n",
       "      <th>이용종료일</th>\n",
       "      <th>일시</th>\n",
       "      <th>평균기온(°C)</th>\n",
       "      <th>일강수량(mm)</th>\n",
       "      <th>평균 풍속(m/s)</th>\n",
       "      <th>일 최심신적설(cm)</th>\n",
       "      <th>일 최심적설(cm)</th>\n",
       "    </tr>\n",
       "  </thead>\n",
       "  <tbody>\n",
       "    <tr>\n",
       "      <th>0</th>\n",
       "      <td>인천대공원</td>\n",
       "      <td>대공원축구장</td>\n",
       "      <td>2018-03-26</td>\n",
       "      <td>feclub</td>\n",
       "      <td>Y</td>\n",
       "      <td>22.0</td>\n",
       "      <td>10</td>\n",
       "      <td>10</td>\n",
       "      <td>NaN</td>\n",
       "      <td>NaN</td>\n",
       "      <td>NaN</td>\n",
       "      <td>NaN</td>\n",
       "      <td>NaN</td>\n",
       "      <td>NaN</td>\n",
       "    </tr>\n",
       "    <tr>\n",
       "      <th>1</th>\n",
       "      <td>인천대공원</td>\n",
       "      <td>대공원풋살장</td>\n",
       "      <td>2010-10-26</td>\n",
       "      <td>0</td>\n",
       "      <td>Y</td>\n",
       "      <td>1.0</td>\n",
       "      <td>2010-10-27</td>\n",
       "      <td>2010-10-27</td>\n",
       "      <td>2010-10-27</td>\n",
       "      <td>6.2</td>\n",
       "      <td>0.0</td>\n",
       "      <td>2.1</td>\n",
       "      <td>0.0</td>\n",
       "      <td>0.0</td>\n",
       "    </tr>\n",
       "    <tr>\n",
       "      <th>2</th>\n",
       "      <td>인천대공원</td>\n",
       "      <td>대공원풋살장</td>\n",
       "      <td>2010-10-26</td>\n",
       "      <td>세계일등축구단</td>\n",
       "      <td>Y</td>\n",
       "      <td>123.0</td>\n",
       "      <td>2010-10-27</td>\n",
       "      <td>2010-10-27</td>\n",
       "      <td>2010-10-27</td>\n",
       "      <td>6.2</td>\n",
       "      <td>0.0</td>\n",
       "      <td>2.1</td>\n",
       "      <td>0.0</td>\n",
       "      <td>0.0</td>\n",
       "    </tr>\n",
       "    <tr>\n",
       "      <th>3</th>\n",
       "      <td>인천대공원</td>\n",
       "      <td>대공원풋살장</td>\n",
       "      <td>2010-10-26</td>\n",
       "      <td>0</td>\n",
       "      <td>Y</td>\n",
       "      <td>123.0</td>\n",
       "      <td>2010-10-27</td>\n",
       "      <td>2010-10-27</td>\n",
       "      <td>2010-10-27</td>\n",
       "      <td>6.2</td>\n",
       "      <td>0.0</td>\n",
       "      <td>2.1</td>\n",
       "      <td>0.0</td>\n",
       "      <td>0.0</td>\n",
       "    </tr>\n",
       "    <tr>\n",
       "      <th>4</th>\n",
       "      <td>인천대공원</td>\n",
       "      <td>대공원풋살장</td>\n",
       "      <td>2010-10-26</td>\n",
       "      <td>0</td>\n",
       "      <td>Y</td>\n",
       "      <td>1.0</td>\n",
       "      <td>2010-10-27</td>\n",
       "      <td>2010-10-27</td>\n",
       "      <td>2010-10-27</td>\n",
       "      <td>6.2</td>\n",
       "      <td>0.0</td>\n",
       "      <td>2.1</td>\n",
       "      <td>0.0</td>\n",
       "      <td>0.0</td>\n",
       "    </tr>\n",
       "  </tbody>\n",
       "</table>\n",
       "</div>"
      ],
      "text/plain": [
       "    사업부서    대관시설       예약접수일      단체명 단체구분     인원       이용시작일       이용종료일  \\\n",
       "0  인천대공원  대공원축구장  2018-03-26   feclub    Y   22.0          10          10   \n",
       "1  인천대공원  대공원풋살장  2010-10-26        0    Y    1.0  2010-10-27  2010-10-27   \n",
       "2  인천대공원  대공원풋살장  2010-10-26  세계일등축구단    Y  123.0  2010-10-27  2010-10-27   \n",
       "3  인천대공원  대공원풋살장  2010-10-26        0    Y  123.0  2010-10-27  2010-10-27   \n",
       "4  인천대공원  대공원풋살장  2010-10-26        0    Y    1.0  2010-10-27  2010-10-27   \n",
       "\n",
       "           일시  평균기온(°C)  일강수량(mm)  평균 풍속(m/s)  일 최심신적설(cm)  일 최심적설(cm)  \n",
       "0         NaN       NaN       NaN         NaN          NaN         NaN  \n",
       "1  2010-10-27       6.2       0.0         2.1          0.0         0.0  \n",
       "2  2010-10-27       6.2       0.0         2.1          0.0         0.0  \n",
       "3  2010-10-27       6.2       0.0         2.1          0.0         0.0  \n",
       "4  2010-10-27       6.2       0.0         2.1          0.0         0.0  "
      ]
     },
     "execution_count": 20,
     "metadata": {},
     "output_type": "execute_result"
    }
   ],
   "source": [
    "merged = pd.merge(reservation, weather, \n",
    "                  how='left', left_on = '이용시작일', right_on = '일시')\n",
    "merged.head() ## 결측값 발생"
   ]
  },
  {
   "cell_type": "code",
   "execution_count": 21,
   "metadata": {},
   "outputs": [
    {
     "name": "stdout",
     "output_type": "stream",
     "text": [
      "merged :  사업부서            0\n",
      "대관시설            0\n",
      "예약접수일           0\n",
      "단체명             0\n",
      "단체구분            0\n",
      "인원              0\n",
      "이용시작일           0\n",
      "이용종료일           0\n",
      "일시             32\n",
      "평균기온(°C)       32\n",
      "일강수량(mm)       32\n",
      "평균 풍속(m/s)     32\n",
      "일 최심신적설(cm)    32\n",
      "일 최심적설(cm)     32\n",
      "dtype: int64\n"
     ]
    }
   ],
   "source": [
    "# 결측치 다시 확인\n",
    "print('merged : ', merged.isnull().sum())\n",
    "\n",
    "# 노이즈로 인한 것으로 예상됨 -> 해당 row 삭제"
   ]
  },
  {
   "cell_type": "code",
   "execution_count": 22,
   "metadata": {},
   "outputs": [
    {
     "data": {
      "text/html": [
       "<div>\n",
       "<style scoped>\n",
       "    .dataframe tbody tr th:only-of-type {\n",
       "        vertical-align: middle;\n",
       "    }\n",
       "\n",
       "    .dataframe tbody tr th {\n",
       "        vertical-align: top;\n",
       "    }\n",
       "\n",
       "    .dataframe thead th {\n",
       "        text-align: right;\n",
       "    }\n",
       "</style>\n",
       "<table border=\"1\" class=\"dataframe\">\n",
       "  <thead>\n",
       "    <tr style=\"text-align: right;\">\n",
       "      <th></th>\n",
       "      <th>사업부서</th>\n",
       "      <th>대관시설</th>\n",
       "      <th>예약접수일</th>\n",
       "      <th>단체명</th>\n",
       "      <th>단체구분</th>\n",
       "      <th>인원</th>\n",
       "      <th>이용시작일</th>\n",
       "      <th>이용종료일</th>\n",
       "      <th>일시</th>\n",
       "      <th>평균기온(°C)</th>\n",
       "      <th>일강수량(mm)</th>\n",
       "      <th>평균 풍속(m/s)</th>\n",
       "      <th>일 최심신적설(cm)</th>\n",
       "      <th>일 최심적설(cm)</th>\n",
       "    </tr>\n",
       "  </thead>\n",
       "  <tbody>\n",
       "    <tr>\n",
       "      <th>1</th>\n",
       "      <td>인천대공원</td>\n",
       "      <td>대공원풋살장</td>\n",
       "      <td>2010-10-26</td>\n",
       "      <td>0</td>\n",
       "      <td>Y</td>\n",
       "      <td>1.0</td>\n",
       "      <td>2010-10-27</td>\n",
       "      <td>2010-10-27</td>\n",
       "      <td>2010-10-27</td>\n",
       "      <td>6.2</td>\n",
       "      <td>0.0</td>\n",
       "      <td>2.1</td>\n",
       "      <td>0.0</td>\n",
       "      <td>0.0</td>\n",
       "    </tr>\n",
       "    <tr>\n",
       "      <th>2</th>\n",
       "      <td>인천대공원</td>\n",
       "      <td>대공원풋살장</td>\n",
       "      <td>2010-10-26</td>\n",
       "      <td>세계일등축구단</td>\n",
       "      <td>Y</td>\n",
       "      <td>123.0</td>\n",
       "      <td>2010-10-27</td>\n",
       "      <td>2010-10-27</td>\n",
       "      <td>2010-10-27</td>\n",
       "      <td>6.2</td>\n",
       "      <td>0.0</td>\n",
       "      <td>2.1</td>\n",
       "      <td>0.0</td>\n",
       "      <td>0.0</td>\n",
       "    </tr>\n",
       "    <tr>\n",
       "      <th>3</th>\n",
       "      <td>인천대공원</td>\n",
       "      <td>대공원풋살장</td>\n",
       "      <td>2010-10-26</td>\n",
       "      <td>0</td>\n",
       "      <td>Y</td>\n",
       "      <td>123.0</td>\n",
       "      <td>2010-10-27</td>\n",
       "      <td>2010-10-27</td>\n",
       "      <td>2010-10-27</td>\n",
       "      <td>6.2</td>\n",
       "      <td>0.0</td>\n",
       "      <td>2.1</td>\n",
       "      <td>0.0</td>\n",
       "      <td>0.0</td>\n",
       "    </tr>\n",
       "    <tr>\n",
       "      <th>4</th>\n",
       "      <td>인천대공원</td>\n",
       "      <td>대공원풋살장</td>\n",
       "      <td>2010-10-26</td>\n",
       "      <td>0</td>\n",
       "      <td>Y</td>\n",
       "      <td>1.0</td>\n",
       "      <td>2010-10-27</td>\n",
       "      <td>2010-10-27</td>\n",
       "      <td>2010-10-27</td>\n",
       "      <td>6.2</td>\n",
       "      <td>0.0</td>\n",
       "      <td>2.1</td>\n",
       "      <td>0.0</td>\n",
       "      <td>0.0</td>\n",
       "    </tr>\n",
       "    <tr>\n",
       "      <th>5</th>\n",
       "      <td>인천대공원</td>\n",
       "      <td>대공원풋살장</td>\n",
       "      <td>2010-10-27</td>\n",
       "      <td>세계일등축구단</td>\n",
       "      <td>Y</td>\n",
       "      <td>10.0</td>\n",
       "      <td>2010-10-28</td>\n",
       "      <td>2010-10-28</td>\n",
       "      <td>2010-10-28</td>\n",
       "      <td>7.9</td>\n",
       "      <td>0.0</td>\n",
       "      <td>2.8</td>\n",
       "      <td>0.0</td>\n",
       "      <td>0.0</td>\n",
       "    </tr>\n",
       "  </tbody>\n",
       "</table>\n",
       "</div>"
      ],
      "text/plain": [
       "    사업부서    대관시설       예약접수일      단체명 단체구분     인원       이용시작일       이용종료일  \\\n",
       "1  인천대공원  대공원풋살장  2010-10-26        0    Y    1.0  2010-10-27  2010-10-27   \n",
       "2  인천대공원  대공원풋살장  2010-10-26  세계일등축구단    Y  123.0  2010-10-27  2010-10-27   \n",
       "3  인천대공원  대공원풋살장  2010-10-26        0    Y  123.0  2010-10-27  2010-10-27   \n",
       "4  인천대공원  대공원풋살장  2010-10-26        0    Y    1.0  2010-10-27  2010-10-27   \n",
       "5  인천대공원  대공원풋살장  2010-10-27  세계일등축구단    Y   10.0  2010-10-28  2010-10-28   \n",
       "\n",
       "           일시  평균기온(°C)  일강수량(mm)  평균 풍속(m/s)  일 최심신적설(cm)  일 최심적설(cm)  \n",
       "1  2010-10-27       6.2       0.0         2.1          0.0         0.0  \n",
       "2  2010-10-27       6.2       0.0         2.1          0.0         0.0  \n",
       "3  2010-10-27       6.2       0.0         2.1          0.0         0.0  \n",
       "4  2010-10-27       6.2       0.0         2.1          0.0         0.0  \n",
       "5  2010-10-28       7.9       0.0         2.8          0.0         0.0  "
      ]
     },
     "execution_count": 22,
     "metadata": {},
     "output_type": "execute_result"
    }
   ],
   "source": [
    "## 결측값이 발생한 row 삭제\n",
    "merged.dropna(inplace=True)\n",
    "merged.head()"
   ]
  },
  {
   "cell_type": "code",
   "execution_count": 23,
   "metadata": {},
   "outputs": [
    {
     "name": "stdout",
     "output_type": "stream",
     "text": [
      "merged :  사업부서           0\n",
      "대관시설           0\n",
      "예약접수일          0\n",
      "단체명            0\n",
      "단체구분           0\n",
      "인원             0\n",
      "이용시작일          0\n",
      "이용종료일          0\n",
      "일시             0\n",
      "평균기온(°C)       0\n",
      "일강수량(mm)       0\n",
      "평균 풍속(m/s)     0\n",
      "일 최심신적설(cm)    0\n",
      "일 최심적설(cm)     0\n",
      "dtype: int64\n"
     ]
    }
   ],
   "source": [
    "# 결측치 다시 확인\n",
    "print('merged : ', merged.isnull().sum())"
   ]
  },
  {
   "cell_type": "code",
   "execution_count": 24,
   "metadata": {},
   "outputs": [
    {
     "name": "stdout",
     "output_type": "stream",
     "text": [
      "<class 'pandas.core.frame.DataFrame'>\n",
      "Int64Index: 127220 entries, 1 to 127249\n",
      "Data columns (total 14 columns):\n",
      " #   Column       Non-Null Count   Dtype  \n",
      "---  ------       --------------   -----  \n",
      " 0   사업부서         127220 non-null  object \n",
      " 1   대관시설         127220 non-null  object \n",
      " 2   예약접수일        127220 non-null  object \n",
      " 3   단체명          127220 non-null  object \n",
      " 4   단체구분         127220 non-null  object \n",
      " 5   인원           127220 non-null  float64\n",
      " 6   이용시작일        127220 non-null  object \n",
      " 7   이용종료일        127220 non-null  object \n",
      " 8   일시           127220 non-null  object \n",
      " 9   평균기온(°C)     127220 non-null  float64\n",
      " 10  일강수량(mm)     127220 non-null  float64\n",
      " 11  평균 풍속(m/s)   127220 non-null  float64\n",
      " 12  일 최심신적설(cm)  127220 non-null  float64\n",
      " 13  일 최심적설(cm)   127220 non-null  float64\n",
      "dtypes: float64(6), object(8)\n",
      "memory usage: 14.6+ MB\n"
     ]
    }
   ],
   "source": [
    "merged.info()"
   ]
  },
  {
   "cell_type": "markdown",
   "metadata": {},
   "source": [
    "위에서 merge 한 merged data를 살펴보면, 분석하기에 적합하지 않다.\n",
    "\n",
    "이용시작일과 평균기온의 산점도를 살펴보고자 했지만\n",
    "\n",
    "object type과 float type으로, data type의 차이로 인한 오류가 발생한다.\n",
    "\n",
    "따라서 새로운 데이터프레임을 선언한다.\n",
    "\n",
    "groupby로 해당 날짜에 예약한 단체 수를 count 하여 columns으로 추가한다.\n",
    "\n",
    "즉 새로운 데이터프레임에는 일시, 예약단체수, weather merge 한 columns가 있을 예정이다."
   ]
  },
  {
   "cell_type": "markdown",
   "metadata": {},
   "source": [
    "### (5) 새로운 데이터프레임 선언"
   ]
  },
  {
   "cell_type": "code",
   "execution_count": 24,
   "metadata": {},
   "outputs": [
    {
     "data": {
      "text/html": [
       "<div>\n",
       "<style scoped>\n",
       "    .dataframe tbody tr th:only-of-type {\n",
       "        vertical-align: middle;\n",
       "    }\n",
       "\n",
       "    .dataframe tbody tr th {\n",
       "        vertical-align: top;\n",
       "    }\n",
       "\n",
       "    .dataframe thead th {\n",
       "        text-align: right;\n",
       "    }\n",
       "</style>\n",
       "<table border=\"1\" class=\"dataframe\">\n",
       "  <thead>\n",
       "    <tr style=\"text-align: right;\">\n",
       "      <th></th>\n",
       "      <th>이용시작일</th>\n",
       "      <th>사업부서</th>\n",
       "      <th>대관시설</th>\n",
       "      <th>예약접수일</th>\n",
       "      <th>단체명</th>\n",
       "      <th>단체구분</th>\n",
       "      <th>인원</th>\n",
       "      <th>이용종료일</th>\n",
       "      <th>일시</th>\n",
       "      <th>평균기온(°C)</th>\n",
       "      <th>일강수량(mm)</th>\n",
       "      <th>평균 풍속(m/s)</th>\n",
       "      <th>일 최심신적설(cm)</th>\n",
       "      <th>일 최심적설(cm)</th>\n",
       "    </tr>\n",
       "  </thead>\n",
       "  <tbody>\n",
       "    <tr>\n",
       "      <th>0</th>\n",
       "      <td>2010-10-27</td>\n",
       "      <td>4</td>\n",
       "      <td>4</td>\n",
       "      <td>4</td>\n",
       "      <td>4</td>\n",
       "      <td>4</td>\n",
       "      <td>4</td>\n",
       "      <td>4</td>\n",
       "      <td>4</td>\n",
       "      <td>4</td>\n",
       "      <td>4</td>\n",
       "      <td>4</td>\n",
       "      <td>4</td>\n",
       "      <td>4</td>\n",
       "    </tr>\n",
       "    <tr>\n",
       "      <th>1</th>\n",
       "      <td>2010-10-28</td>\n",
       "      <td>2</td>\n",
       "      <td>2</td>\n",
       "      <td>2</td>\n",
       "      <td>2</td>\n",
       "      <td>2</td>\n",
       "      <td>2</td>\n",
       "      <td>2</td>\n",
       "      <td>2</td>\n",
       "      <td>2</td>\n",
       "      <td>2</td>\n",
       "      <td>2</td>\n",
       "      <td>2</td>\n",
       "      <td>2</td>\n",
       "    </tr>\n",
       "    <tr>\n",
       "      <th>2</th>\n",
       "      <td>2010-10-29</td>\n",
       "      <td>3</td>\n",
       "      <td>3</td>\n",
       "      <td>3</td>\n",
       "      <td>3</td>\n",
       "      <td>3</td>\n",
       "      <td>3</td>\n",
       "      <td>3</td>\n",
       "      <td>3</td>\n",
       "      <td>3</td>\n",
       "      <td>3</td>\n",
       "      <td>3</td>\n",
       "      <td>3</td>\n",
       "      <td>3</td>\n",
       "    </tr>\n",
       "    <tr>\n",
       "      <th>3</th>\n",
       "      <td>2010-10-30</td>\n",
       "      <td>2</td>\n",
       "      <td>2</td>\n",
       "      <td>2</td>\n",
       "      <td>2</td>\n",
       "      <td>2</td>\n",
       "      <td>2</td>\n",
       "      <td>2</td>\n",
       "      <td>2</td>\n",
       "      <td>2</td>\n",
       "      <td>2</td>\n",
       "      <td>2</td>\n",
       "      <td>2</td>\n",
       "      <td>2</td>\n",
       "    </tr>\n",
       "    <tr>\n",
       "      <th>4</th>\n",
       "      <td>2010-11-01</td>\n",
       "      <td>1</td>\n",
       "      <td>1</td>\n",
       "      <td>1</td>\n",
       "      <td>1</td>\n",
       "      <td>1</td>\n",
       "      <td>1</td>\n",
       "      <td>1</td>\n",
       "      <td>1</td>\n",
       "      <td>1</td>\n",
       "      <td>1</td>\n",
       "      <td>1</td>\n",
       "      <td>1</td>\n",
       "      <td>1</td>\n",
       "    </tr>\n",
       "  </tbody>\n",
       "</table>\n",
       "</div>"
      ],
      "text/plain": [
       "        이용시작일  사업부서  대관시설  예약접수일  단체명  단체구분  인원  이용종료일  일시  평균기온(°C)  \\\n",
       "0  2010-10-27     4     4      4    4     4   4      4   4         4   \n",
       "1  2010-10-28     2     2      2    2     2   2      2   2         2   \n",
       "2  2010-10-29     3     3      3    3     3   3      3   3         3   \n",
       "3  2010-10-30     2     2      2    2     2   2      2   2         2   \n",
       "4  2010-11-01     1     1      1    1     1   1      1   1         1   \n",
       "\n",
       "   일강수량(mm)  평균 풍속(m/s)  일 최심신적설(cm)  일 최심적설(cm)  \n",
       "0         4           4            4           4  \n",
       "1         2           2            2           2  \n",
       "2         3           3            3           3  \n",
       "3         2           2            2           2  \n",
       "4         1           1            1           1  "
      ]
     },
     "execution_count": 24,
     "metadata": {},
     "output_type": "execute_result"
    }
   ],
   "source": [
    "new = merged.groupby(\"이용시작일\").count().reset_index()\n",
    "new.head()"
   ]
  },
  {
   "cell_type": "code",
   "execution_count": 25,
   "metadata": {},
   "outputs": [],
   "source": [
    "## 필요없는 columns 삭제\n",
    "cols = [\"사업부서\", \"대관시설\", \"예약접수일\", \"단체명\", \"이용종료일\", \"일시\", \n",
    "        \"평균기온(°C)\", \"일강수량(mm)\", \"평균 풍속(m/s)\", \"일 최심신적설(cm)\",\n",
    "       \"일 최심적설(cm)\", \"단체구분\"]\n",
    "new.drop(labels = cols, axis = \"columns\", inplace = True)"
   ]
  },
  {
   "cell_type": "code",
   "execution_count": 26,
   "metadata": {},
   "outputs": [
    {
     "data": {
      "text/html": [
       "<div>\n",
       "<style scoped>\n",
       "    .dataframe tbody tr th:only-of-type {\n",
       "        vertical-align: middle;\n",
       "    }\n",
       "\n",
       "    .dataframe tbody tr th {\n",
       "        vertical-align: top;\n",
       "    }\n",
       "\n",
       "    .dataframe thead th {\n",
       "        text-align: right;\n",
       "    }\n",
       "</style>\n",
       "<table border=\"1\" class=\"dataframe\">\n",
       "  <thead>\n",
       "    <tr style=\"text-align: right;\">\n",
       "      <th></th>\n",
       "      <th>이용시작일</th>\n",
       "      <th>인원</th>\n",
       "    </tr>\n",
       "  </thead>\n",
       "  <tbody>\n",
       "    <tr>\n",
       "      <th>0</th>\n",
       "      <td>2010-10-27</td>\n",
       "      <td>4</td>\n",
       "    </tr>\n",
       "    <tr>\n",
       "      <th>1</th>\n",
       "      <td>2010-10-28</td>\n",
       "      <td>2</td>\n",
       "    </tr>\n",
       "    <tr>\n",
       "      <th>2</th>\n",
       "      <td>2010-10-29</td>\n",
       "      <td>3</td>\n",
       "    </tr>\n",
       "    <tr>\n",
       "      <th>3</th>\n",
       "      <td>2010-10-30</td>\n",
       "      <td>2</td>\n",
       "    </tr>\n",
       "    <tr>\n",
       "      <th>4</th>\n",
       "      <td>2010-11-01</td>\n",
       "      <td>1</td>\n",
       "    </tr>\n",
       "  </tbody>\n",
       "</table>\n",
       "</div>"
      ],
      "text/plain": [
       "        이용시작일  인원\n",
       "0  2010-10-27   4\n",
       "1  2010-10-28   2\n",
       "2  2010-10-29   3\n",
       "3  2010-10-30   2\n",
       "4  2010-11-01   1"
      ]
     },
     "execution_count": 26,
     "metadata": {},
     "output_type": "execute_result"
    }
   ],
   "source": [
    "new.head()"
   ]
  },
  {
   "cell_type": "code",
   "execution_count": 27,
   "metadata": {},
   "outputs": [],
   "source": [
    "## new와 weather merge\n",
    "new_merged = pd.merge(new, weather, \n",
    "                  how='left', left_on = '이용시작일', right_on = '일시')"
   ]
  },
  {
   "cell_type": "code",
   "execution_count": 28,
   "metadata": {},
   "outputs": [
    {
     "data": {
      "text/html": [
       "<div>\n",
       "<style scoped>\n",
       "    .dataframe tbody tr th:only-of-type {\n",
       "        vertical-align: middle;\n",
       "    }\n",
       "\n",
       "    .dataframe tbody tr th {\n",
       "        vertical-align: top;\n",
       "    }\n",
       "\n",
       "    .dataframe thead th {\n",
       "        text-align: right;\n",
       "    }\n",
       "</style>\n",
       "<table border=\"1\" class=\"dataframe\">\n",
       "  <thead>\n",
       "    <tr style=\"text-align: right;\">\n",
       "      <th></th>\n",
       "      <th>이용시작일</th>\n",
       "      <th>인원</th>\n",
       "      <th>평균기온(°C)</th>\n",
       "      <th>일강수량(mm)</th>\n",
       "      <th>평균 풍속(m/s)</th>\n",
       "      <th>일 최심신적설(cm)</th>\n",
       "      <th>일 최심적설(cm)</th>\n",
       "    </tr>\n",
       "  </thead>\n",
       "  <tbody>\n",
       "    <tr>\n",
       "      <th>0</th>\n",
       "      <td>2010-10-27</td>\n",
       "      <td>4</td>\n",
       "      <td>6.2</td>\n",
       "      <td>0.0</td>\n",
       "      <td>2.1</td>\n",
       "      <td>0.0</td>\n",
       "      <td>0.0</td>\n",
       "    </tr>\n",
       "    <tr>\n",
       "      <th>1</th>\n",
       "      <td>2010-10-28</td>\n",
       "      <td>2</td>\n",
       "      <td>7.9</td>\n",
       "      <td>0.0</td>\n",
       "      <td>2.8</td>\n",
       "      <td>0.0</td>\n",
       "      <td>0.0</td>\n",
       "    </tr>\n",
       "    <tr>\n",
       "      <th>2</th>\n",
       "      <td>2010-10-29</td>\n",
       "      <td>3</td>\n",
       "      <td>10.4</td>\n",
       "      <td>0.0</td>\n",
       "      <td>2.7</td>\n",
       "      <td>0.0</td>\n",
       "      <td>0.0</td>\n",
       "    </tr>\n",
       "    <tr>\n",
       "      <th>3</th>\n",
       "      <td>2010-10-30</td>\n",
       "      <td>2</td>\n",
       "      <td>12.0</td>\n",
       "      <td>0.0</td>\n",
       "      <td>2.2</td>\n",
       "      <td>0.0</td>\n",
       "      <td>0.0</td>\n",
       "    </tr>\n",
       "    <tr>\n",
       "      <th>4</th>\n",
       "      <td>2010-11-01</td>\n",
       "      <td>1</td>\n",
       "      <td>11.9</td>\n",
       "      <td>0.0</td>\n",
       "      <td>4.3</td>\n",
       "      <td>0.0</td>\n",
       "      <td>0.0</td>\n",
       "    </tr>\n",
       "  </tbody>\n",
       "</table>\n",
       "</div>"
      ],
      "text/plain": [
       "        이용시작일  인원  평균기온(°C)  일강수량(mm)  평균 풍속(m/s)  일 최심신적설(cm)  일 최심적설(cm)\n",
       "0  2010-10-27   4       6.2       0.0         2.1          0.0         0.0\n",
       "1  2010-10-28   2       7.9       0.0         2.8          0.0         0.0\n",
       "2  2010-10-29   3      10.4       0.0         2.7          0.0         0.0\n",
       "3  2010-10-30   2      12.0       0.0         2.2          0.0         0.0\n",
       "4  2010-11-01   1      11.9       0.0         4.3          0.0         0.0"
      ]
     },
     "execution_count": 28,
     "metadata": {},
     "output_type": "execute_result"
    }
   ],
   "source": [
    "## 필요없는 columns 삭제\n",
    "new_merged.drop(labels = \"일시\", axis = \"columns\", inplace = True)\n",
    "new_merged.head()"
   ]
  },
  {
   "cell_type": "code",
   "execution_count": 29,
   "metadata": {},
   "outputs": [
    {
     "data": {
      "text/html": [
       "<div>\n",
       "<style scoped>\n",
       "    .dataframe tbody tr th:only-of-type {\n",
       "        vertical-align: middle;\n",
       "    }\n",
       "\n",
       "    .dataframe tbody tr th {\n",
       "        vertical-align: top;\n",
       "    }\n",
       "\n",
       "    .dataframe thead th {\n",
       "        text-align: right;\n",
       "    }\n",
       "</style>\n",
       "<table border=\"1\" class=\"dataframe\">\n",
       "  <thead>\n",
       "    <tr style=\"text-align: right;\">\n",
       "      <th></th>\n",
       "      <th>date</th>\n",
       "      <th>reserved_num</th>\n",
       "      <th>avg_temp</th>\n",
       "      <th>daily_prec</th>\n",
       "      <th>avg_wind</th>\n",
       "      <th>latest_snow</th>\n",
       "      <th>most_snow</th>\n",
       "    </tr>\n",
       "  </thead>\n",
       "  <tbody>\n",
       "    <tr>\n",
       "      <th>0</th>\n",
       "      <td>2010-10-27</td>\n",
       "      <td>4</td>\n",
       "      <td>6.2</td>\n",
       "      <td>0.0</td>\n",
       "      <td>2.1</td>\n",
       "      <td>0.0</td>\n",
       "      <td>0.0</td>\n",
       "    </tr>\n",
       "    <tr>\n",
       "      <th>1</th>\n",
       "      <td>2010-10-28</td>\n",
       "      <td>2</td>\n",
       "      <td>7.9</td>\n",
       "      <td>0.0</td>\n",
       "      <td>2.8</td>\n",
       "      <td>0.0</td>\n",
       "      <td>0.0</td>\n",
       "    </tr>\n",
       "    <tr>\n",
       "      <th>2</th>\n",
       "      <td>2010-10-29</td>\n",
       "      <td>3</td>\n",
       "      <td>10.4</td>\n",
       "      <td>0.0</td>\n",
       "      <td>2.7</td>\n",
       "      <td>0.0</td>\n",
       "      <td>0.0</td>\n",
       "    </tr>\n",
       "    <tr>\n",
       "      <th>3</th>\n",
       "      <td>2010-10-30</td>\n",
       "      <td>2</td>\n",
       "      <td>12.0</td>\n",
       "      <td>0.0</td>\n",
       "      <td>2.2</td>\n",
       "      <td>0.0</td>\n",
       "      <td>0.0</td>\n",
       "    </tr>\n",
       "    <tr>\n",
       "      <th>4</th>\n",
       "      <td>2010-11-01</td>\n",
       "      <td>1</td>\n",
       "      <td>11.9</td>\n",
       "      <td>0.0</td>\n",
       "      <td>4.3</td>\n",
       "      <td>0.0</td>\n",
       "      <td>0.0</td>\n",
       "    </tr>\n",
       "  </tbody>\n",
       "</table>\n",
       "</div>"
      ],
      "text/plain": [
       "         date  reserved_num  avg_temp  daily_prec  avg_wind  latest_snow  \\\n",
       "0  2010-10-27             4       6.2         0.0       2.1          0.0   \n",
       "1  2010-10-28             2       7.9         0.0       2.8          0.0   \n",
       "2  2010-10-29             3      10.4         0.0       2.7          0.0   \n",
       "3  2010-10-30             2      12.0         0.0       2.2          0.0   \n",
       "4  2010-11-01             1      11.9         0.0       4.3          0.0   \n",
       "\n",
       "   most_snow  \n",
       "0        0.0  \n",
       "1        0.0  \n",
       "2        0.0  \n",
       "3        0.0  \n",
       "4        0.0  "
      ]
     },
     "execution_count": 29,
     "metadata": {},
     "output_type": "execute_result"
    }
   ],
   "source": [
    "## columns의 이름 재선언\n",
    "new_merged.rename(columns = {new_merged.columns[0]:\"date\",\n",
    "                    new_merged.columns[1]:\"reserved_num\",\n",
    "                    new_merged.columns[2]:\"avg_temp\",\n",
    "                    new_merged.columns[3]:\"daily_prec\",\n",
    "                    new_merged.columns[4]:\"avg_wind\",\n",
    "                    new_merged.columns[5]:\"latest_snow\",\n",
    "                    new_merged.columns[6]:\"most_snow\"}, inplace=True)\n",
    "new_merged.head()"
   ]
  },
  {
   "cell_type": "markdown",
   "metadata": {},
   "source": [
    "* date : 이용일\n",
    "\n",
    "* reserved_num : 예약단체 수 (Number of reserved organization\n",
    "\n",
    "* avg_temp : 평균기온\n",
    " \n",
    "* daily_precipitation : 일강수량\n",
    "\n",
    "* avg_wind : 평균풍속\n",
    "\n",
    "* latest_snow : 최신심적설 (새로 와서 쌓인 눈의 두께)\n",
    "\n",
    "* most_snow : 최심적설 (최대로 깊었던 적설량. 며칠씩 쌓인 최대량)"
   ]
  },
  {
   "cell_type": "markdown",
   "metadata": {},
   "source": [
    "### (6) 결측치 확인"
   ]
  },
  {
   "cell_type": "code",
   "execution_count": 30,
   "metadata": {},
   "outputs": [
    {
     "name": "stdout",
     "output_type": "stream",
     "text": [
      "merged :  사업부서           0\n",
      "대관시설           0\n",
      "예약접수일          0\n",
      "단체명            0\n",
      "단체구분           0\n",
      "인원             0\n",
      "이용시작일          0\n",
      "이용종료일          0\n",
      "일시             0\n",
      "평균기온(°C)       0\n",
      "일강수량(mm)       0\n",
      "평균 풍속(m/s)     0\n",
      "일 최심신적설(cm)    0\n",
      "일 최심적설(cm)     0\n",
      "dtype: int64\n"
     ]
    }
   ],
   "source": [
    "## 결측치 확인\n",
    "print('merged : ', merged.isnull().sum())"
   ]
  },
  {
   "cell_type": "code",
   "execution_count": 31,
   "metadata": {},
   "outputs": [
    {
     "name": "stdout",
     "output_type": "stream",
     "text": [
      "<class 'pandas.core.frame.DataFrame'>\n",
      "Int64Index: 3345 entries, 0 to 3344\n",
      "Data columns (total 7 columns):\n",
      " #   Column        Non-Null Count  Dtype  \n",
      "---  ------        --------------  -----  \n",
      " 0   date          3345 non-null   object \n",
      " 1   reserved_num  3345 non-null   int64  \n",
      " 2   avg_temp      3345 non-null   float64\n",
      " 3   daily_prec    3345 non-null   float64\n",
      " 4   avg_wind      3345 non-null   float64\n",
      " 5   latest_snow   3345 non-null   float64\n",
      " 6   most_snow     3345 non-null   float64\n",
      "dtypes: float64(5), int64(1), object(1)\n",
      "memory usage: 209.1+ KB\n"
     ]
    }
   ],
   "source": [
    "new_merged.info()"
   ]
  },
  {
   "cell_type": "markdown",
   "metadata": {},
   "source": [
    "### (7) 상관관계 분석 및 시각화"
   ]
  },
  {
   "cell_type": "code",
   "execution_count": 32,
   "metadata": {},
   "outputs": [
    {
     "data": {
      "image/png": "[encoded data removed]",
      "text/plain": [
       "<Figure size 432x288 with 1 Axes>"
      ]
     },
     "metadata": {
      "needs_background": "light"
     },
     "output_type": "display_data"
    }
   ],
   "source": [
    "plt.scatter(new_merged.date, new_merged.avg_temp)\n",
    "plt.title(\"이용시작일 vs 평균기온\")\n",
    "plt.xlabel(\"이용시작일\")\n",
    "plt.ylabel(\"평균기온\")\n",
    "plt.show()"
   ]
  },
  {
   "cell_type": "code",
   "execution_count": 33,
   "metadata": {},
   "outputs": [
    {
     "data": {
      "image/png": "[encoded data removed]",
      "text/plain": [
       "<Figure size 432x288 with 1 Axes>"
      ]
     },
     "metadata": {
      "needs_background": "light"
     },
     "output_type": "display_data"
    }
   ],
   "source": [
    "plt.scatter(new_merged.reserved_num, new_merged.avg_temp)\n",
    "plt.title(\"예약단체 수 vs 평균기온\")\n",
    "plt.xlabel(\"예약단체 수\")\n",
    "plt.ylabel(\"평균기온\")\n",
    "plt.show()"
   ]
  },
  {
   "cell_type": "markdown",
   "metadata": {},
   "source": [
    "예약단체 수와 평균기온에는 상관관계가 없는 것으로 확인됨."
   ]
  },
  {
   "cell_type": "code",
   "execution_count": 34,
   "metadata": {},
   "outputs": [
    {
     "data": {
      "image/png": "[encoded data removed]",
      "text/plain": [
       "<Figure size 432x288 with 1 Axes>"
      ]
     },
     "metadata": {
      "needs_background": "light"
     },
     "output_type": "display_data"
    }
   ],
   "source": [
    "plt.scatter(new_merged.date, new_merged.reserved_num)\n",
    "plt.title(\"날짜 vs 예약단체 수\")\n",
    "plt.xlabel(\"날짜\")\n",
    "plt.ylabel(\"예약단체 수\")\n",
    "plt.show()"
   ]
  },
  {
   "cell_type": "markdown",
   "metadata": {},
   "source": [
    "### (8) 독립성 검정"
   ]
  },
  {
   "cell_type": "code",
   "execution_count": 35,
   "metadata": {},
   "outputs": [
    {
     "name": "stdout",
     "output_type": "stream",
     "text": [
      "              reserved_num  avg_temp  daily_prec  avg_wind  latest_snow  \\\n",
      "reserved_num      1.000000  0.185654    0.007434 -0.073847    -0.046900   \n",
      "avg_temp          0.185654  1.000000    0.158875 -0.334738    -0.167776   \n",
      "daily_prec        0.007434  0.158875    1.000000  0.088568     0.009530   \n",
      "avg_wind         -0.073847 -0.334738    0.088568  1.000000     0.060172   \n",
      "latest_snow      -0.046900 -0.167776    0.009530  0.060172     1.000000   \n",
      "most_snow        -0.083731 -0.278631   -0.017277  0.078622     0.563114   \n",
      "\n",
      "              most_snow  \n",
      "reserved_num  -0.083731  \n",
      "avg_temp      -0.278631  \n",
      "daily_prec    -0.017277  \n",
      "avg_wind       0.078622  \n",
      "latest_snow    0.563114  \n",
      "most_snow      1.000000  \n"
     ]
    }
   ],
   "source": [
    "cols = [\"reserved_num\", \"avg_temp\", \"daily_prec\", \n",
    "        \"avg_wind\", \"latest_snow\", \"most_snow\"]\n",
    "corr = new_merged[cols].corr(method = 'pearson')\n",
    "print(corr)"
   ]
  },
  {
   "cell_type": "code",
   "execution_count": 36,
   "metadata": {},
   "outputs": [
    {
     "data": {
      "image/png": "[encoded data removed]",
      "text/plain": [
       "<Figure size 432x288 with 2 Axes>"
      ]
     },
     "metadata": {},
     "output_type": "display_data"
    }
   ],
   "source": [
    "cols_view = ['num', 'temp', 'rain', 'wind', 'latest snow', 'most snow']\n",
    "sns.set(font_scale = 1.0)\n",
    "hm = sns.heatmap(corr.values,\n",
    "                cbar = True,\n",
    "                annot = True,\n",
    "                square = True,\n",
    "                fmt = '.2f',\n",
    "                annot_kws = {'size' : 15},\n",
    "                yticklabels = cols_view,\n",
    "                xticklabels = cols_view,\n",
    "                cmap='Blues')\n",
    "plt.tight_layout()\n",
    "plt.show()"
   ]
  },
  {
   "cell_type": "markdown",
   "metadata": {},
   "source": [
    "히트맵의 결과를 통해 독립변수 X들간의 상관관계가 없는 것으로 확인됨.\n",
    "\n",
    "따라서 독립성의 가정을 만족함."
   ]
  },
  {
   "cell_type": "code",
   "execution_count": 94,
   "metadata": {},
   "outputs": [
    {
     "data": {
      "text/html": [
       "<div>\n",
       "<style scoped>\n",
       "    .dataframe tbody tr th:only-of-type {\n",
       "        vertical-align: middle;\n",
       "    }\n",
       "\n",
       "    .dataframe tbody tr th {\n",
       "        vertical-align: top;\n",
       "    }\n",
       "\n",
       "    .dataframe thead th {\n",
       "        text-align: right;\n",
       "    }\n",
       "</style>\n",
       "<table border=\"1\" class=\"dataframe\">\n",
       "  <thead>\n",
       "    <tr style=\"text-align: right;\">\n",
       "      <th></th>\n",
       "      <th>reserved_num</th>\n",
       "      <th>avg_temp</th>\n",
       "      <th>daily_prec</th>\n",
       "      <th>avg_wind</th>\n",
       "      <th>latest_snow</th>\n",
       "      <th>most_snow</th>\n",
       "    </tr>\n",
       "  </thead>\n",
       "  <tbody>\n",
       "    <tr>\n",
       "      <th>count</th>\n",
       "      <td>3345.000000</td>\n",
       "      <td>3345.000000</td>\n",
       "      <td>3345.000000</td>\n",
       "      <td>3345.000000</td>\n",
       "      <td>3345.000000</td>\n",
       "      <td>3345.000000</td>\n",
       "    </tr>\n",
       "    <tr>\n",
       "      <th>mean</th>\n",
       "      <td>38.032885</td>\n",
       "      <td>12.495874</td>\n",
       "      <td>2.911839</td>\n",
       "      <td>3.092616</td>\n",
       "      <td>0.059791</td>\n",
       "      <td>0.192466</td>\n",
       "    </tr>\n",
       "    <tr>\n",
       "      <th>std</th>\n",
       "      <td>31.809373</td>\n",
       "      <td>10.289449</td>\n",
       "      <td>11.584157</td>\n",
       "      <td>1.246743</td>\n",
       "      <td>0.497669</td>\n",
       "      <td>1.117816</td>\n",
       "    </tr>\n",
       "    <tr>\n",
       "      <th>min</th>\n",
       "      <td>1.000000</td>\n",
       "      <td>-14.600000</td>\n",
       "      <td>0.000000</td>\n",
       "      <td>0.000000</td>\n",
       "      <td>0.000000</td>\n",
       "      <td>0.000000</td>\n",
       "    </tr>\n",
       "    <tr>\n",
       "      <th>25%</th>\n",
       "      <td>16.000000</td>\n",
       "      <td>3.600000</td>\n",
       "      <td>0.000000</td>\n",
       "      <td>2.200000</td>\n",
       "      <td>0.000000</td>\n",
       "      <td>0.000000</td>\n",
       "    </tr>\n",
       "    <tr>\n",
       "      <th>50%</th>\n",
       "      <td>27.000000</td>\n",
       "      <td>13.600000</td>\n",
       "      <td>0.000000</td>\n",
       "      <td>2.700000</td>\n",
       "      <td>0.000000</td>\n",
       "      <td>0.000000</td>\n",
       "    </tr>\n",
       "    <tr>\n",
       "      <th>75%</th>\n",
       "      <td>51.000000</td>\n",
       "      <td>21.900000</td>\n",
       "      <td>0.100000</td>\n",
       "      <td>3.700000</td>\n",
       "      <td>0.000000</td>\n",
       "      <td>0.000000</td>\n",
       "    </tr>\n",
       "    <tr>\n",
       "      <th>max</th>\n",
       "      <td>195.000000</td>\n",
       "      <td>31.800000</td>\n",
       "      <td>192.000000</td>\n",
       "      <td>9.300000</td>\n",
       "      <td>11.300000</td>\n",
       "      <td>14.600000</td>\n",
       "    </tr>\n",
       "  </tbody>\n",
       "</table>\n",
       "</div>"
      ],
      "text/plain": [
       "       reserved_num     avg_temp   daily_prec     avg_wind  latest_snow  \\\n",
       "count   3345.000000  3345.000000  3345.000000  3345.000000  3345.000000   \n",
       "mean      38.032885    12.495874     2.911839     3.092616     0.059791   \n",
       "std       31.809373    10.289449    11.584157     1.246743     0.497669   \n",
       "min        1.000000   -14.600000     0.000000     0.000000     0.000000   \n",
       "25%       16.000000     3.600000     0.000000     2.200000     0.000000   \n",
       "50%       27.000000    13.600000     0.000000     2.700000     0.000000   \n",
       "75%       51.000000    21.900000     0.100000     3.700000     0.000000   \n",
       "max      195.000000    31.800000   192.000000     9.300000    11.300000   \n",
       "\n",
       "         most_snow  \n",
       "count  3345.000000  \n",
       "mean      0.192466  \n",
       "std       1.117816  \n",
       "min       0.000000  \n",
       "25%       0.000000  \n",
       "50%       0.000000  \n",
       "75%       0.000000  \n",
       "max      14.600000  "
      ]
     },
     "execution_count": 94,
     "metadata": {},
     "output_type": "execute_result"
    }
   ],
   "source": [
    "new_merged.describe()"
   ]
  },
  {
   "cell_type": "markdown",
   "metadata": {},
   "source": [
    "### (9) 정규성 검정"
   ]
  },
  {
   "cell_type": "code",
   "execution_count": 93,
   "metadata": {},
   "outputs": [
    {
     "data": {
      "text/plain": [
       "date             object\n",
       "reserved_num      int64\n",
       "avg_temp        float64\n",
       "daily_prec      float64\n",
       "avg_wind        float64\n",
       "latest_snow     float64\n",
       "most_snow       float64\n",
       "dtype: object"
      ]
     },
     "execution_count": 93,
     "metadata": {},
     "output_type": "execute_result"
    }
   ],
   "source": [
    "new_merged.dtypes"
   ]
  },
  {
   "cell_type": "code",
   "execution_count": 64,
   "metadata": {},
   "outputs": [
    {
     "data": {
      "image/png": "[encoded data removed]",
      "text/plain": [
       "<Figure size 1152x648 with 6 Axes>"
      ]
     },
     "metadata": {},
     "output_type": "display_data"
    }
   ],
   "source": [
    "f, a = plt.subplots(2, 3, figsize=(16, 9))\n",
    "\n",
    "plt.subplot(2, 3, 1)\n",
    "plt.hist(new_merged['reserved_num'], color='blue', bins=100)\n",
    "plt.subplot(2, 3, 2)\n",
    "plt.hist(new_merged['avg_temp'], color='red', bins=100)\n",
    "plt.subplot(2, 3, 3)\n",
    "plt.hist(new_merged['daily_prec'], color='green', bins=100)\n",
    "plt.subplot(2, 3, 4)\n",
    "plt.hist(new_merged['avg_wind'], color='yellow', bins=100)\n",
    "plt.subplot(2, 3, 5)\n",
    "plt.hist(new_merged['latest_snow'], color='orange', bins=100)\n",
    "plt.subplot(2, 3, 6)\n",
    "plt.hist(new_merged['most_snow'], color='black', bins=100)\n",
    "\n",
    "plt.show()"
   ]
  },
  {
   "cell_type": "code",
   "execution_count": 83,
   "metadata": {},
   "outputs": [
    {
     "data": {
      "text/plain": [
       "NormaltestResult(statistic=937.7791454199702, pvalue=2.3112448160593458e-204)"
      ]
     },
     "execution_count": 83,
     "metadata": {},
     "output_type": "execute_result"
    }
   ],
   "source": [
    "# 정규성 검정\n",
    "# H0 : 정규분포를 따른다 vs. H1 : not H0\n",
    "from scipy.stats import normaltest\n",
    "\n",
    "from scipy.stats import kstest\n",
    "from scipy.stats import bartlett\n",
    "kstest(new_merged.reserved_num, 'norm')\n",
    "\n",
    "normaltest(new_merged.reserved_num)"
   ]
  },
  {
   "cell_type": "code",
   "execution_count": 81,
   "metadata": {},
   "outputs": [
    {
     "data": {
      "text/plain": [
       "NormaltestResult(statistic=1254.5397643771344, pvalue=3.803220465772124e-273)"
      ]
     },
     "execution_count": 81,
     "metadata": {},
     "output_type": "execute_result"
    }
   ],
   "source": [
    "normaltest(new_merged.avg_temp)\n",
    "## H0 maintain"
   ]
  },
  {
   "cell_type": "code",
   "execution_count": 87,
   "metadata": {},
   "outputs": [
    {
     "data": {
      "text/plain": [
       "KstestResult(statistic=0.5, pvalue=0.0)"
      ]
     },
     "execution_count": 87,
     "metadata": {},
     "output_type": "execute_result"
    }
   ],
   "source": [
    "kstest(new_merged.daily_prec, 'norm')"
   ]
  },
  {
   "cell_type": "code",
   "execution_count": 84,
   "metadata": {},
   "outputs": [
    {
     "data": {
      "text/plain": [
       "NormaltestResult(statistic=792.7350444460482, pvalue=7.240562269721274e-173)"
      ]
     },
     "execution_count": 84,
     "metadata": {},
     "output_type": "execute_result"
    }
   ],
   "source": [
    "normaltest(new_merged.avg_wind)"
   ]
  },
  {
   "cell_type": "code",
   "execution_count": 85,
   "metadata": {},
   "outputs": [
    {
     "data": {
      "text/plain": [
       "NormaltestResult(statistic=5733.6302721716875, pvalue=0.0)"
      ]
     },
     "execution_count": 85,
     "metadata": {},
     "output_type": "execute_result"
    }
   ],
   "source": [
    "normaltest(new_merged.latest_snow)"
   ]
  },
  {
   "cell_type": "code",
   "execution_count": 86,
   "metadata": {},
   "outputs": [
    {
     "data": {
      "text/plain": [
       "NormaltestResult(statistic=4535.584498837852, pvalue=0.0)"
      ]
     },
     "execution_count": 86,
     "metadata": {},
     "output_type": "execute_result"
    }
   ],
   "source": [
    "normaltest(new_merged.most_snow)"
   ]
  },
  {
   "cell_type": "markdown",
   "metadata": {},
   "source": [
    "일부 정규성 가정을 만족하지 못함."
   ]
  },
  {
   "cell_type": "markdown",
   "metadata": {},
   "source": [
    "### (10) 이상치 확인"
   ]
  },
  {
   "cell_type": "markdown",
   "metadata": {},
   "source": [
    "* reserved_num"
   ]
  },
  {
   "cell_type": "code",
   "execution_count": 37,
   "metadata": {},
   "outputs": [
    {
     "data": {
      "text/plain": [
       "<matplotlib.axes._subplots.AxesSubplot at 0x22c467f6ac8>"
      ]
     },
     "execution_count": 37,
     "metadata": {},
     "output_type": "execute_result"
    },
    {
     "data": {
      "image/png": "[encoded data removed]",
      "text/plain": [
       "<Figure size 432x288 with 1 Axes>"
      ]
     },
     "metadata": {},
     "output_type": "display_data"
    }
   ],
   "source": [
    "new_merged.plot(kind='box', y='reserved_num')"
   ]
  },
  {
   "cell_type": "markdown",
   "metadata": {},
   "source": [
    "위 boxplot을 보면 이상치가 있는 것으로 확인됨."
   ]
  },
  {
   "cell_type": "code",
   "execution_count": 38,
   "metadata": {},
   "outputs": [
    {
     "data": {
      "text/plain": [
       "count    3345.000000\n",
       "mean       38.032885\n",
       "std        31.809373\n",
       "min         1.000000\n",
       "25%        16.000000\n",
       "50%        27.000000\n",
       "75%        51.000000\n",
       "max       195.000000\n",
       "Name: reserved_num, dtype: float64"
      ]
     },
     "execution_count": 38,
     "metadata": {},
     "output_type": "execute_result"
    }
   ],
   "source": [
    "new_merged['reserved_num'].describe()"
   ]
  },
  {
   "cell_type": "code",
   "execution_count": 39,
   "metadata": {},
   "outputs": [
    {
     "data": {
      "text/html": [
       "<div>\n",
       "<style scoped>\n",
       "    .dataframe tbody tr th:only-of-type {\n",
       "        vertical-align: middle;\n",
       "    }\n",
       "\n",
       "    .dataframe tbody tr th {\n",
       "        vertical-align: top;\n",
       "    }\n",
       "\n",
       "    .dataframe thead th {\n",
       "        text-align: right;\n",
       "    }\n",
       "</style>\n",
       "<table border=\"1\" class=\"dataframe\">\n",
       "  <thead>\n",
       "    <tr style=\"text-align: right;\">\n",
       "      <th></th>\n",
       "      <th>date</th>\n",
       "      <th>reserved_num</th>\n",
       "      <th>avg_temp</th>\n",
       "      <th>daily_prec</th>\n",
       "      <th>avg_wind</th>\n",
       "      <th>latest_snow</th>\n",
       "      <th>most_snow</th>\n",
       "    </tr>\n",
       "  </thead>\n",
       "  <tbody>\n",
       "    <tr>\n",
       "      <th>576</th>\n",
       "      <td>2012-06-02</td>\n",
       "      <td>105</td>\n",
       "      <td>21.0</td>\n",
       "      <td>0.0</td>\n",
       "      <td>2.0</td>\n",
       "      <td>0.0</td>\n",
       "      <td>0.0</td>\n",
       "    </tr>\n",
       "    <tr>\n",
       "      <th>598</th>\n",
       "      <td>2012-06-24</td>\n",
       "      <td>115</td>\n",
       "      <td>27.0</td>\n",
       "      <td>0.0</td>\n",
       "      <td>2.2</td>\n",
       "      <td>0.0</td>\n",
       "      <td>0.0</td>\n",
       "    </tr>\n",
       "    <tr>\n",
       "      <th>605</th>\n",
       "      <td>2012-07-01</td>\n",
       "      <td>105</td>\n",
       "      <td>20.9</td>\n",
       "      <td>0.1</td>\n",
       "      <td>2.1</td>\n",
       "      <td>0.0</td>\n",
       "      <td>0.0</td>\n",
       "    </tr>\n",
       "    <tr>\n",
       "      <th>618</th>\n",
       "      <td>2012-07-14</td>\n",
       "      <td>112</td>\n",
       "      <td>23.4</td>\n",
       "      <td>5.6</td>\n",
       "      <td>2.1</td>\n",
       "      <td>0.0</td>\n",
       "      <td>0.0</td>\n",
       "    </tr>\n",
       "    <tr>\n",
       "      <th>660</th>\n",
       "      <td>2012-08-25</td>\n",
       "      <td>105</td>\n",
       "      <td>25.3</td>\n",
       "      <td>10.4</td>\n",
       "      <td>2.9</td>\n",
       "      <td>0.0</td>\n",
       "      <td>0.0</td>\n",
       "    </tr>\n",
       "    <tr>\n",
       "      <th>...</th>\n",
       "      <td>...</td>\n",
       "      <td>...</td>\n",
       "      <td>...</td>\n",
       "      <td>...</td>\n",
       "      <td>...</td>\n",
       "      <td>...</td>\n",
       "      <td>...</td>\n",
       "    </tr>\n",
       "    <tr>\n",
       "      <th>3293</th>\n",
       "      <td>2019-11-10</td>\n",
       "      <td>148</td>\n",
       "      <td>10.8</td>\n",
       "      <td>21.4</td>\n",
       "      <td>3.2</td>\n",
       "      <td>0.0</td>\n",
       "      <td>0.0</td>\n",
       "    </tr>\n",
       "    <tr>\n",
       "      <th>3299</th>\n",
       "      <td>2019-11-16</td>\n",
       "      <td>113</td>\n",
       "      <td>7.3</td>\n",
       "      <td>0.0</td>\n",
       "      <td>1.8</td>\n",
       "      <td>0.0</td>\n",
       "      <td>0.0</td>\n",
       "    </tr>\n",
       "    <tr>\n",
       "      <th>3300</th>\n",
       "      <td>2019-11-17</td>\n",
       "      <td>107</td>\n",
       "      <td>9.7</td>\n",
       "      <td>23.7</td>\n",
       "      <td>3.8</td>\n",
       "      <td>0.0</td>\n",
       "      <td>0.0</td>\n",
       "    </tr>\n",
       "    <tr>\n",
       "      <th>3306</th>\n",
       "      <td>2019-11-23</td>\n",
       "      <td>117</td>\n",
       "      <td>12.7</td>\n",
       "      <td>0.0</td>\n",
       "      <td>1.8</td>\n",
       "      <td>0.0</td>\n",
       "      <td>0.0</td>\n",
       "    </tr>\n",
       "    <tr>\n",
       "      <th>3307</th>\n",
       "      <td>2019-11-24</td>\n",
       "      <td>111</td>\n",
       "      <td>10.5</td>\n",
       "      <td>3.8</td>\n",
       "      <td>3.4</td>\n",
       "      <td>0.0</td>\n",
       "      <td>0.0</td>\n",
       "    </tr>\n",
       "  </tbody>\n",
       "</table>\n",
       "<p>189 rows × 7 columns</p>\n",
       "</div>"
      ],
      "text/plain": [
       "            date  reserved_num  avg_temp  daily_prec  avg_wind  latest_snow  \\\n",
       "576   2012-06-02           105      21.0         0.0       2.0          0.0   \n",
       "598   2012-06-24           115      27.0         0.0       2.2          0.0   \n",
       "605   2012-07-01           105      20.9         0.1       2.1          0.0   \n",
       "618   2012-07-14           112      23.4         5.6       2.1          0.0   \n",
       "660   2012-08-25           105      25.3        10.4       2.9          0.0   \n",
       "...          ...           ...       ...         ...       ...          ...   \n",
       "3293  2019-11-10           148      10.8        21.4       3.2          0.0   \n",
       "3299  2019-11-16           113       7.3         0.0       1.8          0.0   \n",
       "3300  2019-11-17           107       9.7        23.7       3.8          0.0   \n",
       "3306  2019-11-23           117      12.7         0.0       1.8          0.0   \n",
       "3307  2019-11-24           111      10.5         3.8       3.4          0.0   \n",
       "\n",
       "      most_snow  \n",
       "576         0.0  \n",
       "598         0.0  \n",
       "605         0.0  \n",
       "618         0.0  \n",
       "660         0.0  \n",
       "...         ...  \n",
       "3293        0.0  \n",
       "3299        0.0  \n",
       "3300        0.0  \n",
       "3306        0.0  \n",
       "3307        0.0  \n",
       "\n",
       "[189 rows x 7 columns]"
      ]
     },
     "execution_count": 39,
     "metadata": {},
     "output_type": "execute_result"
    }
   ],
   "source": [
    "q1 = new_merged['reserved_num'].quantile(0.25)\n",
    "q3 = new_merged['reserved_num'].quantile(0.75)\n",
    "\n",
    "iqr = q3 - q1\n",
    "\n",
    "re=(new_merged['reserved_num']<q1-iqr*1.5) | (new_merged['reserved_num']>q3+iqr*1.5)\n",
    "new_merged[re]"
   ]
  },
  {
   "cell_type": "markdown",
   "metadata": {},
   "source": [
    "총 189개의 이상치가 있다는 것을 확인할 수 있음.\n",
    "\n",
    "따라서 **표준화(standardization)**으로 이상치를 제거함."
   ]
  },
  {
   "cell_type": "markdown",
   "metadata": {},
   "source": [
    "#### 표준화(standardization)"
   ]
  },
  {
   "cell_type": "code",
   "execution_count": 103,
   "metadata": {},
   "outputs": [],
   "source": [
    "from scipy import stats\n",
    "new_merged['reserved_num'] = stats.zscore(new_merged['reserved_num'])"
   ]
  },
  {
   "cell_type": "code",
   "execution_count": 104,
   "metadata": {},
   "outputs": [],
   "source": [
    "new_merged = new_merged[new_merged['reserved_num'].between(-1.5, 1.5)]"
   ]
  },
  {
   "cell_type": "code",
   "execution_count": 105,
   "metadata": {},
   "outputs": [
    {
     "data": {
      "text/plain": [
       "<matplotlib.axes._subplots.AxesSubplot at 0x22c4a902a08>"
      ]
     },
     "execution_count": 105,
     "metadata": {},
     "output_type": "execute_result"
    },
    {
     "data": {
      "image/png": "[encoded data removed]",
      "text/plain": [
       "<Figure size 432x288 with 1 Axes>"
      ]
     },
     "metadata": {},
     "output_type": "display_data"
    }
   ],
   "source": [
    "new_merged.plot(kind='box', y='reserved_num')"
   ]
  },
  {
   "cell_type": "code",
   "execution_count": 108,
   "metadata": {},
   "outputs": [
    {
     "data": {
      "text/html": [
       "<div>\n",
       "<style scoped>\n",
       "    .dataframe tbody tr th:only-of-type {\n",
       "        vertical-align: middle;\n",
       "    }\n",
       "\n",
       "    .dataframe tbody tr th {\n",
       "        vertical-align: top;\n",
       "    }\n",
       "\n",
       "    .dataframe thead th {\n",
       "        text-align: right;\n",
       "    }\n",
       "</style>\n",
       "<table border=\"1\" class=\"dataframe\">\n",
       "  <thead>\n",
       "    <tr style=\"text-align: right;\">\n",
       "      <th></th>\n",
       "      <th>date</th>\n",
       "      <th>reserved_num</th>\n",
       "      <th>avg_temp</th>\n",
       "      <th>daily_prec</th>\n",
       "      <th>avg_wind</th>\n",
       "      <th>latest_snow</th>\n",
       "      <th>most_snow</th>\n",
       "    </tr>\n",
       "  </thead>\n",
       "  <tbody>\n",
       "    <tr>\n",
       "      <th>0</th>\n",
       "      <td>2010-10-27</td>\n",
       "      <td>-1.297009</td>\n",
       "      <td>6.2</td>\n",
       "      <td>0.0</td>\n",
       "      <td>2.1</td>\n",
       "      <td>0.0</td>\n",
       "      <td>0.0</td>\n",
       "    </tr>\n",
       "    <tr>\n",
       "      <th>1</th>\n",
       "      <td>2010-10-28</td>\n",
       "      <td>-1.395911</td>\n",
       "      <td>7.9</td>\n",
       "      <td>0.0</td>\n",
       "      <td>2.8</td>\n",
       "      <td>0.0</td>\n",
       "      <td>0.0</td>\n",
       "    </tr>\n",
       "    <tr>\n",
       "      <th>2</th>\n",
       "      <td>2010-10-29</td>\n",
       "      <td>-1.346460</td>\n",
       "      <td>10.4</td>\n",
       "      <td>0.0</td>\n",
       "      <td>2.7</td>\n",
       "      <td>0.0</td>\n",
       "      <td>0.0</td>\n",
       "    </tr>\n",
       "    <tr>\n",
       "      <th>3</th>\n",
       "      <td>2010-10-30</td>\n",
       "      <td>-1.395911</td>\n",
       "      <td>12.0</td>\n",
       "      <td>0.0</td>\n",
       "      <td>2.2</td>\n",
       "      <td>0.0</td>\n",
       "      <td>0.0</td>\n",
       "    </tr>\n",
       "    <tr>\n",
       "      <th>4</th>\n",
       "      <td>2010-11-01</td>\n",
       "      <td>-1.445362</td>\n",
       "      <td>11.9</td>\n",
       "      <td>0.0</td>\n",
       "      <td>4.3</td>\n",
       "      <td>0.0</td>\n",
       "      <td>0.0</td>\n",
       "    </tr>\n",
       "  </tbody>\n",
       "</table>\n",
       "</div>"
      ],
      "text/plain": [
       "         date  reserved_num  avg_temp  daily_prec  avg_wind  latest_snow  \\\n",
       "0  2010-10-27     -1.297009       6.2         0.0       2.1          0.0   \n",
       "1  2010-10-28     -1.395911       7.9         0.0       2.8          0.0   \n",
       "2  2010-10-29     -1.346460      10.4         0.0       2.7          0.0   \n",
       "3  2010-10-30     -1.395911      12.0         0.0       2.2          0.0   \n",
       "4  2010-11-01     -1.445362      11.9         0.0       4.3          0.0   \n",
       "\n",
       "   most_snow  \n",
       "0        0.0  \n",
       "1        0.0  \n",
       "2        0.0  \n",
       "3        0.0  \n",
       "4        0.0  "
      ]
     },
     "execution_count": 108,
     "metadata": {},
     "output_type": "execute_result"
    }
   ],
   "source": [
    "new_merged.head()"
   ]
  },
  {
   "cell_type": "code",
   "execution_count": 107,
   "metadata": {},
   "outputs": [
    {
     "data": {
      "text/html": [
       "<div>\n",
       "<style scoped>\n",
       "    .dataframe tbody tr th:only-of-type {\n",
       "        vertical-align: middle;\n",
       "    }\n",
       "\n",
       "    .dataframe tbody tr th {\n",
       "        vertical-align: top;\n",
       "    }\n",
       "\n",
       "    .dataframe thead th {\n",
       "        text-align: right;\n",
       "    }\n",
       "</style>\n",
       "<table border=\"1\" class=\"dataframe\">\n",
       "  <thead>\n",
       "    <tr style=\"text-align: right;\">\n",
       "      <th></th>\n",
       "      <th>date</th>\n",
       "      <th>reserved_num</th>\n",
       "      <th>avg_temp</th>\n",
       "      <th>daily_prec</th>\n",
       "      <th>avg_wind</th>\n",
       "      <th>latest_snow</th>\n",
       "      <th>most_snow</th>\n",
       "    </tr>\n",
       "  </thead>\n",
       "  <tbody>\n",
       "  </tbody>\n",
       "</table>\n",
       "</div>"
      ],
      "text/plain": [
       "Empty DataFrame\n",
       "Columns: [date, reserved_num, avg_temp, daily_prec, avg_wind, latest_snow, most_snow]\n",
       "Index: []"
      ]
     },
     "execution_count": 107,
     "metadata": {},
     "output_type": "execute_result"
    }
   ],
   "source": [
    "q1 = new_merged['reserved_num'].quantile(0.25)\n",
    "q3 = new_merged['reserved_num'].quantile(0.75)\n",
    "\n",
    "iqr = q3 - q1\n",
    "\n",
    "re=(new_merged['reserved_num']<q1-iqr*1.5) | (new_merged['reserved_num']>q3+iqr*1.5)\n",
    "new_merged[re]"
   ]
  },
  {
   "cell_type": "markdown",
   "metadata": {},
   "source": [
    "이상치가 없어진 것을 확인할 수 있음."
   ]
  },
  {
   "cell_type": "markdown",
   "metadata": {},
   "source": [
    "* avg_temp"
   ]
  },
  {
   "cell_type": "code",
   "execution_count": 41,
   "metadata": {
    "scrolled": true
   },
   "outputs": [
    {
     "data": {
      "text/plain": [
       "<matplotlib.axes._subplots.AxesSubplot at 0x22c4ab1d088>"
      ]
     },
     "execution_count": 41,
     "metadata": {},
     "output_type": "execute_result"
    },
    {
     "data": {
      "image/png": "[encoded data removed]",
      "text/plain": [
       "<Figure size 432x288 with 1 Axes>"
      ]
     },
     "metadata": {},
     "output_type": "display_data"
    }
   ],
   "source": [
    "new_merged.plot(kind='box', y='avg_temp')"
   ]
  },
  {
   "cell_type": "markdown",
   "metadata": {},
   "source": [
    "평균기온의 경우 이상치가 없음."
   ]
  },
  {
   "cell_type": "markdown",
   "metadata": {},
   "source": [
    "### (11) 정규화"
   ]
  },
  {
   "cell_type": "code",
   "execution_count": 130,
   "metadata": {},
   "outputs": [
    {
     "name": "stderr",
     "output_type": "stream",
     "text": [
      "C:\\Users\\adore\\anaconda3\\lib\\site-packages\\pandas\\core\\frame.py:3997: SettingWithCopyWarning: \n",
      "A value is trying to be set on a copy of a slice from a DataFrame\n",
      "\n",
      "See the caveats in the documentation: https://pandas.pydata.org/pandas-docs/stable/user_guide/indexing.html#returning-a-view-versus-a-copy\n",
      "  errors=errors,\n",
      "C:\\Users\\adore\\anaconda3\\lib\\site-packages\\pandas\\core\\indexing.py:965: SettingWithCopyWarning: \n",
      "A value is trying to be set on a copy of a slice from a DataFrame.\n",
      "Try using .loc[row_indexer,col_indexer] = value instead\n",
      "\n",
      "See the caveats in the documentation: https://pandas.pydata.org/pandas-docs/stable/user_guide/indexing.html#returning-a-view-versus-a-copy\n",
      "  self.obj[item] = s\n"
     ]
    }
   ],
   "source": [
    "from sklearn.preprocessing import MinMaxScaler\n",
    "scaler = MinMaxScaler()\n",
    "new_merged.iloc[:, 1:] = scaler.fit_transform(new_merged.iloc[:, 1:])"
   ]
  },
  {
   "cell_type": "code",
   "execution_count": 132,
   "metadata": {},
   "outputs": [
    {
     "data": {
      "text/html": [
       "<div>\n",
       "<style scoped>\n",
       "    .dataframe tbody tr th:only-of-type {\n",
       "        vertical-align: middle;\n",
       "    }\n",
       "\n",
       "    .dataframe tbody tr th {\n",
       "        vertical-align: top;\n",
       "    }\n",
       "\n",
       "    .dataframe thead th {\n",
       "        text-align: right;\n",
       "    }\n",
       "</style>\n",
       "<table border=\"1\" class=\"dataframe\">\n",
       "  <thead>\n",
       "    <tr style=\"text-align: right;\">\n",
       "      <th></th>\n",
       "      <th>date</th>\n",
       "      <th>reserved_num</th>\n",
       "      <th>avg_temp</th>\n",
       "      <th>daily_prec</th>\n",
       "      <th>avg_wind</th>\n",
       "      <th>latest_snow</th>\n",
       "      <th>most_snow</th>\n",
       "    </tr>\n",
       "  </thead>\n",
       "  <tbody>\n",
       "    <tr>\n",
       "      <th>0</th>\n",
       "      <td>2010-10-27</td>\n",
       "      <td>0.050847</td>\n",
       "      <td>0.448276</td>\n",
       "      <td>0.0</td>\n",
       "      <td>0.225806</td>\n",
       "      <td>0.0</td>\n",
       "      <td>0.0</td>\n",
       "    </tr>\n",
       "    <tr>\n",
       "      <th>1</th>\n",
       "      <td>2010-10-28</td>\n",
       "      <td>0.016949</td>\n",
       "      <td>0.484914</td>\n",
       "      <td>0.0</td>\n",
       "      <td>0.301075</td>\n",
       "      <td>0.0</td>\n",
       "      <td>0.0</td>\n",
       "    </tr>\n",
       "    <tr>\n",
       "      <th>2</th>\n",
       "      <td>2010-10-29</td>\n",
       "      <td>0.033898</td>\n",
       "      <td>0.538793</td>\n",
       "      <td>0.0</td>\n",
       "      <td>0.290323</td>\n",
       "      <td>0.0</td>\n",
       "      <td>0.0</td>\n",
       "    </tr>\n",
       "    <tr>\n",
       "      <th>3</th>\n",
       "      <td>2010-10-30</td>\n",
       "      <td>0.016949</td>\n",
       "      <td>0.573276</td>\n",
       "      <td>0.0</td>\n",
       "      <td>0.236559</td>\n",
       "      <td>0.0</td>\n",
       "      <td>0.0</td>\n",
       "    </tr>\n",
       "    <tr>\n",
       "      <th>4</th>\n",
       "      <td>2010-11-01</td>\n",
       "      <td>0.000000</td>\n",
       "      <td>0.571121</td>\n",
       "      <td>0.0</td>\n",
       "      <td>0.462366</td>\n",
       "      <td>0.0</td>\n",
       "      <td>0.0</td>\n",
       "    </tr>\n",
       "  </tbody>\n",
       "</table>\n",
       "</div>"
      ],
      "text/plain": [
       "         date  reserved_num  avg_temp  daily_prec  avg_wind  latest_snow  \\\n",
       "0  2010-10-27      0.050847  0.448276         0.0  0.225806          0.0   \n",
       "1  2010-10-28      0.016949  0.484914         0.0  0.301075          0.0   \n",
       "2  2010-10-29      0.033898  0.538793         0.0  0.290323          0.0   \n",
       "3  2010-10-30      0.016949  0.573276         0.0  0.236559          0.0   \n",
       "4  2010-11-01      0.000000  0.571121         0.0  0.462366          0.0   \n",
       "\n",
       "   most_snow  \n",
       "0        0.0  \n",
       "1        0.0  \n",
       "2        0.0  \n",
       "3        0.0  \n",
       "4        0.0  "
      ]
     },
     "execution_count": 132,
     "metadata": {},
     "output_type": "execute_result"
    }
   ],
   "source": [
    "new_merged.head()"
   ]
  },
  {
   "cell_type": "code",
   "execution_count": 134,
   "metadata": {},
   "outputs": [
    {
     "data": {
      "image/png": "[encoded data removed]",
      "text/plain": [
       "<Figure size 1152x648 with 6 Axes>"
      ]
     },
     "metadata": {},
     "output_type": "display_data"
    }
   ],
   "source": [
    "f, a = plt.subplots(2, 3, figsize=(16, 9))\n",
    "\n",
    "plt.subplot(2, 3, 1)\n",
    "plt.hist(new_merged['reserved_num'], color='blue', bins=100)\n",
    "plt.subplot(2, 3, 2)\n",
    "plt.hist(new_merged['avg_temp'], color='red', bins=100)\n",
    "plt.subplot(2, 3, 3)\n",
    "plt.hist(new_merged['daily_prec'], color='green', bins=100)\n",
    "plt.subplot(2, 3, 4)\n",
    "plt.hist(new_merged['avg_wind'], color='yellow', bins=100)\n",
    "plt.subplot(2, 3, 5)\n",
    "plt.hist(new_merged['latest_snow'], color='orange', bins=100)\n",
    "plt.subplot(2, 3, 6)\n",
    "plt.hist(new_merged['most_snow'], color='black', bins=100)\n",
    "\n",
    "plt.show()"
   ]
  }
 ],
 "metadata": {
  "kernelspec": {
   "display_name": "Python 3",
   "language": "python",
   "name": "python3"
  },
  "language_info": {
   "codemirror_mode": {
    "name": "ipython",
    "version": 3
   },
   "file_extension": ".py",
   "mimetype": "text/x-python",
   "name": "python",
   "nbconvert_exporter": "python",
   "pygments_lexer": "ipython3",
   "version": "3.7.6"
  }
 },
 "nbformat": 4,
 "nbformat_minor": 4
}
